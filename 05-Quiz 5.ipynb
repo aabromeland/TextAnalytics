{
 "cells": [
  {
   "cell_type": "markdown",
   "id": "21b5cd12",
   "metadata": {},
   "source": [
    "# Quiz 5\n",
    "**5 Points**"
   ]
  },
  {
   "cell_type": "markdown",
   "id": "cb380fe9",
   "metadata": {},
   "source": [
    "Is each of the following statement true or false? Type \"True\" or \"False\" in the provided text cells."
   ]
  },
  {
   "cell_type": "markdown",
   "id": "8bc94e9a",
   "metadata": {},
   "source": [
    "1. (1 point) An overfitted model has high training error and high testing error."
   ]
  },
  {
   "cell_type": "markdown",
   "id": "f7a04248",
   "metadata": {},
   "source": [
    "You answer: False\n",
    "\n",
    "Low Training Error but High testing error"
   ]
  },
  {
   "cell_type": "markdown",
   "id": "2d7eb3d9",
   "metadata": {},
   "source": [
    "2. (1 point) Consider two sparse logistic regression models trained on the same dataset. 80% of slope coefficients are zero in Model 1 and 20% of slope coefficients are zero in Model 2. Model 2 is more likely to be overfitted than Model 1."
   ]
  },
  {
   "cell_type": "markdown",
   "id": "ed84c544",
   "metadata": {},
   "source": [
    "Your answer: True\n",
    "\n",
    "Model 2 is more dense with more slope coefficients taken into consideration."
   ]
  },
  {
   "cell_type": "markdown",
   "id": "e8281adb",
   "metadata": {},
   "source": [
    "The following code reads a collection of SMS messages with each message labeled as ham (legitimate) or spam. "
   ]
  },
  {
   "cell_type": "code",
   "execution_count": 1,
   "id": "90ddbbff",
   "metadata": {},
   "outputs": [
    {
     "data": {
      "text/html": [
       "<div>\n",
       "<style scoped>\n",
       "    .dataframe tbody tr th:only-of-type {\n",
       "        vertical-align: middle;\n",
       "    }\n",
       "\n",
       "    .dataframe tbody tr th {\n",
       "        vertical-align: top;\n",
       "    }\n",
       "\n",
       "    .dataframe thead th {\n",
       "        text-align: right;\n",
       "    }\n",
       "</style>\n",
       "<table border=\"1\" class=\"dataframe\">\n",
       "  <thead>\n",
       "    <tr style=\"text-align: right;\">\n",
       "      <th></th>\n",
       "      <th>Label</th>\n",
       "      <th>Message</th>\n",
       "    </tr>\n",
       "  </thead>\n",
       "  <tbody>\n",
       "    <tr>\n",
       "      <th>0</th>\n",
       "      <td>ham</td>\n",
       "      <td>Go until jurong point, crazy.. Available only ...</td>\n",
       "    </tr>\n",
       "    <tr>\n",
       "      <th>1</th>\n",
       "      <td>ham</td>\n",
       "      <td>Ok lar... Joking wif u oni...</td>\n",
       "    </tr>\n",
       "    <tr>\n",
       "      <th>2</th>\n",
       "      <td>spam</td>\n",
       "      <td>Free entry in 2 a wkly comp to win FA Cup fina...</td>\n",
       "    </tr>\n",
       "    <tr>\n",
       "      <th>3</th>\n",
       "      <td>ham</td>\n",
       "      <td>U dun say so early hor... U c already then say...</td>\n",
       "    </tr>\n",
       "    <tr>\n",
       "      <th>4</th>\n",
       "      <td>ham</td>\n",
       "      <td>Nah I don't think he goes to usf, he lives aro...</td>\n",
       "    </tr>\n",
       "  </tbody>\n",
       "</table>\n",
       "</div>"
      ],
      "text/plain": [
       "  Label                                            Message\n",
       "0   ham  Go until jurong point, crazy.. Available only ...\n",
       "1   ham                      Ok lar... Joking wif u oni...\n",
       "2  spam  Free entry in 2 a wkly comp to win FA Cup fina...\n",
       "3   ham  U dun say so early hor... U c already then say...\n",
       "4   ham  Nah I don't think he goes to usf, he lives aro..."
      ]
     },
     "execution_count": 1,
     "metadata": {},
     "output_type": "execute_result"
    }
   ],
   "source": [
    "import pandas as pd\n",
    "df = pd.read_csv(\"classdata/spam.csv\")\n",
    "df.head()"
   ]
  },
  {
   "cell_type": "markdown",
   "id": "aec88e54",
   "metadata": {},
   "source": [
    "3. (2 points) Split **df** into training (70%) and testing (30%) sets as two new data frames called **df_train** and **df_test**. You need to set random_state to 2021 so that the instructor can reproduce your result. Print the first five rows of df_test."
   ]
  },
  {
   "cell_type": "code",
   "execution_count": 7,
   "id": "4b2ed60a",
   "metadata": {},
   "outputs": [
    {
     "data": {
      "text/html": [
       "<div>\n",
       "<style scoped>\n",
       "    .dataframe tbody tr th:only-of-type {\n",
       "        vertical-align: middle;\n",
       "    }\n",
       "\n",
       "    .dataframe tbody tr th {\n",
       "        vertical-align: top;\n",
       "    }\n",
       "\n",
       "    .dataframe thead th {\n",
       "        text-align: right;\n",
       "    }\n",
       "</style>\n",
       "<table border=\"1\" class=\"dataframe\">\n",
       "  <thead>\n",
       "    <tr style=\"text-align: right;\">\n",
       "      <th></th>\n",
       "      <th>Label</th>\n",
       "      <th>Message</th>\n",
       "    </tr>\n",
       "  </thead>\n",
       "  <tbody>\n",
       "    <tr>\n",
       "      <th>0</th>\n",
       "      <td>ham</td>\n",
       "      <td>Should i buy him a blackberry bold 2 or torch....</td>\n",
       "    </tr>\n",
       "    <tr>\n",
       "      <th>1</th>\n",
       "      <td>ham</td>\n",
       "      <td>You call him now ok i said call him</td>\n",
       "    </tr>\n",
       "    <tr>\n",
       "      <th>2</th>\n",
       "      <td>ham</td>\n",
       "      <td>Hi here. have birth at on the  to  at 8lb 7oz....</td>\n",
       "    </tr>\n",
       "    <tr>\n",
       "      <th>3</th>\n",
       "      <td>ham</td>\n",
       "      <td>No:-)i got rumour that you going to buy apartm...</td>\n",
       "    </tr>\n",
       "    <tr>\n",
       "      <th>4</th>\n",
       "      <td>spam</td>\n",
       "      <td>1st wk FREE! Gr8 tones str8 2 u each wk. Txt N...</td>\n",
       "    </tr>\n",
       "  </tbody>\n",
       "</table>\n",
       "</div>"
      ],
      "text/plain": [
       "  Label                                            Message\n",
       "0   ham  Should i buy him a blackberry bold 2 or torch....\n",
       "1   ham                You call him now ok i said call him\n",
       "2   ham  Hi here. have birth at on the  to  at 8lb 7oz....\n",
       "3   ham  No:-)i got rumour that you going to buy apartm...\n",
       "4  spam  1st wk FREE! Gr8 tones str8 2 u each wk. Txt N..."
      ]
     },
     "execution_count": 7,
     "metadata": {},
     "output_type": "execute_result"
    }
   ],
   "source": [
    "#Your answer here:\n",
    "from sklearn.model_selection import train_test_split\n",
    "df_train, df_test = train_test_split(df, test_size=0.30, random_state=2021)\n",
    "df_train.reset_index(drop=True,inplace=True)\n",
    "df_test.reset_index(drop=True,inplace=True)\n",
    "\n",
    "#Check your answer:\n",
    "df_test.head()"
   ]
  },
  {
   "cell_type": "markdown",
   "id": "eb079c70",
   "metadata": {},
   "source": [
    "4. (1 points) According to the following code below, there are 1453 hams and 210 spams in the testing set. This is an unbalanced data. Suppose a model simply predicts every message as ham. What is its accuracy? (You don't have to write any code.)"
   ]
  },
  {
   "cell_type": "code",
   "execution_count": 8,
   "id": "0a481305",
   "metadata": {},
   "outputs": [
    {
     "data": {
      "text/plain": [
       "ham     1453\n",
       "spam     219\n",
       "Name: Label, dtype: int64"
      ]
     },
     "execution_count": 8,
     "metadata": {},
     "output_type": "execute_result"
    }
   ],
   "source": [
    "df_test[\"Label\"].value_counts()"
   ]
  },
  {
   "cell_type": "markdown",
   "id": "29258157",
   "metadata": {},
   "source": [
    "Your answer here: \n",
    "\n",
    "Dataset provided in question - 87.37% \n",
    "\n",
    "1453 / (1453 + 210) = 87.37%\n",
    "\n",
    "Or with Dataset provided via code - 86.90%\n",
    "\n",
    "1453 / (1453 + 219) = 86.90%"
   ]
  },
  {
   "cell_type": "code",
   "execution_count": 9,
   "id": "817286ec",
   "metadata": {},
   "outputs": [
    {
     "name": "stdout",
     "output_type": "stream",
     "text": [
      "87.37\n",
      "86.9\n"
     ]
    }
   ],
   "source": [
    "print(round(1453/(1453+210)*100,2))\n",
    "print(round(1453/(1453+219)*100,2))"
   ]
  }
 ],
 "metadata": {
  "kernelspec": {
   "display_name": "Python 3 (ipykernel)",
   "language": "python",
   "name": "python3"
  },
  "language_info": {
   "codemirror_mode": {
    "name": "ipython",
    "version": 3
   },
   "file_extension": ".py",
   "mimetype": "text/x-python",
   "name": "python",
   "nbconvert_exporter": "python",
   "pygments_lexer": "ipython3",
   "version": "3.9.1"
  }
 },
 "nbformat": 4,
 "nbformat_minor": 5
}
