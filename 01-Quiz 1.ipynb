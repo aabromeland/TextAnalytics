{
 "cells": [
  {
   "cell_type": "markdown",
   "id": "da520739",
   "metadata": {},
   "source": [
    "# Quiz 1\n",
    "**5 Points**"
   ]
  },
  {
   "cell_type": "markdown",
   "id": "70fa28d9",
   "metadata": {},
   "source": [
    "1. (2 points) Read the text from the file \"classdata/ipod_onetagV2.txt\" into a list of strings (split on each new line) and name it **text**. Don't forget to close the file connector after reading."
   ]
  },
  {
   "cell_type": "code",
   "execution_count": 1,
   "id": "71d0e525",
   "metadata": {},
   "outputs": [
    {
     "data": {
      "text/plain": [
       "[\"##Don't get this...keep browsing. \\n\",\n",
       " '##The iPod has so far been one of the most advertised and populated MP3 players so far. \\n',\n",
       " \"##I'm still figuring out why.\\n\",\n",
       " \"features[-2]## There isn't much features on the iPod at all, except games.\\n\",\n",
       " \"##My friend has this unit while not experience it much, I look at other reviews on this site and tried out the unit at Best Buy, and it's definitely the most overrated gadget in history. \\n\",\n",
       " \"sound[2]##SOUND QUALITY: The iPod's sound quality is pretty good.\\n\",\n",
       " '## The Creative player sounds a bit better, but not anything to worry about.\\n',\n",
       " 'equalizer[-1]## It has an equalizer, but the iRiver H10-20GB has a lot more presets than the iPod. \\n',\n",
       " 'treble[2]##The bass is deep and the treble is clear.\\n',\n",
       " \"battery[-2]##  DURABILITY: Not good. First problem, if you haven't seen the news recently, the iPods are being recalled for battery problems and not lasting the advertised 18 months.\\n\"]"
      ]
     },
     "execution_count": 1,
     "metadata": {},
     "output_type": "execute_result"
    }
   ],
   "source": [
    "#Your answer here\n",
    "file = open(\"classdata/ipod_onetagV2.txt\", mode=\"r\")\n",
    "text = file.readlines()\n",
    "file.close()\n",
    "#check your answer\n",
    "text[0:10]"
   ]
  },
  {
   "cell_type": "markdown",
   "id": "16dbd202",
   "metadata": {},
   "source": [
    "2. (1 points) Split the following string variable at \"-\" into a list of strings. Overwrite \"mystr\" with the output. "
   ]
  },
  {
   "cell_type": "code",
   "execution_count": 2,
   "id": "6dcbd4d8",
   "metadata": {},
   "outputs": [
    {
     "data": {
      "text/plain": [
       "['319', '335', '0988']"
      ]
     },
     "execution_count": 2,
     "metadata": {},
     "output_type": "execute_result"
    }
   ],
   "source": [
    "mystr=\"319-335-0988\"\n",
    "#Your answer here\n",
    "\n",
    "mystr = mystr.split(\"-\")\n",
    "\n",
    "#check your answer\n",
    "mystr"
   ]
  },
  {
   "cell_type": "markdown",
   "id": "d66c59db",
   "metadata": {},
   "source": [
    "3. (2 points) Replace \"2021\" by \"2022\" in each string in the following list.  Overwrite \"mystr\" with the output."
   ]
  },
  {
   "cell_type": "code",
   "execution_count": 3,
   "id": "49a68108",
   "metadata": {
    "scrolled": true
   },
   "outputs": [
    {
     "data": {
      "text/plain": [
       "['Jan 01, 2022', 'Feb 01, 2022', 'Mar 01, 2022']"
      ]
     },
     "execution_count": 3,
     "metadata": {},
     "output_type": "execute_result"
    }
   ],
   "source": [
    "mystr=[\"Jan 01, 2021\", \"Feb 01, 2021\", \"Mar 01, 2021\"]\n",
    "#Your answer here\n",
    "\n",
    "mystr = [s.replace('2021','2022') for s in mystr]\n",
    "\n",
    "#check your answer\n",
    "mystr"
   ]
  }
 ],
 "metadata": {
  "kernelspec": {
   "display_name": "Python 3 (ipykernel)",
   "language": "python",
   "name": "python3"
  },
  "language_info": {
   "codemirror_mode": {
    "name": "ipython",
    "version": 3
   },
   "file_extension": ".py",
   "mimetype": "text/x-python",
   "name": "python",
   "nbconvert_exporter": "python",
   "pygments_lexer": "ipython3",
   "version": "3.9.1"
  }
 },
 "nbformat": 4,
 "nbformat_minor": 5
}
