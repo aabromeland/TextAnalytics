{
 "cells": [
  {
   "cell_type": "markdown",
   "id": "animated-short",
   "metadata": {},
   "source": [
    "# Web Data Scraping | BAIS 6100\n",
    "\n",
    "**Instructor: Qihang Lin**"
   ]
  },
  {
   "cell_type": "markdown",
   "id": "returning-acoustic",
   "metadata": {},
   "source": [
    "A huge amount of data is publicly available on the Internet for various business interest. To effectively harvest that data, you'll need to become skilled at web scraping."
   ]
  },
  {
   "cell_type": "markdown",
   "id": "statutory-aruba",
   "metadata": {},
   "source": [
    "**Applications of web scraping**:\n",
    "\n",
    " - Monitor competitor's new product/price  \n",
    " - Monitor consumer sentiment and brand reputation\n",
    " - Analyze news articles\n",
    " - ......"
   ]
  },
  {
   "cell_type": "markdown",
   "id": "square-present",
   "metadata": {},
   "source": [
    "## XML and HTML\n",
    "* XML means ``eXtensible Markup Language'', which is a format to represent data using a tree structure.\n",
    "* HTML and XML files have very similar formats. \n",
    "    * HTML is used to build a webpage.\n",
    "    * XML is used to describe data.\n",
    "* Scraping text data from webs requires processing a HTML file."
   ]
  },
  {
   "cell_type": "markdown",
   "id": "inside-alert",
   "metadata": {},
   "source": [
    "## Element, Tag, Text, and Attribute \n",
    "* In a XML or HTML file, an **element** is a piece of data contained by a pair of **tags** in angle brackets: `<>` and `</>`\n",
    "\n",
    "<img src=\"https://myweb.uiowa.edu/qihlin/teaching/XML0.png\">\n",
    "\n",
    "    * This element's tag is \"movie\"\n",
    "    * Start tag: <movie>\n",
    "    * End tag: </movie>\n",
    "    * Text: Good Will Hunting\n",
    "    \n",
    "* Attributes of an element are inside the start tag. \n",
    "\n",
    "<img src=\"https://myweb.uiowa.edu/qihlin/teaching/XML1.png\">\n",
    "\n",
    "    * attribute names: mins and lang.\n",
    "    * attribute values: \"126\" and \"en\" (must be in quotes)."
   ]
  },
  {
   "cell_type": "markdown",
   "id": "recorded-julian",
   "metadata": {},
   "source": [
    "* An element can contain other elements as its content.\n",
    "\n",
    "<img src=\"https://myweb.uiowa.edu/qihlin/teaching/XML3.png\">\n",
    "\n",
    "    * `movie` contains four elements: `title`, `director`, `year`, `genre`\n",
    "    * `director` further contains two elements: `first_name` and `last_name`\n",
    "    * In this example, there is no text immediately belonging to \"movie\" \n",
    "\n",
    "* In general, XML represents data using a tree structure. \n",
    "\n",
    "<img src=\"https://myweb.uiowa.edu/qihlin/teaching/XML4.png\">\n",
    "\n",
    "    * There is an unique root element. \n",
    "    * An element might not have any text value or attribute but it always has a name tag.\n",
    "\n",
    "* In HTML, empty elements do not require an end tag. For example, **\\<br\\>\\</br\\>** (a line break) is an empty element and can be represented as **\\<br\\>** without an end tag. \n",
    "\n",
    "* In XML, empty elements can be represented by a single self-close tag like **\\<br /\\>**.\n",
    "\n",
    "\n",
    "* Before the root element, XML may have some \"Prolog\" whose tag is `<? >` or `<! >`. \n",
    "\n",
    "<img src=\"https://myweb.uiowa.edu/qihlin/teaching/XML5.png\">"
   ]
  },
  {
   "cell_type": "markdown",
   "id": "polish-debate",
   "metadata": {},
   "source": [
    "## HTML \n",
    "* Similar to XML but only use the pre-defined tags: `<html>`, `<body>`, `<p>`, `<b>`, `<div>`, `<span>`......\n",
    "\n",
    "<img src=\"https://myweb.uiowa.edu/qihlin/teaching/HTML0.png\">\n",
    "\n",
    "* The HTML file above is displayed in a browser as follows \n",
    "<img src=\"https://myweb.uiowa.edu/qihlin/teaching/HTML1.png\">"
   ]
  },
  {
   "cell_type": "markdown",
   "id": "killing-samba",
   "metadata": {},
   "source": [
    "## HTML Parser"
   ]
  },
  {
   "cell_type": "markdown",
   "id": "spiritual-cycle",
   "metadata": {},
   "source": [
    "Both XML and HTML files can be processed by some **parser** and converted into a tree-structure Python object. The parser we will used is **lxml**. \n",
    "\n",
    "We will apply parser to this page: https://myweb.uiowa.edu/qihlin/Seminars_old.htm"
   ]
  },
  {
   "cell_type": "code",
   "execution_count": 1,
   "id": "southern-tension",
   "metadata": {},
   "outputs": [
    {
     "name": "stdout",
     "output_type": "stream",
     "text": [
      "Defaulting to user installation because normal site-packages is not writeable\n",
      "Requirement already satisfied: requests in /usr/local/lib/python3.9/site-packages (2.27.1)\n",
      "Collecting requests\n",
      "  Downloading requests-2.28.1-py3-none-any.whl (62 kB)\n",
      "\u001b[2K     \u001b[90m━━━━━━━━━━━━━━━━━━━━━━━━━━━━━━━━━━━━━━━━\u001b[0m \u001b[32m62.8/62.8 KB\u001b[0m \u001b[31m3.8 MB/s\u001b[0m eta \u001b[36m0:00:00\u001b[0m\n",
      "\u001b[?25hRequirement already satisfied: certifi>=2017.4.17 in /usr/local/lib/python3.9/site-packages (from requests) (2021.10.8)\n",
      "Requirement already satisfied: urllib3<1.27,>=1.21.1 in /usr/local/lib/python3.9/site-packages (from requests) (1.26.9)\n",
      "Requirement already satisfied: charset-normalizer<3,>=2 in /usr/local/lib/python3.9/site-packages (from requests) (2.0.12)\n",
      "Requirement already satisfied: idna<4,>=2.5 in /usr/local/lib/python3.9/site-packages (from requests) (3.3)\n",
      "Installing collected packages: requests\n",
      "Successfully installed requests-2.28.1\n",
      "\u001b[33mWARNING: You are using pip version 22.0.4; however, version 22.1.2 is available.\n",
      "You should consider upgrading via the '/usr/local/bin/python3.9 -m pip install --upgrade pip' command.\u001b[0m\u001b[33m\n",
      "\u001b[0mDefaulting to user installation because normal site-packages is not writeable\n",
      "Requirement already satisfied: lxml in /usr/local/lib/python3.9/site-packages (4.8.0)\n",
      "Collecting lxml\n",
      "  Downloading lxml-4.9.1-cp39-cp39-manylinux_2_17_x86_64.manylinux2014_x86_64.manylinux_2_24_x86_64.whl (7.0 MB)\n",
      "\u001b[2K     \u001b[90m━━━━━━━━━━━━━━━━━━━━━━━━━━━━━━━━━━━━━━━━\u001b[0m \u001b[32m7.0/7.0 MB\u001b[0m \u001b[31m39.7 MB/s\u001b[0m eta \u001b[36m0:00:00\u001b[0m00:01\u001b[0m00:01\u001b[0m\n",
      "\u001b[?25hInstalling collected packages: lxml\n",
      "Successfully installed lxml-4.9.1\n",
      "\u001b[33mWARNING: You are using pip version 22.0.4; however, version 22.1.2 is available.\n",
      "You should consider upgrading via the '/usr/local/bin/python3.9 -m pip install --upgrade pip' command.\u001b[0m\u001b[33m\n",
      "\u001b[0m"
     ]
    }
   ],
   "source": [
    "#!pip3 install --upgrade requests\n",
    "#!pip3 install --upgrade lxml\n",
    "import requests  #The library to download html file from internet\n",
    "from lxml import html      #XML/HTML parser\n",
    "\n",
    "#We use the following webpage as an example\n",
    "URL = 'https://myweb.uiowa.edu/qihlin/Seminars_old.htm'\n",
    "page = requests.get(URL) #Download the HTML file through URL.\n",
    "root = html.fromstring(page.content) #Parse the HTML source code and create the tree object."
   ]
  },
  {
   "cell_type": "markdown",
   "id": "verified-italic",
   "metadata": {},
   "source": [
    "**root** here is the root element of the tree.   "
   ]
  },
  {
   "cell_type": "code",
   "execution_count": 2,
   "id": "vanilla-infection",
   "metadata": {},
   "outputs": [],
   "source": [
    "#Return the text immediately contained by an element \n",
    "root.text\n",
    "#It is empty because the root note does not immediately contains any text data. "
   ]
  },
  {
   "cell_type": "code",
   "execution_count": 4,
   "id": "sticky-wednesday",
   "metadata": {},
   "outputs": [
    {
     "data": {
      "text/plain": [
       "'Management Sciences Seminars.IowaGold {\\tcolor: #FF0;\\tfont-size: x-large;\\ttext-align: center;}.Semester {\\tfont-size: large;}      Department of Management Sciences Seminar Series        Fall 2014        Date    Time    Room    Speaker    Affiliation    Talk Title and Abstract          8/29/2014    2:30pm-3:20pm    C107 PBB    Benjamin Rogers    The University of Iowa, ITS - Research Services    Introduction to High Performance Computing System in the University of Iowa        9/12/2014    1:30pm-2:20pm    W207 PBB    Dirk Mattfeld    Technische Universitaet Braunschweig, Carl-Friedrich Gauss Department, Decision Support Group    Data modeling and optimization for tactical planning in bike sharing systems          11/6/2014    2:30pm-3:20pm    S326 PBB    Wenjun Wang;Guanglin Xu;Stacy Voccia    The University of Iowa, Department of Management Sciences    INFORMS PRACTICE SESSION        11/7/2014    2:30pm-3:20pm    C107 PBB    Bill Schmarzo    EMC, Chief Technology Officer, Enterprise Information Management and Analytics    The Big Data MBA: Moving from Monitoring to Monetization        11/14/2014    2:30pm-3:20pm    C107 PBB    Claudia Archetti    University of Brescia, Department of Economics and Management    Matheuristics for routing problems         \\xa0         Spring 2015        Date    Time    Room    Speaker    Affiliation    Talk Title and Abstract        02/06/2015    2:30pm-3:20pm    C121 PBB    Ann Campbell    The University of Iowa, Department Management Science    Updated Graduate Handbook          Please contact Qihang Lin (qihang-lin@uiowa.edu) if you would like to give a talk or invite a speaker.  '"
      ]
     },
     "execution_count": 4,
     "metadata": {},
     "output_type": "execute_result"
    }
   ],
   "source": [
    "#Return all texts contained by an element or any of its descendant.\n",
    "root.text_content()"
   ]
  },
  {
   "cell_type": "code",
   "execution_count": 5,
   "id": "atomic-magnitude",
   "metadata": {},
   "outputs": [
    {
     "data": {
      "text/plain": [
       "{'xmlns': 'http://www.w3.org/1999/xhtml'}"
      ]
     },
     "execution_count": 5,
     "metadata": {},
     "output_type": "execute_result"
    }
   ],
   "source": [
    "#Return the attributes of an element as a dictionary\n",
    "root.attrib"
   ]
  },
  {
   "cell_type": "code",
   "execution_count": 6,
   "id": "gentle-webster",
   "metadata": {},
   "outputs": [
    {
     "data": {
      "text/plain": [
       "'http://www.w3.org/1999/xhtml'"
      ]
     },
     "execution_count": 6,
     "metadata": {},
     "output_type": "execute_result"
    }
   ],
   "source": [
    "#Return the value of a particular attributes of an element\n",
    "root.attrib[\"xmlns\"]"
   ]
  },
  {
   "cell_type": "markdown",
   "id": "informed-reality",
   "metadata": {},
   "source": [
    "## XPath\n",
    "\n",
    "* The data we want might be in an element in a deep location in the tree.\n",
    "* XPath is a language to describe the location of an element in a XML/HTML file using tags and  attributes of that element and/or its ascendants.\n",
    "* Here are some examples. If you are interested to learn more on XPath, see https://www.scrapingbee.com/blog/practical-xpath-for-web-scraping/\n",
    "\n",
    "<img src=\"https://myweb.uiowa.edu/qihlin/teaching/XPath0.png\" width=\"500\">\n",
    "<img src=\"https://myweb.uiowa.edu/qihlin/teaching/XPath1.png\" width=\"500\">\n",
    "<img src=\"https://myweb.uiowa.edu/qihlin/teaching/XPath2.png\" width=\"500\">\n",
    "<img src=\"https://myweb.uiowa.edu/qihlin/teaching/XPath3.png\" width=\"500\">\n",
    "<img src=\"https://myweb.uiowa.edu/qihlin/teaching/XPath4.png\" width=\"500\">\n",
    "<img src=\"https://myweb.uiowa.edu/qihlin/teaching/XPath5.png\" width=\"500\">\n",
    "<img src=\"https://myweb.uiowa.edu/qihlin/teaching/XPath6.png\" width=\"500\">"
   ]
  },
  {
   "cell_type": "markdown",
   "id": "incorporated-facility",
   "metadata": {},
   "source": [
    "## Identify XPath Using Browser "
   ]
  },
  {
   "cell_type": "markdown",
   "id": "fallen-likelihood",
   "metadata": {},
   "source": [
    "It is not easy to write an XPath to the element we want by reading the HTML source code. We need to use browser's inspector to see which element contains the required data. \n",
    "\n",
    "This can be done in two right clicks in Chrome:\n",
    "\n",
    " 1. Right click the text you want to get and select \"Inspect\". You will see the HTML source code behind that text in your browser.\n",
    "   \n",
    " 2. Right click the element highlighted in the source code and select \"Copy\" and then \"Copy XPath\" or \"Copy Full XPath\". A unique path to that element has been copied."
   ]
  },
  {
   "cell_type": "markdown",
   "id": "1c95ebda",
   "metadata": {},
   "source": [
    "/html/body/table/tbody/tr/td[6]/a"
   ]
  },
  {
   "cell_type": "markdown",
   "id": "4cc82f1c",
   "metadata": {},
   "source": [
    "Suppose we want to extract the titles of the presentations in the following website.\n",
    "https://myweb.uiowa.edu/qihlin/Seminars_old.htm\n",
    "\n",
    "According to the inspector, the unique XPath to a seminar's title \"**INFORMS PRACTICE SESSION**\" is:\n",
    "\n",
    "**/html/body/table/tbody/tr[6]/td[6]/a**\n",
    "\n",
    "/html/body/table/tbody/tr[7]/td[6]\n",
    "  \n",
    "How to interprate this path:\n",
    "\n",
    "1. \"**html**\" is the tag of the root element. \n",
    "\n",
    "2. The title above is in an element tagged by \"**a**\", and this element is a child of \"**td**\" who is a child of **tr** and so on. \n",
    "\n",
    "2. \"[8]\"  and \"[6]\" are **child indexes**. \"tr[8]\" means the 8th \"tr\" child of \"tbody\". Similary, \"td[6]\" means the 6th \"td\" child of \"tr[8]\"."
   ]
  },
  {
   "cell_type": "markdown",
   "id": "normal-holmes",
   "metadata": {},
   "source": [
    "Similarly, the unique XPath to title \"**The Big Data MBA: Moving from Monitoring to Monetization**\" is:\n",
    "\n",
    "**/html/body/table/tbody/tr[7]/td[6]/a**\n",
    "\n",
    "The unique XPath to title \"**Matheuristics for routing problems**\" is:\n",
    "\n",
    "**/html/body/table/tbody/tr[8]/td[6]/a**\n",
    "\n",
    "Now, suppose we want to collect all titles on this page, what path can we use? \n",
    "\n",
    "Let's exam the patterns in the three path above. Only the child indexes of elements \"tr\" ([6], [7], [8]) changes with title but the child index of element \"td\" ([6]) does not change. Hence, we can tell that the XPath to all titles should be \n",
    "**/html/body/table/tbody/tr/td[6]/a**\n",
    "\n",
    "Then we use this path and **xpath** method to return the elements where the presentations' titles are contained."
   ]
  },
  {
   "cell_type": "code",
   "execution_count": 7,
   "id": "floating-graph",
   "metadata": {},
   "outputs": [
    {
     "data": {
      "text/plain": [
       "[<Element a at 0x7fafc5825bd0>,\n",
       " <Element a at 0x7fafc5825b30>,\n",
       " <Element a at 0x7fafc5825400>,\n",
       " <Element a at 0x7fafc5825b80>,\n",
       " <Element a at 0x7fafdfed6220>]"
      ]
     },
     "execution_count": 7,
     "metadata": {},
     "output_type": "execute_result"
    }
   ],
   "source": [
    "#Return all elements in a path like /html/body/table/tbody/tr/td/a\n",
    "root.xpath('/html/body/table/tbody/tr/td[6]/a')"
   ]
  },
  {
   "cell_type": "markdown",
   "id": "affecting-relation",
   "metadata": {},
   "source": [
    "We can use list comprehension to convert elements to text data."
   ]
  },
  {
   "cell_type": "code",
   "execution_count": 8,
   "id": "exceptional-canvas",
   "metadata": {},
   "outputs": [
    {
     "data": {
      "text/plain": [
       "['Introduction to High Performance Computing System in the University of Iowa',\n",
       " 'Data modeling and optimization for tactical planning in bike sharing systems',\n",
       " 'INFORMS PRACTICE SESSION',\n",
       " 'The Big Data MBA: Moving from Monitoring to Monetization',\n",
       " 'Matheuristics for routing problems']"
      ]
     },
     "execution_count": 8,
     "metadata": {},
     "output_type": "execute_result"
    }
   ],
   "source": [
    "titles=[s.text for s in root.xpath('/html/body/table/tbody/tr/td[6]/a')]\n",
    "titles"
   ]
  },
  {
   "cell_type": "markdown",
   "id": "99ed385c",
   "metadata": {},
   "source": [
    "/html/body/table/tbody/tr[12]/td[6]"
   ]
  },
  {
   "cell_type": "markdown",
   "id": "131c33a1",
   "metadata": {},
   "source": [
    "You may notice that there is a talk titled \"**Updated Graduate Handbook**\" on https://myweb.uiowa.edu/qihlin/Seminars_old.htm \n",
    "Why our code did not find this title? If you inspect its Xpath using the method above, you will know its path is:\n",
    "\n",
    "**/html/body/table/tbody/tr[12]/td[6]**\n",
    "\n",
    "The difference here is that this title is not in an element **\"a\"** but in an element **\"td\"**. However, if we remove \"/a\" from the path, we will miss the five titles we were able to collect earlier. See:\n"
   ]
  },
  {
   "cell_type": "code",
   "execution_count": 9,
   "id": "934edc13",
   "metadata": {},
   "outputs": [
    {
     "data": {
      "text/plain": [
       "[None, None, None, None, None, None, None, 'Updated Graduate Handbook']"
      ]
     },
     "execution_count": 9,
     "metadata": {},
     "output_type": "execute_result"
    }
   ],
   "source": [
    "titles=[s.text for s in root.xpath('/html/body/table/tbody/tr/td[6]')]\n",
    "titles"
   ]
  },
  {
   "cell_type": "markdown",
   "id": "b9cbc056",
   "metadata": {},
   "source": [
    "That is because those five titles are not the immediate text data of \"td[6]\" but the text data of the child \"a\" of \"td[6]\".\n",
    "In this case, we will need to use \"text_content()\" to extract the text of all descendants of \"td[6]\". See:"
   ]
  },
  {
   "cell_type": "code",
   "execution_count": 10,
   "id": "8d65bad1",
   "metadata": {},
   "outputs": [
    {
     "data": {
      "text/plain": [
       "['Talk Title and Abstract',\n",
       " 'Introduction to High Performance Computing System in the University of Iowa',\n",
       " 'Data modeling and optimization for tactical planning in bike sharing systems',\n",
       " 'INFORMS PRACTICE SESSION',\n",
       " 'The Big Data MBA: Moving from Monitoring to Monetization',\n",
       " 'Matheuristics for routing problems',\n",
       " 'Talk Title and Abstract',\n",
       " 'Updated Graduate Handbook']"
      ]
     },
     "execution_count": 10,
     "metadata": {},
     "output_type": "execute_result"
    }
   ],
   "source": [
    "titles=[s.text_content() for s in root.xpath('/html/body/table/tbody/tr/td[6]')]\n",
    "titles"
   ]
  },
  {
   "cell_type": "markdown",
   "id": "french-exhaust",
   "metadata": {},
   "source": [
    "By the way, some initial segment of the XPath can be replaced by \"//\" (relative path) as long as we still get the data we want. "
   ]
  },
  {
   "cell_type": "code",
   "execution_count": 11,
   "id": "encouraging-squad",
   "metadata": {},
   "outputs": [
    {
     "data": {
      "text/plain": [
       "['Talk Title and Abstract',\n",
       " 'Introduction to High Performance Computing System in the University of Iowa',\n",
       " 'Data modeling and optimization for tactical planning in bike sharing systems',\n",
       " 'INFORMS PRACTICE SESSION',\n",
       " 'The Big Data MBA: Moving from Monitoring to Monetization',\n",
       " 'Matheuristics for routing problems',\n",
       " 'Talk Title and Abstract',\n",
       " 'Updated Graduate Handbook']"
      ]
     },
     "execution_count": 11,
     "metadata": {},
     "output_type": "execute_result"
    }
   ],
   "source": [
    "#A shorter version\n",
    "titles=[s.text_content() for s in root.xpath('//tr/td[6]')]\n",
    "titles"
   ]
  },
  {
   "cell_type": "markdown",
   "id": "4f2a505f",
   "metadata": {},
   "source": [
    "## Obtain the Attributes of Element"
   ]
  },
  {
   "cell_type": "markdown",
   "id": "093d0178",
   "metadata": {},
   "source": [
    "Sometimes, we are interested in the atttributes of an element. For example, we want to extract the hyperlink behind each title on the web page  https://myweb.uiowa.edu/qihlin/Seminars_old.htm  \n",
    "\n",
    "After inspecting the HTML code, we realize that each hyperlink is the value of attribute **\"href\"** of an element **\"a\"**. For example, the element **\"a\"** corresponding to **\"Introduction to High Performance Computing System in the University of Iowa\"** is \n",
    "\n",
    "\\<a href=\"Ben Rogers Fall 2014 (Seminar).pdf\">Introduction to High Performance Computing System in the University of Iowa</a\\>\n",
    "\n",
    "This means we can apply \"**.attrib[\"href\"]**\" method to each element **\"a\"** to return the hyperlink. See below:"
   ]
  },
  {
   "cell_type": "code",
   "execution_count": 12,
   "id": "e47bcf53",
   "metadata": {},
   "outputs": [
    {
     "data": {
      "text/plain": [
       "['Ben Rogers Fall 2014 (Seminar).pdf',\n",
       " 'Dirk Mattfeld Fall 2014 (Seminar).pdf',\n",
       " 'MIS PhD Students - Fall 2014-1.doc',\n",
       " 'Bill Schmarzo Fall 2014 (Seminar).pdf',\n",
       " 'Claudia Archetti Fall 2014 (Seminar).pdf']"
      ]
     },
     "execution_count": 12,
     "metadata": {},
     "output_type": "execute_result"
    }
   ],
   "source": [
    "hyperlinks = [s.attrib[\"href\"] for s in root.xpath('//tr/td[6]/a')]\n",
    "hyperlinks"
   ]
  },
  {
   "cell_type": "markdown",
   "id": "earned-postcard",
   "metadata": {},
   "source": [
    "## Web Data Scraping in General\n",
    "\n",
    "We summerize the steps of scraping a single webpage:\n",
    "\n",
    "* Request the webpage and create a root element using a parser.\n",
    "* Locate a particular piece of data you want from the webpage.\n",
    "* Use a browser to identify the unique XPath (with child indexes) to that data.\n",
    "* Identify and remove the child indexes that vary with the data you want to obtain so as to obtain the Xpath to all data you want. \n",
    "* Use .xpath() to get all elements from the identified path\n",
    "* Extract text or attribute with list comprehension.\n",
    "* If the data extracted is different from your expectation, modify the path.\n",
    "\n",
    "**This procedure only works for a static page and might not work well for a dynamic page.**"
   ]
  },
  {
   "cell_type": "markdown",
   "id": "related-clear",
   "metadata": {},
   "source": [
    "## Example: Yelp Review and Star Rating"
   ]
  },
  {
   "cell_type": "markdown",
   "id": "tropical-infection",
   "metadata": {},
   "source": [
    "Suppose we want to obtain all 400+ review texts and star ratings from https://www.yelp.com/biz/pullman-bar-and-diner-iowa-city. There are only ten reviews per page, so we have to collect data from multiple pages. To do so, we have to track the changes URLs when we flip pages. Then, we can use a loop to scrape pages with different URLs.\n",
    "\n",
    "As a practice, we will start with scraping data from one page and then do it for all pages. "
   ]
  },
  {
   "cell_type": "markdown",
   "id": "orange-divorce",
   "metadata": {},
   "source": [
    "### Scrape One Page"
   ]
  },
  {
   "cell_type": "code",
   "execution_count": 12,
   "id": "usual-spencer",
   "metadata": {},
   "outputs": [],
   "source": [
    "URL = 'https://www.yelp.com/biz/pullman-bar-and-diner-iowa-city'\n",
    "page = requests.get(URL) \n",
    "root = html.fromstring(page.content)"
   ]
  },
  {
   "cell_type": "markdown",
   "id": "neutral-genesis",
   "metadata": {},
   "source": [
    "Using browser's inspector, we obtain the following XPaths of the text of the first three reviews: \n",
    "\n",
    "**//*[@id=\"main-content\"]/div[2]/section[2]/div[2]/div/ul/li[1]/div/div[3]/p/span**\n",
    "\n",
    "**//*[@id=\"main-content\"]/div[2]/section[2]/div[2]/div/ul/li[2]/div/div[4]/p/span**\n",
    "\n",
    "**//*[@id=\"main-content\"]/div[2]/section[2]/div[2]/div/ul/li[3]/div/div[3]/p/span**\n",
    "\n",
    "Here, **//*[@id=\"main-content\"]** selects all elements anywhere in the tree with any tags as long as they have an attribute called \"id\" whose value is 'main-content'.\n",
    "\n",
    "By comparison, we can tell that the indexes of **li** and the last **div** change with reviews. Hence, we remove the indexes of **li** and the last **div** in the path and use it to access all reviews. See below:"
   ]
  },
  {
   "cell_type": "code",
   "execution_count": 13,
   "id": "prescribed-concrete",
   "metadata": {},
   "outputs": [
    {
     "name": "stdout",
     "output_type": "stream",
     "text": [
      "10\n"
     ]
    },
    {
     "data": {
      "text/plain": [
       "[\"I'm going to preface this by saying I saw the comedy movie Cedar Rapids (The Pullman is located in Iowa City) and I didn't have high expectations. Now, the best part is Iowa City blew me away... hip, fun, young and some incredible restaurants.I made my way with the help of my friend to the Pullman. WOW... this is a place to get excited about. First the service is outstanding... we sat at the counter, which I recommend. The food is nothing you would expect.... gourmet versions of some of your favorites.I had the Croque Madame... which you never see in the states. Its a french ham and cheese with béchamel sauce with a egg. It was really heaven... some of the best food I've had. For some reason, their fries were some of the best I've had as well... Pullman what do you do with these fries?The bartender and bar manager were like a well oiled machine... fun, friendly, engaging and efficient.The dessert which was some sort of chocolate mousse was oh so good.I'd say this is the best place to eat in Iowa City, but that wouldn't be fair in this town, but, its one of the top....Seriously, impressed and it takes alot!\",\n",
       " \"We ended up eating here three times in one week!It's that good.Straight forward perfectly made burgers, chicken sandwiches that are plain old delicious.But then there's breakfast.Fresh juices, pancake stacks, and all the fixings.This is the type of place that you can eat at every day and always be satisfied.\",\n",
       " \"I LOVE PULLMAN.I've been here numerous times with family and friends. Great spot for brunch / lunch / dinner. My friends, family, and partner all love this place as well. It's a great local spot in IC. The employees are always kind, service is fast, and the food is fresh.\",\n",
       " \"Happened upon this lovely establishment when in town for a wedding. We had to wait a bit for a table and ended up opting for an outside table because we're Midwesterners and we can handle 40 degrees in a jacket. They have an option to call ahead to get on the waitlist which I would highly recommend!They had a decent draft beer list which my boyfriend enjoyed and I had their award winning Bloody Mary. Very good! Later on I opted for the grapefruit mimosa which was amazing with the fresh squeezed juice. Onto the food, yum! I went for the breakfast bowl and the lemon dill creme fraiche was dynamite!!! I added avocado and bacon and recommend you do too!! It was light yet filling and seriously flavorful. My boyfriend got the crispy chicken sandwich which was also a solid choice. Get the fries on the side with their aioli too! Service was efficient and friendly. We'd for sure be back next time we're in town.\",\n",
       " 'In town for several days, we wanted to check out this restaurant based on its reviews. Unimpressive looking with a small outdoor patio area, the interior is long, narrow and bustling with activity and voices. We lucked out and landed at the diner-bar area where we had front row seats to a very impressive \"ballet\" of 4 to 5 employees preparing all the food. Not much room to move, orders flying in fast, \\xa0it was fascinating to see how well coordinated the staff was at cooking, assembling and getting the orders out. I had the Crispy Chicken Sandwich, which was wonderful! My companion thoroughly enjoyed the Griddled Turkey Club sandwich and fries he ordered too. Speaking with the staff, which were both hard-working and friendly, we learned they had Pullman swag so we took home several t-shirts to remember this perfect lunch.',\n",
       " 'Spencer was the best waiter! He knows your products well! I ordered the mushroom sando without the bun. This turned out to be an amazing salad! Highly recommend. This place has great atmosphere!!',\n",
       " \"Pullman Bar & Diner never disappoints. Like never ever.They've got the ABCs down...Ambiance.Breakfast all day.Corned Beef Hash.Delivery via CHOMP.Ever changing local beer selection.Friendly servers.Grab a bite at the counter.Holiday take and bakes.Innovative and changing menu.Juicy AF hamburgers.Kids meal selection!Locally sourced ingredients.Midwest diner foodNow serving eats daily.Opens at 8A.Pullman Express pop up.Quality craft cocktailsRamen.Specials- 3-6P Community HourTasty eats for breakfast, lunch and dinner.Undeniably community based.Very reasonably priced.Wonderful patio seating.Xtra good, Counterculture CoffeeYes, park at the Dubuque RampZip on over today!As little Michael would belt out...ABCEasy as one, two, threeAh, simple as Do Re MiABC, one, two, threeBaby, you and me, Lydia.\",\n",
       " 'Took my girlfriend to eat here after hearing my parents speak very highly of it. We were sat and given water and waited 23 minutes to be served. We were not, and after much frustration we left and ate at a neighboring restaurant. It was not very busy, inside or out, and as a worker in food service I was very disappointed by the lack of service. Overall disappointing...',\n",
       " '8:30 AM Wednesday morning breakfast with 4 friends because one of us wanted to try something new and amazingly we were ALL happy! \\xa0Stephen,(sp?) was a fabulous server and missed not a request because we are a \"funny\" mix. Because we were early we saw and benefited from the delivery of fresh oranges that were squeezed into yummy oj/ mimosas. I enjoyed the fresh grapefruit juice. \\xa0I had the standard breakfast of 2 eggs, bacon, Pullman potatoes and toast WITH butter & jelly. Bacon? Perfect. Eggs over easy? Great. Potatoes. A little bit garlicky for me but like the peppers and onions. Toast? Thick white 2 whole slices! \\xa0D swapped her potatoes for a side of avocado to spread on her toast. \\xa0C had a salmon bacon breakfast sandwich on the best looking brioche bun. And don\\'t forget the homemade hot sauce!Everything was great and again Stephan,(sp) was so gracious and welcoming he definitely made our first visit not our last!',\n",
       " 'I went to have brunch. All the menus were great. I like the energetic staff there. But Pullman Bar is so popular that sometimes you may have to wait a long time~']"
      ]
     },
     "execution_count": 13,
     "metadata": {},
     "output_type": "execute_result"
    }
   ],
   "source": [
    "mypath='//*[@id=\"main-content\"]/div[2]/section[2]/div[2]/div/ul/li/div/div/p/span'\n",
    "reviews = [s.text_content() for s in root.xpath(mypath)]\n",
    "print(len(reviews)) # There are ten reviews each page. See if any review is missing.\n",
    "reviews"
   ]
  },
  {
   "cell_type": "markdown",
   "id": "opened-population",
   "metadata": {},
   "source": [
    "Using browser's inspector, we obtain the following XPaths of the star ratings of first three reviews: \n",
    "\n",
    "**//*[@id=\"main-content\"]/div[2]/section[2]/div[2]/div/ul/li[1]/div/div[2]/div/div[1]/span/div**\n",
    "\n",
    "**//*[@id=\"main-content\"]/div[2]/section[2]/div[2]/div/ul/li[2]/div/div[2]/div/div[1]/span/div**\n",
    "\n",
    "**//*[@id=\"main-content\"]/div[2]/section[2]/div[2]/div/ul/li[3]/div/div[2]/div/div[1]/span/div**\n",
    "\n",
    "By comparison, we can tell that the index of **li** changes with star ratings. Hence, we remove the index of **li** in the path and use it to access all reviews. See below:"
   ]
  },
  {
   "cell_type": "code",
   "execution_count": 14,
   "id": "pediatric-breast",
   "metadata": {},
   "outputs": [
    {
     "name": "stdout",
     "output_type": "stream",
     "text": [
      "10\n"
     ]
    },
    {
     "data": {
      "text/plain": [
       "[5, 5, 5, 5, 5, 5, 5, 1, 4, 5]"
      ]
     },
     "execution_count": 14,
     "metadata": {},
     "output_type": "execute_result"
    }
   ],
   "source": [
    "mypath='//*[@id=\"main-content\"]/div[2]/section[2]/div[2]/div/ul/li/div/div[2]/div/div[1]/span/div'\n",
    "ratings = [s.attrib['aria-label'] for s in root.xpath(mypath)]\n",
    "ratings = [int(s.split()[0]) for s in ratings]\n",
    "print(len(ratings)) # There are ten reviews each page. See if any review is missing.\n",
    "ratings"
   ]
  },
  {
   "cell_type": "markdown",
   "id": "cross-technology",
   "metadata": {},
   "source": [
    "### Scrape Multiple Pages \n",
    "\n",
    "We have to use a for loop to scrape all reviews and ratings from https://www.yelp.com/biz/pullman-bar-and-diner-iowa-city. \n",
    "\n",
    "\n",
    "A few think to keep in mind:\n",
    "\n",
    "1. Identify some patterns of URLs.\n",
    "    * Not every segment of URL is necessary to open a page \n",
    "        - https://www.google.com/search?q=Python&ie=utf-8&oe=utf-8\n",
    "        - https://www.google.com/search?q=Python\n",
    "    * Different URLs may open the same page\n",
    "        - https://www.yelp.com/biz/pullman-bar-and-diner-iowa-city\n",
    "        - https://www.yelp.com/biz/pullman-bar-and-diner-iowa-city?start=0\n",
    "    * Track how URL changes when you flip pages in a website\n",
    "        - https://www.yelp.com/biz/pullman-bar-and-diner-iowa-city?start=10\n",
    "        - https://www.yelp.com/biz/pullman-bar-and-diner-iowa-city?start=20\n",
    "        - https://www.yelp.com/biz/pullman-bar-and-diner-iowa-city?start=500\n",
    "\n",
    "\n",
    "2. Web server protects itself by blocking suspicious and frequent requests.\n",
    "    * Use `time.sleep()` to avoid scraping too frequently and getting banned.\n",
    "\n",
    "\n",
    "3. Do some research to make sure that you're not violating any copyright laws and terms of service."
   ]
  },
  {
   "cell_type": "code",
   "execution_count": 15,
   "id": "7db018de",
   "metadata": {},
   "outputs": [
    {
     "name": "stdout",
     "output_type": "stream",
     "text": [
      "https://www.yelp.com/biz/pullman-bar-and-diner-iowa-city?start=40\n"
     ]
    },
    {
     "data": {
      "text/html": [
       "<div>\n",
       "<style scoped>\n",
       "    .dataframe tbody tr th:only-of-type {\n",
       "        vertical-align: middle;\n",
       "    }\n",
       "\n",
       "    .dataframe tbody tr th {\n",
       "        vertical-align: top;\n",
       "    }\n",
       "\n",
       "    .dataframe thead th {\n",
       "        text-align: right;\n",
       "    }\n",
       "</style>\n",
       "<table border=\"1\" class=\"dataframe\">\n",
       "  <thead>\n",
       "    <tr style=\"text-align: right;\">\n",
       "      <th></th>\n",
       "      <th>Review</th>\n",
       "      <th>Rating</th>\n",
       "    </tr>\n",
       "  </thead>\n",
       "  <tbody>\n",
       "    <tr>\n",
       "      <th>0</th>\n",
       "      <td>I'm going to preface this by saying I saw the ...</td>\n",
       "      <td>5</td>\n",
       "    </tr>\n",
       "    <tr>\n",
       "      <th>1</th>\n",
       "      <td>We ended up eating here three times in one wee...</td>\n",
       "      <td>5</td>\n",
       "    </tr>\n",
       "    <tr>\n",
       "      <th>2</th>\n",
       "      <td>I LOVE PULLMAN.I've been here numerous times w...</td>\n",
       "      <td>5</td>\n",
       "    </tr>\n",
       "    <tr>\n",
       "      <th>3</th>\n",
       "      <td>Happened upon this lovely establishment when i...</td>\n",
       "      <td>5</td>\n",
       "    </tr>\n",
       "    <tr>\n",
       "      <th>4</th>\n",
       "      <td>In town for several days, we wanted to check o...</td>\n",
       "      <td>5</td>\n",
       "    </tr>\n",
       "  </tbody>\n",
       "</table>\n",
       "</div>"
      ],
      "text/plain": [
       "                                              Review  Rating\n",
       "0  I'm going to preface this by saying I saw the ...       5\n",
       "1  We ended up eating here three times in one wee...       5\n",
       "2  I LOVE PULLMAN.I've been here numerous times w...       5\n",
       "3  Happened upon this lovely establishment when i...       5\n",
       "4  In town for several days, we wanted to check o...       5"
      ]
     },
     "execution_count": 15,
     "metadata": {},
     "output_type": "execute_result"
    }
   ],
   "source": [
    "import pandas as pd\n",
    "import time \n",
    "from IPython.display import display, clear_output \n",
    "\n",
    "baseURL=\"https://www.yelp.com/biz/pullman-bar-and-diner-iowa-city?start=\"\n",
    "path1='//*[@id=\"main-content\"]/div[2]/section[2]/div[2]/div/ul/li/div/div/p/span'\n",
    "path2='//*[@id=\"main-content\"]/div[2]/section[2]/div[2]/div/ul/li/div/div[2]/div/div[1]/span/div'\n",
    "reivews_all=[]  #A list to receive all reviews \n",
    "ratings_all=[]  #A list to receive all ratings \n",
    "for i in range(5):    #To speed up the code, there we only do 5 loops instead of 55 as you saw in the video\n",
    "    URL = baseURL+str(10*i)\n",
    "    page = requests.get(URL) \n",
    "    root = html.fromstring(page.content)\n",
    "    reviews = [s.text_content() for s in root.xpath(path1)]\n",
    "    ratings = [s.attrib['aria-label'] for s in root.xpath(path2)]\n",
    "    ratings = [int(s.split()[0]) for s in ratings]\n",
    "    reivews_all.extend(reviews)  \n",
    "    ratings_all.extend(ratings)\n",
    "    time.sleep(2)\n",
    "    clear_output()   #Clean the URL previously printed in notebook\n",
    "    print(URL)\n",
    "    if len(reviews)==0:\n",
    "        break\n",
    "\n",
    "df = pd.DataFrame({'Review': reivews_all, 'Rating': ratings_all}) \n",
    "df.to_csv(\"Pullman.csv\",index=False)\n",
    "df.head()"
   ]
  },
  {
   "cell_type": "code",
   "execution_count": 16,
   "id": "fe7f743d",
   "metadata": {},
   "outputs": [
    {
     "data": {
      "text/html": [
       "<div>\n",
       "<style scoped>\n",
       "    .dataframe tbody tr th:only-of-type {\n",
       "        vertical-align: middle;\n",
       "    }\n",
       "\n",
       "    .dataframe tbody tr th {\n",
       "        vertical-align: top;\n",
       "    }\n",
       "\n",
       "    .dataframe thead th {\n",
       "        text-align: right;\n",
       "    }\n",
       "</style>\n",
       "<table border=\"1\" class=\"dataframe\">\n",
       "  <thead>\n",
       "    <tr style=\"text-align: right;\">\n",
       "      <th></th>\n",
       "      <th>Review</th>\n",
       "      <th>Rating</th>\n",
       "    </tr>\n",
       "  </thead>\n",
       "  <tbody>\n",
       "    <tr>\n",
       "      <th>0</th>\n",
       "      <td>I'm going to preface this by saying I saw the ...</td>\n",
       "      <td>5</td>\n",
       "    </tr>\n",
       "    <tr>\n",
       "      <th>1</th>\n",
       "      <td>We ended up eating here three times in one wee...</td>\n",
       "      <td>5</td>\n",
       "    </tr>\n",
       "    <tr>\n",
       "      <th>2</th>\n",
       "      <td>I LOVE PULLMAN.I've been here numerous times w...</td>\n",
       "      <td>5</td>\n",
       "    </tr>\n",
       "    <tr>\n",
       "      <th>3</th>\n",
       "      <td>Happened upon this lovely establishment when i...</td>\n",
       "      <td>5</td>\n",
       "    </tr>\n",
       "    <tr>\n",
       "      <th>4</th>\n",
       "      <td>In town for several days, we wanted to check o...</td>\n",
       "      <td>5</td>\n",
       "    </tr>\n",
       "  </tbody>\n",
       "</table>\n",
       "</div>"
      ],
      "text/plain": [
       "                                              Review  Rating\n",
       "0  I'm going to preface this by saying I saw the ...       5\n",
       "1  We ended up eating here three times in one wee...       5\n",
       "2  I LOVE PULLMAN.I've been here numerous times w...       5\n",
       "3  Happened upon this lovely establishment when i...       5\n",
       "4  In town for several days, we wanted to check o...       5"
      ]
     },
     "execution_count": 16,
     "metadata": {},
     "output_type": "execute_result"
    }
   ],
   "source": [
    "df = pd.DataFrame({'Review': reivews_all, 'Rating': ratings_all}) \n",
    "df.to_csv(\"Pullman.csv\",index=False)\n",
    "df.head()"
   ]
  },
  {
   "cell_type": "code",
   "execution_count": 17,
   "id": "incoming-think",
   "metadata": {
    "scrolled": false
   },
   "outputs": [
    {
     "name": "stdout",
     "output_type": "stream",
     "text": [
      "https://www.yelp.com/biz/pullman-bar-and-diner-iowa-city?start=40\n"
     ]
    },
    {
     "data": {
      "text/html": [
       "<div>\n",
       "<style scoped>\n",
       "    .dataframe tbody tr th:only-of-type {\n",
       "        vertical-align: middle;\n",
       "    }\n",
       "\n",
       "    .dataframe tbody tr th {\n",
       "        vertical-align: top;\n",
       "    }\n",
       "\n",
       "    .dataframe thead th {\n",
       "        text-align: right;\n",
       "    }\n",
       "</style>\n",
       "<table border=\"1\" class=\"dataframe\">\n",
       "  <thead>\n",
       "    <tr style=\"text-align: right;\">\n",
       "      <th></th>\n",
       "      <th>Review</th>\n",
       "      <th>Rating</th>\n",
       "    </tr>\n",
       "  </thead>\n",
       "  <tbody>\n",
       "    <tr>\n",
       "      <th>0</th>\n",
       "      <td>I'm going to preface this by saying I saw the ...</td>\n",
       "      <td>5</td>\n",
       "    </tr>\n",
       "    <tr>\n",
       "      <th>1</th>\n",
       "      <td>We ended up eating here three times in one wee...</td>\n",
       "      <td>5</td>\n",
       "    </tr>\n",
       "    <tr>\n",
       "      <th>2</th>\n",
       "      <td>I LOVE PULLMAN.I've been here numerous times w...</td>\n",
       "      <td>5</td>\n",
       "    </tr>\n",
       "    <tr>\n",
       "      <th>3</th>\n",
       "      <td>Happened upon this lovely establishment when i...</td>\n",
       "      <td>5</td>\n",
       "    </tr>\n",
       "    <tr>\n",
       "      <th>4</th>\n",
       "      <td>In town for several days, we wanted to check o...</td>\n",
       "      <td>5</td>\n",
       "    </tr>\n",
       "  </tbody>\n",
       "</table>\n",
       "</div>"
      ],
      "text/plain": [
       "                                              Review  Rating\n",
       "0  I'm going to preface this by saying I saw the ...       5\n",
       "1  We ended up eating here three times in one wee...       5\n",
       "2  I LOVE PULLMAN.I've been here numerous times w...       5\n",
       "3  Happened upon this lovely establishment when i...       5\n",
       "4  In town for several days, we wanted to check o...       5"
      ]
     },
     "execution_count": 17,
     "metadata": {},
     "output_type": "execute_result"
    }
   ],
   "source": [
    "import pandas as pd\n",
    "import time \n",
    "from IPython.display import display, clear_output #This is for better monitoring the progress.\n",
    "\n",
    "baseURL=\"https://www.yelp.com/biz/pullman-bar-and-diner-iowa-city?start=\"\n",
    "path1='//*[@id=\"main-content\"]/div[2]/section[2]/div[2]/div/ul/li/div/div/p/span'\n",
    "path2='//*[@id=\"main-content\"]/div[2]/section[2]/div[2]/div/ul/li/div/div[2]/div/div[1]/span/div'\n",
    "reivews_all=[]  #A list to receive all reviews \n",
    "ratings_all=[]  #A list to receive all ratings \n",
    "for i in range(5):   #For simplicity, we only scrape first five pages.\n",
    "    URL = baseURL+str(10*i) #create URLs for different pages.\n",
    "    page = requests.get(URL) \n",
    "    root = html.fromstring(page.content)\n",
    "    reviews = [s.text_content() for s in root.xpath(path1)]\n",
    "    ratings = [s.attrib['aria-label'] for s in root.xpath(path2)]\n",
    "    ratings = [int(s.split()[0]) for s in ratings]\n",
    "    reivews_all.extend(reviews)  \n",
    "    ratings_all.extend(ratings)\n",
    "    time.sleep(2)  #Pause the code for 2 seconds to avoid getting banned.\n",
    "    clear_output()   #Clean the URL previously printed in notebook\n",
    "    print(URL)\n",
    "    if len(reviews)==0:\n",
    "        break\n",
    "\n",
    "#Save data to a csv file.\n",
    "df = pd.DataFrame({'Review': reivews_all, 'Rating': ratings_all}) \n",
    "df.to_csv(\"Pullman.csv\",index=False)\n",
    "df.head()"
   ]
  }
 ],
 "metadata": {
  "kernelspec": {
   "display_name": "Python 3 (ipykernel)",
   "language": "python",
   "name": "python3"
  },
  "language_info": {
   "codemirror_mode": {
    "name": "ipython",
    "version": 3
   },
   "file_extension": ".py",
   "mimetype": "text/x-python",
   "name": "python",
   "nbconvert_exporter": "python",
   "pygments_lexer": "ipython3",
   "version": "3.9.1"
  }
 },
 "nbformat": 4,
 "nbformat_minor": 5
}
