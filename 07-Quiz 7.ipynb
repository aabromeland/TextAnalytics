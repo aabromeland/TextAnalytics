{
 "cells": [
  {
   "cell_type": "markdown",
   "id": "783654c6",
   "metadata": {},
   "source": [
    "# Quiz 7\n",
    "**5 Points**"
   ]
  },
  {
   "cell_type": "markdown",
   "id": "2ae250f5",
   "metadata": {},
   "source": [
    "Is each of the following statement true or false? Type \"True\" or \"False\" in the provided text cells."
   ]
  },
  {
   "cell_type": "markdown",
   "id": "7febe8fc",
   "metadata": {},
   "source": [
    "1. (1 point) In a document-topic matrix, each column always sums up to 100% because it represents a discrete probability distribution."
   ]
  },
  {
   "cell_type": "markdown",
   "id": "01f3df2c",
   "metadata": {},
   "source": [
    "You answer: False\n",
    "\n",
    "Each row of a document-topic matrix sums up to 100%"
   ]
  },
  {
   "cell_type": "markdown",
   "id": "e418c533",
   "metadata": {},
   "source": [
    "2. (1 point) The LDA method requires the user to provide the number of topics to be created. "
   ]
  },
  {
   "cell_type": "markdown",
   "id": "55d3e6f0",
   "metadata": {},
   "source": [
    "Your answer: True\n",
    "\n",
    "LDA requires the user to provide the number of topics"
   ]
  },
  {
   "cell_type": "markdown",
   "id": "2d5dbf96",
   "metadata": {},
   "source": [
    "The data file **\"classdata/Lies_and_Truths.csv\"** contains a collection of customer reviews on hotels and electronic products. The codes provided below read this data file and convert it into a DTM using 3000 (stemmed) terms. Your task is to build a LDA model for this data with four topics."
   ]
  },
  {
   "cell_type": "code",
   "execution_count": 1,
   "id": "f6701ae3",
   "metadata": {
    "scrolled": true
   },
   "outputs": [],
   "source": [
    "import pandas as pd\n",
    "import nltk\n",
    "from sklearn.feature_extraction.text import CountVectorizer\n",
    "df = pd.read_csv(\"classdata/Lies_and_Truths.csv\")\n",
    "\n",
    "stemmer = nltk.stem.SnowballStemmer(\"english\", ignore_stopwords=True)\n",
    "class StemmedCountVectorizer(CountVectorizer):\n",
    "    def build_analyzer(self):\n",
    "        analyzer = super(StemmedCountVectorizer, self).build_analyzer()\n",
    "        return lambda doc: ([stemmer.stem(w) for w in analyzer(doc)])\n",
    "    \n",
    "vectorizer = StemmedCountVectorizer(stop_words='english',max_features=3000)\n",
    "DTM =vectorizer.fit_transform(df[\"Review\"])"
   ]
  },
  {
   "cell_type": "markdown",
   "id": "33d12b54",
   "metadata": {},
   "source": [
    "3. (2 points) Create a LDA model based on **DTM** created above. Set the number of topics to four. Run the model for 30 iterations and set the random state to 2021 and n_job to -1. Save your model in a variable caleed **lda**. "
   ]
  },
  {
   "cell_type": "code",
   "execution_count": 2,
   "id": "7731bc57",
   "metadata": {},
   "outputs": [
    {
     "data": {
      "text/html": [
       "<style>#sk-container-id-1 {color: black;background-color: white;}#sk-container-id-1 pre{padding: 0;}#sk-container-id-1 div.sk-toggleable {background-color: white;}#sk-container-id-1 label.sk-toggleable__label {cursor: pointer;display: block;width: 100%;margin-bottom: 0;padding: 0.3em;box-sizing: border-box;text-align: center;}#sk-container-id-1 label.sk-toggleable__label-arrow:before {content: \"▸\";float: left;margin-right: 0.25em;color: #696969;}#sk-container-id-1 label.sk-toggleable__label-arrow:hover:before {color: black;}#sk-container-id-1 div.sk-estimator:hover label.sk-toggleable__label-arrow:before {color: black;}#sk-container-id-1 div.sk-toggleable__content {max-height: 0;max-width: 0;overflow: hidden;text-align: left;background-color: #f0f8ff;}#sk-container-id-1 div.sk-toggleable__content pre {margin: 0.2em;color: black;border-radius: 0.25em;background-color: #f0f8ff;}#sk-container-id-1 input.sk-toggleable__control:checked~div.sk-toggleable__content {max-height: 200px;max-width: 100%;overflow: auto;}#sk-container-id-1 input.sk-toggleable__control:checked~label.sk-toggleable__label-arrow:before {content: \"▾\";}#sk-container-id-1 div.sk-estimator input.sk-toggleable__control:checked~label.sk-toggleable__label {background-color: #d4ebff;}#sk-container-id-1 div.sk-label input.sk-toggleable__control:checked~label.sk-toggleable__label {background-color: #d4ebff;}#sk-container-id-1 input.sk-hidden--visually {border: 0;clip: rect(1px 1px 1px 1px);clip: rect(1px, 1px, 1px, 1px);height: 1px;margin: -1px;overflow: hidden;padding: 0;position: absolute;width: 1px;}#sk-container-id-1 div.sk-estimator {font-family: monospace;background-color: #f0f8ff;border: 1px dotted black;border-radius: 0.25em;box-sizing: border-box;margin-bottom: 0.5em;}#sk-container-id-1 div.sk-estimator:hover {background-color: #d4ebff;}#sk-container-id-1 div.sk-parallel-item::after {content: \"\";width: 100%;border-bottom: 1px solid gray;flex-grow: 1;}#sk-container-id-1 div.sk-label:hover label.sk-toggleable__label {background-color: #d4ebff;}#sk-container-id-1 div.sk-serial::before {content: \"\";position: absolute;border-left: 1px solid gray;box-sizing: border-box;top: 0;bottom: 0;left: 50%;z-index: 0;}#sk-container-id-1 div.sk-serial {display: flex;flex-direction: column;align-items: center;background-color: white;padding-right: 0.2em;padding-left: 0.2em;position: relative;}#sk-container-id-1 div.sk-item {position: relative;z-index: 1;}#sk-container-id-1 div.sk-parallel {display: flex;align-items: stretch;justify-content: center;background-color: white;position: relative;}#sk-container-id-1 div.sk-item::before, #sk-container-id-1 div.sk-parallel-item::before {content: \"\";position: absolute;border-left: 1px solid gray;box-sizing: border-box;top: 0;bottom: 0;left: 50%;z-index: -1;}#sk-container-id-1 div.sk-parallel-item {display: flex;flex-direction: column;z-index: 1;position: relative;background-color: white;}#sk-container-id-1 div.sk-parallel-item:first-child::after {align-self: flex-end;width: 50%;}#sk-container-id-1 div.sk-parallel-item:last-child::after {align-self: flex-start;width: 50%;}#sk-container-id-1 div.sk-parallel-item:only-child::after {width: 0;}#sk-container-id-1 div.sk-dashed-wrapped {border: 1px dashed gray;margin: 0 0.4em 0.5em 0.4em;box-sizing: border-box;padding-bottom: 0.4em;background-color: white;}#sk-container-id-1 div.sk-label label {font-family: monospace;font-weight: bold;display: inline-block;line-height: 1.2em;}#sk-container-id-1 div.sk-label-container {text-align: center;}#sk-container-id-1 div.sk-container {/* jupyter's `normalize.less` sets `[hidden] { display: none; }` but bootstrap.min.css set `[hidden] { display: none !important; }` so we also need the `!important` here to be able to override the default hidden behavior on the sphinx rendered scikit-learn.org. See: https://github.com/scikit-learn/scikit-learn/issues/21755 */display: inline-block !important;position: relative;}#sk-container-id-1 div.sk-text-repr-fallback {display: none;}</style><div id=\"sk-container-id-1\" class=\"sk-top-container\"><div class=\"sk-text-repr-fallback\"><pre>LatentDirichletAllocation(max_iter=30, n_components=4, n_jobs=-1,\n",
       "                          random_state=2021)</pre><b>In a Jupyter environment, please rerun this cell to show the HTML representation or trust the notebook. <br />On GitHub, the HTML representation is unable to render, please try loading this page with nbviewer.org.</b></div><div class=\"sk-container\" hidden><div class=\"sk-item\"><div class=\"sk-estimator sk-toggleable\"><input class=\"sk-toggleable__control sk-hidden--visually\" id=\"sk-estimator-id-1\" type=\"checkbox\" checked><label for=\"sk-estimator-id-1\" class=\"sk-toggleable__label sk-toggleable__label-arrow\">LatentDirichletAllocation</label><div class=\"sk-toggleable__content\"><pre>LatentDirichletAllocation(max_iter=30, n_components=4, n_jobs=-1,\n",
       "                          random_state=2021)</pre></div></div></div></div></div>"
      ],
      "text/plain": [
       "LatentDirichletAllocation(max_iter=30, n_components=4, n_jobs=-1,\n",
       "                          random_state=2021)"
      ]
     },
     "execution_count": 2,
     "metadata": {},
     "output_type": "execute_result"
    }
   ],
   "source": [
    "#Your answer here\n",
    "#Initialize a LDA vectorizer\n",
    "from sklearn.decomposition import LatentDirichletAllocation  #LDA module from sklearn. \n",
    "\n",
    "lda = LatentDirichletAllocation(n_components=4, #The number of topics \n",
    "                                n_jobs=-1,   #Use all processors\n",
    "                                max_iter=30,   #Reduce it to speed up but compromise on the quality \n",
    "                                random_state=2021 #Random seed for reproducing the results.\n",
    "                               )\n",
    "#Fit a LDA model from DTM\n",
    "lda.fit(DTM)\n",
    "\n",
    "#Check your answer\n",
    "lda"
   ]
  },
  {
   "cell_type": "markdown",
   "id": "01a05f6d",
   "metadata": {},
   "source": [
    "4. (1 point) The following codes create the top 10 terms most associated to each topic. According to the terms, which topics are about electronics products and which topics are about hotels."
   ]
  },
  {
   "cell_type": "code",
   "execution_count": 3,
   "id": "b8c86e68",
   "metadata": {},
   "outputs": [
    {
     "data": {
      "text/html": [
       "<div>\n",
       "<style scoped>\n",
       "    .dataframe tbody tr th:only-of-type {\n",
       "        vertical-align: middle;\n",
       "    }\n",
       "\n",
       "    .dataframe tbody tr th {\n",
       "        vertical-align: top;\n",
       "    }\n",
       "\n",
       "    .dataframe thead th {\n",
       "        text-align: right;\n",
       "    }\n",
       "</style>\n",
       "<table border=\"1\" class=\"dataframe\">\n",
       "  <thead>\n",
       "    <tr style=\"text-align: right;\">\n",
       "      <th></th>\n",
       "      <th>0</th>\n",
       "      <th>1</th>\n",
       "      <th>2</th>\n",
       "      <th>3</th>\n",
       "    </tr>\n",
       "  </thead>\n",
       "  <tbody>\n",
       "    <tr>\n",
       "      <th>0</th>\n",
       "      <td>room</td>\n",
       "      <td>hotel</td>\n",
       "      <td>use</td>\n",
       "      <td>br</td>\n",
       "    </tr>\n",
       "    <tr>\n",
       "      <th>1</th>\n",
       "      <td>br</td>\n",
       "      <td>room</td>\n",
       "      <td>product</td>\n",
       "      <td>hotel</td>\n",
       "    </tr>\n",
       "    <tr>\n",
       "      <th>2</th>\n",
       "      <td>stay</td>\n",
       "      <td>stay</td>\n",
       "      <td>phone</td>\n",
       "      <td>just</td>\n",
       "    </tr>\n",
       "    <tr>\n",
       "      <th>3</th>\n",
       "      <td>hotel</td>\n",
       "      <td>staff</td>\n",
       "      <td>like</td>\n",
       "      <td>blender</td>\n",
       "    </tr>\n",
       "    <tr>\n",
       "      <th>4</th>\n",
       "      <td>check</td>\n",
       "      <td>great</td>\n",
       "      <td>time</td>\n",
       "      <td>room</td>\n",
       "    </tr>\n",
       "    <tr>\n",
       "      <th>5</th>\n",
       "      <td>did</td>\n",
       "      <td>clean</td>\n",
       "      <td>just</td>\n",
       "      <td>locat</td>\n",
       "    </tr>\n",
       "    <tr>\n",
       "      <th>6</th>\n",
       "      <td>desk</td>\n",
       "      <td>place</td>\n",
       "      <td>great</td>\n",
       "      <td>place</td>\n",
       "    </tr>\n",
       "    <tr>\n",
       "      <th>7</th>\n",
       "      <td>time</td>\n",
       "      <td>pool</td>\n",
       "      <td>make</td>\n",
       "      <td>ice</td>\n",
       "    </tr>\n",
       "    <tr>\n",
       "      <th>8</th>\n",
       "      <td>night</td>\n",
       "      <td>friend</td>\n",
       "      <td>work</td>\n",
       "      <td>need</td>\n",
       "    </tr>\n",
       "    <tr>\n",
       "      <th>9</th>\n",
       "      <td>got</td>\n",
       "      <td>like</td>\n",
       "      <td>game</td>\n",
       "      <td>restaur</td>\n",
       "    </tr>\n",
       "  </tbody>\n",
       "</table>\n",
       "</div>"
      ],
      "text/plain": [
       "       0       1        2        3\n",
       "0   room   hotel      use       br\n",
       "1     br    room  product    hotel\n",
       "2   stay    stay    phone     just\n",
       "3  hotel   staff     like  blender\n",
       "4  check   great     time     room\n",
       "5    did   clean     just    locat\n",
       "6   desk   place    great    place\n",
       "7   time    pool     make      ice\n",
       "8  night  friend     work     need\n",
       "9    got    like     game  restaur"
      ]
     },
     "execution_count": 3,
     "metadata": {},
     "output_type": "execute_result"
    }
   ],
   "source": [
    "from sklearn import preprocessing\n",
    "import numpy as np\n",
    "temparray = preprocessing.normalize(lda.components_,norm=\"l1\")\n",
    "TTopicM = pd.DataFrame(np.transpose(temparray), index = vectorizer.get_feature_names_out())\n",
    "TermOfTopic =pd.DataFrame([])\n",
    "for i in range(4):\n",
    "    TermOfTopic[i]=(list(TTopicM.sort_values(by=i,ascending=False).iloc[:10,i].index))\n",
    "TermOfTopic"
   ]
  },
  {
   "cell_type": "markdown",
   "id": "8f02c1f8",
   "metadata": {},
   "source": [
    "**You answer here:**\n",
    "\n",
    "Electronics - Topic 2\n",
    "\n",
    "Hotels - Topics 0, 1, 3"
   ]
  }
 ],
 "metadata": {
  "kernelspec": {
   "display_name": "Python 3 (ipykernel)",
   "language": "python",
   "name": "python3"
  },
  "language_info": {
   "codemirror_mode": {
    "name": "ipython",
    "version": 3
   },
   "file_extension": ".py",
   "mimetype": "text/x-python",
   "name": "python",
   "nbconvert_exporter": "python",
   "pygments_lexer": "ipython3",
   "version": "3.9.1"
  }
 },
 "nbformat": 4,
 "nbformat_minor": 5
}
