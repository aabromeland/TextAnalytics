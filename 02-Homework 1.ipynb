{
 "cells": [
  {
   "cell_type": "markdown",
   "id": "eda4890d",
   "metadata": {},
   "source": [
    "# Homework 1 | MSCI:6100\n",
    "\n",
    "**10 Points**"
   ]
  },
  {
   "cell_type": "markdown",
   "id": "afbd968c",
   "metadata": {},
   "source": [
    "The questions are based on Module 1 and 2 and assume you are familiar with list and dataframe in Python. If you are not familiar with list and dataframe, please read *List and Dataframe in Python.ipynb* before you start."
   ]
  },
  {
   "cell_type": "markdown",
   "id": "2748e736",
   "metadata": {},
   "source": [
    "## Module 1"
   ]
  },
  {
   "cell_type": "markdown",
   "id": "a98aa1c0",
   "metadata": {},
   "source": [
    "**1.a. (0.5 points)** Study the string processing method **count()** in https://www.w3schools.com/python/ref_string_count.asp Then use count() to count the frequency of \"great\" (case sensitive) in mystr below. "
   ]
  },
  {
   "cell_type": "code",
   "execution_count": 1,
   "id": "f1c8970b",
   "metadata": {},
   "outputs": [
    {
     "data": {
      "text/plain": [
       "1"
      ]
     },
     "execution_count": 1,
     "metadata": {},
     "output_type": "execute_result"
    }
   ],
   "source": [
    "mystr = 'Great movie. great telling based on a trues story. \"Miracle on the Hudson.\"'\n",
    "# Your answer here:\n",
    "mystr.count('great')"
   ]
  },
  {
   "cell_type": "markdown",
   "id": "38f1616a",
   "metadata": {},
   "source": [
    "**1.b. (0.5 points)** Use count() and lower() to return the frequency of \"great\" (case insensitive) in mystr. \n",
    "\n",
    "*Hint: mystr.lower() returns a string and a string can be further followed by .count() to count the frequency.* "
   ]
  },
  {
   "cell_type": "code",
   "execution_count": 2,
   "id": "5b78ff0a",
   "metadata": {},
   "outputs": [
    {
     "data": {
      "text/plain": [
       "2"
      ]
     },
     "execution_count": 2,
     "metadata": {},
     "output_type": "execute_result"
    }
   ],
   "source": [
    "# Your answer here:\n",
    "mystr.lower().count('great')\n"
   ]
  },
  {
   "cell_type": "markdown",
   "id": "09e957d6",
   "metadata": {},
   "source": [
    "**1.c. (1 points)** The following code creates a string variable called **multispace**. Use split() and join() to stripe whitespace in multispace, that is, to substitute all multiple whitespaces with a single whitespace. Overwrite multispace with the stripped string.\n",
    "\n",
    "*Hint: You can first split the string at whitespace to obtain a list of words. Then you join the words in the list using a whitespace (\" \") as separator.*"
   ]
  },
  {
   "cell_type": "code",
   "execution_count": 3,
   "id": "2c0dfbaa",
   "metadata": {},
   "outputs": [
    {
     "data": {
      "text/plain": [
       "\"Believe you can and you're halfway there!\""
      ]
     },
     "execution_count": 3,
     "metadata": {},
     "output_type": "execute_result"
    }
   ],
   "source": [
    "multispace = \"  Believe     you    can    and      you're    halfway there!\"\n",
    "# Your answer here\n",
    "multispace = multispace.split()\n",
    "multispace = ' '.join(multispace)\n",
    "# Check your answer\n",
    "multispace"
   ]
  },
  {
   "cell_type": "markdown",
   "id": "a1d80730",
   "metadata": {},
   "source": [
    "**2.a. (0.5 points)** Load the csv file \"classdata/Sully.csv\" in IDAS into a dataframe called df. This data contains the IMDB reviews and ratings for the movie \"Sully\" in 2016. Be careful about the encoding scheme. Show the top five rows of df."
   ]
  },
  {
   "cell_type": "code",
   "execution_count": 4,
   "id": "a3204e25",
   "metadata": {},
   "outputs": [
    {
     "data": {
      "text/html": [
       "<div>\n",
       "<style scoped>\n",
       "    .dataframe tbody tr th:only-of-type {\n",
       "        vertical-align: middle;\n",
       "    }\n",
       "\n",
       "    .dataframe tbody tr th {\n",
       "        vertical-align: top;\n",
       "    }\n",
       "\n",
       "    .dataframe thead th {\n",
       "        text-align: right;\n",
       "    }\n",
       "</style>\n",
       "<table border=\"1\" class=\"dataframe\">\n",
       "  <thead>\n",
       "    <tr style=\"text-align: right;\">\n",
       "      <th></th>\n",
       "      <th>reviews</th>\n",
       "      <th>ratings</th>\n",
       "    </tr>\n",
       "  </thead>\n",
       "  <tbody>\n",
       "    <tr>\n",
       "      <th>0</th>\n",
       "      <td>Great movie. Great telling based on a trues ...</td>\n",
       "      <td>50</td>\n",
       "    </tr>\n",
       "    <tr>\n",
       "      <th>1</th>\n",
       "      <td>Good. Fascinating and educational and grippi...</td>\n",
       "      <td>40</td>\n",
       "    </tr>\n",
       "    <tr>\n",
       "      <th>2</th>\n",
       "      <td>I like what Eastwood did with the structure....</td>\n",
       "      <td>40</td>\n",
       "    </tr>\n",
       "    <tr>\n",
       "      <th>3</th>\n",
       "      <td>A beautiful and powerful film that brings a ...</td>\n",
       "      <td>40</td>\n",
       "    </tr>\n",
       "    <tr>\n",
       "      <th>4</th>\n",
       "      <td>Okay I guess, just not a very compelling cha...</td>\n",
       "      <td>25</td>\n",
       "    </tr>\n",
       "  </tbody>\n",
       "</table>\n",
       "</div>"
      ],
      "text/plain": [
       "                                             reviews  ratings\n",
       "0    Great movie. Great telling based on a trues ...       50\n",
       "1    Good. Fascinating and educational and grippi...       40\n",
       "2    I like what Eastwood did with the structure....       40\n",
       "3    A beautiful and powerful film that brings a ...       40\n",
       "4    Okay I guess, just not a very compelling cha...       25"
      ]
     },
     "execution_count": 4,
     "metadata": {},
     "output_type": "execute_result"
    }
   ],
   "source": [
    "# You answer here\n",
    "import pandas as pd\n",
    "df = pd.read_csv('classdata/Sully.csv',encoding='latin-1')\n",
    "# Check your solution\n",
    "df.head()"
   ]
  },
  {
   "cell_type": "markdown",
   "id": "174be039",
   "metadata": {},
   "source": [
    "**2.b. (1 points)** Use your answer in 1.b and **list comprehension** to create a new column called \"greatcount\" in df which contains the frequency of \"great\" (case insensitive) in each review. "
   ]
  },
  {
   "cell_type": "code",
   "execution_count": 5,
   "id": "6bc03279",
   "metadata": {},
   "outputs": [
    {
     "data": {
      "text/plain": [
       "0    2\n",
       "1    0\n",
       "2    0\n",
       "3    2\n",
       "4    0\n",
       "5    0\n",
       "6    0\n",
       "7    0\n",
       "8    0\n",
       "9    0\n",
       "Name: greatcount, dtype: int64"
      ]
     },
     "execution_count": 5,
     "metadata": {},
     "output_type": "execute_result"
    }
   ],
   "source": [
    "# You answer here\n",
    "df['greatcount'] = [s.lower().count('great') for s in df['reviews']]\n",
    "# Check your answer (in the first 10 rows)\n",
    "df[\"greatcount\"][0:10]"
   ]
  },
  {
   "cell_type": "markdown",
   "id": "b25f2581",
   "metadata": {},
   "source": [
    "**2.c. (1 points)** Sort df by ratings in an descending order. Make the sorting \"inplace\" and reset the row index after sorting. "
   ]
  },
  {
   "cell_type": "code",
   "execution_count": 6,
   "id": "0e23d410",
   "metadata": {},
   "outputs": [
    {
     "data": {
      "text/html": [
       "<div>\n",
       "<style scoped>\n",
       "    .dataframe tbody tr th:only-of-type {\n",
       "        vertical-align: middle;\n",
       "    }\n",
       "\n",
       "    .dataframe tbody tr th {\n",
       "        vertical-align: top;\n",
       "    }\n",
       "\n",
       "    .dataframe thead th {\n",
       "        text-align: right;\n",
       "    }\n",
       "</style>\n",
       "<table border=\"1\" class=\"dataframe\">\n",
       "  <thead>\n",
       "    <tr style=\"text-align: right;\">\n",
       "      <th></th>\n",
       "      <th>reviews</th>\n",
       "      <th>ratings</th>\n",
       "      <th>greatcount</th>\n",
       "    </tr>\n",
       "  </thead>\n",
       "  <tbody>\n",
       "    <tr>\n",
       "      <th>0</th>\n",
       "      <td>Great movie. Great telling based on a trues ...</td>\n",
       "      <td>50</td>\n",
       "      <td>2</td>\n",
       "    </tr>\n",
       "    <tr>\n",
       "      <th>1</th>\n",
       "      <td>This movie pays wonderful homage to Captain ...</td>\n",
       "      <td>50</td>\n",
       "      <td>0</td>\n",
       "    </tr>\n",
       "    <tr>\n",
       "      <th>2</th>\n",
       "      <td>I just watched this film out of boredom, not...</td>\n",
       "      <td>50</td>\n",
       "      <td>0</td>\n",
       "    </tr>\n",
       "    <tr>\n",
       "      <th>3</th>\n",
       "      <td>Great movie!!! Isn't it ridiculous how a her...</td>\n",
       "      <td>50</td>\n",
       "      <td>1</td>\n",
       "    </tr>\n",
       "    <tr>\n",
       "      <th>4</th>\n",
       "      <td>(6 out of 6)When we see we must brace for tu...</td>\n",
       "      <td>50</td>\n",
       "      <td>1</td>\n",
       "    </tr>\n",
       "  </tbody>\n",
       "</table>\n",
       "</div>"
      ],
      "text/plain": [
       "                                             reviews  ratings  greatcount\n",
       "0    Great movie. Great telling based on a trues ...       50           2\n",
       "1    This movie pays wonderful homage to Captain ...       50           0\n",
       "2    I just watched this film out of boredom, not...       50           0\n",
       "3    Great movie!!! Isn't it ridiculous how a her...       50           1\n",
       "4    (6 out of 6)When we see we must brace for tu...       50           1"
      ]
     },
     "execution_count": 6,
     "metadata": {},
     "output_type": "execute_result"
    }
   ],
   "source": [
    "# Your answer here\n",
    "df.sort_values(by = 'ratings',ascending=False,inplace=True)\n",
    "df.reset_index(inplace=True,drop=True)\n",
    "# Check your answer\n",
    "df.head()"
   ]
  },
  {
   "cell_type": "markdown",
   "id": "d393bfae",
   "metadata": {},
   "source": [
    "**2.d. (1 points)** Select the rows of df where ratings <=30 and greatcount equals 0. Save these rows into a new dataframe called dfnew. Don't forget to use .copy(). Then, reset the row index of dfnew. \n",
    "\n",
    "*Hint: Condition \"A equals 0\" in Python is writtern as \"A==0\". The conjuction of two boolean conditions is represented as (...) & (...).*"
   ]
  },
  {
   "cell_type": "code",
   "execution_count": 7,
   "id": "0dd3ee4e",
   "metadata": {},
   "outputs": [
    {
     "data": {
      "text/html": [
       "<div>\n",
       "<style scoped>\n",
       "    .dataframe tbody tr th:only-of-type {\n",
       "        vertical-align: middle;\n",
       "    }\n",
       "\n",
       "    .dataframe tbody tr th {\n",
       "        vertical-align: top;\n",
       "    }\n",
       "\n",
       "    .dataframe thead th {\n",
       "        text-align: right;\n",
       "    }\n",
       "</style>\n",
       "<table border=\"1\" class=\"dataframe\">\n",
       "  <thead>\n",
       "    <tr style=\"text-align: right;\">\n",
       "      <th></th>\n",
       "      <th>reviews</th>\n",
       "      <th>ratings</th>\n",
       "      <th>greatcount</th>\n",
       "    </tr>\n",
       "  </thead>\n",
       "  <tbody>\n",
       "    <tr>\n",
       "      <th>0</th>\n",
       "      <td>I start by saying that this isn't the best r...</td>\n",
       "      <td>30</td>\n",
       "      <td>0</td>\n",
       "    </tr>\n",
       "    <tr>\n",
       "      <th>1</th>\n",
       "      <td>The story itself is very simple and merciful...</td>\n",
       "      <td>30</td>\n",
       "      <td>0</td>\n",
       "    </tr>\n",
       "    <tr>\n",
       "      <th>2</th>\n",
       "      <td>3.4/5. 6.8/10.-JDK</td>\n",
       "      <td>30</td>\n",
       "      <td>0</td>\n",
       "    </tr>\n",
       "    <tr>\n",
       "      <th>3</th>\n",
       "      <td>Nicely made drama bends the real events into...</td>\n",
       "      <td>30</td>\n",
       "      <td>0</td>\n",
       "    </tr>\n",
       "    <tr>\n",
       "      <th>4</th>\n",
       "      <td>brace for impact..SullyOften biographies tak...</td>\n",
       "      <td>30</td>\n",
       "      <td>0</td>\n",
       "    </tr>\n",
       "  </tbody>\n",
       "</table>\n",
       "</div>"
      ],
      "text/plain": [
       "                                             reviews  ratings  greatcount\n",
       "0    I start by saying that this isn't the best r...       30           0\n",
       "1    The story itself is very simple and merciful...       30           0\n",
       "2                                 3.4/5. 6.8/10.-JDK       30           0\n",
       "3    Nicely made drama bends the real events into...       30           0\n",
       "4    brace for impact..SullyOften biographies tak...       30           0"
      ]
     },
     "execution_count": 7,
     "metadata": {},
     "output_type": "execute_result"
    }
   ],
   "source": [
    "# Your answer here\n",
    "\n",
    "rowselected = [x <= 30 and y == 0 for x, y in zip(df['ratings'],df['greatcount'])]\n",
    "dfnew = df[rowselected].copy()\n",
    "dfnew.reset_index(inplace=True,drop=True)\n",
    "# Check your answer\n",
    "dfnew.head()"
   ]
  },
  {
   "cell_type": "markdown",
   "id": "37b141d2",
   "metadata": {},
   "source": [
    "**2.e. (1 points)** Find the longest review in **dfnew** and save the review text as a string variable called **longestreview**. \n",
    "\n",
    "*Hint: Create a new column in **dfnew** called **length** which contains the length of each review. Sort **dfnew** by column **length**, reset the row id, and extract the first review text.*"
   ]
  },
  {
   "cell_type": "code",
   "execution_count": 8,
   "id": "92e360c1",
   "metadata": {},
   "outputs": [
    {
     "data": {
      "text/plain": [
       "'  I start by saying that this isn\\'t the best real-life-based movie I\\'ve seen, but this one performs his function of informing people about this extraordinary event: in February 2009, Chelsey Sullemberg, a on the way to retire pilot managed to save more than 150 people by landing on the Hudson river. The film begins with Sully that is considered as a national hero, but he does reject this fame, because he\\'s in trouble with the law: computer sims show that he could have landed on near airports without losing any life. But at the court, Sully and his co-pilot and friend Jeff suggest that the 35 secs delay of radio communications should be added to the sims and after that, the computer shows that if Sully hadn\\'t landed on the Hudson, the plane would have crashed. As this movie is directed by Clint Eastwood, i expected more. I mean that some flashbacks are too long so the story is in some ways broken. Beside this, Tom Hanks\\' acting was convincing and the whole story make sense (trust me, it isn\\'t ever like this). So all in all I consider \"Sully\" an interesting general-culture movie, and I suggest him to guys that have never heard about this extraordinary hero.'"
      ]
     },
     "execution_count": 8,
     "metadata": {},
     "output_type": "execute_result"
    }
   ],
   "source": [
    "#You answer here\n",
    "dfnew['length'] = dfnew['reviews'].str.len()\n",
    "dfnew.sort_values(by = 'length',ascending=False,inplace=True)\n",
    "dfnew.reset_index(inplace=True,drop=True)\n",
    "longestreview = dfnew['reviews'][0]\n",
    "#Check your answer\n",
    "longestreview"
   ]
  },
  {
   "cell_type": "markdown",
   "id": "e603012d",
   "metadata": {},
   "source": [
    "## Module 2"
   ]
  },
  {
   "cell_type": "markdown",
   "id": "53eb07eb",
   "metadata": {},
   "source": [
    "**3.a. (1 points)** Load the csv file \"classdata/Sully.csv\" again into a dataframe called df. Convert all reviews in df to lower case and overwrite column \"reviews\" in df. You must use the .str method. (list comprehension is not allowed.)"
   ]
  },
  {
   "cell_type": "code",
   "execution_count": 9,
   "id": "68855053",
   "metadata": {},
   "outputs": [
    {
     "data": {
      "text/plain": [
       "0      great movie. great telling based on a trues ...\n",
       "1      good. fascinating and educational and grippi...\n",
       "2      i like what eastwood did with the structure....\n",
       "3      a beautiful and powerful film that brings a ...\n",
       "4      okay i guess, just not a very compelling cha...\n",
       "5      a beautifully crafted round for clint eastwo...\n",
       "6      nicely made drama bends the real events into...\n",
       "7      by now everyone reading this review would be...\n",
       "8      no easy feat to tell a story everyone knows ...\n",
       "9      i spent 14 years of my life as a member of t...\n",
       "Name: reviews, dtype: object"
      ]
     },
     "execution_count": 9,
     "metadata": {},
     "output_type": "execute_result"
    }
   ],
   "source": [
    "# Your answer here\n",
    "df = pd.read_csv('classdata/Sully.csv',encoding='latin-1')\n",
    "df['reviews'] = df['reviews'].str.lower()\n",
    "# Check your answer (in the first 10 rows)\n",
    "df[\"reviews\"][0:10]"
   ]
  },
  {
   "cell_type": "markdown",
   "id": "4f5d4daa",
   "metadata": {},
   "source": [
    "**3.b. (2 points)** Replace strings in each review as instructed in the following table. Overwrite column \"reviews\" in df. You can use either .str method or list comprehension.\n",
    "\n",
    "|     Replace  | By|\n",
    "-:|:- \n",
    "`not good` | `notgood`\n",
    "`not perfect` | `notperfect`\n",
    "`not bad`| `notbad`\n",
    "\n",
    "In practice, this is a way to handle negation. For example, after these replacements, \"not good\" is distinguished from \"good\" after tokenization."
   ]
  },
  {
   "cell_type": "code",
   "execution_count": 10,
   "id": "b930ea0b",
   "metadata": {},
   "outputs": [
    {
     "data": {
      "text/plain": [
       "'  a beautiful and powerful film that brings a real life situation to the screen. tom hanks stars in this thrilling portrait of heroic airline pilot chesley \"sully\" sullenberger, re-enacting his incredible successful emergency landing of an airbus a320 full of passengers on the hudson river.this movie has been out for a few years now, but i hadn\\'t had the opportunity to watch it until recently. tom hanks is one of those guys where you know his films will probably be pretty good, at the least, and while i didn\\'t love this film, it was certainly well made.one thing that really stood out to me was tom hanks performance. i think that he really brought out the psychological stakes that were present here and he gave us a character to care about. he alone brought so much to this film, but he was accompanied by some other great performances - like aaron eckhart.the story is told in a semi non-linear fashion, which i wasn\\'t completely on board with. i think the story, overall, was well written, but it wasn\\'t my favorite. it felt like we were jumping all around the place and the jumps felt kind of out of place. it felt like there wasn\\'t a steady pace and that was my main issue with this film.despite that being said, \"sully\" is still a great film. it has its issues and it\\'s notperfect, but it\\'s well made.'"
      ]
     },
     "execution_count": 10,
     "metadata": {},
     "output_type": "execute_result"
    }
   ],
   "source": [
    "# Your answer here\n",
    "df['reviews'] = df['reviews'].str.replace('not good','notgood')\n",
    "df['reviews'] = df['reviews'].str.replace('not perfect','notperfect')\n",
    "df['reviews'] = df['reviews'].str.replace('not bad','notbad')\n",
    "\n",
    "# Check your answer (in row 3 where \"not perfect\" occurs)\n",
    "df[\"reviews\"][3]"
   ]
  },
  {
   "cell_type": "markdown",
   "id": "75f17921",
   "metadata": {},
   "source": [
    "**3.c. (1 points)** Replace all non-digit non-letter characters in each review by whitespace and overwrite column \"reviews\" in df. You need to use regular expression. Here, \"letter\" includes non-English letter such as in \"entrée\". Your solution should not replace any letter in any language but should replace underscore and all spacing characters in \"\\s\" by whitespace. "
   ]
  },
  {
   "cell_type": "code",
   "execution_count": 11,
   "id": "7cb14709",
   "metadata": {},
   "outputs": [
    {
     "data": {
      "text/plain": [
       "0      great movie  great telling based on a trues ...\n",
       "1      good  fascinating and educational and grippi...\n",
       "2      i like what eastwood did with the structure ...\n",
       "3      a beautiful and powerful film that brings a ...\n",
       "4      okay i guess  just not a very compelling cha...\n",
       "5      a beautifully crafted round for clint eastwo...\n",
       "6      nicely made drama bends the real events into...\n",
       "7      by now everyone reading this review would be...\n",
       "8      no easy feat to tell a story everyone knows ...\n",
       "9      i spent 14 years of my life as a member of t...\n",
       "Name: reviews, dtype: object"
      ]
     },
     "execution_count": 11,
     "metadata": {},
     "output_type": "execute_result"
    }
   ],
   "source": [
    "# Your answer here\n",
    "df[\"reviews\"] = df[\"reviews\"].str.replace(\"[^\\w\\d]|_\", ' ', regex=True)\n",
    "# Check your answer in the first 10 rows\n",
    "df[\"reviews\"][0:10]"
   ]
  },
  {
   "cell_type": "markdown",
   "id": "88128b5a",
   "metadata": {},
   "source": [
    "**4. (1 points)** The following string variable **mystr** is created with a sentence from Wikipedia. Use **re.sub** and regular expression to remove (replace with \"\") all references, which are strings like \"[184]\", including the brackets. The string \"[Wiki]\" in the end is added by the instructor intentionally. It is not a reference and your code should not remove it. Overwrite mystr with the output of re.sub. Be careful that \"\\[\" and \"\\]\" are meta characters in regular expression."
   ]
  },
  {
   "cell_type": "code",
   "execution_count": 12,
   "id": "ccbf7d9a",
   "metadata": {},
   "outputs": [
    {
     "data": {
      "text/plain": [
       "'Positive results from an interim analysis were announced on 18 November 2020 \\nand published on 10 December 2020 reporting an overall efficacy of 95%.\\nJul 2020 – Nov 2020, Germany, United States. [Wiki]'"
      ]
     },
     "execution_count": 12,
     "metadata": {},
     "output_type": "execute_result"
    }
   ],
   "source": [
    "import re\n",
    "mystr=\"\"\"Positive results from an interim analysis were announced on 18 November 2020[184] \n",
    "and published on 10 December 2020 reporting an overall efficacy of 95%.[185][186]\n",
    "Jul 2020 – Nov 2020,[187][188] Germany, United States. [Wiki]\"\"\"\n",
    "#Your answer here:\n",
    "mystr = re.sub('\\[\\d+\\]',\"\",mystr)\n",
    "#Check your answer:\n",
    "mystr"
   ]
  },
  {
   "cell_type": "markdown",
   "id": "ea1384e7",
   "metadata": {},
   "source": [
    "**5.a. (1 points)** The following code reads the file 'classdata/SuperbowlTweets.csv' into a dataframe **df1**. This dataframe contains 1,000 tweets that hashtaged \"superbowl\". The three columns of df1 are the screen names of users, the times when the tweets were posted, and the full texts of the tweets. "
   ]
  },
  {
   "cell_type": "code",
   "execution_count": 13,
   "id": "f33ddec8",
   "metadata": {},
   "outputs": [
    {
     "data": {
      "text/html": [
       "<div>\n",
       "<style scoped>\n",
       "    .dataframe tbody tr th:only-of-type {\n",
       "        vertical-align: middle;\n",
       "    }\n",
       "\n",
       "    .dataframe tbody tr th {\n",
       "        vertical-align: top;\n",
       "    }\n",
       "\n",
       "    .dataframe thead th {\n",
       "        text-align: right;\n",
       "    }\n",
       "</style>\n",
       "<table border=\"1\" class=\"dataframe\">\n",
       "  <thead>\n",
       "    <tr style=\"text-align: right;\">\n",
       "      <th></th>\n",
       "      <th>screen_name</th>\n",
       "      <th>created_at</th>\n",
       "      <th>full_text</th>\n",
       "    </tr>\n",
       "  </thead>\n",
       "  <tbody>\n",
       "    <tr>\n",
       "      <th>0</th>\n",
       "      <td>Schark22</td>\n",
       "      <td>2021-02-09 23:34:48</td>\n",
       "      <td>Searching for someone who hasn’t made this jok...</td>\n",
       "    </tr>\n",
       "    <tr>\n",
       "      <th>1</th>\n",
       "      <td>NolanNorte</td>\n",
       "      <td>2021-02-09 23:34:40</td>\n",
       "      <td>I've shared a class with a #SuperBowl champion...</td>\n",
       "    </tr>\n",
       "    <tr>\n",
       "      <th>2</th>\n",
       "      <td>_milkymilkymilk</td>\n",
       "      <td>2021-02-09 23:33:42</td>\n",
       "      <td>you would help me a lot sharing it &amp;lt;3 \\n\\n@...</td>\n",
       "    </tr>\n",
       "    <tr>\n",
       "      <th>3</th>\n",
       "      <td>MsXaviB</td>\n",
       "      <td>2021-02-09 23:33:41</td>\n",
       "      <td>Patrick Mahomes' Mom &amp;amp; Fiancee Call Out Su...</td>\n",
       "    </tr>\n",
       "    <tr>\n",
       "      <th>4</th>\n",
       "      <td>NBCDFWSports</td>\n",
       "      <td>2021-02-09 23:33:33</td>\n",
       "      <td>#SuperBowl posts worst viewer ratings since 20...</td>\n",
       "    </tr>\n",
       "  </tbody>\n",
       "</table>\n",
       "</div>"
      ],
      "text/plain": [
       "       screen_name           created_at  \\\n",
       "0         Schark22  2021-02-09 23:34:48   \n",
       "1       NolanNorte  2021-02-09 23:34:40   \n",
       "2  _milkymilkymilk  2021-02-09 23:33:42   \n",
       "3          MsXaviB  2021-02-09 23:33:41   \n",
       "4     NBCDFWSports  2021-02-09 23:33:33   \n",
       "\n",
       "                                           full_text  \n",
       "0  Searching for someone who hasn’t made this jok...  \n",
       "1  I've shared a class with a #SuperBowl champion...  \n",
       "2  you would help me a lot sharing it &lt;3 \\n\\n@...  \n",
       "3  Patrick Mahomes' Mom &amp; Fiancee Call Out Su...  \n",
       "4  #SuperBowl posts worst viewer ratings since 20...  "
      ]
     },
     "execution_count": 13,
     "metadata": {},
     "output_type": "execute_result"
    }
   ],
   "source": [
    "import pandas as pd\n",
    "df1 = pd.read_csv('classdata/SuperbowlTweets.csv') \n",
    "df1.head()"
   ]
  },
  {
   "cell_type": "markdown",
   "id": "8b96e8ba",
   "metadata": {},
   "source": [
    "Use regular expression to replace all urls in each tweet by \"**urltoken**\" and overwrite column \"full_text\" by the results of replacement. For simplicity, you can assume a url starts with \"https://\" followed by at least one \"\\S\" characters. "
   ]
  },
  {
   "cell_type": "code",
   "execution_count": 14,
   "id": "06a682da",
   "metadata": {},
   "outputs": [
    {
     "data": {
      "text/plain": [
       "'Searching for someone who hasn’t made this joke.. #SuperBowl urltoken'"
      ]
     },
     "execution_count": 14,
     "metadata": {},
     "output_type": "execute_result"
    }
   ],
   "source": [
    "#Your answer here:\n",
    "df1[\"full_text\"] = df1[\"full_text\"].str.replace('https://\\S+','urltoken',regex=True)\n",
    "#Check your answer (the first tweet contained an url):\n",
    "df1[\"full_text\"][0]"
   ]
  },
  {
   "cell_type": "markdown",
   "id": "f72d80e7",
   "metadata": {},
   "source": [
    "**5.b. (1 points)** Tokenize all tweets in the full_text column and take the following steps to clean the tokens:\n",
    "\n",
    "   -  Turn letters to lower cases.\n",
    "   -  Remove all stop words.\n",
    "   -  Remove all tokens not longer than 2 characters.\n",
    "   -  Apply stemming to all tokens.\n",
    "    \n",
    "  Count the frequencies of all unique tokens and save the tokens together with their frequencies as a data frame called **dffreq**. Sort  **dffreq** by frequency in a descending order."
   ]
  },
  {
   "cell_type": "code",
   "execution_count": 15,
   "id": "ea4dcc95",
   "metadata": {},
   "outputs": [
    {
     "data": {
      "text/html": [
       "<div>\n",
       "<style scoped>\n",
       "    .dataframe tbody tr th:only-of-type {\n",
       "        vertical-align: middle;\n",
       "    }\n",
       "\n",
       "    .dataframe tbody tr th {\n",
       "        vertical-align: top;\n",
       "    }\n",
       "\n",
       "    .dataframe thead th {\n",
       "        text-align: right;\n",
       "    }\n",
       "</style>\n",
       "<table border=\"1\" class=\"dataframe\">\n",
       "  <thead>\n",
       "    <tr style=\"text-align: right;\">\n",
       "      <th></th>\n",
       "      <th>Term</th>\n",
       "      <th>Frequency</th>\n",
       "    </tr>\n",
       "  </thead>\n",
       "  <tbody>\n",
       "    <tr>\n",
       "      <th>0</th>\n",
       "      <td>superbowl</td>\n",
       "      <td>1022</td>\n",
       "    </tr>\n",
       "    <tr>\n",
       "      <th>1</th>\n",
       "      <td>urltoken</td>\n",
       "      <td>953</td>\n",
       "    </tr>\n",
       "    <tr>\n",
       "      <th>2</th>\n",
       "      <td>nfl</td>\n",
       "      <td>159</td>\n",
       "    </tr>\n",
       "    <tr>\n",
       "      <th>3</th>\n",
       "      <td>bowl</td>\n",
       "      <td>153</td>\n",
       "    </tr>\n",
       "    <tr>\n",
       "      <th>4</th>\n",
       "      <td>super</td>\n",
       "      <td>153</td>\n",
       "    </tr>\n",
       "    <tr>\n",
       "      <th>5</th>\n",
       "      <td>bradi</td>\n",
       "      <td>131</td>\n",
       "    </tr>\n",
       "    <tr>\n",
       "      <th>6</th>\n",
       "      <td>tombradi</td>\n",
       "      <td>124</td>\n",
       "    </tr>\n",
       "    <tr>\n",
       "      <th>7</th>\n",
       "      <td>million</td>\n",
       "      <td>107</td>\n",
       "    </tr>\n",
       "    <tr>\n",
       "      <th>8</th>\n",
       "      <td>amp</td>\n",
       "      <td>94</td>\n",
       "    </tr>\n",
       "    <tr>\n",
       "      <th>9</th>\n",
       "      <td>like</td>\n",
       "      <td>90</td>\n",
       "    </tr>\n",
       "  </tbody>\n",
       "</table>\n",
       "</div>"
      ],
      "text/plain": [
       "        Term  Frequency\n",
       "0  superbowl       1022\n",
       "1   urltoken        953\n",
       "2        nfl        159\n",
       "3       bowl        153\n",
       "4      super        153\n",
       "5      bradi        131\n",
       "6   tombradi        124\n",
       "7    million        107\n",
       "8        amp         94\n",
       "9       like         90"
      ]
     },
     "execution_count": 15,
     "metadata": {},
     "output_type": "execute_result"
    }
   ],
   "source": [
    "# Your answer here:\n",
    "from collections import Counter              # for word counting\n",
    "import nltk                                  # for text clearning\n",
    "import itertools                             # to flatten a list of lists.\n",
    "\n",
    "# turn all letters to lowercase\n",
    "df1['full_text'] = df1['full_text'].str.lower()\n",
    "\n",
    "# Remove all stop words\n",
    "global_stopwords = nltk.corpus.stopwords.words(\"english\")\n",
    "words_all = [nltk.word_tokenize(s) for s in df1[\"full_text\"]]\n",
    "words_all = list(itertools.chain.from_iterable(words_all))\n",
    "words_all = [s for s in words_all if s not in global_stopwords]\n",
    "\n",
    "# Remove all tokens not longer than 2 characters\n",
    "words_all = [s for s in words_all if len(s)>2]\n",
    "\n",
    "# Apply stemming to all tokens\n",
    "stemmer = nltk.stem.SnowballStemmer(\"english\")\n",
    "words_all = [stemmer.stem(s) for s in words_all]\n",
    "\n",
    "# Count the frequencies of all unique tokens \n",
    "counts = Counter(words_all)\n",
    "dffreq = pd.DataFrame(counts.most_common(), columns=['Term', 'Frequency'])\n",
    "dffreq.sort_values(by = 'Frequency',ascending=False,inplace=True)\n",
    "dffreq.reset_index(inplace=True,drop=True)\n",
    "\n",
    "# Check your answer (in the first 10 rows)\n",
    "dffreq.head(10)"
   ]
  },
  {
   "cell_type": "markdown",
   "id": "e272756b",
   "metadata": {},
   "source": [
    "**5.c. (1 points)** Ampersands are escaped as the literal string '\\&amp;' in tweet texts. That's why \"amp\" has a high frequency. Repeat all steps of 5.b. but add \"amp\" to the stop word list this time so it can be removed. Update your **dffreq**."
   ]
  },
  {
   "cell_type": "code",
   "execution_count": 16,
   "id": "a4ee0369",
   "metadata": {},
   "outputs": [
    {
     "data": {
      "text/html": [
       "<div>\n",
       "<style scoped>\n",
       "    .dataframe tbody tr th:only-of-type {\n",
       "        vertical-align: middle;\n",
       "    }\n",
       "\n",
       "    .dataframe tbody tr th {\n",
       "        vertical-align: top;\n",
       "    }\n",
       "\n",
       "    .dataframe thead th {\n",
       "        text-align: right;\n",
       "    }\n",
       "</style>\n",
       "<table border=\"1\" class=\"dataframe\">\n",
       "  <thead>\n",
       "    <tr style=\"text-align: right;\">\n",
       "      <th></th>\n",
       "      <th>Term</th>\n",
       "      <th>Frequency</th>\n",
       "    </tr>\n",
       "  </thead>\n",
       "  <tbody>\n",
       "    <tr>\n",
       "      <th>0</th>\n",
       "      <td>superbowl</td>\n",
       "      <td>1022</td>\n",
       "    </tr>\n",
       "    <tr>\n",
       "      <th>1</th>\n",
       "      <td>urltoken</td>\n",
       "      <td>953</td>\n",
       "    </tr>\n",
       "    <tr>\n",
       "      <th>2</th>\n",
       "      <td>nfl</td>\n",
       "      <td>159</td>\n",
       "    </tr>\n",
       "    <tr>\n",
       "      <th>3</th>\n",
       "      <td>bowl</td>\n",
       "      <td>153</td>\n",
       "    </tr>\n",
       "    <tr>\n",
       "      <th>4</th>\n",
       "      <td>super</td>\n",
       "      <td>153</td>\n",
       "    </tr>\n",
       "    <tr>\n",
       "      <th>5</th>\n",
       "      <td>bradi</td>\n",
       "      <td>131</td>\n",
       "    </tr>\n",
       "    <tr>\n",
       "      <th>6</th>\n",
       "      <td>tombradi</td>\n",
       "      <td>124</td>\n",
       "    </tr>\n",
       "    <tr>\n",
       "      <th>7</th>\n",
       "      <td>million</td>\n",
       "      <td>107</td>\n",
       "    </tr>\n",
       "    <tr>\n",
       "      <th>8</th>\n",
       "      <td>like</td>\n",
       "      <td>90</td>\n",
       "    </tr>\n",
       "    <tr>\n",
       "      <th>9</th>\n",
       "      <td>peopl</td>\n",
       "      <td>86</td>\n",
       "    </tr>\n",
       "  </tbody>\n",
       "</table>\n",
       "</div>"
      ],
      "text/plain": [
       "        Term  Frequency\n",
       "0  superbowl       1022\n",
       "1   urltoken        953\n",
       "2        nfl        159\n",
       "3       bowl        153\n",
       "4      super        153\n",
       "5      bradi        131\n",
       "6   tombradi        124\n",
       "7    million        107\n",
       "8       like         90\n",
       "9      peopl         86"
      ]
     },
     "execution_count": 16,
     "metadata": {},
     "output_type": "execute_result"
    }
   ],
   "source": [
    "# Your answer here:                   \n",
    "\n",
    "# turn all letters to lowercase\n",
    "df1['full_text'] = df1['full_text'].str.lower()\n",
    "\n",
    "# Remove all stop words\\\n",
    "global_stopwords = nltk.corpus.stopwords.words(\"english\")\n",
    "global_stopwords = global_stopwords+['amp']\n",
    "words_all = [nltk.word_tokenize(s) for s in df1[\"full_text\"]]\n",
    "words_all = list(itertools.chain.from_iterable(words_all))\n",
    "words_all = [s for s in words_all if s not in global_stopwords]\n",
    "\n",
    "# Remove all tokens not longer than 2 characters\n",
    "words_all = [s for s in words_all if len(s)>2]\n",
    "\n",
    "# Apply stemming to all tokens\n",
    "stemmer = nltk.stem.SnowballStemmer(\"english\")\n",
    "words_all = [stemmer.stem(s) for s in words_all]\n",
    "\n",
    "# Count the frequencies of all unique tokens \n",
    "counts = Counter(words_all)\n",
    "dffreq = pd.DataFrame(counts.most_common(), columns=['Term', 'Frequency'])\n",
    "dffreq.sort_values(by = 'Frequency',ascending=False,inplace=True)\n",
    "dffreq.reset_index(inplace=True,drop=True)\n",
    "\n",
    "\n",
    "# Check your answer (in the first 10 rows)\n",
    "dffreq.head(10)"
   ]
  },
  {
   "cell_type": "markdown",
   "id": "e8436b95",
   "metadata": {},
   "source": [
    "**5.d. (1 points)** It looks like the tokens \"tombradi\", \"bradi\", and \"tom\" (possibly even more) all come from the name Tom Brady. (\"brady\" is stemmed into \"bradi\") Suppose you have to count them as the same token. What would you do? No need to write any code. Just briefly explain your strategy in words in the text cell below.  "
   ]
  },
  {
   "cell_type": "markdown",
   "id": "dc81dbcb",
   "metadata": {},
   "source": [
    "Your answer: I would look to replace Tom Brady and the variations of his name with the same token tombrady like we had in prior problems in the homework. We could do this using the same method that we used to deal with negation, cities (e.g. iowa city to iowacity), or conjunctions (e.g. can't to can not). To do this we would do something similar to the below python code.\n",
    "\n",
    "```python\n",
    "\n",
    "df['full_text'] = df['full_text'].str.replace('tom brady','tombrady')\n",
    "df['full_text'] = df['full_text'].str.replace('brady','tombrady')\n",
    "df['full_text'] = df['full_text'].str.replace('tom','tombrady')\n",
    "\n",
    "\n",
    "```\n",
    "\n",
    "This would replace the tokens with a common token that would convey what they are actually refering to which would provide a more accurate frequency count. The only bad part would be if the token was refering to a different \"tom\". However this strategy would work well with either \"brady\" or \"tom brady\".\n"
   ]
  }
 ],
 "metadata": {
  "kernelspec": {
   "display_name": "Python 3 (ipykernel)",
   "language": "python",
   "name": "python3"
  },
  "language_info": {
   "codemirror_mode": {
    "name": "ipython",
    "version": 3
   },
   "file_extension": ".py",
   "mimetype": "text/x-python",
   "name": "python",
   "nbconvert_exporter": "python",
   "pygments_lexer": "ipython3",
   "version": "3.9.1"
  }
 },
 "nbformat": 4,
 "nbformat_minor": 5
}
