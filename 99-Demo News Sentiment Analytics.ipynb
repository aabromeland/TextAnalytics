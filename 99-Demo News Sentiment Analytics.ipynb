{
 "cells": [
  {
   "cell_type": "markdown",
   "id": "superb-maximum",
   "metadata": {},
   "source": [
    "# News Sentiment Analytics | FIN:9160"
   ]
  },
  {
   "cell_type": "markdown",
   "id": "accepted-laser",
   "metadata": {},
   "source": [
    "Spring 2022 | Instructor: Qihang Lin and Tong Yao"
   ]
  },
  {
   "cell_type": "markdown",
   "id": "original-fantasy",
   "metadata": {},
   "source": [
    "Sentiment analysis is a technique to detect and quantifiy sentiment polarity within the text data. It can be used to generate sentiment scores for news and financial reports (e.g. Form 10-K).  "
   ]
  },
  {
   "cell_type": "markdown",
   "id": "consistent-secondary",
   "metadata": {},
   "source": [
    "There are **two major approaches** to sentiment analysis:\n",
    "- Supervised predictive modeling approaches.\n",
    "    - Require each sentence/document being annotated by a sentiment score.  \n",
    "    \n",
    "    \n",
    "- Unsupervised lexicon-based (rule-based) approaches. (**The focus of this lecture.**)\n",
    "    - Require a lexicon where each word receives a pre-determined sentiment score."
   ]
  },
  {
   "cell_type": "markdown",
   "id": "fundamental-clothing",
   "metadata": {},
   "source": [
    "## Challenges"
   ]
  },
  {
   "cell_type": "markdown",
   "id": "sharp-portal",
   "metadata": {},
   "source": [
    "Why is sentiment analysis difficult to perform in a high quality?\n",
    "1. **Negations.**  \"I don't think this coffee machine is a good choice.\"\n",
    "\n",
    "2. **Multipolarity.** \"The acting was good but the movie could have been better.\"\n",
    "\n",
    "3. **Irony and sarcasm.** \"This phone has an awesome battery back-up of 2 hours.\"\n",
    "\n",
    "4. **Word ambiguity.** \"The story is unpredictable.\" VS \"The steering wheel is unpredictable.\"\n",
    "\n",
    "5. **Others:** Shorthand, abbreviations, different spellings, misspelled words, punctuation, slang, and emojis."
   ]
  },
  {
   "cell_type": "markdown",
   "id": "f9cd16d1",
   "metadata": {},
   "source": [
    "## News Data"
   ]
  },
  {
   "cell_type": "code",
   "execution_count": 1,
   "id": "2383d991",
   "metadata": {
    "scrolled": true
   },
   "outputs": [
    {
     "data": {
      "text/html": [
       "<div>\n",
       "<style scoped>\n",
       "    .dataframe tbody tr th:only-of-type {\n",
       "        vertical-align: middle;\n",
       "    }\n",
       "\n",
       "    .dataframe tbody tr th {\n",
       "        vertical-align: top;\n",
       "    }\n",
       "\n",
       "    .dataframe thead th {\n",
       "        text-align: right;\n",
       "    }\n",
       "</style>\n",
       "<table border=\"1\" class=\"dataframe\">\n",
       "  <thead>\n",
       "    <tr style=\"text-align: right;\">\n",
       "      <th></th>\n",
       "      <th>timestamp</th>\n",
       "      <th>headline</th>\n",
       "      <th>body</th>\n",
       "    </tr>\n",
       "  </thead>\n",
       "  <tbody>\n",
       "    <tr>\n",
       "      <th>0</th>\n",
       "      <td>2019-01-01 22:54:59-05:00</td>\n",
       "      <td>BREAKINGVIEWS-Truce brakes Evergrande's bad be...</td>\n",
       "      <td>(The author is a Reuters Breakingviews column...</td>\n",
       "    </tr>\n",
       "    <tr>\n",
       "      <th>1</th>\n",
       "      <td>2019-01-02 07:32:29.952000-05:00</td>\n",
       "      <td>Reuters Insider - U.S. Morning Call: U.S. stoc...</td>\n",
       "      <td>\\nClick the following link to watch video: htt...</td>\n",
       "    </tr>\n",
       "    <tr>\n",
       "      <th>2</th>\n",
       "      <td>2019-01-02 08:30:00-05:00</td>\n",
       "      <td>NORWAY'S SALE OF FULLY ELECTRIC CARS ROSE TO 3...</td>\n",
       "      <td>NaN</td>\n",
       "    </tr>\n",
       "    <tr>\n",
       "      <th>3</th>\n",
       "      <td>2019-01-02 08:30:01-05:00</td>\n",
       "      <td>Almost a third of Norway's car sales in 2018 e...</td>\n",
       "      <td>OSLO, Jan 2 (Reuters) - Almost a third of ...</td>\n",
       "    </tr>\n",
       "    <tr>\n",
       "      <th>4</th>\n",
       "      <td>2019-01-02 08:33:18.667000-05:00</td>\n",
       "      <td>TESLA Q4 2018 VEHICLE PRODUCTION &amp; DELIVERIES,...</td>\n",
       "      <td>NaN</td>\n",
       "    </tr>\n",
       "  </tbody>\n",
       "</table>\n",
       "</div>"
      ],
      "text/plain": [
       "                         timestamp  \\\n",
       "0        2019-01-01 22:54:59-05:00   \n",
       "1 2019-01-02 07:32:29.952000-05:00   \n",
       "2        2019-01-02 08:30:00-05:00   \n",
       "3        2019-01-02 08:30:01-05:00   \n",
       "4 2019-01-02 08:33:18.667000-05:00   \n",
       "\n",
       "                                            headline  \\\n",
       "0  BREAKINGVIEWS-Truce brakes Evergrande's bad be...   \n",
       "1  Reuters Insider - U.S. Morning Call: U.S. stoc...   \n",
       "2  NORWAY'S SALE OF FULLY ELECTRIC CARS ROSE TO 3...   \n",
       "3  Almost a third of Norway's car sales in 2018 e...   \n",
       "4  TESLA Q4 2018 VEHICLE PRODUCTION & DELIVERIES,...   \n",
       "\n",
       "                                                body  \n",
       "0   (The author is a Reuters Breakingviews column...  \n",
       "1  \\nClick the following link to watch video: htt...  \n",
       "2                                                NaN  \n",
       "3      OSLO, Jan 2 (Reuters) - Almost a third of ...  \n",
       "4                                                NaN  "
      ]
     },
     "execution_count": 1,
     "metadata": {},
     "output_type": "execute_result"
    }
   ],
   "source": [
    "import pandas as pd\n",
    "dfnews=pd.read_csv('classdata/News.RTRS_CMPNY_AMER.201901-202102-TSLA-TextBlob.csv')\n",
    "dfnews[\"timestamp\"]=pd.to_datetime(dfnews[\"timestamp\"],format=\"%Y-%m-%dT%H:%M:%S.%fZ\",utc=True)\n",
    "dfnews[\"timestamp\"]=dfnews[\"timestamp\"].dt.tz_convert('US/Eastern')\n",
    "#We delete the existing sentiment scores and we will generate them again later.\n",
    "del dfnews[\"TextBlobTitle\"]\n",
    "del dfnews[\"TextBlobBody\"]\n",
    "dfnews.head()"
   ]
  },
  {
   "cell_type": "markdown",
   "id": "frequent-democracy",
   "metadata": {},
   "source": [
    "# TextBlob"
   ]
  },
  {
   "cell_type": "markdown",
   "id": "occupational-indication",
   "metadata": {},
   "source": [
    "TextBlob is a library for processing **generic** textual data. In this lecture, we only focus on its functionality in sentiment analysis."
   ]
  },
  {
   "cell_type": "markdown",
   "id": "ordinary-vessel",
   "metadata": {},
   "source": [
    "TextBlob returns **polarity** of a text based on a lexicon. \n",
    "- The lexicon used (https://github.com/sloria/TextBlob/blob/dev/textblob/en/en-sentiment.xml) \n",
    "- The scores for each word are averaged out to obtain an overall score to a text.\n",
    "- Polarity is normalized between [-1,1],\n",
    "- Negation words reverse the polarity (but not always).\n",
    "- TextBlob score based on emoticons and exclamation mark. \n",
    "- Each word also has an **intensity**. Intensity determines if a word modifies the next word ('very good', 'kind of good').\n",
    "-  A more detailed description of these rules is available: https://planspace.org/20150607-textblob_sentiment/"
   ]
  },
  {
   "cell_type": "code",
   "execution_count": 2,
   "id": "classical-alexandria",
   "metadata": {},
   "outputs": [],
   "source": [
    "#!pip3 install --upgrade textblob\n",
    "#!pip3 install --upgrade nltk\n",
    "from textblob import TextBlob"
   ]
  },
  {
   "cell_type": "code",
   "execution_count": 3,
   "id": "hairy-alloy",
   "metadata": {},
   "outputs": [
    {
     "data": {
      "text/plain": [
       "-0.33653846153846145"
      ]
     },
     "execution_count": 3,
     "metadata": {},
     "output_type": "execute_result"
    }
   ],
   "source": [
    "TextBlob(\"That is not a very good idea!\").sentiment.polarity"
   ]
  },
  {
   "cell_type": "markdown",
   "id": "a526384d",
   "metadata": {},
   "source": [
    "We then generate the sentiment score for each headline and each body. "
   ]
  },
  {
   "cell_type": "code",
   "execution_count": 4,
   "id": "00f526e8",
   "metadata": {},
   "outputs": [],
   "source": [
    "dfnews[\"TextBlobTitle\"]=[TextBlob(s).sentiment.polarity for s in dfnews[\"headline\"]]"
   ]
  },
  {
   "cell_type": "code",
   "execution_count": 5,
   "id": "3f380ddc",
   "metadata": {},
   "outputs": [],
   "source": [
    "#\"body\" can be NaN so we replace them by an empty string \"\"\n",
    "dfnews[\"body\"]=dfnews[\"body\"].fillna(\"\")\n",
    "dfnews[\"TextBlobBody\"]=[TextBlob(s).sentiment.polarity for s in dfnews[\"body\"]]"
   ]
  },
  {
   "cell_type": "markdown",
   "id": "d334ea35",
   "metadata": {},
   "source": [
    "## Loughran and McDonald Financial Sentiment Dictionaries."
   ]
  },
  {
   "cell_type": "markdown",
   "id": "914c007a",
   "metadata": {},
   "source": [
    "The lexicon of TextBlob is created based on movie reviews and might not accuractely measure the sentiment of text in other domains. Some alternatives are needed."
   ]
  },
  {
   "cell_type": "markdown",
   "id": "0effee9a",
   "metadata": {},
   "source": [
    "Loughran and McDonald (LM) lexicon is a sentiment lexicon created by Tim Loughran and Bill McDonald in NUniversity of Notre Dame. It was created by analysing over 50,000 companies financial reports (Form 10-K) over the 1994–2008 period. \n",
    "\n",
    "The complete lexicon can be found: https://drive.google.com/file/d/15UPaF2xJLSVz8DYuphierz67trCxFLcl/view?usp=sharing. \n",
    "\n",
    "Note that only LM lexicon and TextBlob lexicon have about only 10% overlap.  "
   ]
  },
  {
   "cell_type": "markdown",
   "id": "77534431",
   "metadata": {},
   "source": [
    "**pysentiment2** is a library for sentiment analysis based on the LM lexicon. It calculates a sentiment polarity score between -1 and 1 using the following equation: \n",
    "\n",
    "$$Polarity= \\frac{N_{pos}-N_{neg}}{N_{pos}+N_{neg}+\\epsilon}$$\n",
    "\n",
    "where $N_{pos}$ and $N_{neg}$ represent the numbers of positive and negative words in the LM lexicon, respecitvely, and $\\epsilon=0.000001$ (a smoothing parameter)."
   ]
  },
  {
   "cell_type": "code",
   "execution_count": 6,
   "id": "63e723fc",
   "metadata": {},
   "outputs": [],
   "source": [
    "#!pip3 install pysentiment2\n",
    "import pysentiment2 as ps"
   ]
  },
  {
   "cell_type": "markdown",
   "id": "817e0f61",
   "metadata": {},
   "source": [
    "Before calculating the sentiment score, pysentiment2 library needs to preprocess the text:\n",
    "\n",
    "   * Tokenize the text into words\n",
    "   * Remove all digits and punctuations\n",
    "   * Turn all letters to lower case"
   ]
  },
  {
   "cell_type": "code",
   "execution_count": 7,
   "id": "0ea226ad",
   "metadata": {},
   "outputs": [
    {
     "name": "stdout",
     "output_type": "stream",
     "text": [
      "Sentiment score:\n",
      "0.9999997500000625\n",
      "Number of positive words:\n",
      "4\n",
      "Number of negative words:\n",
      "0\n"
     ]
    }
   ],
   "source": [
    "lm = ps.LM()\n",
    "tokens = lm.tokenize(\"10S&P SAYS TESLA INC. UPGRADED TO 'B+' ON STRENGTHENING BUSINESS POSITION, IMPROVING METRICS; OUTLOOK STABLE\")\n",
    "score = lm.get_score(tokens)\n",
    "print(\"Sentiment score:\")\n",
    "print(score['Polarity'])\n",
    "print(\"Number of positive words:\")\n",
    "print(score['Positive'])\n",
    "print(\"Number of negative words:\")\n",
    "print(score['Negative'])"
   ]
  },
  {
   "cell_type": "code",
   "execution_count": 8,
   "id": "9e5b2810",
   "metadata": {},
   "outputs": [
    {
     "data": {
      "text/plain": [
       "'News 9000 out of 9895'"
      ]
     },
     "metadata": {},
     "output_type": "display_data"
    }
   ],
   "source": [
    "from IPython.display import display, clear_output\n",
    "dfnews[\"LMTitle\"]=0\n",
    "for i in range(len(dfnews[\"headline\"])):\n",
    "    tokens = lm.tokenize(dfnews[\"headline\"][i])  \n",
    "    score = lm.get_score(tokens)\n",
    "    dfnews.loc[i,\"LMTitle\"]=score[\"Polarity\"]\n",
    "    if (i % 1000) ==0:\n",
    "        clear_output()\n",
    "        display('News '+str(i)+' out of '+str(len(dfnews[\"headline\"])))"
   ]
  },
  {
   "cell_type": "code",
   "execution_count": 9,
   "id": "ec9289c2",
   "metadata": {},
   "outputs": [
    {
     "data": {
      "text/plain": [
       "'News 9000 out of 9895'"
      ]
     },
     "metadata": {},
     "output_type": "display_data"
    }
   ],
   "source": [
    "from IPython.display import display, clear_output\n",
    "dfnews[\"LMBody\"]=0\n",
    "for i in range(len(dfnews[\"body\"])):\n",
    "    if dfnews[\"body\"].isna()[i]==False:\n",
    "        tokens = lm.tokenize(dfnews[\"body\"][i])  \n",
    "        score = lm.get_score(tokens)\n",
    "        dfnews.loc[i,\"LMBody\"]=score[\"Polarity\"]\n",
    "    if (i % 1000) ==0:\n",
    "        clear_output()\n",
    "        display('News '+str(i)+' out of '+str(len(dfnews[\"body\"])))"
   ]
  },
  {
   "cell_type": "code",
   "execution_count": 10,
   "id": "83679a38",
   "metadata": {},
   "outputs": [
    {
     "data": {
      "text/html": [
       "<div>\n",
       "<style scoped>\n",
       "    .dataframe tbody tr th:only-of-type {\n",
       "        vertical-align: middle;\n",
       "    }\n",
       "\n",
       "    .dataframe tbody tr th {\n",
       "        vertical-align: top;\n",
       "    }\n",
       "\n",
       "    .dataframe thead th {\n",
       "        text-align: right;\n",
       "    }\n",
       "</style>\n",
       "<table border=\"1\" class=\"dataframe\">\n",
       "  <thead>\n",
       "    <tr style=\"text-align: right;\">\n",
       "      <th></th>\n",
       "      <th>timestamp</th>\n",
       "      <th>headline</th>\n",
       "      <th>body</th>\n",
       "      <th>TextBlobTitle</th>\n",
       "      <th>TextBlobBody</th>\n",
       "      <th>LMTitle</th>\n",
       "      <th>LMBody</th>\n",
       "    </tr>\n",
       "  </thead>\n",
       "  <tbody>\n",
       "    <tr>\n",
       "      <th>0</th>\n",
       "      <td>2019-01-01 22:54:59-05:00</td>\n",
       "      <td>BREAKINGVIEWS-Truce brakes Evergrande's bad be...</td>\n",
       "      <td>(The author is a Reuters Breakingviews column...</td>\n",
       "      <td>-0.700000</td>\n",
       "      <td>0.036709</td>\n",
       "      <td>-0.999999</td>\n",
       "      <td>-0.636364</td>\n",
       "    </tr>\n",
       "    <tr>\n",
       "      <th>1</th>\n",
       "      <td>2019-01-02 07:32:29.952000-05:00</td>\n",
       "      <td>Reuters Insider - U.S. Morning Call: U.S. stoc...</td>\n",
       "      <td>\\nClick the following link to watch video: htt...</td>\n",
       "      <td>-0.187500</td>\n",
       "      <td>-0.050000</td>\n",
       "      <td>-1.000000</td>\n",
       "      <td>-1.000000</td>\n",
       "    </tr>\n",
       "    <tr>\n",
       "      <th>2</th>\n",
       "      <td>2019-01-02 08:30:00-05:00</td>\n",
       "      <td>NORWAY'S SALE OF FULLY ELECTRIC CARS ROSE TO 3...</td>\n",
       "      <td></td>\n",
       "      <td>0.600000</td>\n",
       "      <td>0.000000</td>\n",
       "      <td>0.000000</td>\n",
       "      <td>0.000000</td>\n",
       "    </tr>\n",
       "    <tr>\n",
       "      <th>3</th>\n",
       "      <td>2019-01-02 08:30:01-05:00</td>\n",
       "      <td>Almost a third of Norway's car sales in 2018 e...</td>\n",
       "      <td>OSLO, Jan 2 (Reuters) - Almost a third of ...</td>\n",
       "      <td>0.068182</td>\n",
       "      <td>0.120779</td>\n",
       "      <td>0.000000</td>\n",
       "      <td>-1.000000</td>\n",
       "    </tr>\n",
       "    <tr>\n",
       "      <th>4</th>\n",
       "      <td>2019-01-02 08:33:18.667000-05:00</td>\n",
       "      <td>TESLA Q4 2018 VEHICLE PRODUCTION &amp; DELIVERIES,...</td>\n",
       "      <td></td>\n",
       "      <td>0.000000</td>\n",
       "      <td>0.000000</td>\n",
       "      <td>0.000000</td>\n",
       "      <td>0.000000</td>\n",
       "    </tr>\n",
       "  </tbody>\n",
       "</table>\n",
       "</div>"
      ],
      "text/plain": [
       "                         timestamp  \\\n",
       "0        2019-01-01 22:54:59-05:00   \n",
       "1 2019-01-02 07:32:29.952000-05:00   \n",
       "2        2019-01-02 08:30:00-05:00   \n",
       "3        2019-01-02 08:30:01-05:00   \n",
       "4 2019-01-02 08:33:18.667000-05:00   \n",
       "\n",
       "                                            headline  \\\n",
       "0  BREAKINGVIEWS-Truce brakes Evergrande's bad be...   \n",
       "1  Reuters Insider - U.S. Morning Call: U.S. stoc...   \n",
       "2  NORWAY'S SALE OF FULLY ELECTRIC CARS ROSE TO 3...   \n",
       "3  Almost a third of Norway's car sales in 2018 e...   \n",
       "4  TESLA Q4 2018 VEHICLE PRODUCTION & DELIVERIES,...   \n",
       "\n",
       "                                                body  TextBlobTitle  \\\n",
       "0   (The author is a Reuters Breakingviews column...      -0.700000   \n",
       "1  \\nClick the following link to watch video: htt...      -0.187500   \n",
       "2                                                          0.600000   \n",
       "3      OSLO, Jan 2 (Reuters) - Almost a third of ...       0.068182   \n",
       "4                                                          0.000000   \n",
       "\n",
       "   TextBlobBody   LMTitle    LMBody  \n",
       "0      0.036709 -0.999999 -0.636364  \n",
       "1     -0.050000 -1.000000 -1.000000  \n",
       "2      0.000000  0.000000  0.000000  \n",
       "3      0.120779  0.000000 -1.000000  \n",
       "4      0.000000  0.000000  0.000000  "
      ]
     },
     "execution_count": 10,
     "metadata": {},
     "output_type": "execute_result"
    }
   ],
   "source": [
    "dfnews.head()"
   ]
  },
  {
   "cell_type": "markdown",
   "id": "882225d7",
   "metadata": {},
   "source": [
    "Calculate the correlation between all (numeric) columns."
   ]
  },
  {
   "cell_type": "code",
   "execution_count": 11,
   "id": "b3369e56",
   "metadata": {},
   "outputs": [
    {
     "data": {
      "text/html": [
       "<div>\n",
       "<style scoped>\n",
       "    .dataframe tbody tr th:only-of-type {\n",
       "        vertical-align: middle;\n",
       "    }\n",
       "\n",
       "    .dataframe tbody tr th {\n",
       "        vertical-align: top;\n",
       "    }\n",
       "\n",
       "    .dataframe thead th {\n",
       "        text-align: right;\n",
       "    }\n",
       "</style>\n",
       "<table border=\"1\" class=\"dataframe\">\n",
       "  <thead>\n",
       "    <tr style=\"text-align: right;\">\n",
       "      <th></th>\n",
       "      <th>TextBlobTitle</th>\n",
       "      <th>TextBlobBody</th>\n",
       "      <th>LMTitle</th>\n",
       "      <th>LMBody</th>\n",
       "    </tr>\n",
       "  </thead>\n",
       "  <tbody>\n",
       "    <tr>\n",
       "      <th>TextBlobTitle</th>\n",
       "      <td>1.000000</td>\n",
       "      <td>0.110051</td>\n",
       "      <td>0.195738</td>\n",
       "      <td>0.074213</td>\n",
       "    </tr>\n",
       "    <tr>\n",
       "      <th>TextBlobBody</th>\n",
       "      <td>0.110051</td>\n",
       "      <td>1.000000</td>\n",
       "      <td>0.053760</td>\n",
       "      <td>0.072557</td>\n",
       "    </tr>\n",
       "    <tr>\n",
       "      <th>LMTitle</th>\n",
       "      <td>0.195738</td>\n",
       "      <td>0.053760</td>\n",
       "      <td>1.000000</td>\n",
       "      <td>0.238553</td>\n",
       "    </tr>\n",
       "    <tr>\n",
       "      <th>LMBody</th>\n",
       "      <td>0.074213</td>\n",
       "      <td>0.072557</td>\n",
       "      <td>0.238553</td>\n",
       "      <td>1.000000</td>\n",
       "    </tr>\n",
       "  </tbody>\n",
       "</table>\n",
       "</div>"
      ],
      "text/plain": [
       "               TextBlobTitle  TextBlobBody   LMTitle    LMBody\n",
       "TextBlobTitle       1.000000      0.110051  0.195738  0.074213\n",
       "TextBlobBody        0.110051      1.000000  0.053760  0.072557\n",
       "LMTitle             0.195738      0.053760  1.000000  0.238553\n",
       "LMBody              0.074213      0.072557  0.238553  1.000000"
      ]
     },
     "execution_count": 11,
     "metadata": {},
     "output_type": "execute_result"
    }
   ],
   "source": [
    "dfnews.corr()"
   ]
  }
 ],
 "metadata": {
  "kernelspec": {
   "display_name": "Python 3 (ipykernel)",
   "language": "python",
   "name": "python3"
  },
  "language_info": {
   "codemirror_mode": {
    "name": "ipython",
    "version": 3
   },
   "file_extension": ".py",
   "mimetype": "text/x-python",
   "name": "python",
   "nbconvert_exporter": "python",
   "pygments_lexer": "ipython3",
   "version": "3.9.1"
  }
 },
 "nbformat": 4,
 "nbformat_minor": 5
}
