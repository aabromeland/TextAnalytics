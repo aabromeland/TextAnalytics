{
 "cells": [
  {
   "cell_type": "markdown",
   "id": "southern-lesson",
   "metadata": {},
   "source": [
    "# Exercise 9"
   ]
  },
  {
   "cell_type": "markdown",
   "id": "vertical-marine",
   "metadata": {},
   "source": [
    "1. Scrape the information of all lawn mowers from https://www.productreview.com.au/c/lawn-mowers. For this question, you only need to obtain the results on the first page. For each mower, you need to extract its name, rating, price and the URL of its image. Save them as four lists called **products**, **ratings**, **prices** and **imageURLs**. Then save these four lists as one four-column data frame called **df**. Name the columns as way you like. \n",
    "\n",
    "    If your solution is correct, you should obtain exactly 20 products on this page."
   ]
  },
  {
   "cell_type": "code",
   "execution_count": 50,
   "id": "senior-customs",
   "metadata": {
    "scrolled": true
   },
   "outputs": [
    {
     "data": {
      "text/html": [
       "<div>\n",
       "<style scoped>\n",
       "    .dataframe tbody tr th:only-of-type {\n",
       "        vertical-align: middle;\n",
       "    }\n",
       "\n",
       "    .dataframe tbody tr th {\n",
       "        vertical-align: top;\n",
       "    }\n",
       "\n",
       "    .dataframe thead th {\n",
       "        text-align: right;\n",
       "    }\n",
       "</style>\n",
       "<table border=\"1\" class=\"dataframe\">\n",
       "  <thead>\n",
       "    <tr style=\"text-align: right;\">\n",
       "      <th></th>\n",
       "      <th>Product</th>\n",
       "      <th>Rating</th>\n",
       "      <th>Price</th>\n",
       "      <th>imageURLs</th>\n",
       "    </tr>\n",
       "  </thead>\n",
       "  <tbody>\n",
       "    <tr>\n",
       "      <th>0</th>\n",
       "      <td>Razorback All Terrain</td>\n",
       "      <td>4.5</td>\n",
       "      <td>$23,490.00</td>\n",
       "      <td>https://cdn.productreview.com.au/resize/listin...</td>\n",
       "    </tr>\n",
       "    <tr>\n",
       "      <th>1</th>\n",
       "      <td>Honda HRU19</td>\n",
       "      <td>3.9</td>\n",
       "      <td>$939.00</td>\n",
       "      <td>https://cdn.productreview.com.au/resize/listin...</td>\n",
       "    </tr>\n",
       "    <tr>\n",
       "      <th>2</th>\n",
       "      <td>Victa Classic Cut</td>\n",
       "      <td>3.7</td>\n",
       "      <td>$419.00</td>\n",
       "      <td>https://cdn.productreview.com.au/resize/listin...</td>\n",
       "    </tr>\n",
       "    <tr>\n",
       "      <th>3</th>\n",
       "      <td>Masport Bunnings 490 4'n1</td>\n",
       "      <td>4.2</td>\n",
       "      <td>$599.00</td>\n",
       "      <td>https://cdn.productreview.com.au/resize/listin...</td>\n",
       "    </tr>\n",
       "    <tr>\n",
       "      <th>4</th>\n",
       "      <td>AS-Motor AS 940 Sherpa 4WD</td>\n",
       "      <td>4.8</td>\n",
       "      <td>$27,000.00</td>\n",
       "      <td>https://cdn.productreview.com.au/resize/listin...</td>\n",
       "    </tr>\n",
       "  </tbody>\n",
       "</table>\n",
       "</div>"
      ],
      "text/plain": [
       "                      Product Rating       Price  \\\n",
       "0       Razorback All Terrain    4.5  $23,490.00   \n",
       "1                 Honda HRU19    3.9     $939.00   \n",
       "2           Victa Classic Cut    3.7     $419.00   \n",
       "3   Masport Bunnings 490 4'n1    4.2     $599.00   \n",
       "4  AS-Motor AS 940 Sherpa 4WD    4.8  $27,000.00   \n",
       "\n",
       "                                           imageURLs  \n",
       "0  https://cdn.productreview.com.au/resize/listin...  \n",
       "1  https://cdn.productreview.com.au/resize/listin...  \n",
       "2  https://cdn.productreview.com.au/resize/listin...  \n",
       "3  https://cdn.productreview.com.au/resize/listin...  \n",
       "4  https://cdn.productreview.com.au/resize/listin...  "
      ]
     },
     "execution_count": 50,
     "metadata": {},
     "output_type": "execute_result"
    }
   ],
   "source": [
    "#Your answer here:\n",
    "import requests\n",
    "from lxml import html\n",
    "import pandas as pd\n",
    "\n",
    "\n",
    "url = 'https://www.productreview.com.au/c/lawn-mowers'\n",
    "page = requests.get(url)\n",
    "root = html.fromstring(page.content)\n",
    "products = [s.text_content() for s in root.xpath('//div[1]/div/div[1]/div[1]/div[1]/div[1]/h3/a')]\n",
    "ratings = [s.text_content() for s in root.xpath('//div[1]/div/div[1]/div[1]/div[1]/div[2]/span/span[1]')]\n",
    "prices = [s.text_content().split()[-1] for s in root.xpath('//div[1]/div/div[1]/div[2]/h4/span')]\n",
    "imageURL = [s.attrib['src'] for s in root.xpath('/html/body/div[1]/div[2]/div/div/div/div/div/div/div/div/div/div/div/div/div[1]/a/img')]\n",
    "df = pd.DataFrame({'Product': products, 'Rating': ratings, 'Price':prices,'imageURLs':imageURL}) \n",
    "\n",
    "\n",
    "#Check your answer\n",
    "\n",
    "df.head()"
   ]
  },
  {
   "cell_type": "markdown",
   "id": "1a0e8432",
   "metadata": {},
   "source": [
    "If you are curious about how to download the images with the URLs, try the command below. It downloads the first image in your **df** and have it as 'image0.jpg'. It is not hard to download all images using a for loop. Since processing images data is not our focus, we will skip this step."
   ]
  },
  {
   "cell_type": "code",
   "execution_count": 33,
   "id": "00fbbc70",
   "metadata": {},
   "outputs": [],
   "source": [
    "img_data = requests.get(df[\"imageURLs\"][0]).content\n",
    "with open('image0.jpg', 'wb') as handler:\n",
    "    handler.write(img_data)"
   ]
  },
  {
   "cell_type": "markdown",
   "id": "suspected-lesson",
   "metadata": {},
   "source": [
    "2. Repeat question 1, but this time you must scrape the information of mowers on the first five pages from https://www.productreview.com.au/c/lawn-mowers. For each mower, you need to extract its name, rating, and the URL of its image. (Price is not needed this time because some mowers do not have a price, which makes thing complicated.) Save them as three lists called **products_all**, **ratings_all** and **imageURLs_all**. Then save these three lists as one three-column data frame called **df_all**. Name the columns as way you like. \n",
    "\n",
    "    *Hint: The URL of each page has three segments. For example, the second page is https://www.productreview.com.au/c/lawn-mowers?page=2#search-results You can create this URL by concatenating the following three segements:*\n",
    "         https://www.productreview.com.au/c/lawn-mowers?page=\n",
    "         \n",
    "         2\n",
    "         \n",
    "         #search-results\n",
    "         \n",
    "      Only the second segement changes with the for-loop. Don't forget to pause for 1~2 seconds between pages."
   ]
  },
  {
   "cell_type": "code",
   "execution_count": 45,
   "id": "unauthorized-attachment",
   "metadata": {
    "scrolled": true
   },
   "outputs": [
    {
     "name": "stdout",
     "output_type": "stream",
     "text": [
      "https://www.productreview.com.au/c/lawn-mowers?page=5#search-results\n"
     ]
    },
    {
     "data": {
      "text/html": [
       "<div>\n",
       "<style scoped>\n",
       "    .dataframe tbody tr th:only-of-type {\n",
       "        vertical-align: middle;\n",
       "    }\n",
       "\n",
       "    .dataframe tbody tr th {\n",
       "        vertical-align: top;\n",
       "    }\n",
       "\n",
       "    .dataframe thead th {\n",
       "        text-align: right;\n",
       "    }\n",
       "</style>\n",
       "<table border=\"1\" class=\"dataframe\">\n",
       "  <thead>\n",
       "    <tr style=\"text-align: right;\">\n",
       "      <th></th>\n",
       "      <th>Product</th>\n",
       "      <th>Rating</th>\n",
       "      <th>imageURLs</th>\n",
       "    </tr>\n",
       "  </thead>\n",
       "  <tbody>\n",
       "    <tr>\n",
       "      <th>0</th>\n",
       "      <td>Razorback All Terrain</td>\n",
       "      <td>4.5</td>\n",
       "      <td>https://cdn.productreview.com.au/resize/listin...</td>\n",
       "    </tr>\n",
       "    <tr>\n",
       "      <th>1</th>\n",
       "      <td>Honda HRU19</td>\n",
       "      <td>3.9</td>\n",
       "      <td>https://cdn.productreview.com.au/resize/listin...</td>\n",
       "    </tr>\n",
       "    <tr>\n",
       "      <th>2</th>\n",
       "      <td>Victa Classic Cut</td>\n",
       "      <td>3.7</td>\n",
       "      <td>https://cdn.productreview.com.au/resize/listin...</td>\n",
       "    </tr>\n",
       "    <tr>\n",
       "      <th>3</th>\n",
       "      <td>Masport Bunnings 490 4'n1</td>\n",
       "      <td>4.2</td>\n",
       "      <td>https://cdn.productreview.com.au/resize/listin...</td>\n",
       "    </tr>\n",
       "    <tr>\n",
       "      <th>4</th>\n",
       "      <td>AS-Motor AS 940 Sherpa 4WD</td>\n",
       "      <td>4.8</td>\n",
       "      <td>https://cdn.productreview.com.au/resize/listin...</td>\n",
       "    </tr>\n",
       "  </tbody>\n",
       "</table>\n",
       "</div>"
      ],
      "text/plain": [
       "                      Product Rating  \\\n",
       "0       Razorback All Terrain    4.5   \n",
       "1                 Honda HRU19    3.9   \n",
       "2           Victa Classic Cut    3.7   \n",
       "3   Masport Bunnings 490 4'n1    4.2   \n",
       "4  AS-Motor AS 940 Sherpa 4WD    4.8   \n",
       "\n",
       "                                           imageURLs  \n",
       "0  https://cdn.productreview.com.au/resize/listin...  \n",
       "1  https://cdn.productreview.com.au/resize/listin...  \n",
       "2  https://cdn.productreview.com.au/resize/listin...  \n",
       "3  https://cdn.productreview.com.au/resize/listin...  \n",
       "4  https://cdn.productreview.com.au/resize/listin...  "
      ]
     },
     "execution_count": 45,
     "metadata": {},
     "output_type": "execute_result"
    }
   ],
   "source": [
    "#Your answer here:\n",
    "import time\n",
    "from IPython.display import display, clear_output\n",
    "baseURL = 'https://www.productreview.com.au/c/lawn-mowers?page='\n",
    "endURL = '#search-results'\n",
    "path1 = '//div[1]/div/div[1]/div[1]/div[1]/div[1]/h3/a'\n",
    "path2 = '//div[1]/div/div[1]/div[1]/div[1]/div[2]/span/span[1]'\n",
    "path3 = '//div[1]/a/img'\n",
    "products_all=[]\n",
    "ratings_all=[]\n",
    "imageurl_all=[]\n",
    "for i in range(1,6):\n",
    "    URL = baseURL+str(i)+endURL\n",
    "    page=requests.get(URL)\n",
    "    root=html.fromstring(page.content)\n",
    "    products = [s.text_content() for s in root.xpath(path1)]\n",
    "    ratings = [s.text_content() for s in root.xpath(path2)]\n",
    "    imageurl = [s.attrib['src'] for s in root.xpath(path3)]\n",
    "    imageurl = imageurl[1:]\n",
    "    products_all.extend(products)\n",
    "    ratings_all.extend(ratings)\n",
    "    imageurl_all.extend(imageurl)\n",
    "    time.sleep(2)\n",
    "    clear_output()\n",
    "    print(URL)\n",
    "    \n",
    "df_all = pd.DataFrame({'Product': products_all, 'Rating': ratings_all, 'imageURLs':imageurl_all})    \n",
    "    \n",
    "#Check your answer\n",
    "df_all.head()"
   ]
  },
  {
   "cell_type": "code",
   "execution_count": 51,
   "id": "76a4fa34",
   "metadata": {},
   "outputs": [],
   "source": [
    "df_all.to_csv('tractors.csv')"
   ]
  }
 ],
 "metadata": {
  "kernelspec": {
   "display_name": "Python 3 (ipykernel)",
   "language": "python",
   "name": "python3"
  },
  "language_info": {
   "codemirror_mode": {
    "name": "ipython",
    "version": 3
   },
   "file_extension": ".py",
   "mimetype": "text/x-python",
   "name": "python",
   "nbconvert_exporter": "python",
   "pygments_lexer": "ipython3",
   "version": "3.9.1"
  }
 },
 "nbformat": 4,
 "nbformat_minor": 5
}
