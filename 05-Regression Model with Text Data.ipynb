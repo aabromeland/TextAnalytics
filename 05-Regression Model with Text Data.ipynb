{
 "cells": [
  {
   "cell_type": "markdown",
   "id": "welsh-collins",
   "metadata": {},
   "source": [
    "# Regression Model with Text Data | MSCI:6100\n",
    "\n",
    "**Spring 2021 | Instructor: Qihang Lin | Mar 1, 2021**"
   ]
  },
  {
   "cell_type": "markdown",
   "id": "composed-ladder",
   "metadata": {},
   "source": [
    "<img src=https://miro.medium.com/max/960/1*LEmBCYAttxS6uI6rEyPLMQ.png width=\"400\">\n",
    "\n"
   ]
  },
  {
   "cell_type": "markdown",
   "id": "intellectual-saver",
   "metadata": {},
   "source": [
    "In this lecture, we will focus on the task of predicting continuous outcomes using text data (**regression task**).\n",
    "- Stock price\n",
    "- Box office revenue \n",
    "- Star rating\n",
    "\n",
    "The basic steps of text regression are similar to those in text classification. The main differences include:\n",
    "\n",
    "- Use LASSO model instead of logistic regression\n",
    "- Use root mean squared error to measure the prediction performance"
   ]
  },
  {
   "cell_type": "markdown",
   "id": "generic-binding",
   "metadata": {},
   "source": [
    "## Linear Regression\n",
    "\n",
    "* Vectorization of a document: $\\mathbf{x}=(x_1,x_2,\\dots,x_n)$ \n",
    "    * $\\mathbf{x}$ is a row in DTM.\n",
    "    \n",
    "* Each document corresponds to a continuous outcome, denoted by $y$.\n",
    "    * For example, $y=$movie's revenue.\n",
    "    \n",
    "* Prediction by a linear model: \n",
    "    * $y=\\beta_0+\\beta_1x_1+\\beta_2x_2+\\cdots+\\beta_nx_n$\n",
    "* Coefficients: \n",
    "    * Intercept: $\\beta_0$ \n",
    "    * Slopes: $\\mathbf{\\beta}=(\\beta_1,\\beta_2,\\dots,\\beta_n)$\n",
    "\n",
    "* Impact of coefficients: \n",
    "    * $\\beta_i>0$: A document with a high frequency in term $i$ corresponds to a large $y$. \n",
    "    * $\\beta_i<0$: A document with a high frequency in term $i$ corresponds to a small $y$.\n",
    "    * $\\beta_i=0$: Term $i$ has no impact on $y$."
   ]
  },
  {
   "cell_type": "markdown",
   "id": "pleasant-heating",
   "metadata": {},
   "source": [
    "## LASSO \n",
    "\n",
    "* LASSO mean **least absolute shrinkage and selection operator**.\n",
    "\n",
    "\n",
    "* Just like l1-regularized logistic regression, LASSO makes slope $\\beta_i=0$ for non-significant variables and thus remove them from the model. This helps reduce the number of variables and avoid overfitting.\n",
    "\n",
    "\n",
    "* Its math model: https://scikit-learn.org/stable/modules/linear_model.html#lasso\n",
    "\n",
    "\n",
    "* Just like l1-regularized logistic regression, a **regularization parameter $\\alpha$** must be provided when building a LASSO model. \n",
    "\n",
    "\n",
    "* As $\\alpha$ increases, $\\mathbf{\\beta}$ becomes more sparse with more $\\beta_i$ being zero."
   ]
  },
  {
   "cell_type": "markdown",
   "id": "colored-mechanics",
   "metadata": {},
   "source": [
    "## Dataset Preparation"
   ]
  },
  {
   "cell_type": "markdown",
   "id": "british-juvenile",
   "metadata": {},
   "source": [
    "We will apply LASSO to predict star ratings of reviews on dresses. The following code loads the data, where column \"Rating\" contains star ratings and column \"Review.Text\" contains review texts."
   ]
  },
  {
   "cell_type": "code",
   "execution_count": 1,
   "id": "wireless-growth",
   "metadata": {},
   "outputs": [
    {
     "data": {
      "text/html": [
       "<div>\n",
       "<style scoped>\n",
       "    .dataframe tbody tr th:only-of-type {\n",
       "        vertical-align: middle;\n",
       "    }\n",
       "\n",
       "    .dataframe tbody tr th {\n",
       "        vertical-align: top;\n",
       "    }\n",
       "\n",
       "    .dataframe thead th {\n",
       "        text-align: right;\n",
       "    }\n",
       "</style>\n",
       "<table border=\"1\" class=\"dataframe\">\n",
       "  <thead>\n",
       "    <tr style=\"text-align: right;\">\n",
       "      <th></th>\n",
       "      <th>Review.Text</th>\n",
       "      <th>Rating</th>\n",
       "    </tr>\n",
       "  </thead>\n",
       "  <tbody>\n",
       "    <tr>\n",
       "      <th>0</th>\n",
       "      <td>I love, love, love this absolutely stunning dr...</td>\n",
       "      <td>3</td>\n",
       "    </tr>\n",
       "    <tr>\n",
       "      <th>1</th>\n",
       "      <td>I was surprised at the positive reviews for th...</td>\n",
       "      <td>1</td>\n",
       "    </tr>\n",
       "    <tr>\n",
       "      <th>2</th>\n",
       "      <td>Couldn't make it work, even belted. ivory colo...</td>\n",
       "      <td>2</td>\n",
       "    </tr>\n",
       "    <tr>\n",
       "      <th>3</th>\n",
       "      <td>This dress hangs like a sack. it really needs ...</td>\n",
       "      <td>1</td>\n",
       "    </tr>\n",
       "    <tr>\n",
       "      <th>4</th>\n",
       "      <td>Soooo disappointed in this dress. the colors a...</td>\n",
       "      <td>2</td>\n",
       "    </tr>\n",
       "  </tbody>\n",
       "</table>\n",
       "</div>"
      ],
      "text/plain": [
       "                                         Review.Text  Rating\n",
       "0  I love, love, love this absolutely stunning dr...       3\n",
       "1  I was surprised at the positive reviews for th...       1\n",
       "2  Couldn't make it work, even belted. ivory colo...       2\n",
       "3  This dress hangs like a sack. it really needs ...       1\n",
       "4  Soooo disappointed in this dress. the colors a...       2"
      ]
     },
     "execution_count": 1,
     "metadata": {},
     "output_type": "execute_result"
    }
   ],
   "source": [
    "import pandas as pd\n",
    "import re\n",
    "df = pd.read_csv(\"classdata/DressReviews.csv\")\n",
    "df[\"Rating\"].value_counts()\n",
    "df=df[[\"Review.Text\",\"Rating\"]]\n",
    "#Some review texts are NaN and must be dropped.\n",
    "df.dropna(axis=0, how='any', inplace=True)\n",
    "df.head()"
   ]
  },
  {
   "cell_type": "code",
   "execution_count": 2,
   "id": "strange-knowing",
   "metadata": {},
   "outputs": [],
   "source": [
    "#Split the data\n",
    "from sklearn.model_selection import train_test_split\n",
    "df_train, df_test = train_test_split(df, test_size=0.33)\n",
    "df_train.reset_index(drop=True,inplace=True)\n",
    "df_test.reset_index(drop=True,inplace=True)"
   ]
  },
  {
   "cell_type": "markdown",
   "id": "monetary-communist",
   "metadata": {},
   "source": [
    "## Feature Engineering"
   ]
  },
  {
   "cell_type": "markdown",
   "id": "natural-beijing",
   "metadata": {},
   "source": [
    "We create the DTMs for training and testing sets as follows."
   ]
  },
  {
   "cell_type": "code",
   "execution_count": 3,
   "id": "statewide-liability",
   "metadata": {},
   "outputs": [
    {
     "name": "stdout",
     "output_type": "stream",
     "text": [
      "(1572, 3288)\n",
      "(775, 3288)\n"
     ]
    }
   ],
   "source": [
    "from sklearn.feature_extraction.text import CountVectorizer, TfidfVectorizer\n",
    "import nltk \n",
    "\n",
    "stemmer = nltk.stem.SnowballStemmer(\"english\", ignore_stopwords=True)\n",
    "class StemmedTfidfVectorizer(TfidfVectorizer):\n",
    "    def build_analyzer(self):\n",
    "        analyzer = super(StemmedTfidfVectorizer, self).build_analyzer()\n",
    "        return lambda doc: ([stemmer.stem(w) for w in analyzer(doc)])\n",
    "\n",
    "nltk_stopwords = nltk.corpus.stopwords.words(\"english\") \n",
    "\n",
    "vectorizer=StemmedTfidfVectorizer(stop_words=nltk_stopwords,\n",
    "                                  use_idf=True,\n",
    "                                  smooth_idf=True,\n",
    "                                  norm=None)\n",
    "\n",
    "train_x = vectorizer.fit_transform(df_train[\"Review.Text\"])\n",
    "train_y = df_train[\"Rating\"]\n",
    "print(train_x.shape)\n",
    "\n",
    "test_x = vectorizer.transform(df_test[\"Review.Text\"])\n",
    "test_y = df_test[\"Rating\"]\n",
    "print(test_x.shape)"
   ]
  },
  {
   "cell_type": "code",
   "execution_count": 4,
   "id": "stopped-federation",
   "metadata": {},
   "outputs": [],
   "source": [
    "#Rescale columns. No need to do this if the rows of DTMs are normalized.\n",
    "from sklearn.preprocessing import MaxAbsScaler\n",
    "scaler = MaxAbsScaler()\n",
    "scaler.fit(train_x)\n",
    "train_x=scaler.transform(train_x)\n",
    "test_x=scaler.transform(test_x)"
   ]
  },
  {
   "cell_type": "markdown",
   "id": "endangered-gilbert",
   "metadata": {},
   "source": [
    "## Model Training"
   ]
  },
  {
   "cell_type": "code",
   "execution_count": 5,
   "id": "disturbed-geometry",
   "metadata": {},
   "outputs": [
    {
     "data": {
      "text/plain": [
       "Lasso(alpha=0.01, max_iter=10000)"
      ]
     },
     "execution_count": 5,
     "metadata": {},
     "output_type": "execute_result"
    }
   ],
   "source": [
    "from sklearn.linear_model import Lasso\n",
    "lasso = Lasso(alpha=0.01, #Regularization parameter.\n",
    "              max_iter=10000\n",
    "              )\n",
    "lasso.fit(train_x,train_y)"
   ]
  },
  {
   "cell_type": "markdown",
   "id": "gross-steering",
   "metadata": {},
   "source": [
    "More options: https://scikit-learn.org/stable/modules/generated/sklearn.linear_model.Lasso.html"
   ]
  },
  {
   "cell_type": "code",
   "execution_count": 6,
   "id": "finnish-middle",
   "metadata": {},
   "outputs": [
    {
     "data": {
      "text/plain": [
       "array([-0.,  0.,  0., ..., -0., -0., -0.])"
      ]
     },
     "execution_count": 6,
     "metadata": {},
     "output_type": "execute_result"
    }
   ],
   "source": [
    "#Slope betas\n",
    "lasso.coef_"
   ]
  },
  {
   "cell_type": "code",
   "execution_count": 7,
   "id": "professional-hometown",
   "metadata": {},
   "outputs": [
    {
     "data": {
      "text/plain": [
       "3.2878014686377606"
      ]
     },
     "execution_count": 7,
     "metadata": {},
     "output_type": "execute_result"
    }
   ],
   "source": [
    "#Intercept beta0\n",
    "lasso.intercept_"
   ]
  },
  {
   "cell_type": "code",
   "execution_count": 8,
   "id": "gothic-february",
   "metadata": {},
   "outputs": [
    {
     "data": {
      "text/plain": [
       "44"
      ]
     },
     "execution_count": 8,
     "metadata": {},
     "output_type": "execute_result"
    }
   ],
   "source": [
    "#Check the number of non-zero slopes, which is also the number of terms selected by the model.  \n",
    "import numpy as np\n",
    "np.count_nonzero(lasso.coef_)"
   ]
  },
  {
   "cell_type": "code",
   "execution_count": 9,
   "id": "conditional-tattoo",
   "metadata": {},
   "outputs": [
    {
     "data": {
      "text/plain": [
       "0.01338199513381995"
      ]
     },
     "execution_count": 9,
     "metadata": {},
     "output_type": "execute_result"
    }
   ],
   "source": [
    "#Check the percentage of non-zero slopes\n",
    "np.count_nonzero(lasso.coef_)/len(lasso.coef_)"
   ]
  },
  {
   "cell_type": "markdown",
   "id": "maritime-production",
   "metadata": {},
   "source": [
    "## Descriptive Analytics"
   ]
  },
  {
   "cell_type": "markdown",
   "id": "circular-independence",
   "metadata": {},
   "source": [
    "We can identify the terms that have the largest positive and negative impacts to star ratings."
   ]
  },
  {
   "cell_type": "code",
   "execution_count": 10,
   "id": "fancy-arrest",
   "metadata": {},
   "outputs": [
    {
     "data": {
      "text/html": [
       "<div>\n",
       "<style scoped>\n",
       "    .dataframe tbody tr th:only-of-type {\n",
       "        vertical-align: middle;\n",
       "    }\n",
       "\n",
       "    .dataframe tbody tr th {\n",
       "        vertical-align: top;\n",
       "    }\n",
       "\n",
       "    .dataframe thead th {\n",
       "        text-align: right;\n",
       "    }\n",
       "</style>\n",
       "<table border=\"1\" class=\"dataframe\">\n",
       "  <thead>\n",
       "    <tr style=\"text-align: right;\">\n",
       "      <th></th>\n",
       "      <th>Term</th>\n",
       "      <th>Beta</th>\n",
       "    </tr>\n",
       "  </thead>\n",
       "  <tbody>\n",
       "    <tr>\n",
       "      <th>0</th>\n",
       "      <td>perfect</td>\n",
       "      <td>1.492152</td>\n",
       "    </tr>\n",
       "    <tr>\n",
       "      <th>1</th>\n",
       "      <td>comfort</td>\n",
       "      <td>1.394068</td>\n",
       "    </tr>\n",
       "    <tr>\n",
       "      <th>2</th>\n",
       "      <td>love</td>\n",
       "      <td>0.746213</td>\n",
       "    </tr>\n",
       "    <tr>\n",
       "      <th>3</th>\n",
       "      <td>great</td>\n",
       "      <td>0.643667</td>\n",
       "    </tr>\n",
       "    <tr>\n",
       "      <th>4</th>\n",
       "      <td>compliment</td>\n",
       "      <td>0.624529</td>\n",
       "    </tr>\n",
       "    <tr>\n",
       "      <th>5</th>\n",
       "      <td>wear</td>\n",
       "      <td>0.426081</td>\n",
       "    </tr>\n",
       "    <tr>\n",
       "      <th>6</th>\n",
       "      <td>beauti</td>\n",
       "      <td>0.331059</td>\n",
       "    </tr>\n",
       "    <tr>\n",
       "      <th>7</th>\n",
       "      <td>spring</td>\n",
       "      <td>0.305546</td>\n",
       "    </tr>\n",
       "    <tr>\n",
       "      <th>8</th>\n",
       "      <td>bit</td>\n",
       "      <td>0.273440</td>\n",
       "    </tr>\n",
       "    <tr>\n",
       "      <th>9</th>\n",
       "      <td>fit</td>\n",
       "      <td>0.245235</td>\n",
       "    </tr>\n",
       "  </tbody>\n",
       "</table>\n",
       "</div>"
      ],
      "text/plain": [
       "         Term      Beta\n",
       "0     perfect  1.492152\n",
       "1     comfort  1.394068\n",
       "2        love  0.746213\n",
       "3       great  0.643667\n",
       "4  compliment  0.624529\n",
       "5        wear  0.426081\n",
       "6      beauti  0.331059\n",
       "7      spring  0.305546\n",
       "8         bit  0.273440\n",
       "9         fit  0.245235"
      ]
     },
     "execution_count": 10,
     "metadata": {},
     "output_type": "execute_result"
    }
   ],
   "source": [
    "dfbeta = pd.DataFrame({'Term': vectorizer.get_feature_names(),\n",
    "                       'Beta': lasso.coef_\n",
    "                     })\n",
    "dfbeta.sort_values(by=\"Beta\",inplace=True,ascending=False)\n",
    "dfbeta.reset_index(inplace=True,drop=True)\n",
    "dfbeta.head(10)"
   ]
  },
  {
   "cell_type": "code",
   "execution_count": 11,
   "id": "radical-request",
   "metadata": {},
   "outputs": [
    {
     "data": {
      "text/html": [
       "<div>\n",
       "<style scoped>\n",
       "    .dataframe tbody tr th:only-of-type {\n",
       "        vertical-align: middle;\n",
       "    }\n",
       "\n",
       "    .dataframe tbody tr th {\n",
       "        vertical-align: top;\n",
       "    }\n",
       "\n",
       "    .dataframe thead th {\n",
       "        text-align: right;\n",
       "    }\n",
       "</style>\n",
       "<table border=\"1\" class=\"dataframe\">\n",
       "  <thead>\n",
       "    <tr style=\"text-align: right;\">\n",
       "      <th></th>\n",
       "      <th>Term</th>\n",
       "      <th>Beta</th>\n",
       "    </tr>\n",
       "  </thead>\n",
       "  <tbody>\n",
       "    <tr>\n",
       "      <th>0</th>\n",
       "      <td>return</td>\n",
       "      <td>-0.984547</td>\n",
       "    </tr>\n",
       "    <tr>\n",
       "      <th>1</th>\n",
       "      <td>unflatt</td>\n",
       "      <td>-0.870004</td>\n",
       "    </tr>\n",
       "    <tr>\n",
       "      <th>2</th>\n",
       "      <td>disappoint</td>\n",
       "      <td>-0.713586</td>\n",
       "    </tr>\n",
       "    <tr>\n",
       "      <th>3</th>\n",
       "      <td>cheap</td>\n",
       "      <td>-0.626329</td>\n",
       "    </tr>\n",
       "    <tr>\n",
       "      <th>4</th>\n",
       "      <td>back</td>\n",
       "      <td>-0.500017</td>\n",
       "    </tr>\n",
       "    <tr>\n",
       "      <th>5</th>\n",
       "      <td>huge</td>\n",
       "      <td>-0.481175</td>\n",
       "    </tr>\n",
       "    <tr>\n",
       "      <th>6</th>\n",
       "      <td>excit</td>\n",
       "      <td>-0.364772</td>\n",
       "    </tr>\n",
       "    <tr>\n",
       "      <th>7</th>\n",
       "      <td>look</td>\n",
       "      <td>-0.354933</td>\n",
       "    </tr>\n",
       "    <tr>\n",
       "      <th>8</th>\n",
       "      <td>sad</td>\n",
       "      <td>-0.331298</td>\n",
       "    </tr>\n",
       "    <tr>\n",
       "      <th>9</th>\n",
       "      <td>howev</td>\n",
       "      <td>-0.315660</td>\n",
       "    </tr>\n",
       "  </tbody>\n",
       "</table>\n",
       "</div>"
      ],
      "text/plain": [
       "         Term      Beta\n",
       "0      return -0.984547\n",
       "1     unflatt -0.870004\n",
       "2  disappoint -0.713586\n",
       "3       cheap -0.626329\n",
       "4        back -0.500017\n",
       "5        huge -0.481175\n",
       "6       excit -0.364772\n",
       "7        look -0.354933\n",
       "8         sad -0.331298\n",
       "9       howev -0.315660"
      ]
     },
     "execution_count": 11,
     "metadata": {},
     "output_type": "execute_result"
    }
   ],
   "source": [
    "dfbeta.sort_values(by=\"Beta\",inplace=True,ascending=True)\n",
    "dfbeta.reset_index(inplace=True,drop=True)\n",
    "dfbeta.head(10)"
   ]
  },
  {
   "cell_type": "markdown",
   "id": "applied-inspiration",
   "metadata": {},
   "source": [
    "## Predictive Analytics"
   ]
  },
  {
   "cell_type": "code",
   "execution_count": 12,
   "id": "powerful-embassy",
   "metadata": {},
   "outputs": [
    {
     "data": {
      "text/plain": [
       "array([3.23671664, 3.79907008, 3.26777553, 4.71509583, 3.23893064,\n",
       "       3.97169802, 3.63914817, 3.37485959, 4.61308739, 4.82859485])"
      ]
     },
     "execution_count": 12,
     "metadata": {},
     "output_type": "execute_result"
    }
   ],
   "source": [
    "#Apply the model to the reviews testing set and predict the star ratings\n",
    "lasso.predict(test_x)[0:10]"
   ]
  },
  {
   "cell_type": "markdown",
   "id": "labeled-milton",
   "metadata": {},
   "source": [
    "## Performance Metric\n",
    "\n",
    "**Root Mean Squared Error**(RMSE): A small RMSE means a high prediction accuracy.\n",
    "\n",
    "| | True Y | Pred Y |\n",
    "| --- | --- | --- |\n",
    "| 0 | $y_0$ | $\\hat y_0$ |\n",
    "| 1 | $y_1$ | $\\hat y_1$ |\n",
    "| | $\\vdots$| $\\vdots$ |\n",
    "| N-1 | $y_{N-1}$ | $\\hat y_{N-1}$ |\n",
    "\n",
    "$$\\text{RMSE}(y, \\hat{y}) = \\sqrt{\\frac{ (y_0 - \\hat{y}_0)^2+(y_1 - \\hat{y}_1)^2+\\dots+(y_{N-1} - \\hat{y}_{N-1})^2}{N} }$$\n",
    "\n"
   ]
  },
  {
   "cell_type": "markdown",
   "id": "strong-slope",
   "metadata": {},
   "source": [
    "More performance metrics: https://scikit-learn.org/stable/modules/model_evaluation.html"
   ]
  },
  {
   "cell_type": "code",
   "execution_count": 13,
   "id": "immune-toyota",
   "metadata": {},
   "outputs": [
    {
     "name": "stdout",
     "output_type": "stream",
     "text": [
      "1.0760078440630143\n",
      "\n",
      "1.1169886099092936\n"
     ]
    }
   ],
   "source": [
    "from sklearn.metrics import mean_squared_error\n",
    "print(mean_squared_error(train_y,lasso.predict(train_x),squared=False))\n",
    "print()\n",
    "print(mean_squared_error(test_y,lasso.predict(test_x),squared=False))"
   ]
  },
  {
   "cell_type": "markdown",
   "id": "conventional-talent",
   "metadata": {},
   "source": [
    "Here, **squared=False** makes **mean_squared_error** return RMSE. If **squared=True**, it returns **mean squared error (MSE)**, which is a different performance metric for regression task:\n",
    "\n",
    "$$MSE=RMSE^2$$"
   ]
  },
  {
   "cell_type": "markdown",
   "id": "spatial-startup",
   "metadata": {},
   "source": [
    "## Select Regularization Parameter by Cross Validation"
   ]
  },
  {
   "cell_type": "markdown",
   "id": "infrared-cyprus",
   "metadata": {},
   "source": [
    "The parameter $\\alpha$ can be selected by $K$-fold cross validation with a procedure similar to that for l1-regularized logistic regression.  "
   ]
  },
  {
   "cell_type": "markdown",
   "id": "foreign-wilson",
   "metadata": {},
   "source": [
    "To make sure the candidate values for $\\alpha$ have diversified scales, we generate the candidates spaced evenly on a logarithmic scale."
   ]
  },
  {
   "cell_type": "markdown",
   "id": "perfect-serial",
   "metadata": {},
   "source": [
    "The following code generate 10 candidates for $\\alpha$ between $10^{-3}$ and $10^{0}$ spaced evenly on a logarithmic scale."
   ]
  },
  {
   "cell_type": "code",
   "execution_count": 14,
   "id": "raising-hamilton",
   "metadata": {},
   "outputs": [
    {
     "data": {
      "text/plain": [
       "array([0.001     , 0.00215443, 0.00464159, 0.01      , 0.02154435,\n",
       "       0.04641589, 0.1       , 0.21544347, 0.46415888, 1.        ])"
      ]
     },
     "execution_count": 14,
     "metadata": {},
     "output_type": "execute_result"
    }
   ],
   "source": [
    "import numpy as np\n",
    "alphaList = np.logspace(start=-3,stop=0,num=10)\n",
    "alphaList"
   ]
  },
  {
   "cell_type": "code",
   "execution_count": 15,
   "id": "vulnerable-measure",
   "metadata": {},
   "outputs": [
    {
     "data": {
      "text/plain": [
       "LassoCV(alphas=array([0.001     , 0.00215443, 0.00464159, 0.01      , 0.02154435,\n",
       "       0.04641589, 0.1       , 0.21544347, 0.46415888, 1.        ]),\n",
       "        cv=5)"
      ]
     },
     "execution_count": 15,
     "metadata": {},
     "output_type": "execute_result"
    }
   ],
   "source": [
    "from sklearn.linear_model import LassoCV\n",
    "lasso = LassoCV(alphas=alphaList,  \n",
    "                   cv=5,       #Number of folds, i.e., K\n",
    "                   max_iter=1000)\n",
    "lasso.fit(train_x, train_y)"
   ]
  },
  {
   "cell_type": "code",
   "execution_count": 16,
   "id": "happy-courage",
   "metadata": {},
   "outputs": [
    {
     "data": {
      "text/plain": [
       "(1572, 3288)"
      ]
     },
     "execution_count": 16,
     "metadata": {},
     "output_type": "execute_result"
    }
   ],
   "source": [
    "train_x.shape"
   ]
  },
  {
   "cell_type": "markdown",
   "id": "robust-cologne",
   "metadata": {},
   "source": [
    "Mean square error is used as the peformance metric to select $\\alpha$\n",
    "\n",
    "More options: https://scikit-learn.org/stable/modules/generated/sklearn.linear_model.LassoCV.html"
   ]
  },
  {
   "cell_type": "code",
   "execution_count": 17,
   "id": "labeled-preference",
   "metadata": {},
   "outputs": [
    {
     "data": {
      "text/plain": [
       "array([1.        , 0.46415888, 0.21544347, 0.1       , 0.04641589,\n",
       "       0.02154435, 0.01      , 0.00464159, 0.00215443, 0.001     ])"
      ]
     },
     "execution_count": 17,
     "metadata": {},
     "output_type": "execute_result"
    }
   ],
   "source": [
    "#The values of alpha\n",
    "lasso.alphas_"
   ]
  },
  {
   "cell_type": "code",
   "execution_count": 18,
   "id": "affected-hostel",
   "metadata": {},
   "outputs": [
    {
     "data": {
      "text/html": [
       "<div>\n",
       "<style scoped>\n",
       "    .dataframe tbody tr th:only-of-type {\n",
       "        vertical-align: middle;\n",
       "    }\n",
       "\n",
       "    .dataframe tbody tr th {\n",
       "        vertical-align: top;\n",
       "    }\n",
       "\n",
       "    .dataframe thead th {\n",
       "        text-align: right;\n",
       "    }\n",
       "</style>\n",
       "<table border=\"1\" class=\"dataframe\">\n",
       "  <thead>\n",
       "    <tr style=\"text-align: right;\">\n",
       "      <th></th>\n",
       "      <th>0</th>\n",
       "      <th>1</th>\n",
       "      <th>2</th>\n",
       "      <th>3</th>\n",
       "      <th>4</th>\n",
       "    </tr>\n",
       "  </thead>\n",
       "  <tbody>\n",
       "    <tr>\n",
       "      <th>0</th>\n",
       "      <td>1.858565</td>\n",
       "      <td>1.856515</td>\n",
       "      <td>1.681165</td>\n",
       "      <td>1.844090</td>\n",
       "      <td>1.897970</td>\n",
       "    </tr>\n",
       "    <tr>\n",
       "      <th>1</th>\n",
       "      <td>1.858565</td>\n",
       "      <td>1.856515</td>\n",
       "      <td>1.681165</td>\n",
       "      <td>1.844090</td>\n",
       "      <td>1.897970</td>\n",
       "    </tr>\n",
       "    <tr>\n",
       "      <th>2</th>\n",
       "      <td>1.858565</td>\n",
       "      <td>1.856515</td>\n",
       "      <td>1.681165</td>\n",
       "      <td>1.844090</td>\n",
       "      <td>1.897970</td>\n",
       "    </tr>\n",
       "    <tr>\n",
       "      <th>3</th>\n",
       "      <td>1.858565</td>\n",
       "      <td>1.856515</td>\n",
       "      <td>1.681165</td>\n",
       "      <td>1.844090</td>\n",
       "      <td>1.897970</td>\n",
       "    </tr>\n",
       "    <tr>\n",
       "      <th>4</th>\n",
       "      <td>1.781279</td>\n",
       "      <td>1.724323</td>\n",
       "      <td>1.587105</td>\n",
       "      <td>1.738906</td>\n",
       "      <td>1.768585</td>\n",
       "    </tr>\n",
       "    <tr>\n",
       "      <th>5</th>\n",
       "      <td>1.541706</td>\n",
       "      <td>1.441899</td>\n",
       "      <td>1.382339</td>\n",
       "      <td>1.473966</td>\n",
       "      <td>1.525415</td>\n",
       "    </tr>\n",
       "    <tr>\n",
       "      <th>6</th>\n",
       "      <td>1.319076</td>\n",
       "      <td>1.161772</td>\n",
       "      <td>1.164415</td>\n",
       "      <td>1.251283</td>\n",
       "      <td>1.258654</td>\n",
       "    </tr>\n",
       "    <tr>\n",
       "      <th>7</th>\n",
       "      <td>1.153450</td>\n",
       "      <td>1.019720</td>\n",
       "      <td>1.030318</td>\n",
       "      <td>1.145698</td>\n",
       "      <td>1.107931</td>\n",
       "    </tr>\n",
       "    <tr>\n",
       "      <th>8</th>\n",
       "      <td>1.058317</td>\n",
       "      <td>0.994872</td>\n",
       "      <td>1.007834</td>\n",
       "      <td>1.146540</td>\n",
       "      <td>1.062429</td>\n",
       "    </tr>\n",
       "    <tr>\n",
       "      <th>9</th>\n",
       "      <td>1.169794</td>\n",
       "      <td>1.157560</td>\n",
       "      <td>1.062615</td>\n",
       "      <td>1.297555</td>\n",
       "      <td>1.149229</td>\n",
       "    </tr>\n",
       "  </tbody>\n",
       "</table>\n",
       "</div>"
      ],
      "text/plain": [
       "          0         1         2         3         4\n",
       "0  1.858565  1.856515  1.681165  1.844090  1.897970\n",
       "1  1.858565  1.856515  1.681165  1.844090  1.897970\n",
       "2  1.858565  1.856515  1.681165  1.844090  1.897970\n",
       "3  1.858565  1.856515  1.681165  1.844090  1.897970\n",
       "4  1.781279  1.724323  1.587105  1.738906  1.768585\n",
       "5  1.541706  1.441899  1.382339  1.473966  1.525415\n",
       "6  1.319076  1.161772  1.164415  1.251283  1.258654\n",
       "7  1.153450  1.019720  1.030318  1.145698  1.107931\n",
       "8  1.058317  0.994872  1.007834  1.146540  1.062429\n",
       "9  1.169794  1.157560  1.062615  1.297555  1.149229"
      ]
     },
     "execution_count": 18,
     "metadata": {},
     "output_type": "execute_result"
    }
   ],
   "source": [
    "#The MSE for each alpha in K folds.\n",
    "pd.DataFrame(lasso.mse_path_)"
   ]
  },
  {
   "cell_type": "code",
   "execution_count": 19,
   "id": "homeless-change",
   "metadata": {
    "scrolled": true
   },
   "outputs": [
    {
     "data": {
      "image/png": "[encoded data removed]",
      "text/plain": [
       "<Figure size 432x288 with 1 Axes>"
      ]
     },
     "metadata": {
      "needs_background": "light"
     },
     "output_type": "display_data"
    }
   ],
   "source": [
    "import matplotlib.pyplot as plt\n",
    "%matplotlib inline\n",
    "plt.plot(np.log10(lasso.alphas_), lasso.mse_path_.mean(axis=1))\n",
    "plt.xlabel('log(alpha)')\n",
    "plt.ylabel('Accuracy')\n",
    "plt.title('Lasso Path')\n",
    "plt.axis('tight')\n",
    "plt.show()"
   ]
  },
  {
   "cell_type": "code",
   "execution_count": 20,
   "id": "dated-limitation",
   "metadata": {},
   "outputs": [
    {
     "data": {
      "text/plain": [
       "0.0021544346900318843"
      ]
     },
     "execution_count": 20,
     "metadata": {},
     "output_type": "execute_result"
    }
   ],
   "source": [
    "#This is the best value of alpha among the candidates.\n",
    "bestalpha=lasso.alpha_\n",
    "bestalpha"
   ]
  },
  {
   "cell_type": "markdown",
   "id": "toxic-shoot",
   "metadata": {},
   "source": [
    "Evaluate the performance using the best $\\alpha$."
   ]
  },
  {
   "cell_type": "code",
   "execution_count": 21,
   "id": "dirty-preference",
   "metadata": {},
   "outputs": [
    {
     "name": "stdout",
     "output_type": "stream",
     "text": [
      "0.8241301945343834\n",
      "\n",
      "1.0165516131639243\n"
     ]
    }
   ],
   "source": [
    "print(mean_squared_error(train_y,lasso.predict(train_x),squared=False))\n",
    "print()\n",
    "print(mean_squared_error(test_y,lasso.predict(test_x),squared=False))"
   ]
  }
 ],
 "metadata": {
  "kernelspec": {
   "display_name": "Python 3 (ipykernel)",
   "language": "python",
   "name": "python3"
  },
  "language_info": {
   "codemirror_mode": {
    "name": "ipython",
    "version": 3
   },
   "file_extension": ".py",
   "mimetype": "text/x-python",
   "name": "python",
   "nbconvert_exporter": "python",
   "pygments_lexer": "ipython3",
   "version": "3.9.1"
  }
 },
 "nbformat": 4,
 "nbformat_minor": 5
}
