{
 "cells": [
  {
   "cell_type": "markdown",
   "id": "8217a28e",
   "metadata": {},
   "source": [
    "# Example - Pickle"
   ]
  },
  {
   "cell_type": "code",
   "execution_count": null,
   "id": "8ac3f159",
   "metadata": {},
   "outputs": [],
   "source": [
    "import pickle\n",
    "f=open('train_x', 'wb') \n",
    "pickle.dump(train_x, f)\n",
    "f.close()\n"
   ]
  },
  {
   "cell_type": "code",
   "execution_count": null,
   "id": "12606752",
   "metadata": {},
   "outputs": [],
   "source": [
    "\n",
    "import pickle\n",
    "f=open('train_x', 'rb') \n",
    "train_x=pickle.load(f)\n",
    "f.close()\n",
    "train_x\n"
   ]
  }
 ],
 "metadata": {
  "kernelspec": {
   "display_name": "Python 3 (ipykernel)",
   "language": "python",
   "name": "python3"
  },
  "language_info": {
   "codemirror_mode": {
    "name": "ipython",
    "version": 3
   },
   "file_extension": ".py",
   "mimetype": "text/x-python",
   "name": "python",
   "nbconvert_exporter": "python",
   "pygments_lexer": "ipython3",
   "version": "3.9.1"
  }
 },
 "nbformat": 4,
 "nbformat_minor": 5
}
