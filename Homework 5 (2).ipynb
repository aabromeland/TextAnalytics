{
 "cells": [
  {
   "cell_type": "markdown",
   "id": "portuguese-baking",
   "metadata": {},
   "source": [
    "# Homework 5 | BAIS:6100"
   ]
  },
  {
   "cell_type": "markdown",
   "id": "former-invitation",
   "metadata": {},
   "source": [
    "1. Scrape the first page on https://iowacity.craigslist.org/search/cta to obtain the headline, price, and date of each post. You also need to obtain the URL link behind each headline, which is the \"href\" attribute of each headline. Save these four sequences of data from scraping in four lists called **headlines**, **prices**, **dates**, and **urls**, respecitvely. Then convert these four lists into a data frame of four columns called **df**. You can name the columns anyway you like.\n",
    "\n",
    "    Due to the special structure of this page, you must \"Copy Full XPath\" instead of just \"Copy XPath\" from the web insepctor. \n",
    "\n",
    "    *Hint: If it is done correctly, you should get 120 results from the page.*"
   ]
  },
  {
   "cell_type": "code",
   "execution_count": 2,
   "id": "attractive-student",
   "metadata": {},
   "outputs": [
    {
     "name": "stdout",
     "output_type": "stream",
     "text": [
      "(120, 4)\n"
     ]
    },
    {
     "data": {
      "text/html": [
       "<div>\n",
       "<style scoped>\n",
       "    .dataframe tbody tr th:only-of-type {\n",
       "        vertical-align: middle;\n",
       "    }\n",
       "\n",
       "    .dataframe tbody tr th {\n",
       "        vertical-align: top;\n",
       "    }\n",
       "\n",
       "    .dataframe thead th {\n",
       "        text-align: right;\n",
       "    }\n",
       "</style>\n",
       "<table border=\"1\" class=\"dataframe\">\n",
       "  <thead>\n",
       "    <tr style=\"text-align: right;\">\n",
       "      <th></th>\n",
       "      <th>headlines</th>\n",
       "      <th>prices</th>\n",
       "      <th>dates</th>\n",
       "      <th>urls</th>\n",
       "    </tr>\n",
       "  </thead>\n",
       "  <tbody>\n",
       "    <tr>\n",
       "      <th>0</th>\n",
       "      <td>2001 F-150</td>\n",
       "      <td>$5,800</td>\n",
       "      <td>2022-07-17 09:48</td>\n",
       "      <td>https://iowacity.craigslist.org/cto/d/iowa-cit...</td>\n",
       "    </tr>\n",
       "    <tr>\n",
       "      <th>1</th>\n",
       "      <td>2021 DODGE RAM 4X4 1owner</td>\n",
       "      <td>$60,850</td>\n",
       "      <td>2022-07-17 09:26</td>\n",
       "      <td>https://iowacity.craigslist.org/cto/d/clinton-...</td>\n",
       "    </tr>\n",
       "    <tr>\n",
       "      <th>2</th>\n",
       "      <td>chevy pickup</td>\n",
       "      <td>$4,000</td>\n",
       "      <td>2022-07-16 19:13</td>\n",
       "      <td>https://iowacity.craigslist.org/cto/d/iowa-cit...</td>\n",
       "    </tr>\n",
       "    <tr>\n",
       "      <th>3</th>\n",
       "      <td>Lincoln Continental</td>\n",
       "      <td>$8,000</td>\n",
       "      <td>2022-07-16 18:06</td>\n",
       "      <td>https://iowacity.craigslist.org/cto/d/north-li...</td>\n",
       "    </tr>\n",
       "    <tr>\n",
       "      <th>4</th>\n",
       "      <td>Economical Car</td>\n",
       "      <td>$3,520</td>\n",
       "      <td>2022-07-16 14:40</td>\n",
       "      <td>https://iowacity.craigslist.org/cto/d/coralvil...</td>\n",
       "    </tr>\n",
       "  </tbody>\n",
       "</table>\n",
       "</div>"
      ],
      "text/plain": [
       "                   headlines   prices             dates  \\\n",
       "0                 2001 F-150   $5,800  2022-07-17 09:48   \n",
       "1  2021 DODGE RAM 4X4 1owner  $60,850  2022-07-17 09:26   \n",
       "2               chevy pickup   $4,000  2022-07-16 19:13   \n",
       "3        Lincoln Continental   $8,000  2022-07-16 18:06   \n",
       "4             Economical Car   $3,520  2022-07-16 14:40   \n",
       "\n",
       "                                                urls  \n",
       "0  https://iowacity.craigslist.org/cto/d/iowa-cit...  \n",
       "1  https://iowacity.craigslist.org/cto/d/clinton-...  \n",
       "2  https://iowacity.craigslist.org/cto/d/iowa-cit...  \n",
       "3  https://iowacity.craigslist.org/cto/d/north-li...  \n",
       "4  https://iowacity.craigslist.org/cto/d/coralvil...  "
      ]
     },
     "execution_count": 2,
     "metadata": {},
     "output_type": "execute_result"
    }
   ],
   "source": [
    "#Your answer here:\n",
    "import requests\n",
    "from lxml import html\n",
    "import pandas as pd\n",
    "\n",
    "URL = 'https://iowacity.craigslist.org/search/cta'\n",
    "page = requests.get(URL) #Download the HTML file through URL.\n",
    "root = html.fromstring(page.content) #Parse the HTML source code and create the tree object.\n",
    "#/html/body/section/form/div[4]/ul/li[1]/div/h3/a\n",
    "#/html/body/section/form/div[4]/ul/li[2]/div/h3/a\n",
    "#/html/body/section/form/div[4]/ul/li[3]/div/h3/a\n",
    "headlines = [s.text_content() for s in root.xpath('/html/body/section/form/div[4]/ul/li/div/h3/a')]\n",
    "urls = [s.attrib['href'] for s in root.xpath('/html/body/section/form/div[4]/ul/li/div/h3/a')]\n",
    "#/html/body/section/form/div[4]/ul/li[1]/div/span[2]/span[1]\n",
    "#/html/body/section/form/div[4]/ul/li[2]/div/span[2]/span[1]\n",
    "#/html/body/section/form/div[4]/ul/li[3]/div/span[2]/span[1]\n",
    "prices = [s.text_content() for s in root.xpath('/html/body/section/form/div[4]/ul/li/div/span[2]/span[1]')]\n",
    "#/html/body/section/form/div[4]/ul/li[1]/div/time\n",
    "#/html/body/section/form/div[4]/ul/li[2]/div/time\n",
    "#/html/body/section/form/div[4]/ul/li[3]/div/time\n",
    "dates = [s.attrib['datetime'] for s in root.xpath('/html/body/section/form/div[4]/ul/li/div/time')]\n",
    "\n",
    "df = pd.DataFrame({'headlines':headlines,'prices':prices,'dates':dates,'urls':urls})\n",
    "\n",
    "\n",
    "#Check your answer\n",
    "print(df.shape)\n",
    "df.head()"
   ]
  },
  {
   "cell_type": "markdown",
   "id": "cc7a37ac",
   "metadata": {},
   "source": [
    "2. Use a for-loop to scrape all pages on https://iowacity.craigslist.org/search/cta to obtain the headline, price, and date of each post. You also need to obtain the URL link behind each headline, which is the \"href\" attribute of each headline. Save these four sequences of data from scraping in four lists called **headlines_all**, **prices_all**, **dates_all** and **urls_all**, respecitvely. Then convert these four lists into a data frame of four columns called **df_all**. You can name the columns anyway you like. Although there are only two pages, you still need to use a for loop.\n",
    "\n",
    "    *Hint: Page 1 is https://iowacity.craigslist.org/search/cta?s=0\n",
    "    Page 2 is\n",
    "    https://iowacity.craigslist.org/search/cta?s=120  How does the URL change?* "
   ]
  },
  {
   "cell_type": "code",
   "execution_count": 4,
   "id": "623f9361",
   "metadata": {
    "scrolled": true
   },
   "outputs": [
    {
     "name": "stdout",
     "output_type": "stream",
     "text": [
      "https://iowacity.craigslist.org/search/cta?s=120\n",
      "(231, 4)\n"
     ]
    },
    {
     "data": {
      "text/html": [
       "<div>\n",
       "<style scoped>\n",
       "    .dataframe tbody tr th:only-of-type {\n",
       "        vertical-align: middle;\n",
       "    }\n",
       "\n",
       "    .dataframe tbody tr th {\n",
       "        vertical-align: top;\n",
       "    }\n",
       "\n",
       "    .dataframe thead th {\n",
       "        text-align: right;\n",
       "    }\n",
       "</style>\n",
       "<table border=\"1\" class=\"dataframe\">\n",
       "  <thead>\n",
       "    <tr style=\"text-align: right;\">\n",
       "      <th></th>\n",
       "      <th>headlines</th>\n",
       "      <th>prices</th>\n",
       "      <th>dates</th>\n",
       "      <th>urls</th>\n",
       "    </tr>\n",
       "  </thead>\n",
       "  <tbody>\n",
       "    <tr>\n",
       "      <th>0</th>\n",
       "      <td>2001 F-150</td>\n",
       "      <td>$5,800</td>\n",
       "      <td>2022-07-17 09:48</td>\n",
       "      <td>https://iowacity.craigslist.org/cto/d/iowa-cit...</td>\n",
       "    </tr>\n",
       "    <tr>\n",
       "      <th>1</th>\n",
       "      <td>2021 DODGE RAM 4X4 1owner</td>\n",
       "      <td>$60,850</td>\n",
       "      <td>2022-07-17 09:26</td>\n",
       "      <td>https://iowacity.craigslist.org/cto/d/clinton-...</td>\n",
       "    </tr>\n",
       "    <tr>\n",
       "      <th>2</th>\n",
       "      <td>chevy pickup</td>\n",
       "      <td>$4,000</td>\n",
       "      <td>2022-07-16 19:13</td>\n",
       "      <td>https://iowacity.craigslist.org/cto/d/iowa-cit...</td>\n",
       "    </tr>\n",
       "    <tr>\n",
       "      <th>3</th>\n",
       "      <td>Lincoln Continental</td>\n",
       "      <td>$8,000</td>\n",
       "      <td>2022-07-16 18:06</td>\n",
       "      <td>https://iowacity.craigslist.org/cto/d/north-li...</td>\n",
       "    </tr>\n",
       "    <tr>\n",
       "      <th>4</th>\n",
       "      <td>Economical Car</td>\n",
       "      <td>$3,520</td>\n",
       "      <td>2022-07-16 14:40</td>\n",
       "      <td>https://iowacity.craigslist.org/cto/d/coralvil...</td>\n",
       "    </tr>\n",
       "  </tbody>\n",
       "</table>\n",
       "</div>"
      ],
      "text/plain": [
       "                   headlines   prices             dates  \\\n",
       "0                 2001 F-150   $5,800  2022-07-17 09:48   \n",
       "1  2021 DODGE RAM 4X4 1owner  $60,850  2022-07-17 09:26   \n",
       "2               chevy pickup   $4,000  2022-07-16 19:13   \n",
       "3        Lincoln Continental   $8,000  2022-07-16 18:06   \n",
       "4             Economical Car   $3,520  2022-07-16 14:40   \n",
       "\n",
       "                                                urls  \n",
       "0  https://iowacity.craigslist.org/cto/d/iowa-cit...  \n",
       "1  https://iowacity.craigslist.org/cto/d/clinton-...  \n",
       "2  https://iowacity.craigslist.org/cto/d/iowa-cit...  \n",
       "3  https://iowacity.craigslist.org/cto/d/north-li...  \n",
       "4  https://iowacity.craigslist.org/cto/d/coralvil...  "
      ]
     },
     "execution_count": 4,
     "metadata": {},
     "output_type": "execute_result"
    }
   ],
   "source": [
    "#Your answer here:\n",
    "import time\n",
    "from IPython.display import display, clear_output\n",
    "\n",
    "baseURL = 'https://iowacity.craigslist.org/search/cta?s='\n",
    "path1 = '/html/body/section/form/div[4]/ul/li/div/h3/a'\n",
    "path2 = '/html/body/section/form/div[4]/ul/li/div/span[2]/span[1]'\n",
    "path3 = '/html/body/section/form/div[4]/ul/li/div/time'\n",
    "headlines_all = []\n",
    "prices_all = []\n",
    "dates_all = []\n",
    "urls_all = []\n",
    "for i in range(2):\n",
    "    URL = baseURL + str(120*i)\n",
    "    page = requests.get(URL)\n",
    "    root = html.fromstring(page.content)\n",
    "    headlines = [s.text_content() for s in root.xpath(path1)]\n",
    "    urls = [s.attrib['href'] for s in root.xpath(path1)]\n",
    "    prices = [s.text_content() for s in root.xpath(path2)]\n",
    "    dates = [s.attrib['datetime'] for s in root.xpath(path3)]\n",
    "    headlines_all.extend(headlines)\n",
    "    prices_all.extend(prices)\n",
    "    dates_all.extend(dates)\n",
    "    urls_all.extend(urls)\n",
    "    time.sleep(2)\n",
    "    clear_output()\n",
    "    print(URL)\n",
    "    if len(headlines)==0:\n",
    "        break\n",
    "\n",
    "df_all = pd.DataFrame({'headlines':headlines_all,\n",
    "                       'prices':prices_all,\n",
    "                       'dates':dates_all,\n",
    "                       'urls':urls_all})      \n",
    "\n",
    "#Check your answer\n",
    "print(df_all.shape)\n",
    "df_all.head()"
   ]
  },
  {
   "cell_type": "markdown",
   "id": "d128873e",
   "metadata": {},
   "source": [
    "3. Save **df_all** into a CSV file called \"IowaCity_Cars.csv\". Do not save the row indexes."
   ]
  },
  {
   "cell_type": "code",
   "execution_count": 5,
   "id": "07542c9c",
   "metadata": {},
   "outputs": [],
   "source": [
    "#Your answer here:\n",
    "df_all.to_csv(\"IowaCity_Cars.csv\",index=False)"
   ]
  }
 ],
 "metadata": {
  "kernelspec": {
   "display_name": "Python 3 (ipykernel)",
   "language": "python",
   "name": "python3"
  },
  "language_info": {
   "codemirror_mode": {
    "name": "ipython",
    "version": 3
   },
   "file_extension": ".py",
   "mimetype": "text/x-python",
   "name": "python",
   "nbconvert_exporter": "python",
   "pygments_lexer": "ipython3",
   "version": "3.9.1"
  }
 },
 "nbformat": 4,
 "nbformat_minor": 5
}
