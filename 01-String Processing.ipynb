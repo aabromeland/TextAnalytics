{
 "cells": [
  {
   "cell_type": "markdown",
   "metadata": {},
   "source": [
    "# Processing Strings with Python | BAIS 6100\n",
    "\n",
    "**Instructor: Qihang Lin**"
   ]
  },
  {
   "cell_type": "markdown",
   "metadata": {},
   "source": [
    "## Create and Read Strings"
   ]
  },
  {
   "cell_type": "markdown",
   "metadata": {},
   "source": [
    "A single-line string is created using single or double quotes."
   ]
  },
  {
   "cell_type": "code",
   "execution_count": 1,
   "metadata": {},
   "outputs": [
    {
     "name": "stdout",
     "output_type": "stream",
     "text": [
      "a character string within double quotes\n"
     ]
    }
   ],
   "source": [
    "mystr = 'a character string within single quotes'\n",
    "mystr = \"a character string within double quotes\"\n",
    "print(mystr)"
   ]
  },
  {
   "cell_type": "markdown",
   "metadata": {},
   "source": [
    "A string with multiple lines can be created using triple single or triple double quotes."
   ]
  },
  {
   "cell_type": "code",
   "execution_count": 2,
   "metadata": {},
   "outputs": [
    {
     "name": "stdout",
     "output_type": "stream",
     "text": [
      "a character \n",
      "string within \n",
      "double quotes\n"
     ]
    }
   ],
   "source": [
    "mystr = \"\"\"a character \n",
    "string within \n",
    "double quotes\"\"\"\n",
    "print(mystr)"
   ]
  },
  {
   "cell_type": "markdown",
   "metadata": {},
   "source": [
    "Text data can be stored in csv, txt, xml, and json files."
   ]
  },
  {
   "cell_type": "markdown",
   "metadata": {},
   "source": [
    "Read text from a csv file into a <b>data frame</b>:"
   ]
  },
  {
   "cell_type": "code",
   "execution_count": 3,
   "metadata": {},
   "outputs": [
    {
     "data": {
      "text/html": [
       "<div>\n",
       "<style scoped>\n",
       "    .dataframe tbody tr th:only-of-type {\n",
       "        vertical-align: middle;\n",
       "    }\n",
       "\n",
       "    .dataframe tbody tr th {\n",
       "        vertical-align: top;\n",
       "    }\n",
       "\n",
       "    .dataframe thead th {\n",
       "        text-align: right;\n",
       "    }\n",
       "</style>\n",
       "<table border=\"1\" class=\"dataframe\">\n",
       "  <thead>\n",
       "    <tr style=\"text-align: right;\">\n",
       "      <th></th>\n",
       "      <th>Catchphrase</th>\n",
       "      <th>Movie Name</th>\n",
       "      <th>Context</th>\n",
       "    </tr>\n",
       "  </thead>\n",
       "  <tbody>\n",
       "    <tr>\n",
       "      <th>0</th>\n",
       "      <td>Beetlejuice, Beetlejuice, Beetlejuice!</td>\n",
       "      <td>BEETLEJUICE</td>\n",
       "      <td>Lydia, summoning Beetlejuice</td>\n",
       "    </tr>\n",
       "    <tr>\n",
       "      <th>1</th>\n",
       "      <td>It's showtime!</td>\n",
       "      <td>BEETLEJUICE</td>\n",
       "      <td>Beetlejuice, being summoned.</td>\n",
       "    </tr>\n",
       "    <tr>\n",
       "      <th>2</th>\n",
       "      <td>They're heeeere!</td>\n",
       "      <td>POLTERGEIST</td>\n",
       "      <td>Carol Anne Freeling, notifying her parents of...</td>\n",
       "    </tr>\n",
       "    <tr>\n",
       "      <th>3</th>\n",
       "      <td>Hey you guys!</td>\n",
       "      <td>THE GOONIES</td>\n",
       "      <td>Sloth, calling the attention of the children ...</td>\n",
       "    </tr>\n",
       "    <tr>\n",
       "      <th>4</th>\n",
       "      <td>Good morning, Vietnam!</td>\n",
       "      <td>GOOD MORNING, VIETNAM</td>\n",
       "      <td>Adrian Cronauer's greeting on his radio show</td>\n",
       "    </tr>\n",
       "  </tbody>\n",
       "</table>\n",
       "</div>"
      ],
      "text/plain": [
       "                              Catchphrase              Movie Name  \\\n",
       "0  Beetlejuice, Beetlejuice, Beetlejuice!             BEETLEJUICE   \n",
       "1                          It's showtime!             BEETLEJUICE   \n",
       "2                        They're heeeere!             POLTERGEIST   \n",
       "3                           Hey you guys!             THE GOONIES   \n",
       "4                  Good morning, Vietnam!   GOOD MORNING, VIETNAM   \n",
       "\n",
       "                                             Context  \n",
       "0                       Lydia, summoning Beetlejuice  \n",
       "1                       Beetlejuice, being summoned.  \n",
       "2   Carol Anne Freeling, notifying her parents of...  \n",
       "3   Sloth, calling the attention of the children ...  \n",
       "4       Adrian Cronauer's greeting on his radio show  "
      ]
     },
     "execution_count": 3,
     "metadata": {},
     "output_type": "execute_result"
    }
   ],
   "source": [
    "import pandas as pd\n",
    "df = pd.read_csv('classdata/Catchphrase.csv')\n",
    "df.head()"
   ]
  },
  {
   "cell_type": "markdown",
   "metadata": {},
   "source": [
    "Read text from a txt file into a single string:"
   ]
  },
  {
   "cell_type": "code",
   "execution_count": 4,
   "metadata": {},
   "outputs": [
    {
     "data": {
      "text/plain": [
       "'Hi Everyone,\\n\\nI have uploaded the data file to our IDAS server. You can find it in the directory\\n\\t\"classdata\\\\homework\\\\hw1\"\\n   \\nLet me know if you have any questions.\\n\\nBest,\\nQihang\\n'"
      ]
     },
     "execution_count": 4,
     "metadata": {},
     "output_type": "execute_result"
    }
   ],
   "source": [
    "file = open(\"classdata/OneEmail.txt\", mode=\"r\")     # open a file in read mode.\n",
    "text = file.read()                                  # read the entire txt file without splitting lines.\n",
    "file.close()                                        # close the file.\n",
    "text"
   ]
  },
  {
   "cell_type": "markdown",
   "metadata": {},
   "source": [
    "Read text from a txt file into a list of strings (split on each new line):"
   ]
  },
  {
   "cell_type": "code",
   "execution_count": 5,
   "metadata": {},
   "outputs": [
    {
     "data": {
      "text/plain": [
       "['Hi Everyone,\\n',\n",
       " '\\n',\n",
       " 'I have uploaded the data file to our IDAS server. You can find it in the directory\\n',\n",
       " '\\t\"classdata\\\\homework\\\\hw1\"\\n',\n",
       " '   \\n',\n",
       " 'Let me know if you have any questions.\\n',\n",
       " '\\n',\n",
       " 'Best,\\n',\n",
       " 'Qihang\\n']"
      ]
     },
     "execution_count": 5,
     "metadata": {},
     "output_type": "execute_result"
    }
   ],
   "source": [
    "file = open(\"classdata/OneEmail.txt\", mode=\"r\")     # open a file in read mode.\n",
    "text = file.readlines()                             # read the txt file with lines splitted.\n",
    "file.close()                                        # close the file.\n",
    "text"
   ]
  },
  {
   "cell_type": "markdown",
   "metadata": {},
   "source": [
    "## Unicode and UTF-8"
   ]
  },
  {
   "cell_type": "markdown",
   "metadata": {},
   "source": [
    "ASCII uses 7 bits to encode 128 specified characters, including the digits, letters, punctuation symbols, and some non-printing control codes such as the carriage return, line feed and tab."
   ]
  },
  {
   "cell_type": "markdown",
   "metadata": {},
   "source": [
    "Non-ASCII characters are very common in text data. \n",
    "- Non-english character: Elektrizität, Électricité, बिजली, 전기, 电\n",
    "- Emoji: 😀, 😂, 😷\n",
    "- Math: ⊂, ∈, ⊗, ⊥, ∮"
   ]
  },
  {
   "cell_type": "markdown",
   "metadata": {},
   "source": [
    "A big table is created to map characters from all languages into numbers. This big table that holds almost everything is called <b>Unicode</b>. \n",
    "\n",
    "An <b>encoding</b> scheme is needed to translate between those numbers  and  bits. In many cases, the default encoding is 'utf-8'. Other encodings include 'latin-1', 'utf-16', and 'utf-32'."
   ]
  },
  {
   "cell_type": "code",
   "execution_count": 6,
   "metadata": {},
   "outputs": [
    {
     "data": {
      "text/plain": [
       "'11110000100111111001100010000000'"
      ]
     },
     "execution_count": 6,
     "metadata": {},
     "output_type": "execute_result"
    }
   ],
   "source": [
    "# Convert a character to its utf-8 code.\n",
    "f'{int(\"😀\".encode(\"utf-8\").hex(), 16):b}'"
   ]
  },
  {
   "cell_type": "code",
   "execution_count": 7,
   "metadata": {},
   "outputs": [
    {
     "data": {
      "text/plain": [
       "'1100001110100100'"
      ]
     },
     "execution_count": 7,
     "metadata": {},
     "output_type": "execute_result"
    }
   ],
   "source": [
    "# Convert a character to its utf-8 code.\n",
    "f'{int(\"ä\".encode(\"utf-8\").hex(), 16):b}'"
   ]
  },
  {
   "cell_type": "markdown",
   "metadata": {},
   "source": [
    "In the following example, encoding scheme \"latin-1\" is needed to load this file successfully."
   ]
  },
  {
   "cell_type": "code",
   "execution_count": 8,
   "metadata": {
    "scrolled": true
   },
   "outputs": [
    {
     "data": {
      "text/plain": [
       "'This is where grown ups come to drink.\\r\\n\\r\\nTucked away above Short\\'s, Clinton St. is a wonderful find here in Iowa City. The ambiance is great, with a retro warehouse feel and beautiful views out onto the Pentacrest. Their real attraction is the drinks list: many interesting cocktails, my personal favorite being the Grandpa\\'s Coffin (bourbon, scotch, locally made apple brandy, and bitters). They also have a \"Murderer\\'s Row\" of high-end whiskey should that strike your fancy. I\\'d say this place competes with Devotay for best cocktails in Iowa City. They also have a well-chosen, if small, beer list, and I have had good times with their wines.\\r\\n\\r\\nThe food has been very good. Last night, I had their smoked salmon nicoise salad, which had excellent flavor, and my wife had a tasty vegetarian quiche. They used to carry a really flavorful veggie burger, but appear to have dropped that from the menu within the past couple of months. On another visit, the salmon entrée was also good, though less memorable than the nicoise salad.\\r\\n\\r\\nWhat\\'s neat about this place is that it\\'s consciously striving to be a new cultural hub downtown. During a visit for Mission Creek I saw that they hosted jazz and poetry readings. They also have darts and pool tables off in side rooms, in a perfect environment for that kind of thing. I see lots of young professionals and UI faculty here, to give an indication of clientele. I will be returning, frequently.'"
      ]
     },
     "execution_count": 8,
     "metadata": {},
     "output_type": "execute_result"
    }
   ],
   "source": [
    "import pandas as pd\n",
    "df = pd.read_csv('classdata/clinton-street-social-club.csv', encoding=\"latin-1\")  \n",
    "df[\"reviews\"][77]    # Word \"entrée\"  causes the problem."
   ]
  },
  {
   "cell_type": "markdown",
   "metadata": {},
   "source": [
    "## Escape Sequence"
   ]
  },
  {
   "cell_type": "markdown",
   "metadata": {},
   "source": [
    "Open “OneEmail.txt” in a text editor and compare it with variable <b>text</b> above. What are the differences?"
   ]
  },
  {
   "cell_type": "markdown",
   "metadata": {},
   "source": [
    "Backslash <b>(\\\\)</b> does not have its literal meaning in Python. It is an <b>escape character</b>, which is a character that alters the meaning of the following character.\n",
    "\n",
    "<b>Escape sequence</b> consists of '\\\\' and the following character. Some common examples:\n",
    "- \\\\n: newline\n",
    "- \\\\r: carriage return\n",
    "- \\\\t: tab\n",
    "- \\\\\\\\: backslash\n",
    "- \\\\': single quote '\n",
    "- \\\\\": double quotes \""
   ]
  },
  {
   "cell_type": "code",
   "execution_count": 9,
   "metadata": {
    "scrolled": true
   },
   "outputs": [
    {
     "name": "stdout",
     "output_type": "stream",
     "text": [
      "'\tBefore'\n",
      "\"After\\\"\n"
     ]
    }
   ],
   "source": [
    "mystr = \"\\'\\tBefore\\'\\n\\\"After\\\\\\\"\"\n",
    "file = open(\"test.txt\", mode=\"w\") \n",
    "file.write(mystr)                               # See what is in test.txt.\n",
    "file.close()  \n",
    "print(mystr)                                    # Or see what is printed."
   ]
  },
  {
   "cell_type": "markdown",
   "metadata": {},
   "source": [
    "## Raw String"
   ]
  },
  {
   "cell_type": "markdown",
   "metadata": {},
   "source": [
    "Raw string is created by prefixing a string literal with 'r' or 'R'. \n",
    "\n",
    "Raw string treats '\\\\' as a literal character. This is useful when we want to have a string that contains backslash and don't want it to be treated as an escape character."
   ]
  },
  {
   "cell_type": "code",
   "execution_count": 10,
   "metadata": {},
   "outputs": [
    {
     "name": "stdout",
     "output_type": "stream",
     "text": [
      "\\'\\tBefore\\'\\n\\\"After\\\\\\\"\n"
     ]
    }
   ],
   "source": [
    "mystr = r\"\\'\\tBefore\\'\\n\\\"After\\\\\\\"\"\n",
    "file = open(\"test.txt\", mode=\"w\") \n",
    "file.write(mystr)                               # See what is in test.txt.\n",
    "file.close()  \n",
    "print(mystr)                                    # Or see what is printed."
   ]
  },
  {
   "cell_type": "markdown",
   "metadata": {},
   "source": [
    "## Basic String Methods"
   ]
  },
  {
   "cell_type": "markdown",
   "metadata": {},
   "source": [
    "Python has built-in methods (functions) for processing a string."
   ]
  },
  {
   "cell_type": "code",
   "execution_count": 11,
   "metadata": {},
   "outputs": [],
   "source": [
    "mystr=\"\\\"IDAS\\\"\""
   ]
  },
  {
   "cell_type": "markdown",
   "metadata": {},
   "source": [
    "Count the number of characters in a string."
   ]
  },
  {
   "cell_type": "code",
   "execution_count": 12,
   "metadata": {},
   "outputs": [
    {
     "data": {
      "text/plain": [
       "6"
      ]
     },
     "execution_count": 12,
     "metadata": {},
     "output_type": "execute_result"
    }
   ],
   "source": [
    "len(mystr)"
   ]
  },
  {
   "cell_type": "markdown",
   "metadata": {},
   "source": [
    "Get the substring by the positions of start and end."
   ]
  },
  {
   "cell_type": "code",
   "execution_count": 13,
   "metadata": {},
   "outputs": [
    {
     "data": {
      "text/plain": [
       "'DA'"
      ]
     },
     "execution_count": 13,
     "metadata": {},
     "output_type": "execute_result"
    }
   ],
   "source": [
    "mystr[2:4]"
   ]
  },
  {
   "cell_type": "markdown",
   "metadata": {},
   "source": [
    "Split the string at the specified separator and returns a <b>list</b>."
   ]
  },
  {
   "cell_type": "code",
   "execution_count": 14,
   "metadata": {
    "scrolled": true
   },
   "outputs": [
    {
     "data": {
      "text/plain": [
       "['I',\n",
       " 'have',\n",
       " 'uploaded',\n",
       " 'the',\n",
       " 'data',\n",
       " 'file',\n",
       " 'to',\n",
       " 'our',\n",
       " 'IDAS',\n",
       " 'server.']"
      ]
     },
     "execution_count": 14,
     "metadata": {},
     "output_type": "execute_result"
    }
   ],
   "source": [
    "mystr=\"I have uploaded the data file to our IDAS server.\"\n",
    "mystr.split()"
   ]
  },
  {
   "cell_type": "markdown",
   "metadata": {},
   "source": [
    "Join multiple strings into one."
   ]
  },
  {
   "cell_type": "code",
   "execution_count": 15,
   "metadata": {},
   "outputs": [
    {
     "data": {
      "text/plain": [
       "'Text mining'"
      ]
     },
     "execution_count": 15,
     "metadata": {},
     "output_type": "execute_result"
    }
   ],
   "source": [
    "mystr = \"Text\" + \" \" + \"mining\"\n",
    "mystr "
   ]
  },
  {
   "cell_type": "code",
   "execution_count": 16,
   "metadata": {},
   "outputs": [
    {
     "data": {
      "text/plain": [
       "'Text mining is useful!'"
      ]
     },
     "execution_count": 16,
     "metadata": {},
     "output_type": "execute_result"
    }
   ],
   "source": [
    "mystr = mystr + \" \" + \"is useful!\"\n",
    "mystr"
   ]
  },
  {
   "cell_type": "code",
   "execution_count": 17,
   "metadata": {},
   "outputs": [
    {
     "data": {
      "text/plain": [
       "'Text-mining-is-useful!'"
      ]
     },
     "execution_count": 17,
     "metadata": {},
     "output_type": "execute_result"
    }
   ],
   "source": [
    "mystr=[\"Text\", \"mining\", \"is\", \"useful!\"]\n",
    "\"-\".join(mystr)"
   ]
  },
  {
   "cell_type": "markdown",
   "metadata": {},
   "source": [
    "Search a substring and returns the position of where it was found. \n",
    "\n",
    "<b>Warning:</b> If there are multiple matches, it only returns the position of the first one. If no match, it returns \"-1\"."
   ]
  },
  {
   "cell_type": "code",
   "execution_count": 18,
   "metadata": {},
   "outputs": [
    {
     "data": {
      "text/plain": [
       "43"
      ]
     },
     "execution_count": 18,
     "metadata": {},
     "output_type": "execute_result"
    }
   ],
   "source": [
    "mystr=\"I have uploaded the data file to our IDAS server.\"\n",
    "mystr.find(\"er\")"
   ]
  },
  {
   "cell_type": "markdown",
   "metadata": {},
   "source": [
    "Replace a substring by another."
   ]
  },
  {
   "cell_type": "code",
   "execution_count": 19,
   "metadata": {
    "scrolled": true
   },
   "outputs": [
    {
     "data": {
      "text/plain": [
       "'I have uploaded the course project to our IDAS server.'"
      ]
     },
     "execution_count": 19,
     "metadata": {},
     "output_type": "execute_result"
    }
   ],
   "source": [
    "mystr.replace(\"data file\", \"course project\")"
   ]
  },
  {
   "cell_type": "markdown",
   "metadata": {},
   "source": [
    "Case conversion"
   ]
  },
  {
   "cell_type": "code",
   "execution_count": 20,
   "metadata": {},
   "outputs": [
    {
     "data": {
      "text/plain": [
       "'I HAVE UPLOADED THE DATA FILE TO OUR IDAS SERVER.'"
      ]
     },
     "execution_count": 20,
     "metadata": {},
     "output_type": "execute_result"
    }
   ],
   "source": [
    "mystr.upper()"
   ]
  },
  {
   "cell_type": "code",
   "execution_count": 21,
   "metadata": {},
   "outputs": [
    {
     "data": {
      "text/plain": [
       "'i have uploaded the data file to our idas server.'"
      ]
     },
     "execution_count": 21,
     "metadata": {},
     "output_type": "execute_result"
    }
   ],
   "source": [
    "mystr.lower()"
   ]
  },
  {
   "cell_type": "markdown",
   "metadata": {},
   "source": [
    "Note: All string methods return new values but do not change the original string unless we overwrite the original string variable. "
   ]
  },
  {
   "cell_type": "code",
   "execution_count": 22,
   "metadata": {},
   "outputs": [
    {
     "data": {
      "text/plain": [
       "'I have uploaded the data file to our IDAS server.'"
      ]
     },
     "execution_count": 22,
     "metadata": {},
     "output_type": "execute_result"
    }
   ],
   "source": [
    "#not overwrite \n",
    "mystr=\"I have uploaded the data file to our IDAS server.\"\n",
    "mystr.lower()\n",
    "mystr"
   ]
  },
  {
   "cell_type": "code",
   "execution_count": 23,
   "metadata": {},
   "outputs": [
    {
     "data": {
      "text/plain": [
       "'i have uploaded the data file to our idas server.'"
      ]
     },
     "execution_count": 23,
     "metadata": {},
     "output_type": "execute_result"
    }
   ],
   "source": [
    "#overwrite \n",
    "mystr=\"I have uploaded the data file to our IDAS server.\"\n",
    "mystr = mystr.lower()\n",
    "mystr"
   ]
  },
  {
   "cell_type": "markdown",
   "metadata": {},
   "source": [
    "We only show a few examples above. See https://www.w3schools.com/python/python_ref_string.asp for a complete list of basic string methods."
   ]
  },
  {
   "cell_type": "markdown",
   "metadata": {},
   "source": [
    "## Process Strings in a Column "
   ]
  },
  {
   "cell_type": "markdown",
   "metadata": {},
   "source": [
    "The documents we want to analyze are often stored in a column of a data frame. Next, we will learn to how to apply string functions to each document in a column (also called a series)."
   ]
  },
  {
   "cell_type": "markdown",
   "metadata": {},
   "source": [
    "Take a quick look at the data by showing its first five rows."
   ]
  },
  {
   "cell_type": "code",
   "execution_count": 24,
   "metadata": {},
   "outputs": [
    {
     "data": {
      "text/html": [
       "<div>\n",
       "<style scoped>\n",
       "    .dataframe tbody tr th:only-of-type {\n",
       "        vertical-align: middle;\n",
       "    }\n",
       "\n",
       "    .dataframe tbody tr th {\n",
       "        vertical-align: top;\n",
       "    }\n",
       "\n",
       "    .dataframe thead th {\n",
       "        text-align: right;\n",
       "    }\n",
       "</style>\n",
       "<table border=\"1\" class=\"dataframe\">\n",
       "  <thead>\n",
       "    <tr style=\"text-align: right;\">\n",
       "      <th></th>\n",
       "      <th>reviews</th>\n",
       "      <th>ratings</th>\n",
       "    </tr>\n",
       "  </thead>\n",
       "  <tbody>\n",
       "    <tr>\n",
       "      <th>0</th>\n",
       "      <td>With its jazzy vibes and chill atmosphere, Cli...</td>\n",
       "      <td>5</td>\n",
       "    </tr>\n",
       "    <tr>\n",
       "      <th>1</th>\n",
       "      <td>This was an exceptional surprise in Iowa city!...</td>\n",
       "      <td>5</td>\n",
       "    </tr>\n",
       "    <tr>\n",
       "      <th>2</th>\n",
       "      <td>There is no other place in town like CSSC. If ...</td>\n",
       "      <td>5</td>\n",
       "    </tr>\n",
       "    <tr>\n",
       "      <th>3</th>\n",
       "      <td>Tucked away through a narrow staircase like a ...</td>\n",
       "      <td>5</td>\n",
       "    </tr>\n",
       "    <tr>\n",
       "      <th>4</th>\n",
       "      <td>Love. Love. Love. If you're older than the col...</td>\n",
       "      <td>5</td>\n",
       "    </tr>\n",
       "  </tbody>\n",
       "</table>\n",
       "</div>"
      ],
      "text/plain": [
       "                                             reviews  ratings\n",
       "0  With its jazzy vibes and chill atmosphere, Cli...        5\n",
       "1  This was an exceptional surprise in Iowa city!...        5\n",
       "2  There is no other place in town like CSSC. If ...        5\n",
       "3  Tucked away through a narrow staircase like a ...        5\n",
       "4  Love. Love. Love. If you're older than the col...        5"
      ]
     },
     "execution_count": 24,
     "metadata": {},
     "output_type": "execute_result"
    }
   ],
   "source": [
    "df = pd.read_csv('classdata/clinton-street-social-club.csv', encoding=\"latin-1\")  \n",
    "df.head()"
   ]
  },
  {
   "cell_type": "markdown",
   "metadata": {},
   "source": [
    "Each column of a data frame is also called <b>series</b>. The example below is column \"reviews\"."
   ]
  },
  {
   "cell_type": "code",
   "execution_count": 25,
   "metadata": {},
   "outputs": [
    {
     "data": {
      "text/plain": [
       "0      With its jazzy vibes and chill atmosphere, Cli...\n",
       "1      This was an exceptional surprise in Iowa city!...\n",
       "2      There is no other place in town like CSSC. If ...\n",
       "3      Tucked away through a narrow staircase like a ...\n",
       "4      Love. Love. Love. If you're older than the col...\n",
       "                             ...                        \n",
       "127    The food was not good and service was not frie...\n",
       "128    Wow have times changed in downtown Iowa City. ...\n",
       "129    Great building. Loved the big windows overlook...\n",
       "130    Love the food, love the service. If you are in...\n",
       "131    Dinner and cocktails on a Friday night. Place ...\n",
       "Name: reviews, Length: 132, dtype: object"
      ]
     },
     "execution_count": 25,
     "metadata": {},
     "output_type": "execute_result"
    }
   ],
   "source": [
    "df[\"reviews\"]"
   ]
  },
  {
   "cell_type": "markdown",
   "metadata": {},
   "source": [
    "### List Comprehension Method"
   ]
  },
  {
   "cell_type": "markdown",
   "metadata": {},
   "source": [
    "Return the number of characters in each review in a list using <b>list comprehension</b>."
   ]
  },
  {
   "cell_type": "code",
   "execution_count": 26,
   "metadata": {},
   "outputs": [
    {
     "data": {
      "text/plain": [
       "[967,\n",
       " 387,\n",
       " 733,\n",
       " 606,\n",
       " 586,\n",
       " 307,\n",
       " 824,\n",
       " 917,\n",
       " 377,\n",
       " 583,\n",
       " 642,\n",
       " 288,\n",
       " 388,\n",
       " 466,\n",
       " 1774,\n",
       " 881,\n",
       " 981,\n",
       " 496,\n",
       " 336,\n",
       " 1304,\n",
       " 1073,\n",
       " 314,\n",
       " 512,\n",
       " 305,\n",
       " 761,\n",
       " 191,\n",
       " 1218,\n",
       " 442,\n",
       " 969,\n",
       " 158,\n",
       " 230,\n",
       " 198,\n",
       " 1599,\n",
       " 99,\n",
       " 256,\n",
       " 362,\n",
       " 562,\n",
       " 1416,\n",
       " 3485,\n",
       " 169,\n",
       " 1328,\n",
       " 1083,\n",
       " 1056,\n",
       " 106,\n",
       " 313,\n",
       " 1014,\n",
       " 923,\n",
       " 472,\n",
       " 544,\n",
       " 530,\n",
       " 520,\n",
       " 190,\n",
       " 213,\n",
       " 410,\n",
       " 394,\n",
       " 469,\n",
       " 793,\n",
       " 671,\n",
       " 180,\n",
       " 480,\n",
       " 101,\n",
       " 228,\n",
       " 243,\n",
       " 841,\n",
       " 1304,\n",
       " 384,\n",
       " 1910,\n",
       " 214,\n",
       " 154,\n",
       " 519,\n",
       " 493,\n",
       " 563,\n",
       " 214,\n",
       " 1473,\n",
       " 399,\n",
       " 1036,\n",
       " 215,\n",
       " 1444,\n",
       " 762,\n",
       " 518,\n",
       " 620,\n",
       " 297,\n",
       " 90,\n",
       " 246,\n",
       " 3202,\n",
       " 1301,\n",
       " 591,\n",
       " 232,\n",
       " 174,\n",
       " 251,\n",
       " 1036,\n",
       " 294,\n",
       " 1279,\n",
       " 260,\n",
       " 265,\n",
       " 400,\n",
       " 1403,\n",
       " 582,\n",
       " 89,\n",
       " 570,\n",
       " 453,\n",
       " 752,\n",
       " 508,\n",
       " 2352,\n",
       " 2702,\n",
       " 1137,\n",
       " 69,\n",
       " 211,\n",
       " 143,\n",
       " 199,\n",
       " 417,\n",
       " 104,\n",
       " 755,\n",
       " 1056,\n",
       " 3545,\n",
       " 633,\n",
       " 457,\n",
       " 1216,\n",
       " 529,\n",
       " 146,\n",
       " 298,\n",
       " 1597,\n",
       " 37,\n",
       " 340,\n",
       " 92,\n",
       " 123,\n",
       " 675,\n",
       " 87,\n",
       " 595,\n",
       " 531,\n",
       " 146,\n",
       " 1152]"
      ]
     },
     "execution_count": 26,
     "metadata": {},
     "output_type": "execute_result"
    }
   ],
   "source": [
    "[len(s) for s in df[\"reviews\"]]"
   ]
  },
  {
   "cell_type": "markdown",
   "metadata": {},
   "source": [
    "See another example below where we created a list boolean values saying if each review contains the keyword \"food\"."
   ]
  },
  {
   "cell_type": "code",
   "execution_count": 27,
   "metadata": {},
   "outputs": [
    {
     "data": {
      "text/plain": [
       "[True,\n",
       " False,\n",
       " False,\n",
       " True,\n",
       " True,\n",
       " False,\n",
       " True,\n",
       " True,\n",
       " False,\n",
       " True,\n",
       " False,\n",
       " False,\n",
       " False,\n",
       " True,\n",
       " True,\n",
       " True,\n",
       " True,\n",
       " True,\n",
       " False,\n",
       " True,\n",
       " True,\n",
       " False,\n",
       " True,\n",
       " False,\n",
       " False,\n",
       " False,\n",
       " True,\n",
       " True,\n",
       " True,\n",
       " False,\n",
       " False,\n",
       " True,\n",
       " False,\n",
       " False,\n",
       " True,\n",
       " False,\n",
       " False,\n",
       " True,\n",
       " True,\n",
       " False,\n",
       " False,\n",
       " False,\n",
       " True,\n",
       " False,\n",
       " True,\n",
       " True,\n",
       " False,\n",
       " True,\n",
       " False,\n",
       " False,\n",
       " False,\n",
       " False,\n",
       " True,\n",
       " False,\n",
       " False,\n",
       " True,\n",
       " False,\n",
       " False,\n",
       " False,\n",
       " True,\n",
       " False,\n",
       " True,\n",
       " True,\n",
       " True,\n",
       " True,\n",
       " True,\n",
       " True,\n",
       " True,\n",
       " False,\n",
       " False,\n",
       " False,\n",
       " False,\n",
       " False,\n",
       " True,\n",
       " True,\n",
       " True,\n",
       " True,\n",
       " True,\n",
       " False,\n",
       " False,\n",
       " True,\n",
       " False,\n",
       " False,\n",
       " False,\n",
       " True,\n",
       " False,\n",
       " True,\n",
       " False,\n",
       " True,\n",
       " True,\n",
       " True,\n",
       " False,\n",
       " False,\n",
       " True,\n",
       " False,\n",
       " True,\n",
       " False,\n",
       " False,\n",
       " True,\n",
       " False,\n",
       " False,\n",
       " True,\n",
       " True,\n",
       " True,\n",
       " True,\n",
       " True,\n",
       " True,\n",
       " True,\n",
       " True,\n",
       " True,\n",
       " True,\n",
       " False,\n",
       " False,\n",
       " True,\n",
       " True,\n",
       " True,\n",
       " False,\n",
       " False,\n",
       " False,\n",
       " True,\n",
       " False,\n",
       " False,\n",
       " False,\n",
       " False,\n",
       " False,\n",
       " False,\n",
       " True,\n",
       " True,\n",
       " False,\n",
       " True,\n",
       " True,\n",
       " False]"
      ]
     },
     "execution_count": 27,
     "metadata": {},
     "output_type": "execute_result"
    }
   ],
   "source": [
    "[s.find(\"food\")>=0 for s in df[\"reviews\"]]"
   ]
  },
  {
   "cell_type": "markdown",
   "metadata": {},
   "source": [
    "A boolean list is often used to select rows from a dataframe. For example, we can select all rows from a dataframe where the reivew mentions \"food\"."
   ]
  },
  {
   "cell_type": "code",
   "execution_count": 28,
   "metadata": {},
   "outputs": [
    {
     "data": {
      "text/html": [
       "<div>\n",
       "<style scoped>\n",
       "    .dataframe tbody tr th:only-of-type {\n",
       "        vertical-align: middle;\n",
       "    }\n",
       "\n",
       "    .dataframe tbody tr th {\n",
       "        vertical-align: top;\n",
       "    }\n",
       "\n",
       "    .dataframe thead th {\n",
       "        text-align: right;\n",
       "    }\n",
       "</style>\n",
       "<table border=\"1\" class=\"dataframe\">\n",
       "  <thead>\n",
       "    <tr style=\"text-align: right;\">\n",
       "      <th></th>\n",
       "      <th>reviews</th>\n",
       "      <th>ratings</th>\n",
       "    </tr>\n",
       "  </thead>\n",
       "  <tbody>\n",
       "    <tr>\n",
       "      <th>0</th>\n",
       "      <td>With its jazzy vibes and chill atmosphere, Cli...</td>\n",
       "      <td>5</td>\n",
       "    </tr>\n",
       "    <tr>\n",
       "      <th>1</th>\n",
       "      <td>Tucked away through a narrow staircase like a ...</td>\n",
       "      <td>5</td>\n",
       "    </tr>\n",
       "    <tr>\n",
       "      <th>2</th>\n",
       "      <td>Love. Love. Love. If you're older than the col...</td>\n",
       "      <td>5</td>\n",
       "    </tr>\n",
       "    <tr>\n",
       "      <th>3</th>\n",
       "      <td>This place has the coolest vibe! It has that s...</td>\n",
       "      <td>5</td>\n",
       "    </tr>\n",
       "    <tr>\n",
       "      <th>4</th>\n",
       "      <td>Fantastic. Feels like you are stepping back in...</td>\n",
       "      <td>5</td>\n",
       "    </tr>\n",
       "  </tbody>\n",
       "</table>\n",
       "</div>"
      ],
      "text/plain": [
       "                                             reviews  ratings\n",
       "0  With its jazzy vibes and chill atmosphere, Cli...        5\n",
       "1  Tucked away through a narrow staircase like a ...        5\n",
       "2  Love. Love. Love. If you're older than the col...        5\n",
       "3  This place has the coolest vibe! It has that s...        5\n",
       "4  Fantastic. Feels like you are stepping back in...        5"
      ]
     },
     "execution_count": 28,
     "metadata": {},
     "output_type": "execute_result"
    }
   ],
   "source": [
    "rowselected = [s.find(\"food\")>=0 for s in df[\"reviews\"]]\n",
    "dffood = df[rowselected].copy()                    #Copy() is used to avoid any link between dffood and df. \n",
    "dffood.reset_index(inplace=True, drop=True)        #Reset row index so we can select rows in dffood by more intuitive index.\n",
    "dffood.head()"
   ]
  },
  {
   "cell_type": "markdown",
   "metadata": {},
   "source": [
    "### \".str\" Method"
   ]
  },
  {
   "cell_type": "markdown",
   "metadata": {},
   "source": [
    "Just like a single string, a string series also has its own built-in methods for various processes. We need to add <b>.str</b> after the column in order to access those string methods."
   ]
  },
  {
   "cell_type": "markdown",
   "metadata": {},
   "source": [
    "Check which reviews mention \"food\"."
   ]
  },
  {
   "cell_type": "code",
   "execution_count": 29,
   "metadata": {},
   "outputs": [
    {
     "data": {
      "text/plain": [
       "0       True\n",
       "1      False\n",
       "2      False\n",
       "3       True\n",
       "4       True\n",
       "       ...  \n",
       "127     True\n",
       "128    False\n",
       "129     True\n",
       "130     True\n",
       "131    False\n",
       "Name: reviews, Length: 132, dtype: bool"
      ]
     },
     "execution_count": 29,
     "metadata": {},
     "output_type": "execute_result"
    }
   ],
   "source": [
    "df[\"reviews\"].str.find(\"food\")>=0"
   ]
  },
  {
   "cell_type": "markdown",
   "metadata": {},
   "source": [
    "\".str\" has some functions the basic method does not have, for example, \"contains\"."
   ]
  },
  {
   "cell_type": "code",
   "execution_count": 30,
   "metadata": {
    "scrolled": true
   },
   "outputs": [
    {
     "data": {
      "text/plain": [
       "0       True\n",
       "1       True\n",
       "2       True\n",
       "3       True\n",
       "4       True\n",
       "       ...  \n",
       "127     True\n",
       "128    False\n",
       "129     True\n",
       "130     True\n",
       "131    False\n",
       "Name: reviews, Length: 132, dtype: bool"
      ]
     },
     "execution_count": 30,
     "metadata": {},
     "output_type": "execute_result"
    }
   ],
   "source": [
    "df[\"reviews\"].str.contains(\"food\", case=False)\n",
    "#This search is case insensitive. To do case-sensitive search, use: \n",
    "#df[\"reviews\"].str.contains(\"food\", case=True)"
   ]
  },
  {
   "cell_type": "markdown",
   "metadata": {},
   "source": [
    "This allows another way to select all rows where the reivew mentions \"food\"."
   ]
  },
  {
   "cell_type": "code",
   "execution_count": 31,
   "metadata": {},
   "outputs": [
    {
     "data": {
      "text/html": [
       "<div>\n",
       "<style scoped>\n",
       "    .dataframe tbody tr th:only-of-type {\n",
       "        vertical-align: middle;\n",
       "    }\n",
       "\n",
       "    .dataframe tbody tr th {\n",
       "        vertical-align: top;\n",
       "    }\n",
       "\n",
       "    .dataframe thead th {\n",
       "        text-align: right;\n",
       "    }\n",
       "</style>\n",
       "<table border=\"1\" class=\"dataframe\">\n",
       "  <thead>\n",
       "    <tr style=\"text-align: right;\">\n",
       "      <th></th>\n",
       "      <th>reviews</th>\n",
       "      <th>ratings</th>\n",
       "    </tr>\n",
       "  </thead>\n",
       "  <tbody>\n",
       "    <tr>\n",
       "      <th>0</th>\n",
       "      <td>With its jazzy vibes and chill atmosphere, Cli...</td>\n",
       "      <td>5</td>\n",
       "    </tr>\n",
       "    <tr>\n",
       "      <th>1</th>\n",
       "      <td>This was an exceptional surprise in Iowa city!...</td>\n",
       "      <td>5</td>\n",
       "    </tr>\n",
       "    <tr>\n",
       "      <th>2</th>\n",
       "      <td>There is no other place in town like CSSC. If ...</td>\n",
       "      <td>5</td>\n",
       "    </tr>\n",
       "    <tr>\n",
       "      <th>3</th>\n",
       "      <td>Tucked away through a narrow staircase like a ...</td>\n",
       "      <td>5</td>\n",
       "    </tr>\n",
       "    <tr>\n",
       "      <th>4</th>\n",
       "      <td>Love. Love. Love. If you're older than the col...</td>\n",
       "      <td>5</td>\n",
       "    </tr>\n",
       "  </tbody>\n",
       "</table>\n",
       "</div>"
      ],
      "text/plain": [
       "                                             reviews  ratings\n",
       "0  With its jazzy vibes and chill atmosphere, Cli...        5\n",
       "1  This was an exceptional surprise in Iowa city!...        5\n",
       "2  There is no other place in town like CSSC. If ...        5\n",
       "3  Tucked away through a narrow staircase like a ...        5\n",
       "4  Love. Love. Love. If you're older than the col...        5"
      ]
     },
     "execution_count": 31,
     "metadata": {},
     "output_type": "execute_result"
    }
   ],
   "source": [
    "rowselected =  df[\"reviews\"].str.contains(\"food\", case=False)\n",
    "dffood = df[rowselected].copy() \n",
    "dffood.reset_index(inplace=True, drop=True)        \n",
    "dffood.head()"
   ]
  },
  {
   "cell_type": "markdown",
   "metadata": {},
   "source": [
    "Replace \"Iowa City\" by \"IowaCity\" in all reviews."
   ]
  },
  {
   "cell_type": "code",
   "execution_count": 32,
   "metadata": {},
   "outputs": [
    {
     "data": {
      "text/plain": [
       "0      With its jazzy vibes and chill atmosphere, Cli...\n",
       "1      This was an exceptional surprise in Iowa city!...\n",
       "2      There is no other place in town like CSSC. If ...\n",
       "3      Tucked away through a narrow staircase like a ...\n",
       "4      Love. Love. Love. If you're older than the col...\n",
       "                             ...                        \n",
       "127    The food was not good and service was not frie...\n",
       "128    Wow have times changed in downtown Iowa City. ...\n",
       "129    Great building. Loved the big windows overlook...\n",
       "130    Love the food, love the service. If you are in...\n",
       "131    Dinner and cocktails on a Friday night. Place ...\n",
       "Name: reviews, Length: 132, dtype: object"
      ]
     },
     "execution_count": 32,
     "metadata": {},
     "output_type": "execute_result"
    }
   ],
   "source": [
    "#Before replacement\n",
    "df[\"reviews\"]\n",
    "#Try df[\"reviews\"][77] to see an example containing \"Iowa City\""
   ]
  },
  {
   "cell_type": "code",
   "execution_count": 33,
   "metadata": {},
   "outputs": [
    {
     "data": {
      "text/plain": [
       "0      With its jazzy vibes and chill atmosphere, Cli...\n",
       "1      This was an exceptional surprise in Iowa city!...\n",
       "2      There is no other place in town like CSSC. If ...\n",
       "3      Tucked away through a narrow staircase like a ...\n",
       "4      Love. Love. Love. If you're older than the col...\n",
       "                             ...                        \n",
       "127    The food was not good and service was not frie...\n",
       "128    Wow have times changed in downtown IowaCity. W...\n",
       "129    Great building. Loved the big windows overlook...\n",
       "130    Love the food, love the service. If you are in...\n",
       "131    Dinner and cocktails on a Friday night. Place ...\n",
       "Name: reviews, Length: 132, dtype: object"
      ]
     },
     "execution_count": 33,
     "metadata": {},
     "output_type": "execute_result"
    }
   ],
   "source": [
    "#After replacement\n",
    "df[\"reviews\"].str.replace(\"Iowa City\",\"IowaCity\")\n",
    "#Try df[\"reviews\"].str.replace(\"Iowa City\",\"IowaCity\")[77] to see the change."
   ]
  },
  {
   "cell_type": "markdown",
   "metadata": {},
   "source": [
    "Similar to the basic string methods, the string methods of a series do not change the original string neither. Overwrite the original column if you want to change the original one. For exmaple:\n"
   ]
  },
  {
   "cell_type": "code",
   "execution_count": 34,
   "metadata": {
    "scrolled": false
   },
   "outputs": [
    {
     "data": {
      "text/plain": [
       "'This is where grown ups come to drink.\\r\\n\\r\\nTucked away above Short\\'s, Clinton St. is a wonderful find here in IowaCity. The ambiance is great, with a retro warehouse feel and beautiful views out onto the Pentacrest. Their real attraction is the drinks list: many interesting cocktails, my personal favorite being the Grandpa\\'s Coffin (bourbon, scotch, locally made apple brandy, and bitters). They also have a \"Murderer\\'s Row\" of high-end whiskey should that strike your fancy. I\\'d say this place competes with Devotay for best cocktails in IowaCity. They also have a well-chosen, if small, beer list, and I have had good times with their wines.\\r\\n\\r\\nThe food has been very good. Last night, I had their smoked salmon nicoise salad, which had excellent flavor, and my wife had a tasty vegetarian quiche. They used to carry a really flavorful veggie burger, but appear to have dropped that from the menu within the past couple of months. On another visit, the salmon entrée was also good, though less memorable than the nicoise salad.\\r\\n\\r\\nWhat\\'s neat about this place is that it\\'s consciously striving to be a new cultural hub downtown. During a visit for Mission Creek I saw that they hosted jazz and poetry readings. They also have darts and pool tables off in side rooms, in a perfect environment for that kind of thing. I see lots of young professionals and UI faculty here, to give an indication of clientele. I will be returning, frequently.'"
      ]
     },
     "execution_count": 34,
     "metadata": {},
     "output_type": "execute_result"
    }
   ],
   "source": [
    "df[\"reviews\"] = df[\"reviews\"].str.replace(\"Iowa City\",\"IowaCity\")\n",
    "df[\"reviews\"][77]"
   ]
  },
  {
   "cell_type": "markdown",
   "metadata": {},
   "source": [
    "Note that although there is a big overlap between the string methods of a series and the basic string methods, they are still different sets of methods. For example, \"contains\" is only available to the former. \n",
    "\n",
    "For a complete list of string methods of a series, see https://pandas.pydata.org/pandas-docs/stable/user_guide/text.html"
   ]
  },
  {
   "cell_type": "markdown",
   "metadata": {},
   "source": [
    "### \".str\" Method and Regular Expression"
   ]
  },
  {
   "cell_type": "markdown",
   "metadata": {},
   "source": [
    "All \".str\" functions can be used with a \"regular expression\", which is an expression to represent a class of strings rathern than a specific string. For example, suppose we want to replace all upper-case letters in df[\"reviews\"] by a \"*\". We can do:"
   ]
  },
  {
   "cell_type": "code",
   "execution_count": 35,
   "metadata": {},
   "outputs": [
    {
     "name": "stderr",
     "output_type": "stream",
     "text": [
      "/tmp/ipykernel_664/2261009212.py:1: FutureWarning: The default value of regex will change from True to False in a future version.\n",
      "  df[\"reviews\"].str.replace(\"[A-Z]\",\"*\")\n"
     ]
    },
    {
     "data": {
      "text/plain": [
       "0      *ith its jazzy vibes and chill atmosphere, *li...\n",
       "1      *his was an exceptional surprise in *owa city!...\n",
       "2      *here is no other place in town like ****. *f ...\n",
       "3      *ucked away through a narrow staircase like a ...\n",
       "4      *ove. *ove. *ove. *f you're older than the col...\n",
       "                             ...                        \n",
       "127    *he food was not good and service was not frie...\n",
       "128    *ow have times changed in downtown *owa*ity. *...\n",
       "129    *reat building. *oved the big windows overlook...\n",
       "130    *ove the food, love the service. *f you are in...\n",
       "131    *inner and cocktails on a *riday night. *lace ...\n",
       "Name: reviews, Length: 132, dtype: object"
      ]
     },
     "execution_count": 35,
     "metadata": {},
     "output_type": "execute_result"
    }
   ],
   "source": [
    "df[\"reviews\"].str.replace(\"[A-Z]\",\"*\")"
   ]
  },
  {
   "cell_type": "markdown",
   "metadata": {},
   "source": [
    "Here, \"[A-Z]\" is a regular expression representing \"all letters in upper case\". We will study more regular expression in the next module."
   ]
  },
  {
   "cell_type": "markdown",
   "metadata": {},
   "source": [
    "## Process Strings in a List"
   ]
  },
  {
   "cell_type": "markdown",
   "metadata": {},
   "source": [
    "In Python, a list is a different object from a column or a series and does not have the \".str\" built-in methods for string processing.\n",
    "\n",
    "To process string in a list, using list comprehension with the basic string methods is the choice."
   ]
  },
  {
   "cell_type": "code",
   "execution_count": 36,
   "metadata": {},
   "outputs": [
    {
     "data": {
      "text/plain": [
       "['This is a good course project!',\n",
       " \"I don't like this course project!\",\n",
       " 'Do you like this course project?']"
      ]
     },
     "execution_count": 36,
     "metadata": {},
     "output_type": "execute_result"
    }
   ],
   "source": [
    "mystr=[\"This is a good game!\", \"I don\\'t like this game!\", \"Do you like this game?\"]\n",
    "[s.replace(\"game\", \"course project\") for s in mystr]"
   ]
  },
  {
   "cell_type": "code",
   "execution_count": 37,
   "metadata": {},
   "outputs": [],
   "source": [
    "#The following command will return an error message\n",
    "#mystr.str.replace(\"game\", \"course project\")"
   ]
  }
 ],
 "metadata": {
  "kernelspec": {
   "display_name": "Python 3 (ipykernel)",
   "language": "python",
   "name": "python3"
  },
  "language_info": {
   "codemirror_mode": {
    "name": "ipython",
    "version": 3
   },
   "file_extension": ".py",
   "mimetype": "text/x-python",
   "name": "python",
   "nbconvert_exporter": "python",
   "pygments_lexer": "ipython3",
   "version": "3.9.1"
  }
 },
 "nbformat": 4,
 "nbformat_minor": 4
}
