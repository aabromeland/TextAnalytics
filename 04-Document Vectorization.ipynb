{
 "cells": [
  {
   "cell_type": "markdown",
   "id": "72f3f803",
   "metadata": {},
   "source": [
    "# Document Vectorization | BAIS:6100\n",
    "\n",
    "**Instructor: Qihang Lin**"
   ]
  },
  {
   "cell_type": "markdown",
   "id": "f51a7135",
   "metadata": {},
   "source": [
    "Machine learning algorithms always deal with numbers not texts, so we have to transform a doument into a numeric vector, known as **text vectorization**. The matrix formed by stacking all of these vectors is called **Document-Term Matrix** (DTM). \n"
   ]
  },
  {
   "cell_type": "markdown",
   "id": "c085ec7a",
   "metadata": {},
   "source": [
    "## Document-Term Matrix"
   ]
  },
  {
   "cell_type": "markdown",
   "id": "738bbb23",
   "metadata": {},
   "source": [
    "We use the vectorizer from **sklearn** library to construct a DTM."
   ]
  },
  {
   "cell_type": "code",
   "execution_count": 1,
   "id": "5088ccee",
   "metadata": {},
   "outputs": [
    {
     "name": "stdout",
     "output_type": "stream",
     "text": [
      "Defaulting to user installation because normal site-packages is not writeable\n",
      "Requirement already satisfied: scikit-learn in /usr/local/lib/python3.9/site-packages (0.23.1)\n",
      "Collecting scikit-learn\n",
      "  Downloading scikit_learn-1.1.1-cp39-cp39-manylinux_2_17_x86_64.manylinux2014_x86_64.whl (30.8 MB)\n",
      "\u001b[2K     \u001b[90m━━━━━━━━━━━━━━━━━━━━━━━━━━━━━━━━━━━━━━━━\u001b[0m \u001b[32m30.8/30.8 MB\u001b[0m \u001b[31m52.5 MB/s\u001b[0m eta \u001b[36m0:00:00\u001b[0m00:01\u001b[0m00:01\u001b[0m\n",
      "\u001b[?25hRequirement already satisfied: numpy>=1.17.3 in /usr/local/lib/python3.9/site-packages (from scikit-learn) (1.22.3)\n",
      "Requirement already satisfied: joblib>=1.0.0 in /usr/local/lib/python3.9/site-packages (from scikit-learn) (1.1.0)\n",
      "Requirement already satisfied: scipy>=1.3.2 in /usr/local/lib/python3.9/site-packages (from scikit-learn) (1.6.0)\n",
      "Requirement already satisfied: threadpoolctl>=2.0.0 in /usr/local/lib/python3.9/site-packages (from scikit-learn) (3.1.0)\n",
      "Installing collected packages: scikit-learn\n",
      "Successfully installed scikit-learn-1.1.1\n",
      "\u001b[33mWARNING: You are using pip version 22.0.4; however, version 22.1.2 is available.\n",
      "You should consider upgrading via the '/usr/local/bin/python3.9 -m pip install --upgrade pip' command.\u001b[0m\u001b[33m\n",
      "\u001b[0m"
     ]
    }
   ],
   "source": [
    "#!pip3 install --upgrade scikit-learn\n",
    "import pandas as pd\n",
    "from sklearn.feature_extraction.text import CountVectorizer\n",
    "import nltk                                  "
   ]
  },
  {
   "cell_type": "code",
   "execution_count": 2,
   "id": "4583e8f8",
   "metadata": {},
   "outputs": [],
   "source": [
    "mytexts = [\"I will take text mining in Fall 2021.\",\n",
    "           \"Are you taking Text-Mining this year?\",\n",
    "           \"Unfortunately, Text Mining isn't offered.\"]"
   ]
  },
  {
   "cell_type": "code",
   "execution_count": 3,
   "id": "0270f4b3",
   "metadata": {
    "scrolled": true
   },
   "outputs": [],
   "source": [
    "vectorizer = CountVectorizer()     #Initialize the vectorizer with default setting.\n",
    "DTM = vectorizer.fit_transform(mytexts)     #Convert the corpus into DTM. "
   ]
  },
  {
   "cell_type": "code",
   "execution_count": 4,
   "id": "86bf1d10",
   "metadata": {},
   "outputs": [
    {
     "data": {
      "text/plain": [
       "(3, 15)"
      ]
     },
     "execution_count": 4,
     "metadata": {},
     "output_type": "execute_result"
    }
   ],
   "source": [
    "DTM.shape      #The shape of DTM. (Num of Docs) * (Num of Terms)."
   ]
  },
  {
   "cell_type": "markdown",
   "id": "a8fc7b7c",
   "metadata": {},
   "source": [
    "DTM is a **sparse matrix**, namely, a matrix in which most of the elements are zeros. "
   ]
  },
  {
   "cell_type": "code",
   "execution_count": 5,
   "id": "808138ab",
   "metadata": {},
   "outputs": [
    {
     "data": {
      "text/plain": [
       "<3x15 sparse matrix of type '<class 'numpy.int64'>'\n",
       "\twith 19 stored elements in Compressed Sparse Row format>"
      ]
     },
     "execution_count": 5,
     "metadata": {},
     "output_type": "execute_result"
    }
   ],
   "source": [
    "DTM"
   ]
  },
  {
   "cell_type": "markdown",
   "id": "77ecb695",
   "metadata": {},
   "source": [
    "When storing a sparse matrix, a **Compressed Sparse Row format** is used to take advantage of the sparsity so that the RAM space used by a DTM is significantly reduced. "
   ]
  },
  {
   "cell_type": "markdown",
   "id": "51b32ec1",
   "metadata": {},
   "source": [
    "You can convert a DTM from the compressed sparse row format to the regular format as follows, but it is not recommended because the regular format requires significantly larger RAM space."
   ]
  },
  {
   "cell_type": "code",
   "execution_count": 6,
   "id": "d52354aa",
   "metadata": {},
   "outputs": [
    {
     "data": {
      "text/plain": [
       "array([[1, 0, 1, 1, 0, 1, 0, 1, 0, 1, 0, 0, 1, 0, 0],\n",
       "       [0, 1, 0, 0, 0, 1, 0, 0, 1, 1, 1, 0, 0, 1, 1],\n",
       "       [0, 0, 0, 0, 1, 1, 1, 0, 0, 1, 0, 1, 0, 0, 0]])"
      ]
     },
     "execution_count": 6,
     "metadata": {},
     "output_type": "execute_result"
    }
   ],
   "source": [
    "DTM.toarray()"
   ]
  },
  {
   "cell_type": "markdown",
   "id": "c79066c7",
   "metadata": {},
   "source": [
    "Let's compare the RAM space used by the compressed format and the regular format."
   ]
  },
  {
   "cell_type": "code",
   "execution_count": 7,
   "id": "0eacfef5",
   "metadata": {},
   "outputs": [
    {
     "name": "stdout",
     "output_type": "stream",
     "text": [
      "48\n",
      "488\n"
     ]
    }
   ],
   "source": [
    "import sys                           #sys.getsizeof() shows the RAM space used\n",
    "print(sys.getsizeof(DTM))            #DTM is a compressed format\n",
    "print(sys.getsizeof(DTM.toarray()))  #DTM.toarray() convert DTM to a regular format "
   ]
  },
  {
   "cell_type": "markdown",
   "id": "8ee1a0af",
   "metadata": {},
   "source": [
    "In order to better display the DTM in this notebook, we still convert DTM to a regular format. **You don't want to do this in your homework or project when the data is large.**"
   ]
  },
  {
   "cell_type": "markdown",
   "id": "41803df6",
   "metadata": {},
   "source": [
    "**vectorizer.fit_transform()** not only create a DTM but also learn a **vocabulary** based on the text data. The following code prints the vocabulary the vectrorizer learns. "
   ]
  },
  {
   "cell_type": "code",
   "execution_count": 8,
   "id": "b0abec62",
   "metadata": {},
   "outputs": [
    {
     "name": "stdout",
     "output_type": "stream",
     "text": [
      "['2021', 'are', 'fall', 'in', 'isn', 'mining', 'offered', 'take', 'taking', 'text', 'this', 'unfortunately', 'will', 'year', 'you']\n"
     ]
    },
    {
     "name": "stderr",
     "output_type": "stream",
     "text": [
      "/home/abromeland/.local/lib/python3.9/site-packages/sklearn/utils/deprecation.py:87: FutureWarning: Function get_feature_names is deprecated; get_feature_names is deprecated in 1.0 and will be removed in 1.2. Please use get_feature_names_out instead.\n",
      "  warnings.warn(msg, category=FutureWarning)\n"
     ]
    }
   ],
   "source": [
    "print(vectorizer.get_feature_names())"
   ]
  },
  {
   "cell_type": "markdown",
   "id": "03b786f9",
   "metadata": {},
   "source": [
    "We then convert DTM into a dataframe using the vocabulary as the column names. "
   ]
  },
  {
   "cell_type": "code",
   "execution_count": 9,
   "id": "b5e424a8",
   "metadata": {},
   "outputs": [
    {
     "data": {
      "text/html": [
       "<div>\n",
       "<style scoped>\n",
       "    .dataframe tbody tr th:only-of-type {\n",
       "        vertical-align: middle;\n",
       "    }\n",
       "\n",
       "    .dataframe tbody tr th {\n",
       "        vertical-align: top;\n",
       "    }\n",
       "\n",
       "    .dataframe thead th {\n",
       "        text-align: right;\n",
       "    }\n",
       "</style>\n",
       "<table border=\"1\" class=\"dataframe\">\n",
       "  <thead>\n",
       "    <tr style=\"text-align: right;\">\n",
       "      <th></th>\n",
       "      <th>2021</th>\n",
       "      <th>are</th>\n",
       "      <th>fall</th>\n",
       "      <th>in</th>\n",
       "      <th>isn</th>\n",
       "      <th>mining</th>\n",
       "      <th>offered</th>\n",
       "      <th>take</th>\n",
       "      <th>taking</th>\n",
       "      <th>text</th>\n",
       "      <th>this</th>\n",
       "      <th>unfortunately</th>\n",
       "      <th>will</th>\n",
       "      <th>year</th>\n",
       "      <th>you</th>\n",
       "    </tr>\n",
       "  </thead>\n",
       "  <tbody>\n",
       "    <tr>\n",
       "      <th>0</th>\n",
       "      <td>1</td>\n",
       "      <td>0</td>\n",
       "      <td>1</td>\n",
       "      <td>1</td>\n",
       "      <td>0</td>\n",
       "      <td>1</td>\n",
       "      <td>0</td>\n",
       "      <td>1</td>\n",
       "      <td>0</td>\n",
       "      <td>1</td>\n",
       "      <td>0</td>\n",
       "      <td>0</td>\n",
       "      <td>1</td>\n",
       "      <td>0</td>\n",
       "      <td>0</td>\n",
       "    </tr>\n",
       "    <tr>\n",
       "      <th>1</th>\n",
       "      <td>0</td>\n",
       "      <td>1</td>\n",
       "      <td>0</td>\n",
       "      <td>0</td>\n",
       "      <td>0</td>\n",
       "      <td>1</td>\n",
       "      <td>0</td>\n",
       "      <td>0</td>\n",
       "      <td>1</td>\n",
       "      <td>1</td>\n",
       "      <td>1</td>\n",
       "      <td>0</td>\n",
       "      <td>0</td>\n",
       "      <td>1</td>\n",
       "      <td>1</td>\n",
       "    </tr>\n",
       "    <tr>\n",
       "      <th>2</th>\n",
       "      <td>0</td>\n",
       "      <td>0</td>\n",
       "      <td>0</td>\n",
       "      <td>0</td>\n",
       "      <td>1</td>\n",
       "      <td>1</td>\n",
       "      <td>1</td>\n",
       "      <td>0</td>\n",
       "      <td>0</td>\n",
       "      <td>1</td>\n",
       "      <td>0</td>\n",
       "      <td>1</td>\n",
       "      <td>0</td>\n",
       "      <td>0</td>\n",
       "      <td>0</td>\n",
       "    </tr>\n",
       "  </tbody>\n",
       "</table>\n",
       "</div>"
      ],
      "text/plain": [
       "   2021  are  fall  in  isn  mining  offered  take  taking  text  this  \\\n",
       "0     1    0     1   1    0       1        0     1       0     1     0   \n",
       "1     0    1     0   0    0       1        0     0       1     1     1   \n",
       "2     0    0     0   0    1       1        1     0       0     1     0   \n",
       "\n",
       "   unfortunately  will  year  you  \n",
       "0              0     1     0    0  \n",
       "1              0     0     1    1  \n",
       "2              1     0     0    0  "
      ]
     },
     "execution_count": 9,
     "metadata": {},
     "output_type": "execute_result"
    }
   ],
   "source": [
    "pd.DataFrame(DTM.toarray(), columns = vectorizer.get_feature_names())"
   ]
  },
  {
   "cell_type": "markdown",
   "id": "6e48343b",
   "metadata": {},
   "source": [
    "The **default vectorizer** converts all letters to lower cases. It also uses a tokenizer different from the tokenizer in nltk library. In particular, the default vectorizer removes all punctuation and tokens with no more than two characters. The tokenizer in nltk keeps most of the punctuations. \n",
    "\n",
    "If we prefer the tokenizer in nltk, we can do the following:"
   ]
  },
  {
   "cell_type": "code",
   "execution_count": 10,
   "id": "330173af",
   "metadata": {},
   "outputs": [
    {
     "name": "stderr",
     "output_type": "stream",
     "text": [
      "/home/abromeland/.local/lib/python3.9/site-packages/sklearn/utils/deprecation.py:87: FutureWarning: Function get_feature_names is deprecated; get_feature_names is deprecated in 1.0 and will be removed in 1.2. Please use get_feature_names_out instead.\n",
      "  warnings.warn(msg, category=FutureWarning)\n"
     ]
    },
    {
     "data": {
      "text/html": [
       "<div>\n",
       "<style scoped>\n",
       "    .dataframe tbody tr th:only-of-type {\n",
       "        vertical-align: middle;\n",
       "    }\n",
       "\n",
       "    .dataframe tbody tr th {\n",
       "        vertical-align: top;\n",
       "    }\n",
       "\n",
       "    .dataframe thead th {\n",
       "        text-align: right;\n",
       "    }\n",
       "</style>\n",
       "<table border=\"1\" class=\"dataframe\">\n",
       "  <thead>\n",
       "    <tr style=\"text-align: right;\">\n",
       "      <th></th>\n",
       "      <th>,</th>\n",
       "      <th>.</th>\n",
       "      <th>2021</th>\n",
       "      <th>?</th>\n",
       "      <th>are</th>\n",
       "      <th>fall</th>\n",
       "      <th>i</th>\n",
       "      <th>in</th>\n",
       "      <th>is</th>\n",
       "      <th>mining</th>\n",
       "      <th>...</th>\n",
       "      <th>offered</th>\n",
       "      <th>take</th>\n",
       "      <th>taking</th>\n",
       "      <th>text</th>\n",
       "      <th>text-mining</th>\n",
       "      <th>this</th>\n",
       "      <th>unfortunately</th>\n",
       "      <th>will</th>\n",
       "      <th>year</th>\n",
       "      <th>you</th>\n",
       "    </tr>\n",
       "  </thead>\n",
       "  <tbody>\n",
       "    <tr>\n",
       "      <th>0</th>\n",
       "      <td>0</td>\n",
       "      <td>1</td>\n",
       "      <td>1</td>\n",
       "      <td>0</td>\n",
       "      <td>0</td>\n",
       "      <td>1</td>\n",
       "      <td>1</td>\n",
       "      <td>1</td>\n",
       "      <td>0</td>\n",
       "      <td>1</td>\n",
       "      <td>...</td>\n",
       "      <td>0</td>\n",
       "      <td>1</td>\n",
       "      <td>0</td>\n",
       "      <td>1</td>\n",
       "      <td>0</td>\n",
       "      <td>0</td>\n",
       "      <td>0</td>\n",
       "      <td>1</td>\n",
       "      <td>0</td>\n",
       "      <td>0</td>\n",
       "    </tr>\n",
       "    <tr>\n",
       "      <th>1</th>\n",
       "      <td>0</td>\n",
       "      <td>0</td>\n",
       "      <td>0</td>\n",
       "      <td>1</td>\n",
       "      <td>1</td>\n",
       "      <td>0</td>\n",
       "      <td>0</td>\n",
       "      <td>0</td>\n",
       "      <td>0</td>\n",
       "      <td>0</td>\n",
       "      <td>...</td>\n",
       "      <td>0</td>\n",
       "      <td>0</td>\n",
       "      <td>1</td>\n",
       "      <td>0</td>\n",
       "      <td>1</td>\n",
       "      <td>1</td>\n",
       "      <td>0</td>\n",
       "      <td>0</td>\n",
       "      <td>1</td>\n",
       "      <td>1</td>\n",
       "    </tr>\n",
       "    <tr>\n",
       "      <th>2</th>\n",
       "      <td>1</td>\n",
       "      <td>1</td>\n",
       "      <td>0</td>\n",
       "      <td>0</td>\n",
       "      <td>0</td>\n",
       "      <td>0</td>\n",
       "      <td>0</td>\n",
       "      <td>0</td>\n",
       "      <td>1</td>\n",
       "      <td>1</td>\n",
       "      <td>...</td>\n",
       "      <td>1</td>\n",
       "      <td>0</td>\n",
       "      <td>0</td>\n",
       "      <td>1</td>\n",
       "      <td>0</td>\n",
       "      <td>0</td>\n",
       "      <td>1</td>\n",
       "      <td>0</td>\n",
       "      <td>0</td>\n",
       "      <td>0</td>\n",
       "    </tr>\n",
       "  </tbody>\n",
       "</table>\n",
       "<p>3 rows × 21 columns</p>\n",
       "</div>"
      ],
      "text/plain": [
       "   ,  .  2021  ?  are  fall  i  in  is  mining  ...  offered  take  taking  \\\n",
       "0  0  1     1  0    0     1  1   1   0       1  ...        0     1       0   \n",
       "1  0  0     0  1    1     0  0   0   0       0  ...        0     0       1   \n",
       "2  1  1     0  0    0     0  0   0   1       1  ...        1     0       0   \n",
       "\n",
       "   text  text-mining  this  unfortunately  will  year  you  \n",
       "0     1            0     0              0     1     0    0  \n",
       "1     0            1     1              0     0     1    1  \n",
       "2     1            0     0              1     0     0    0  \n",
       "\n",
       "[3 rows x 21 columns]"
      ]
     },
     "execution_count": 10,
     "metadata": {},
     "output_type": "execute_result"
    }
   ],
   "source": [
    "#Initialize vectorizer using nltk tokenizer.\n",
    "vectorizer = CountVectorizer(tokenizer = nltk.word_tokenize)   \n",
    "DTM = vectorizer.fit_transform(mytexts)\n",
    "pd.DataFrame(DTM.toarray(), columns = vectorizer.get_feature_names())"
   ]
  },
  {
   "cell_type": "markdown",
   "id": "ed32f066",
   "metadata": {},
   "source": [
    "Interested in learning more about **CountVectorizer**? See (https://scikit-learn.org/stable/modules/generated/sklearn.feature_extraction.text.CountVectorizer.html)"
   ]
  },
  {
   "cell_type": "markdown",
   "id": "ed063ebd",
   "metadata": {},
   "source": [
    "A DTM is a type of **bag-of-words model**, where a document is viewed as a \"bag\" of its words, disregarding grammar and word order but only keeping multiplicity."
   ]
  },
  {
   "cell_type": "markdown",
   "id": "d98d2ed1",
   "metadata": {},
   "source": [
    "## DTM Cleaning"
   ]
  },
  {
   "cell_type": "markdown",
   "id": "c4905060",
   "metadata": {},
   "source": [
    "The default **vectorizer** will convert all tokens to lower case, remove all punctuations, and remove all single-character tokens. However, we still need to clean DTM further."
   ]
  },
  {
   "cell_type": "markdown",
   "id": "0b922590",
   "metadata": {},
   "source": [
    "Similar to counting word frequency in the entire dataset, the following steps of clearning can be modified or skipped according to use cases. "
   ]
  },
  {
   "cell_type": "markdown",
   "id": "591e8662",
   "metadata": {},
   "source": [
    "1. Replace words if needed"
   ]
  },
  {
   "cell_type": "code",
   "execution_count": 11,
   "id": "a3404e0e",
   "metadata": {},
   "outputs": [
    {
     "data": {
      "text/plain": [
       "['I will take text mining in Fall 2021.',\n",
       " 'Are you taking Text-Mining this year?',\n",
       " 'Unfortunately, Text Mining is not offered.']"
      ]
     },
     "execution_count": 11,
     "metadata": {},
     "output_type": "execute_result"
    }
   ],
   "source": [
    "mytexts = [s.replace(\"n't \",\" not \") for s in mytexts]\n",
    "mytexts"
   ]
  },
  {
   "cell_type": "markdown",
   "id": "52bed20a",
   "metadata": {},
   "source": [
    "2. Remove all stop words. You may customize your stop word list as needed."
   ]
  },
  {
   "cell_type": "code",
   "execution_count": 12,
   "id": "5de472fe",
   "metadata": {},
   "outputs": [
    {
     "name": "stderr",
     "output_type": "stream",
     "text": [
      "/home/abromeland/.local/lib/python3.9/site-packages/sklearn/utils/deprecation.py:87: FutureWarning: Function get_feature_names is deprecated; get_feature_names is deprecated in 1.0 and will be removed in 1.2. Please use get_feature_names_out instead.\n",
      "  warnings.warn(msg, category=FutureWarning)\n"
     ]
    },
    {
     "data": {
      "text/html": [
       "<div>\n",
       "<style scoped>\n",
       "    .dataframe tbody tr th:only-of-type {\n",
       "        vertical-align: middle;\n",
       "    }\n",
       "\n",
       "    .dataframe tbody tr th {\n",
       "        vertical-align: top;\n",
       "    }\n",
       "\n",
       "    .dataframe thead th {\n",
       "        text-align: right;\n",
       "    }\n",
       "</style>\n",
       "<table border=\"1\" class=\"dataframe\">\n",
       "  <thead>\n",
       "    <tr style=\"text-align: right;\">\n",
       "      <th></th>\n",
       "      <th>2021</th>\n",
       "      <th>fall</th>\n",
       "      <th>mining</th>\n",
       "      <th>offered</th>\n",
       "      <th>take</th>\n",
       "      <th>taking</th>\n",
       "      <th>text</th>\n",
       "      <th>unfortunately</th>\n",
       "      <th>year</th>\n",
       "    </tr>\n",
       "  </thead>\n",
       "  <tbody>\n",
       "    <tr>\n",
       "      <th>0</th>\n",
       "      <td>1</td>\n",
       "      <td>1</td>\n",
       "      <td>1</td>\n",
       "      <td>0</td>\n",
       "      <td>1</td>\n",
       "      <td>0</td>\n",
       "      <td>1</td>\n",
       "      <td>0</td>\n",
       "      <td>0</td>\n",
       "    </tr>\n",
       "    <tr>\n",
       "      <th>1</th>\n",
       "      <td>0</td>\n",
       "      <td>0</td>\n",
       "      <td>1</td>\n",
       "      <td>0</td>\n",
       "      <td>0</td>\n",
       "      <td>1</td>\n",
       "      <td>1</td>\n",
       "      <td>0</td>\n",
       "      <td>1</td>\n",
       "    </tr>\n",
       "    <tr>\n",
       "      <th>2</th>\n",
       "      <td>0</td>\n",
       "      <td>0</td>\n",
       "      <td>1</td>\n",
       "      <td>1</td>\n",
       "      <td>0</td>\n",
       "      <td>0</td>\n",
       "      <td>1</td>\n",
       "      <td>1</td>\n",
       "      <td>0</td>\n",
       "    </tr>\n",
       "  </tbody>\n",
       "</table>\n",
       "</div>"
      ],
      "text/plain": [
       "   2021  fall  mining  offered  take  taking  text  unfortunately  year\n",
       "0     1     1       1        0     1       0     1              0     0\n",
       "1     0     0       1        0     0       1     1              0     1\n",
       "2     0     0       1        1     0       0     1              1     0"
      ]
     },
     "execution_count": 12,
     "metadata": {},
     "output_type": "execute_result"
    }
   ],
   "source": [
    "#Remove stop words using the list from nltk during vecterization\n",
    "nltk_stopwords = nltk.corpus.stopwords.words(\"english\")\n",
    "vectorizer = CountVectorizer(stop_words=nltk_stopwords)\n",
    "DTM = vectorizer.fit_transform(mytexts)\n",
    "pd.DataFrame(DTM.toarray(), columns = vectorizer.get_feature_names())"
   ]
  },
  {
   "cell_type": "markdown",
   "id": "e91e1e78",
   "metadata": {},
   "source": [
    "3. Stemming. Unfortuanely, **sklearn** cannot do stemming by itself. We need to create a new vectorizer which **inherits** from the **CountVectorizer** class and integrate the stemming function from **nltk**. \n",
    "\n",
    "    The code below starting from \"class\" is beyond the scope of this course. You only need to know how to apply it but will not be asked to modify them."
   ]
  },
  {
   "cell_type": "code",
   "execution_count": 13,
   "id": "195b5ea8",
   "metadata": {},
   "outputs": [],
   "source": [
    "stemmer = nltk.stem.SnowballStemmer(\"english\")  #You may use a different stemmer.\n",
    "class StemmedCountVectorizer(CountVectorizer):\n",
    "    def build_analyzer(self):\n",
    "        analyzer = super(StemmedCountVectorizer, self).build_analyzer()\n",
    "        return lambda doc: ([stemmer.stem(w) for w in analyzer(doc)])"
   ]
  },
  {
   "cell_type": "code",
   "execution_count": 14,
   "id": "9521c0f4",
   "metadata": {},
   "outputs": [
    {
     "name": "stderr",
     "output_type": "stream",
     "text": [
      "/home/abromeland/.local/lib/python3.9/site-packages/sklearn/utils/deprecation.py:87: FutureWarning: Function get_feature_names is deprecated; get_feature_names is deprecated in 1.0 and will be removed in 1.2. Please use get_feature_names_out instead.\n",
      "  warnings.warn(msg, category=FutureWarning)\n"
     ]
    },
    {
     "data": {
      "text/html": [
       "<div>\n",
       "<style scoped>\n",
       "    .dataframe tbody tr th:only-of-type {\n",
       "        vertical-align: middle;\n",
       "    }\n",
       "\n",
       "    .dataframe tbody tr th {\n",
       "        vertical-align: top;\n",
       "    }\n",
       "\n",
       "    .dataframe thead th {\n",
       "        text-align: right;\n",
       "    }\n",
       "</style>\n",
       "<table border=\"1\" class=\"dataframe\">\n",
       "  <thead>\n",
       "    <tr style=\"text-align: right;\">\n",
       "      <th></th>\n",
       "      <th>2021</th>\n",
       "      <th>fall</th>\n",
       "      <th>mine</th>\n",
       "      <th>offer</th>\n",
       "      <th>take</th>\n",
       "      <th>text</th>\n",
       "      <th>unfortun</th>\n",
       "      <th>year</th>\n",
       "    </tr>\n",
       "  </thead>\n",
       "  <tbody>\n",
       "    <tr>\n",
       "      <th>0</th>\n",
       "      <td>1</td>\n",
       "      <td>1</td>\n",
       "      <td>1</td>\n",
       "      <td>0</td>\n",
       "      <td>1</td>\n",
       "      <td>1</td>\n",
       "      <td>0</td>\n",
       "      <td>0</td>\n",
       "    </tr>\n",
       "    <tr>\n",
       "      <th>1</th>\n",
       "      <td>0</td>\n",
       "      <td>0</td>\n",
       "      <td>1</td>\n",
       "      <td>0</td>\n",
       "      <td>1</td>\n",
       "      <td>1</td>\n",
       "      <td>0</td>\n",
       "      <td>1</td>\n",
       "    </tr>\n",
       "    <tr>\n",
       "      <th>2</th>\n",
       "      <td>0</td>\n",
       "      <td>0</td>\n",
       "      <td>1</td>\n",
       "      <td>1</td>\n",
       "      <td>0</td>\n",
       "      <td>1</td>\n",
       "      <td>1</td>\n",
       "      <td>0</td>\n",
       "    </tr>\n",
       "  </tbody>\n",
       "</table>\n",
       "</div>"
      ],
      "text/plain": [
       "   2021  fall  mine  offer  take  text  unfortun  year\n",
       "0     1     1     1      0     1     1         0     0\n",
       "1     0     0     1      0     1     1         0     1\n",
       "2     0     0     1      1     0     1         1     0"
      ]
     },
     "execution_count": 14,
     "metadata": {},
     "output_type": "execute_result"
    }
   ],
   "source": [
    "vectorizer = StemmedCountVectorizer(stop_words=nltk_stopwords)\n",
    "DTM =vectorizer.fit_transform(mytexts)\n",
    "pd.DataFrame(DTM.toarray(), columns = vectorizer.get_feature_names())"
   ]
  },
  {
   "cell_type": "markdown",
   "id": "a5c39f1d",
   "metadata": {},
   "source": [
    "   Please note that the vectorizer **always  removes stop words before stemming**, which may cause some problems. "
   ]
  },
  {
   "cell_type": "markdown",
   "id": "d6d04089",
   "metadata": {},
   "source": [
    "4. Build a vocabulary based on terms' **document frequency**.  A term's document frequency is the percentage of documents containing this term. \n",
    "\n",
    "   By specifying **max_df** and  **min_df** (as percentages), we can let the vectorizer ignore terms that have a document frequency lower than min_df and higher than max_df."
   ]
  },
  {
   "cell_type": "code",
   "execution_count": 15,
   "id": "62902575",
   "metadata": {},
   "outputs": [
    {
     "name": "stderr",
     "output_type": "stream",
     "text": [
      "/home/abromeland/.local/lib/python3.9/site-packages/sklearn/utils/deprecation.py:87: FutureWarning: Function get_feature_names is deprecated; get_feature_names is deprecated in 1.0 and will be removed in 1.2. Please use get_feature_names_out instead.\n",
      "  warnings.warn(msg, category=FutureWarning)\n"
     ]
    },
    {
     "data": {
      "text/html": [
       "<div>\n",
       "<style scoped>\n",
       "    .dataframe tbody tr th:only-of-type {\n",
       "        vertical-align: middle;\n",
       "    }\n",
       "\n",
       "    .dataframe tbody tr th {\n",
       "        vertical-align: top;\n",
       "    }\n",
       "\n",
       "    .dataframe thead th {\n",
       "        text-align: right;\n",
       "    }\n",
       "</style>\n",
       "<table border=\"1\" class=\"dataframe\">\n",
       "  <thead>\n",
       "    <tr style=\"text-align: right;\">\n",
       "      <th></th>\n",
       "      <th>take</th>\n",
       "    </tr>\n",
       "  </thead>\n",
       "  <tbody>\n",
       "    <tr>\n",
       "      <th>0</th>\n",
       "      <td>1</td>\n",
       "    </tr>\n",
       "    <tr>\n",
       "      <th>1</th>\n",
       "      <td>1</td>\n",
       "    </tr>\n",
       "    <tr>\n",
       "      <th>2</th>\n",
       "      <td>0</td>\n",
       "    </tr>\n",
       "  </tbody>\n",
       "</table>\n",
       "</div>"
      ],
      "text/plain": [
       "   take\n",
       "0     1\n",
       "1     1\n",
       "2     0"
      ]
     },
     "execution_count": 15,
     "metadata": {},
     "output_type": "execute_result"
    }
   ],
   "source": [
    "# We only keep terms whose document freqency is <=0.9 and >=0.4.\n",
    "vectorizer = StemmedCountVectorizer(stop_words=nltk_stopwords,\n",
    "                                        max_df=0.9,\n",
    "                                        min_df=0.4)\n",
    "DTM =vectorizer.fit_transform(mytexts)\n",
    "pd.DataFrame(DTM.toarray(), columns = vectorizer.get_feature_names())"
   ]
  },
  {
   "cell_type": "markdown",
   "id": "1dc7a772",
   "metadata": {},
   "source": [
    "5. Build a vocabulary that only contains the top $K$ terms with the highest total frequencies across all documents. This can be done setting **max_features**=$K$."
   ]
  },
  {
   "cell_type": "code",
   "execution_count": 16,
   "id": "8282b4e8",
   "metadata": {},
   "outputs": [
    {
     "name": "stderr",
     "output_type": "stream",
     "text": [
      "/home/abromeland/.local/lib/python3.9/site-packages/sklearn/utils/deprecation.py:87: FutureWarning: Function get_feature_names is deprecated; get_feature_names is deprecated in 1.0 and will be removed in 1.2. Please use get_feature_names_out instead.\n",
      "  warnings.warn(msg, category=FutureWarning)\n"
     ]
    },
    {
     "data": {
      "text/html": [
       "<div>\n",
       "<style scoped>\n",
       "    .dataframe tbody tr th:only-of-type {\n",
       "        vertical-align: middle;\n",
       "    }\n",
       "\n",
       "    .dataframe tbody tr th {\n",
       "        vertical-align: top;\n",
       "    }\n",
       "\n",
       "    .dataframe thead th {\n",
       "        text-align: right;\n",
       "    }\n",
       "</style>\n",
       "<table border=\"1\" class=\"dataframe\">\n",
       "  <thead>\n",
       "    <tr style=\"text-align: right;\">\n",
       "      <th></th>\n",
       "      <th>mine</th>\n",
       "      <th>take</th>\n",
       "      <th>text</th>\n",
       "    </tr>\n",
       "  </thead>\n",
       "  <tbody>\n",
       "    <tr>\n",
       "      <th>0</th>\n",
       "      <td>1</td>\n",
       "      <td>1</td>\n",
       "      <td>1</td>\n",
       "    </tr>\n",
       "    <tr>\n",
       "      <th>1</th>\n",
       "      <td>1</td>\n",
       "      <td>1</td>\n",
       "      <td>1</td>\n",
       "    </tr>\n",
       "    <tr>\n",
       "      <th>2</th>\n",
       "      <td>1</td>\n",
       "      <td>0</td>\n",
       "      <td>1</td>\n",
       "    </tr>\n",
       "  </tbody>\n",
       "</table>\n",
       "</div>"
      ],
      "text/plain": [
       "   mine  take  text\n",
       "0     1     1     1\n",
       "1     1     1     1\n",
       "2     1     0     1"
      ]
     },
     "execution_count": 16,
     "metadata": {},
     "output_type": "execute_result"
    }
   ],
   "source": [
    "# keep top 3 terms ordered by term frequency across the corpus. \n",
    "vectorizer = StemmedCountVectorizer(stop_words=nltk_stopwords,\n",
    "                                    max_features=3)\n",
    "DTM =vectorizer.fit_transform(mytexts)\n",
    "pd.DataFrame(DTM.toarray(), columns = vectorizer.get_feature_names())"
   ]
  },
  {
   "cell_type": "markdown",
   "id": "40398334",
   "metadata": {},
   "source": [
    "6. Use a customized vocabulary."
   ]
  },
  {
   "cell_type": "code",
   "execution_count": 17,
   "id": "c438036c",
   "metadata": {},
   "outputs": [
    {
     "name": "stderr",
     "output_type": "stream",
     "text": [
      "/home/abromeland/.local/lib/python3.9/site-packages/sklearn/utils/deprecation.py:87: FutureWarning: Function get_feature_names is deprecated; get_feature_names is deprecated in 1.0 and will be removed in 1.2. Please use get_feature_names_out instead.\n",
      "  warnings.warn(msg, category=FutureWarning)\n"
     ]
    },
    {
     "data": {
      "text/html": [
       "<div>\n",
       "<style scoped>\n",
       "    .dataframe tbody tr th:only-of-type {\n",
       "        vertical-align: middle;\n",
       "    }\n",
       "\n",
       "    .dataframe tbody tr th {\n",
       "        vertical-align: top;\n",
       "    }\n",
       "\n",
       "    .dataframe thead th {\n",
       "        text-align: right;\n",
       "    }\n",
       "</style>\n",
       "<table border=\"1\" class=\"dataframe\">\n",
       "  <thead>\n",
       "    <tr style=\"text-align: right;\">\n",
       "      <th></th>\n",
       "      <th>mine</th>\n",
       "      <th>fall</th>\n",
       "      <th>year</th>\n",
       "    </tr>\n",
       "  </thead>\n",
       "  <tbody>\n",
       "    <tr>\n",
       "      <th>0</th>\n",
       "      <td>1</td>\n",
       "      <td>1</td>\n",
       "      <td>0</td>\n",
       "    </tr>\n",
       "    <tr>\n",
       "      <th>1</th>\n",
       "      <td>1</td>\n",
       "      <td>0</td>\n",
       "      <td>1</td>\n",
       "    </tr>\n",
       "    <tr>\n",
       "      <th>2</th>\n",
       "      <td>1</td>\n",
       "      <td>0</td>\n",
       "      <td>0</td>\n",
       "    </tr>\n",
       "  </tbody>\n",
       "</table>\n",
       "</div>"
      ],
      "text/plain": [
       "   mine  fall  year\n",
       "0     1     1     0\n",
       "1     1     0     1\n",
       "2     1     0     0"
      ]
     },
     "execution_count": 17,
     "metadata": {},
     "output_type": "execute_result"
    }
   ],
   "source": [
    "myvocabulary=[\"mine\",\"fall\",\"year\"]       #This is a customized vocabulary.\n",
    "vectorizer = StemmedCountVectorizer(stop_words=nltk_stopwords,\n",
    "                                    vocabulary=myvocabulary)\n",
    "DTM =vectorizer.fit_transform(mytexts)\n",
    "pd.DataFrame(DTM.toarray(), columns = vectorizer.get_feature_names())"
   ]
  },
  {
   "cell_type": "markdown",
   "id": "9ae9c0dd",
   "metadata": {},
   "source": [
    "## Count Total Frequency of a Term using DTM"
   ]
  },
  {
   "cell_type": "markdown",
   "id": "6d6e6c2f",
   "metadata": {},
   "source": [
    "DTM can be used to calculate total term frequency across all documents. We just need to take the sum along each column by **DTM.sum(axis=0).tolist()[0]**"
   ]
  },
  {
   "cell_type": "code",
   "execution_count": 18,
   "id": "f1a42faa",
   "metadata": {},
   "outputs": [
    {
     "name": "stderr",
     "output_type": "stream",
     "text": [
      "/home/abromeland/.local/lib/python3.9/site-packages/sklearn/utils/deprecation.py:87: FutureWarning: Function get_feature_names is deprecated; get_feature_names is deprecated in 1.0 and will be removed in 1.2. Please use get_feature_names_out instead.\n",
      "  warnings.warn(msg, category=FutureWarning)\n"
     ]
    },
    {
     "data": {
      "text/html": [
       "<div>\n",
       "<style scoped>\n",
       "    .dataframe tbody tr th:only-of-type {\n",
       "        vertical-align: middle;\n",
       "    }\n",
       "\n",
       "    .dataframe tbody tr th {\n",
       "        vertical-align: top;\n",
       "    }\n",
       "\n",
       "    .dataframe thead th {\n",
       "        text-align: right;\n",
       "    }\n",
       "</style>\n",
       "<table border=\"1\" class=\"dataframe\">\n",
       "  <thead>\n",
       "    <tr style=\"text-align: right;\">\n",
       "      <th></th>\n",
       "      <th>Term</th>\n",
       "      <th>Frequency</th>\n",
       "    </tr>\n",
       "  </thead>\n",
       "  <tbody>\n",
       "    <tr>\n",
       "      <th>0</th>\n",
       "      <td>mine</td>\n",
       "      <td>3</td>\n",
       "    </tr>\n",
       "    <tr>\n",
       "      <th>1</th>\n",
       "      <td>text</td>\n",
       "      <td>3</td>\n",
       "    </tr>\n",
       "    <tr>\n",
       "      <th>2</th>\n",
       "      <td>take</td>\n",
       "      <td>2</td>\n",
       "    </tr>\n",
       "    <tr>\n",
       "      <th>3</th>\n",
       "      <td>2021</td>\n",
       "      <td>1</td>\n",
       "    </tr>\n",
       "    <tr>\n",
       "      <th>4</th>\n",
       "      <td>fall</td>\n",
       "      <td>1</td>\n",
       "    </tr>\n",
       "    <tr>\n",
       "      <th>5</th>\n",
       "      <td>offer</td>\n",
       "      <td>1</td>\n",
       "    </tr>\n",
       "    <tr>\n",
       "      <th>6</th>\n",
       "      <td>unfortun</td>\n",
       "      <td>1</td>\n",
       "    </tr>\n",
       "    <tr>\n",
       "      <th>7</th>\n",
       "      <td>year</td>\n",
       "      <td>1</td>\n",
       "    </tr>\n",
       "  </tbody>\n",
       "</table>\n",
       "</div>"
      ],
      "text/plain": [
       "       Term  Frequency\n",
       "0      mine          3\n",
       "1      text          3\n",
       "2      take          2\n",
       "3      2021          1\n",
       "4      fall          1\n",
       "5     offer          1\n",
       "6  unfortun          1\n",
       "7      year          1"
      ]
     },
     "execution_count": 18,
     "metadata": {},
     "output_type": "execute_result"
    }
   ],
   "source": [
    "vectorizer = StemmedCountVectorizer(stop_words=nltk_stopwords)\n",
    "DTM =vectorizer.fit_transform(mytexts)\n",
    "df = pd.DataFrame({'Term': vectorizer.get_feature_names(),\n",
    "                   'Frequency': DTM.sum(axis=0).tolist()[0]\n",
    "                  })\n",
    "\n",
    "df.sort_values(by=\"Frequency\",inplace=True,ascending=False)\n",
    "df.reset_index(inplace=True,drop=True)\n",
    "df"
   ]
  },
  {
   "cell_type": "markdown",
   "id": "522e4d27",
   "metadata": {},
   "source": [
    "Text vectorization is a fundamental step in analyzing text data, and different vectorization algorithms may drastically affect end results, so we to choose one that will deliver the results we're hoping for."
   ]
  },
  {
   "cell_type": "markdown",
   "id": "e98148c5",
   "metadata": {},
   "source": [
    "## TFIDF (Term Frequency-Inverse Document Frequency)"
   ]
  },
  {
   "cell_type": "markdown",
   "id": "ae12ff4b",
   "metadata": {},
   "source": [
    "In all DTMs above, each term in a document is scored by its **term frequency** (TF). Is it always the best way to score a term?"
   ]
  },
  {
   "cell_type": "markdown",
   "id": "32f2498f",
   "metadata": {},
   "source": [
    "Example:"
   ]
  },
  {
   "cell_type": "code",
   "execution_count": 19,
   "id": "7dfbd629",
   "metadata": {},
   "outputs": [
    {
     "name": "stderr",
     "output_type": "stream",
     "text": [
      "/home/abromeland/.local/lib/python3.9/site-packages/sklearn/utils/deprecation.py:87: FutureWarning: Function get_feature_names is deprecated; get_feature_names is deprecated in 1.0 and will be removed in 1.2. Please use get_feature_names_out instead.\n",
      "  warnings.warn(msg, category=FutureWarning)\n"
     ]
    },
    {
     "data": {
      "text/html": [
       "<div>\n",
       "<style scoped>\n",
       "    .dataframe tbody tr th:only-of-type {\n",
       "        vertical-align: middle;\n",
       "    }\n",
       "\n",
       "    .dataframe tbody tr th {\n",
       "        vertical-align: top;\n",
       "    }\n",
       "\n",
       "    .dataframe thead th {\n",
       "        text-align: right;\n",
       "    }\n",
       "</style>\n",
       "<table border=\"1\" class=\"dataframe\">\n",
       "  <thead>\n",
       "    <tr style=\"text-align: right;\">\n",
       "      <th></th>\n",
       "      <th>apple</th>\n",
       "      <th>company</th>\n",
       "      <th>due</th>\n",
       "      <th>fruit</th>\n",
       "      <th>inc</th>\n",
       "      <th>issued</th>\n",
       "      <th>listeria</th>\n",
       "      <th>recall</th>\n",
       "      <th>technology</th>\n",
       "    </tr>\n",
       "  </thead>\n",
       "  <tbody>\n",
       "    <tr>\n",
       "      <th>0</th>\n",
       "      <td>1</td>\n",
       "      <td>0</td>\n",
       "      <td>0</td>\n",
       "      <td>1</td>\n",
       "      <td>0</td>\n",
       "      <td>0</td>\n",
       "      <td>0</td>\n",
       "      <td>0</td>\n",
       "      <td>0</td>\n",
       "    </tr>\n",
       "    <tr>\n",
       "      <th>1</th>\n",
       "      <td>1</td>\n",
       "      <td>1</td>\n",
       "      <td>0</td>\n",
       "      <td>0</td>\n",
       "      <td>1</td>\n",
       "      <td>0</td>\n",
       "      <td>0</td>\n",
       "      <td>0</td>\n",
       "      <td>1</td>\n",
       "    </tr>\n",
       "    <tr>\n",
       "      <th>2</th>\n",
       "      <td>1</td>\n",
       "      <td>0</td>\n",
       "      <td>1</td>\n",
       "      <td>0</td>\n",
       "      <td>0</td>\n",
       "      <td>1</td>\n",
       "      <td>1</td>\n",
       "      <td>1</td>\n",
       "      <td>0</td>\n",
       "    </tr>\n",
       "  </tbody>\n",
       "</table>\n",
       "</div>"
      ],
      "text/plain": [
       "   apple  company  due  fruit  inc  issued  listeria  recall  technology\n",
       "0      1        0    0      1    0       0         0       0           0\n",
       "1      1        1    0      0    1       0         0       0           1\n",
       "2      1        0    1      0    0       1         1       1           0"
      ]
     },
     "execution_count": 19,
     "metadata": {},
     "output_type": "execute_result"
    }
   ],
   "source": [
    "mytexts = [\"An apple is a fruit.\", \n",
    "           \"Apple Inc. is a technology company.\",\n",
    "           \"Apple recall is issued due to listeria.\"]\n",
    "vectorizer = CountVectorizer(stop_words=nltk_stopwords)\n",
    "text_counts= vectorizer.fit_transform(mytexts)\n",
    "pd.DataFrame(text_counts.toarray(), columns = vectorizer.get_feature_names())"
   ]
  },
  {
   "cell_type": "markdown",
   "id": "1b391cf0",
   "metadata": {},
   "source": [
    "Should \"fruit\" and \"apple\" have the same score in Doc1? \n",
    "\n",
    "Should \"company\" and \"apple\" have the same score in Doc2? \n",
    "\n",
    "Should \"listeria\" and \"apple\" have the same score in Doc3?"
   ]
  },
  {
   "cell_type": "markdown",
   "id": "175ff5dd",
   "metadata": {},
   "source": [
    "**Principle:** A good vectorization scheme should give a term in a document a high score if \n",
    "1.  The term has a high frequency.\n",
    "2.  The term that occurs only in a small number of documents. (\"signiture\" of those documents.)"
   ]
  },
  {
   "cell_type": "markdown",
   "id": "8c3a69c7",
   "metadata": {},
   "source": [
    "* TF: Term frequency\n",
    " -  TF of term $t$ in doc $d$ $=$ The number of occurrences of $t$ in $d$.\n",
    " -  Follows Principle 1.\n",
    " -  Changes with documents. \n",
    " \n",
    " \n",
    "* IDF: Inverse document frequency\n",
    " -  IDF of term $t$ $=1+\\ln\\left(\\frac{1+\\text{ How many documents in total}}{1+\\text{ How many documents containing } t }\\right)$ \n",
    " -  IDF is high if the term only appear in a small number of documents. \n",
    " -  Follows Principle 2.\n",
    " -  Same across documents.  \n",
    " \n",
    " \n",
    "* **TFIDF=TF$\\times$IDF**\n",
    " -  Most well-known document representation schema in information retrieval."
   ]
  },
  {
   "cell_type": "markdown",
   "id": "a7cc6f1b",
   "metadata": {},
   "source": [
    "We can use **TfidfVectorizer** from **sklearn** to create a DTM in terms of TFIDF."
   ]
  },
  {
   "cell_type": "code",
   "execution_count": 20,
   "id": "fc767e2f",
   "metadata": {},
   "outputs": [],
   "source": [
    "from sklearn.feature_extraction.text import TfidfVectorizer"
   ]
  },
  {
   "cell_type": "code",
   "execution_count": 21,
   "id": "529d6af1",
   "metadata": {},
   "outputs": [
    {
     "name": "stderr",
     "output_type": "stream",
     "text": [
      "/home/abromeland/.local/lib/python3.9/site-packages/sklearn/utils/deprecation.py:87: FutureWarning: Function get_feature_names is deprecated; get_feature_names is deprecated in 1.0 and will be removed in 1.2. Please use get_feature_names_out instead.\n",
      "  warnings.warn(msg, category=FutureWarning)\n"
     ]
    },
    {
     "data": {
      "text/html": [
       "<div>\n",
       "<style scoped>\n",
       "    .dataframe tbody tr th:only-of-type {\n",
       "        vertical-align: middle;\n",
       "    }\n",
       "\n",
       "    .dataframe tbody tr th {\n",
       "        vertical-align: top;\n",
       "    }\n",
       "\n",
       "    .dataframe thead th {\n",
       "        text-align: right;\n",
       "    }\n",
       "</style>\n",
       "<table border=\"1\" class=\"dataframe\">\n",
       "  <thead>\n",
       "    <tr style=\"text-align: right;\">\n",
       "      <th></th>\n",
       "      <th>apple</th>\n",
       "      <th>company</th>\n",
       "      <th>due</th>\n",
       "      <th>fruit</th>\n",
       "      <th>inc</th>\n",
       "      <th>issued</th>\n",
       "      <th>listeria</th>\n",
       "      <th>recall</th>\n",
       "      <th>technology</th>\n",
       "    </tr>\n",
       "  </thead>\n",
       "  <tbody>\n",
       "    <tr>\n",
       "      <th>0</th>\n",
       "      <td>1.0</td>\n",
       "      <td>0.000000</td>\n",
       "      <td>0.000000</td>\n",
       "      <td>1.693147</td>\n",
       "      <td>0.000000</td>\n",
       "      <td>0.000000</td>\n",
       "      <td>0.000000</td>\n",
       "      <td>0.000000</td>\n",
       "      <td>0.000000</td>\n",
       "    </tr>\n",
       "    <tr>\n",
       "      <th>1</th>\n",
       "      <td>1.0</td>\n",
       "      <td>1.693147</td>\n",
       "      <td>0.000000</td>\n",
       "      <td>0.000000</td>\n",
       "      <td>1.693147</td>\n",
       "      <td>0.000000</td>\n",
       "      <td>0.000000</td>\n",
       "      <td>0.000000</td>\n",
       "      <td>1.693147</td>\n",
       "    </tr>\n",
       "    <tr>\n",
       "      <th>2</th>\n",
       "      <td>1.0</td>\n",
       "      <td>0.000000</td>\n",
       "      <td>1.693147</td>\n",
       "      <td>0.000000</td>\n",
       "      <td>0.000000</td>\n",
       "      <td>1.693147</td>\n",
       "      <td>1.693147</td>\n",
       "      <td>1.693147</td>\n",
       "      <td>0.000000</td>\n",
       "    </tr>\n",
       "  </tbody>\n",
       "</table>\n",
       "</div>"
      ],
      "text/plain": [
       "   apple   company       due     fruit       inc    issued  listeria  \\\n",
       "0    1.0  0.000000  0.000000  1.693147  0.000000  0.000000  0.000000   \n",
       "1    1.0  1.693147  0.000000  0.000000  1.693147  0.000000  0.000000   \n",
       "2    1.0  0.000000  1.693147  0.000000  0.000000  1.693147  1.693147   \n",
       "\n",
       "     recall  technology  \n",
       "0  0.000000    0.000000  \n",
       "1  0.000000    1.693147  \n",
       "2  1.693147    0.000000  "
      ]
     },
     "execution_count": 21,
     "metadata": {},
     "output_type": "execute_result"
    }
   ],
   "source": [
    "vectorizer=TfidfVectorizer(stop_words=nltk_stopwords, norm=None)\n",
    "DTM = vectorizer.fit_transform(mytexts)\n",
    "pd.DataFrame(DTM.toarray(), columns = vectorizer.get_feature_names())"
   ]
  },
  {
   "cell_type": "markdown",
   "id": "a3711f82",
   "metadata": {},
   "source": [
    "Here, **norm=None** means we don't want to normalize each row of the DTM to make it sum up to one. \n",
    "\n",
    "If we want to normalize the rows, for example, when the documents have highly diversified lengths, we can set **norm=\"l1\"**."
   ]
  },
  {
   "cell_type": "markdown",
   "id": "13e9fa59",
   "metadata": {},
   "source": [
    "Want to know more about **TfidfVectorizer**? See (https://scikit-learn.org/stable/modules/generated/sklearn.feature_extraction.text.TfidfVectorizer.html)"
   ]
  },
  {
   "cell_type": "markdown",
   "id": "5c6a77c6",
   "metadata": {},
   "source": [
    "Similar to **CountVectorizer**, **TfidfVectorizer** cannot do stemming by itself, so the following vectorizer needs to be defined if we need to apply stemming before creating the DTM."
   ]
  },
  {
   "cell_type": "code",
   "execution_count": 22,
   "id": "39f6bf71",
   "metadata": {},
   "outputs": [],
   "source": [
    "stemmer = nltk.stem.SnowballStemmer(\"english\")\n",
    "class StemmedTfidfVectorizer(TfidfVectorizer):\n",
    "    def build_analyzer(self):\n",
    "        analyzer = super(StemmedTfidfVectorizer, self).build_analyzer()\n",
    "        return lambda doc: ([stemmer.stem(w) for w in analyzer(doc)])"
   ]
  },
  {
   "cell_type": "code",
   "execution_count": 23,
   "id": "982062c6",
   "metadata": {},
   "outputs": [
    {
     "name": "stderr",
     "output_type": "stream",
     "text": [
      "/home/abromeland/.local/lib/python3.9/site-packages/sklearn/utils/deprecation.py:87: FutureWarning: Function get_feature_names is deprecated; get_feature_names is deprecated in 1.0 and will be removed in 1.2. Please use get_feature_names_out instead.\n",
      "  warnings.warn(msg, category=FutureWarning)\n"
     ]
    },
    {
     "data": {
      "text/html": [
       "<div>\n",
       "<style scoped>\n",
       "    .dataframe tbody tr th:only-of-type {\n",
       "        vertical-align: middle;\n",
       "    }\n",
       "\n",
       "    .dataframe tbody tr th {\n",
       "        vertical-align: top;\n",
       "    }\n",
       "\n",
       "    .dataframe thead th {\n",
       "        text-align: right;\n",
       "    }\n",
       "</style>\n",
       "<table border=\"1\" class=\"dataframe\">\n",
       "  <thead>\n",
       "    <tr style=\"text-align: right;\">\n",
       "      <th></th>\n",
       "      <th>appl</th>\n",
       "      <th>compani</th>\n",
       "      <th>due</th>\n",
       "      <th>fruit</th>\n",
       "      <th>inc</th>\n",
       "      <th>issu</th>\n",
       "      <th>listeria</th>\n",
       "      <th>recal</th>\n",
       "      <th>technolog</th>\n",
       "    </tr>\n",
       "  </thead>\n",
       "  <tbody>\n",
       "    <tr>\n",
       "      <th>0</th>\n",
       "      <td>1.0</td>\n",
       "      <td>0.000000</td>\n",
       "      <td>0.000000</td>\n",
       "      <td>1.693147</td>\n",
       "      <td>0.000000</td>\n",
       "      <td>0.000000</td>\n",
       "      <td>0.000000</td>\n",
       "      <td>0.000000</td>\n",
       "      <td>0.000000</td>\n",
       "    </tr>\n",
       "    <tr>\n",
       "      <th>1</th>\n",
       "      <td>1.0</td>\n",
       "      <td>1.693147</td>\n",
       "      <td>0.000000</td>\n",
       "      <td>0.000000</td>\n",
       "      <td>1.693147</td>\n",
       "      <td>0.000000</td>\n",
       "      <td>0.000000</td>\n",
       "      <td>0.000000</td>\n",
       "      <td>1.693147</td>\n",
       "    </tr>\n",
       "    <tr>\n",
       "      <th>2</th>\n",
       "      <td>1.0</td>\n",
       "      <td>0.000000</td>\n",
       "      <td>1.693147</td>\n",
       "      <td>0.000000</td>\n",
       "      <td>0.000000</td>\n",
       "      <td>1.693147</td>\n",
       "      <td>1.693147</td>\n",
       "      <td>1.693147</td>\n",
       "      <td>0.000000</td>\n",
       "    </tr>\n",
       "  </tbody>\n",
       "</table>\n",
       "</div>"
      ],
      "text/plain": [
       "   appl   compani       due     fruit       inc      issu  listeria     recal  \\\n",
       "0   1.0  0.000000  0.000000  1.693147  0.000000  0.000000  0.000000  0.000000   \n",
       "1   1.0  1.693147  0.000000  0.000000  1.693147  0.000000  0.000000  0.000000   \n",
       "2   1.0  0.000000  1.693147  0.000000  0.000000  1.693147  1.693147  1.693147   \n",
       "\n",
       "   technolog  \n",
       "0   0.000000  \n",
       "1   1.693147  \n",
       "2   0.000000  "
      ]
     },
     "execution_count": 23,
     "metadata": {},
     "output_type": "execute_result"
    }
   ],
   "source": [
    "vectorizer=StemmedTfidfVectorizer(stop_words=nltk_stopwords, norm=None)\n",
    "DTM = vectorizer.fit_transform(mytexts)\n",
    "pd.DataFrame(DTM.toarray(), columns = vectorizer.get_feature_names())"
   ]
  },
  {
   "cell_type": "markdown",
   "id": "1925dd49",
   "metadata": {},
   "source": [
    "Just like **CountVectorizer**, **StemmedTfidfVectorizer** and **TfidfVectorizer** can also initialize vectorizer with optional arguments such as max_df, min_df, max_features, vocabulary."
   ]
  },
  {
   "cell_type": "markdown",
   "id": "53960c73",
   "metadata": {},
   "source": [
    "## Binary DTM"
   ]
  },
  {
   "cell_type": "markdown",
   "id": "62ae964e",
   "metadata": {},
   "source": [
    "In a binary DTM, each term has a score of either one (occur) or zero (not occur)."
   ]
  },
  {
   "cell_type": "code",
   "execution_count": 24,
   "id": "e3db2502",
   "metadata": {},
   "outputs": [
    {
     "name": "stderr",
     "output_type": "stream",
     "text": [
      "/home/abromeland/.local/lib/python3.9/site-packages/sklearn/utils/deprecation.py:87: FutureWarning: Function get_feature_names is deprecated; get_feature_names is deprecated in 1.0 and will be removed in 1.2. Please use get_feature_names_out instead.\n",
      "  warnings.warn(msg, category=FutureWarning)\n"
     ]
    },
    {
     "data": {
      "text/html": [
       "<div>\n",
       "<style scoped>\n",
       "    .dataframe tbody tr th:only-of-type {\n",
       "        vertical-align: middle;\n",
       "    }\n",
       "\n",
       "    .dataframe tbody tr th {\n",
       "        vertical-align: top;\n",
       "    }\n",
       "\n",
       "    .dataframe thead th {\n",
       "        text-align: right;\n",
       "    }\n",
       "</style>\n",
       "<table border=\"1\" class=\"dataframe\">\n",
       "  <thead>\n",
       "    <tr style=\"text-align: right;\">\n",
       "      <th></th>\n",
       "      <th>apple</th>\n",
       "      <th>company</th>\n",
       "      <th>due</th>\n",
       "      <th>fruit</th>\n",
       "      <th>inc</th>\n",
       "      <th>issued</th>\n",
       "      <th>listeria</th>\n",
       "      <th>recall</th>\n",
       "      <th>technology</th>\n",
       "    </tr>\n",
       "  </thead>\n",
       "  <tbody>\n",
       "    <tr>\n",
       "      <th>0</th>\n",
       "      <td>1</td>\n",
       "      <td>0</td>\n",
       "      <td>0</td>\n",
       "      <td>1</td>\n",
       "      <td>0</td>\n",
       "      <td>0</td>\n",
       "      <td>0</td>\n",
       "      <td>0</td>\n",
       "      <td>0</td>\n",
       "    </tr>\n",
       "    <tr>\n",
       "      <th>1</th>\n",
       "      <td>1</td>\n",
       "      <td>1</td>\n",
       "      <td>0</td>\n",
       "      <td>0</td>\n",
       "      <td>1</td>\n",
       "      <td>0</td>\n",
       "      <td>0</td>\n",
       "      <td>0</td>\n",
       "      <td>1</td>\n",
       "    </tr>\n",
       "    <tr>\n",
       "      <th>2</th>\n",
       "      <td>1</td>\n",
       "      <td>0</td>\n",
       "      <td>1</td>\n",
       "      <td>0</td>\n",
       "      <td>0</td>\n",
       "      <td>1</td>\n",
       "      <td>1</td>\n",
       "      <td>1</td>\n",
       "      <td>0</td>\n",
       "    </tr>\n",
       "  </tbody>\n",
       "</table>\n",
       "</div>"
      ],
      "text/plain": [
       "   apple  company  due  fruit  inc  issued  listeria  recall  technology\n",
       "0      1        0    0      1    0       0         0       0           0\n",
       "1      1        1    0      0    1       0         0       0           1\n",
       "2      1        0    1      0    0       1         1       1           0"
      ]
     },
     "execution_count": 24,
     "metadata": {},
     "output_type": "execute_result"
    }
   ],
   "source": [
    "vectorizer=CountVectorizer(stop_words=nltk_stopwords, binary=True)\n",
    "DTM = vectorizer.fit_transform(mytexts)\n",
    "pd.DataFrame(DTM.toarray(), columns = vectorizer.get_feature_names())"
   ]
  },
  {
   "cell_type": "markdown",
   "id": "10f28797",
   "metadata": {},
   "source": [
    "A binary DTM is often used to vectorize short documents, for examples, tweets, facebook posts, and text messages. \n",
    "\n",
    "   * In a long document, a frequent term deserves a TF score.\n",
    "   \n",
    "   \n",
    "   * In a short document, a frequent term might not carry more information than others. Shall we still give it a high TF score?\n",
    "   "
   ]
  },
  {
   "cell_type": "markdown",
   "id": "c5e09267",
   "metadata": {},
   "source": [
    "For example, someone tweets **\"I've never enjoy the snow so much before. Here is the snowman I made, seconds before my kid knocked it down.\"** Should \"before\" be scored twice as much as other word like \"snow\" or \"kid\"?"
   ]
  },
  {
   "cell_type": "markdown",
   "id": "6296dc85",
   "metadata": {},
   "source": [
    "## N-Grams"
   ]
  },
  {
   "cell_type": "markdown",
   "id": "05f8bd19",
   "metadata": {},
   "source": [
    "A **n-gram** is a contiguous sequence of $n$ tokens in a document. \"1-gram\", \"2-gram\" and \"3-gram\" are also called unigram, bigram and trigram, respectively.\n",
    "\n",
    "For example, \"I love reading in a rainy day\" has five **trigrams**: \"I love reading\", \"love reading in\", \"reading in a\", \"in a rainy\", and \"a rainy day\". \n",
    "\n",
    "After removing stop words, the sentence becomes \"love reading rainy day\" and has only two **trigrams**: \"love reading rainy\" and \"reading rainy day\".\n",
    "\n",
    "We can create a DTM using a vocabulary that consists of all n-grams in the dataset using **ngram_range**."
   ]
  },
  {
   "cell_type": "code",
   "execution_count": 25,
   "id": "20b1e5eb",
   "metadata": {},
   "outputs": [],
   "source": [
    "mytexts = [\"I will take text mining in Fall 2021.\",\n",
    "           \"Are you taking Text-Mining this year?\",\n",
    "           \"Unfortunately, Text Mining is not offered.\"]"
   ]
  },
  {
   "cell_type": "code",
   "execution_count": 26,
   "id": "7230f511",
   "metadata": {},
   "outputs": [
    {
     "name": "stderr",
     "output_type": "stream",
     "text": [
      "/home/abromeland/.local/lib/python3.9/site-packages/sklearn/utils/deprecation.py:87: FutureWarning: Function get_feature_names is deprecated; get_feature_names is deprecated in 1.0 and will be removed in 1.2. Please use get_feature_names_out instead.\n",
      "  warnings.warn(msg, category=FutureWarning)\n"
     ]
    },
    {
     "data": {
      "text/html": [
       "<div>\n",
       "<style scoped>\n",
       "    .dataframe tbody tr th:only-of-type {\n",
       "        vertical-align: middle;\n",
       "    }\n",
       "\n",
       "    .dataframe tbody tr th {\n",
       "        vertical-align: top;\n",
       "    }\n",
       "\n",
       "    .dataframe thead th {\n",
       "        text-align: right;\n",
       "    }\n",
       "</style>\n",
       "<table border=\"1\" class=\"dataframe\">\n",
       "  <thead>\n",
       "    <tr style=\"text-align: right;\">\n",
       "      <th></th>\n",
       "      <th>fall 2021</th>\n",
       "      <th>mining fall</th>\n",
       "      <th>mining offered</th>\n",
       "      <th>mining year</th>\n",
       "      <th>take text</th>\n",
       "      <th>taking text</th>\n",
       "      <th>text mining</th>\n",
       "      <th>unfortunately text</th>\n",
       "    </tr>\n",
       "  </thead>\n",
       "  <tbody>\n",
       "    <tr>\n",
       "      <th>0</th>\n",
       "      <td>1</td>\n",
       "      <td>1</td>\n",
       "      <td>0</td>\n",
       "      <td>0</td>\n",
       "      <td>1</td>\n",
       "      <td>0</td>\n",
       "      <td>1</td>\n",
       "      <td>0</td>\n",
       "    </tr>\n",
       "    <tr>\n",
       "      <th>1</th>\n",
       "      <td>0</td>\n",
       "      <td>0</td>\n",
       "      <td>0</td>\n",
       "      <td>1</td>\n",
       "      <td>0</td>\n",
       "      <td>1</td>\n",
       "      <td>1</td>\n",
       "      <td>0</td>\n",
       "    </tr>\n",
       "    <tr>\n",
       "      <th>2</th>\n",
       "      <td>0</td>\n",
       "      <td>0</td>\n",
       "      <td>1</td>\n",
       "      <td>0</td>\n",
       "      <td>0</td>\n",
       "      <td>0</td>\n",
       "      <td>1</td>\n",
       "      <td>1</td>\n",
       "    </tr>\n",
       "  </tbody>\n",
       "</table>\n",
       "</div>"
      ],
      "text/plain": [
       "   fall 2021  mining fall  mining offered  mining year  take text  \\\n",
       "0          1            1               0            0          1   \n",
       "1          0            0               0            1          0   \n",
       "2          0            0               1            0          0   \n",
       "\n",
       "   taking text  text mining  unfortunately text  \n",
       "0            0            1                   0  \n",
       "1            1            1                   0  \n",
       "2            0            1                   1  "
      ]
     },
     "execution_count": 26,
     "metadata": {},
     "output_type": "execute_result"
    }
   ],
   "source": [
    "vectorizer=CountVectorizer(stop_words=nltk_stopwords,\n",
    "                           ngram_range=(2,2))\n",
    "DTM= vectorizer.fit_transform(mytexts)\n",
    "pd.DataFrame(DTM.toarray(), columns = vectorizer.get_feature_names())"
   ]
  },
  {
   "cell_type": "markdown",
   "id": "347290cc",
   "metadata": {},
   "source": [
    "Note that **vectorizer** always remove stop words before creating n-grams. That's why \"mining offered\" is there. "
   ]
  },
  {
   "cell_type": "markdown",
   "id": "58572a29",
   "metadata": {},
   "source": [
    "Typically, looking as the most frequent n-grams can help us better understand the text dataset than\n",
    "unigrams. If a n-gram has a high frequency, it is probably a used fixed phrase.\n",
    "- text mining\n",
    "- home run\n",
    "- never work\n",
    "- new year\n",
    "- big data\n",
    "- university of iowa"
   ]
  },
  {
   "cell_type": "markdown",
   "id": "b2b7332c",
   "metadata": {},
   "source": [
    "Note that the DTM created by n-grams will be huge but most of the n-grams in the vocabulary will be meaningless. Hence, we almost always need to set **max_features** in order to limit the size of the vocabulary."
   ]
  },
  {
   "cell_type": "markdown",
   "id": "44e0bc1c",
   "metadata": {},
   "source": [
    "Moreover, **vectorizer** always does stemming after creating n-grams. As a result, only the last term in the n-grams will be stemmed. Therefore, we either do not apply stemming or clearn the raw text first before creating a DTM."
   ]
  },
  {
   "cell_type": "code",
   "execution_count": 27,
   "id": "6120f9ea",
   "metadata": {},
   "outputs": [
    {
     "name": "stderr",
     "output_type": "stream",
     "text": [
      "/home/abromeland/.local/lib/python3.9/site-packages/sklearn/utils/deprecation.py:87: FutureWarning: Function get_feature_names is deprecated; get_feature_names is deprecated in 1.0 and will be removed in 1.2. Please use get_feature_names_out instead.\n",
      "  warnings.warn(msg, category=FutureWarning)\n"
     ]
    },
    {
     "data": {
      "text/html": [
       "<div>\n",
       "<style scoped>\n",
       "    .dataframe tbody tr th:only-of-type {\n",
       "        vertical-align: middle;\n",
       "    }\n",
       "\n",
       "    .dataframe tbody tr th {\n",
       "        vertical-align: top;\n",
       "    }\n",
       "\n",
       "    .dataframe thead th {\n",
       "        text-align: right;\n",
       "    }\n",
       "</style>\n",
       "<table border=\"1\" class=\"dataframe\">\n",
       "  <thead>\n",
       "    <tr style=\"text-align: right;\">\n",
       "      <th></th>\n",
       "      <th>fall 2021</th>\n",
       "      <th>mining fal</th>\n",
       "      <th>mining off</th>\n",
       "      <th>mining year</th>\n",
       "      <th>take text</th>\n",
       "      <th>taking text</th>\n",
       "      <th>text min</th>\n",
       "      <th>unfortunately text</th>\n",
       "    </tr>\n",
       "  </thead>\n",
       "  <tbody>\n",
       "    <tr>\n",
       "      <th>0</th>\n",
       "      <td>1</td>\n",
       "      <td>1</td>\n",
       "      <td>0</td>\n",
       "      <td>0</td>\n",
       "      <td>1</td>\n",
       "      <td>0</td>\n",
       "      <td>1</td>\n",
       "      <td>0</td>\n",
       "    </tr>\n",
       "    <tr>\n",
       "      <th>1</th>\n",
       "      <td>0</td>\n",
       "      <td>0</td>\n",
       "      <td>0</td>\n",
       "      <td>1</td>\n",
       "      <td>0</td>\n",
       "      <td>1</td>\n",
       "      <td>1</td>\n",
       "      <td>0</td>\n",
       "    </tr>\n",
       "    <tr>\n",
       "      <th>2</th>\n",
       "      <td>0</td>\n",
       "      <td>0</td>\n",
       "      <td>1</td>\n",
       "      <td>0</td>\n",
       "      <td>0</td>\n",
       "      <td>0</td>\n",
       "      <td>1</td>\n",
       "      <td>1</td>\n",
       "    </tr>\n",
       "  </tbody>\n",
       "</table>\n",
       "</div>"
      ],
      "text/plain": [
       "   fall 2021  mining fal  mining off  mining year  take text  taking text  \\\n",
       "0          1           1           0            0          1            0   \n",
       "1          0           0           0            1          0            1   \n",
       "2          0           0           1            0          0            0   \n",
       "\n",
       "   text min  unfortunately text  \n",
       "0         1                   0  \n",
       "1         1                   0  \n",
       "2         1                   1  "
      ]
     },
     "execution_count": 27,
     "metadata": {},
     "output_type": "execute_result"
    }
   ],
   "source": [
    "vectorizer=StemmedCountVectorizer(stop_words=nltk_stopwords,\n",
    "                                  ngram_range=(2,2))\n",
    "DTM= vectorizer.fit_transform(mytexts)\n",
    "pd.DataFrame(DTM.toarray(), columns = vectorizer.get_feature_names())"
   ]
  },
  {
   "cell_type": "markdown",
   "id": "c4bd6755",
   "metadata": {},
   "source": [
    "## fit_transform() VS transform()"
   ]
  },
  {
   "cell_type": "markdown",
   "id": "f9143856",
   "metadata": {},
   "source": [
    "**vectorizer.fit_transform()** and **vectorizer.transform()** can be both used to create a DTM. However, they are slightly different and it is important that you know what the difference is because we will use they at different steps of predictive modeling."
   ]
  },
  {
   "cell_type": "markdown",
   "id": "48e6a98d",
   "metadata": {},
   "source": [
    "   * **vectorizer.fit_transform()** constructs the vocabulary from the text data, saves the vocabulary internally, and creates the DTM using that vocabulary. This should be applied to **training** data.\n",
    "   \n",
    "   \n",
    "   * **vectorizer.transform()** does not construct the vocabulary. Instead, it directly borrows the vocabulary constructed by **vectorizer.fit_transform()** to create the DTM. This should be applied to **testing** data.\n",
    "   "
   ]
  },
  {
   "cell_type": "markdown",
   "id": "b57742c9",
   "metadata": {},
   "source": [
    "See the following examples:"
   ]
  },
  {
   "cell_type": "code",
   "execution_count": 28,
   "id": "05a4c964",
   "metadata": {},
   "outputs": [],
   "source": [
    "mytext_train = [\"I will take text mining in Fall 2021.\",\n",
    "                \"Are you taking Text-Mining this year?\",\n",
    "                \"Unfortunately, Text Mining is not offered.\"]\n",
    "mytext_test = [\"I will have to take text mining next year.\"]"
   ]
  },
  {
   "cell_type": "code",
   "execution_count": 29,
   "id": "722897ab",
   "metadata": {},
   "outputs": [
    {
     "name": "stderr",
     "output_type": "stream",
     "text": [
      "/home/abromeland/.local/lib/python3.9/site-packages/sklearn/utils/deprecation.py:87: FutureWarning: Function get_feature_names is deprecated; get_feature_names is deprecated in 1.0 and will be removed in 1.2. Please use get_feature_names_out instead.\n",
      "  warnings.warn(msg, category=FutureWarning)\n"
     ]
    },
    {
     "data": {
      "text/html": [
       "<div>\n",
       "<style scoped>\n",
       "    .dataframe tbody tr th:only-of-type {\n",
       "        vertical-align: middle;\n",
       "    }\n",
       "\n",
       "    .dataframe tbody tr th {\n",
       "        vertical-align: top;\n",
       "    }\n",
       "\n",
       "    .dataframe thead th {\n",
       "        text-align: right;\n",
       "    }\n",
       "</style>\n",
       "<table border=\"1\" class=\"dataframe\">\n",
       "  <thead>\n",
       "    <tr style=\"text-align: right;\">\n",
       "      <th></th>\n",
       "      <th>2021</th>\n",
       "      <th>are</th>\n",
       "      <th>fall</th>\n",
       "      <th>in</th>\n",
       "      <th>is</th>\n",
       "      <th>mining</th>\n",
       "      <th>not</th>\n",
       "      <th>offered</th>\n",
       "      <th>take</th>\n",
       "      <th>taking</th>\n",
       "      <th>text</th>\n",
       "      <th>this</th>\n",
       "      <th>unfortunately</th>\n",
       "      <th>will</th>\n",
       "      <th>year</th>\n",
       "      <th>you</th>\n",
       "    </tr>\n",
       "  </thead>\n",
       "  <tbody>\n",
       "    <tr>\n",
       "      <th>0</th>\n",
       "      <td>1</td>\n",
       "      <td>0</td>\n",
       "      <td>1</td>\n",
       "      <td>1</td>\n",
       "      <td>0</td>\n",
       "      <td>1</td>\n",
       "      <td>0</td>\n",
       "      <td>0</td>\n",
       "      <td>1</td>\n",
       "      <td>0</td>\n",
       "      <td>1</td>\n",
       "      <td>0</td>\n",
       "      <td>0</td>\n",
       "      <td>1</td>\n",
       "      <td>0</td>\n",
       "      <td>0</td>\n",
       "    </tr>\n",
       "    <tr>\n",
       "      <th>1</th>\n",
       "      <td>0</td>\n",
       "      <td>1</td>\n",
       "      <td>0</td>\n",
       "      <td>0</td>\n",
       "      <td>0</td>\n",
       "      <td>1</td>\n",
       "      <td>0</td>\n",
       "      <td>0</td>\n",
       "      <td>0</td>\n",
       "      <td>1</td>\n",
       "      <td>1</td>\n",
       "      <td>1</td>\n",
       "      <td>0</td>\n",
       "      <td>0</td>\n",
       "      <td>1</td>\n",
       "      <td>1</td>\n",
       "    </tr>\n",
       "    <tr>\n",
       "      <th>2</th>\n",
       "      <td>0</td>\n",
       "      <td>0</td>\n",
       "      <td>0</td>\n",
       "      <td>0</td>\n",
       "      <td>1</td>\n",
       "      <td>1</td>\n",
       "      <td>1</td>\n",
       "      <td>1</td>\n",
       "      <td>0</td>\n",
       "      <td>0</td>\n",
       "      <td>1</td>\n",
       "      <td>0</td>\n",
       "      <td>1</td>\n",
       "      <td>0</td>\n",
       "      <td>0</td>\n",
       "      <td>0</td>\n",
       "    </tr>\n",
       "  </tbody>\n",
       "</table>\n",
       "</div>"
      ],
      "text/plain": [
       "   2021  are  fall  in  is  mining  not  offered  take  taking  text  this  \\\n",
       "0     1    0     1   1   0       1    0        0     1       0     1     0   \n",
       "1     0    1     0   0   0       1    0        0     0       1     1     1   \n",
       "2     0    0     0   0   1       1    1        1     0       0     1     0   \n",
       "\n",
       "   unfortunately  will  year  you  \n",
       "0              0     1     0    0  \n",
       "1              0     0     1    1  \n",
       "2              1     0     0    0  "
      ]
     },
     "execution_count": 29,
     "metadata": {},
     "output_type": "execute_result"
    }
   ],
   "source": [
    "vectorizer = CountVectorizer()     #Initialize the vectorizer with default setting.\n",
    "DTM_train = vectorizer.fit_transform(mytext_train)  #Construct and save the vocabulary and create DTM\n",
    "pd.DataFrame(DTM_train.toarray(), columns = vectorizer.get_feature_names()) #Print DTM"
   ]
  },
  {
   "cell_type": "code",
   "execution_count": 30,
   "id": "5e2ece29",
   "metadata": {},
   "outputs": [
    {
     "name": "stderr",
     "output_type": "stream",
     "text": [
      "/home/abromeland/.local/lib/python3.9/site-packages/sklearn/utils/deprecation.py:87: FutureWarning: Function get_feature_names is deprecated; get_feature_names is deprecated in 1.0 and will be removed in 1.2. Please use get_feature_names_out instead.\n",
      "  warnings.warn(msg, category=FutureWarning)\n"
     ]
    },
    {
     "data": {
      "text/html": [
       "<div>\n",
       "<style scoped>\n",
       "    .dataframe tbody tr th:only-of-type {\n",
       "        vertical-align: middle;\n",
       "    }\n",
       "\n",
       "    .dataframe tbody tr th {\n",
       "        vertical-align: top;\n",
       "    }\n",
       "\n",
       "    .dataframe thead th {\n",
       "        text-align: right;\n",
       "    }\n",
       "</style>\n",
       "<table border=\"1\" class=\"dataframe\">\n",
       "  <thead>\n",
       "    <tr style=\"text-align: right;\">\n",
       "      <th></th>\n",
       "      <th>2021</th>\n",
       "      <th>are</th>\n",
       "      <th>fall</th>\n",
       "      <th>in</th>\n",
       "      <th>is</th>\n",
       "      <th>mining</th>\n",
       "      <th>not</th>\n",
       "      <th>offered</th>\n",
       "      <th>take</th>\n",
       "      <th>taking</th>\n",
       "      <th>text</th>\n",
       "      <th>this</th>\n",
       "      <th>unfortunately</th>\n",
       "      <th>will</th>\n",
       "      <th>year</th>\n",
       "      <th>you</th>\n",
       "    </tr>\n",
       "  </thead>\n",
       "  <tbody>\n",
       "    <tr>\n",
       "      <th>0</th>\n",
       "      <td>0</td>\n",
       "      <td>0</td>\n",
       "      <td>0</td>\n",
       "      <td>0</td>\n",
       "      <td>0</td>\n",
       "      <td>1</td>\n",
       "      <td>0</td>\n",
       "      <td>0</td>\n",
       "      <td>1</td>\n",
       "      <td>0</td>\n",
       "      <td>1</td>\n",
       "      <td>0</td>\n",
       "      <td>0</td>\n",
       "      <td>1</td>\n",
       "      <td>1</td>\n",
       "      <td>0</td>\n",
       "    </tr>\n",
       "  </tbody>\n",
       "</table>\n",
       "</div>"
      ],
      "text/plain": [
       "   2021  are  fall  in  is  mining  not  offered  take  taking  text  this  \\\n",
       "0     0    0     0   0   0       1    0        0     1       0     1     0   \n",
       "\n",
       "   unfortunately  will  year  you  \n",
       "0              0     1     1    0  "
      ]
     },
     "execution_count": 30,
     "metadata": {},
     "output_type": "execute_result"
    }
   ],
   "source": [
    "DTM_test = vectorizer.transform(mytext_test)  #Use the saved vocabulary to create DTM\n",
    "pd.DataFrame(DTM_test.toarray(), columns = vectorizer.get_feature_names()) #Print DTM"
   ]
  },
  {
   "cell_type": "markdown",
   "id": "731df2fa",
   "metadata": {},
   "source": [
    "  * \"next\" appears in **mytext_test** but not in **mytext_train**. The vocabulary is constructed based on **mytext_train** by **vectorizer.fit_transform**, so \"next\" isn't included in the vocabulary. Since **vectorizer.transform** directly uses the vocabulary constructed by **vectorizer.fit_transform**  to create DTM, it will not include \"next\" neither. This is what we want.\n",
    "  \n",
    "  \n",
    "  * \"2021\" appears in **mytext_train** but not in **mytext_test**, so \"2021\" is included in the saved vocabulary by **vectorizer.fit_transform**. Since **vectorizer.transform** directly uses the saved vocabulary to create DTM, it will still create a column for \"2021\" even if its frequency is zero in **mytext_test**.\n",
    "  \n",
    "  \n",
    "  * This makes sure the DTM created by **vectorizer.transform** will have exactly the same column as the DTM created by **vectorizer.fit_transform**. \n",
    "  \n",
    "  \n",
    "  * This is very important for predictive modeling because we will apply **vectorizer.fit_transform** to training data and apply **vectorizer.transform** to testing data, and the training and testing DTMs must have the same set of columns. "
   ]
  }
 ],
 "metadata": {
  "kernelspec": {
   "display_name": "Python 3 (ipykernel)",
   "language": "python",
   "name": "python3"
  },
  "language_info": {
   "codemirror_mode": {
    "name": "ipython",
    "version": 3
   },
   "file_extension": ".py",
   "mimetype": "text/x-python",
   "name": "python",
   "nbconvert_exporter": "python",
   "pygments_lexer": "ipython3",
   "version": "3.9.1"
  }
 },
 "nbformat": 4,
 "nbformat_minor": 5
}
