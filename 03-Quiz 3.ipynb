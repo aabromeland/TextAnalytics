{
 "cells": [
  {
   "cell_type": "markdown",
   "id": "daf2f9fe",
   "metadata": {},
   "source": [
    "# Quiz 3\n",
    "**5 Points**"
   ]
  },
  {
   "cell_type": "markdown",
   "id": "93ca0cbe",
   "metadata": {},
   "source": [
    "Apply the three libraries, \"AFINN\", \"TextBlob\", and \"VADER\" for sentiment analysis to evaluate the sentiment score of the following sentence. \n",
    "\n",
    "\"John's company is doing extremely well despite the recession.\""
   ]
  },
  {
   "cell_type": "markdown",
   "id": "72dd66b1",
   "metadata": {},
   "source": [
    "1. (1 points) What is the sentiment score by \"AFINN\"?"
   ]
  },
  {
   "cell_type": "code",
   "execution_count": 6,
   "id": "831a538f",
   "metadata": {},
   "outputs": [
    {
     "data": {
      "text/plain": [
       "-2.0"
      ]
     },
     "execution_count": 6,
     "metadata": {},
     "output_type": "execute_result"
    }
   ],
   "source": [
    "#Your answer here\n",
    "from afinn import Afinn\n",
    "afinn = Afinn(emoticons=True)        #Initialize an analyzer\n",
    "afinn.score(\"John's company is doing extremely well despite the recession.\")\n"
   ]
  },
  {
   "cell_type": "markdown",
   "id": "78ddb881",
   "metadata": {},
   "source": [
    "2. (2 points) What is the sentiment score by \"TextBlob\"?"
   ]
  },
  {
   "cell_type": "code",
   "execution_count": 7,
   "id": "3076a16f",
   "metadata": {},
   "outputs": [
    {
     "data": {
      "text/plain": [
       "-0.125"
      ]
     },
     "execution_count": 7,
     "metadata": {},
     "output_type": "execute_result"
    }
   ],
   "source": [
    "#Your answer here\n",
    "from textblob import TextBlob\n",
    "TextBlob(\"John's company is doing extremely well despite the recession.\").sentiment.polarity"
   ]
  },
  {
   "cell_type": "markdown",
   "id": "53a23c8c",
   "metadata": {},
   "source": [
    "3. (2 points) What is the sentiment score by \"VADER\"?"
   ]
  },
  {
   "cell_type": "code",
   "execution_count": 8,
   "id": "6ce489fd",
   "metadata": {},
   "outputs": [
    {
     "data": {
      "text/plain": [
       "0.5754"
      ]
     },
     "execution_count": 8,
     "metadata": {},
     "output_type": "execute_result"
    }
   ],
   "source": [
    "#Your answer here\n",
    "from vaderSentiment.vaderSentiment import SentimentIntensityAnalyzer\n",
    "analyzer=SentimentIntensityAnalyzer()\n",
    "analyzer.polarity_scores(\"John's company is doing extremely well despite the recession.\")['compound']"
   ]
  }
 ],
 "metadata": {
  "kernelspec": {
   "display_name": "Python 3 (ipykernel)",
   "language": "python",
   "name": "python3"
  },
  "language_info": {
   "codemirror_mode": {
    "name": "ipython",
    "version": 3
   },
   "file_extension": ".py",
   "mimetype": "text/x-python",
   "name": "python",
   "nbconvert_exporter": "python",
   "pygments_lexer": "ipython3",
   "version": "3.9.1"
  }
 },
 "nbformat": 4,
 "nbformat_minor": 5
}
