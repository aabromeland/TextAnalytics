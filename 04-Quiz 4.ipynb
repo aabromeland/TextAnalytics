{
 "cells": [
  {
   "cell_type": "markdown",
   "id": "c472cbc9",
   "metadata": {},
   "source": [
    "# Quiz 4\n",
    "**5 Points**"
   ]
  },
  {
   "cell_type": "markdown",
   "id": "37dc41f6",
   "metadata": {},
   "source": [
    "1. (2 points) The following code creates a list of five strings, called **mytexts**. Suppose each string is called a document. Create the DTM in term frequency of this data. When you create the DTM, use the (default) tokenizer from sklearn library rather than the one from NLTK library. Do not remove stop words or stem the terms."
   ]
  },
  {
   "cell_type": "code",
   "execution_count": 3,
   "id": "0427e322",
   "metadata": {},
   "outputs": [
    {
     "name": "stderr",
     "output_type": "stream",
     "text": [
      "/home/abromeland/.local/lib/python3.9/site-packages/sklearn/utils/deprecation.py:87: FutureWarning: Function get_feature_names is deprecated; get_feature_names is deprecated in 1.0 and will be removed in 1.2. Please use get_feature_names_out instead.\n",
      "  warnings.warn(msg, category=FutureWarning)\n"
     ]
    },
    {
     "data": {
      "text/html": [
       "<div>\n",
       "<style scoped>\n",
       "    .dataframe tbody tr th:only-of-type {\n",
       "        vertical-align: middle;\n",
       "    }\n",
       "\n",
       "    .dataframe tbody tr th {\n",
       "        vertical-align: top;\n",
       "    }\n",
       "\n",
       "    .dataframe thead th {\n",
       "        text-align: right;\n",
       "    }\n",
       "</style>\n",
       "<table border=\"1\" class=\"dataframe\">\n",
       "  <thead>\n",
       "    <tr style=\"text-align: right;\">\n",
       "      <th></th>\n",
       "      <th>collection</th>\n",
       "      <th>column</th>\n",
       "      <th>correspond</th>\n",
       "      <th>describes</th>\n",
       "      <th>document</th>\n",
       "      <th>frequency</th>\n",
       "      <th>in</th>\n",
       "      <th>is</th>\n",
       "      <th>it</th>\n",
       "      <th>mathematical</th>\n",
       "      <th>matrix</th>\n",
       "      <th>occur</th>\n",
       "      <th>of</th>\n",
       "      <th>row</th>\n",
       "      <th>term</th>\n",
       "      <th>that</th>\n",
       "      <th>the</th>\n",
       "      <th>this</th>\n",
       "      <th>to</th>\n",
       "    </tr>\n",
       "  </thead>\n",
       "  <tbody>\n",
       "    <tr>\n",
       "      <th>0</th>\n",
       "      <td>0</td>\n",
       "      <td>0</td>\n",
       "      <td>0</td>\n",
       "      <td>0</td>\n",
       "      <td>1</td>\n",
       "      <td>0</td>\n",
       "      <td>0</td>\n",
       "      <td>1</td>\n",
       "      <td>0</td>\n",
       "      <td>1</td>\n",
       "      <td>2</td>\n",
       "      <td>0</td>\n",
       "      <td>0</td>\n",
       "      <td>0</td>\n",
       "      <td>1</td>\n",
       "      <td>0</td>\n",
       "      <td>0</td>\n",
       "      <td>0</td>\n",
       "      <td>0</td>\n",
       "    </tr>\n",
       "    <tr>\n",
       "      <th>1</th>\n",
       "      <td>0</td>\n",
       "      <td>0</td>\n",
       "      <td>0</td>\n",
       "      <td>1</td>\n",
       "      <td>1</td>\n",
       "      <td>1</td>\n",
       "      <td>1</td>\n",
       "      <td>0</td>\n",
       "      <td>1</td>\n",
       "      <td>0</td>\n",
       "      <td>0</td>\n",
       "      <td>1</td>\n",
       "      <td>1</td>\n",
       "      <td>0</td>\n",
       "      <td>1</td>\n",
       "      <td>1</td>\n",
       "      <td>1</td>\n",
       "      <td>0</td>\n",
       "      <td>0</td>\n",
       "    </tr>\n",
       "    <tr>\n",
       "      <th>2</th>\n",
       "      <td>1</td>\n",
       "      <td>0</td>\n",
       "      <td>1</td>\n",
       "      <td>0</td>\n",
       "      <td>2</td>\n",
       "      <td>0</td>\n",
       "      <td>2</td>\n",
       "      <td>0</td>\n",
       "      <td>0</td>\n",
       "      <td>0</td>\n",
       "      <td>1</td>\n",
       "      <td>0</td>\n",
       "      <td>0</td>\n",
       "      <td>1</td>\n",
       "      <td>1</td>\n",
       "      <td>0</td>\n",
       "      <td>1</td>\n",
       "      <td>0</td>\n",
       "      <td>1</td>\n",
       "    </tr>\n",
       "    <tr>\n",
       "      <th>3</th>\n",
       "      <td>0</td>\n",
       "      <td>1</td>\n",
       "      <td>1</td>\n",
       "      <td>0</td>\n",
       "      <td>0</td>\n",
       "      <td>0</td>\n",
       "      <td>0</td>\n",
       "      <td>0</td>\n",
       "      <td>0</td>\n",
       "      <td>0</td>\n",
       "      <td>0</td>\n",
       "      <td>0</td>\n",
       "      <td>0</td>\n",
       "      <td>0</td>\n",
       "      <td>1</td>\n",
       "      <td>0</td>\n",
       "      <td>1</td>\n",
       "      <td>0</td>\n",
       "      <td>1</td>\n",
       "    </tr>\n",
       "    <tr>\n",
       "      <th>4</th>\n",
       "      <td>0</td>\n",
       "      <td>0</td>\n",
       "      <td>0</td>\n",
       "      <td>0</td>\n",
       "      <td>1</td>\n",
       "      <td>0</td>\n",
       "      <td>0</td>\n",
       "      <td>1</td>\n",
       "      <td>0</td>\n",
       "      <td>0</td>\n",
       "      <td>2</td>\n",
       "      <td>0</td>\n",
       "      <td>0</td>\n",
       "      <td>0</td>\n",
       "      <td>1</td>\n",
       "      <td>0</td>\n",
       "      <td>0</td>\n",
       "      <td>1</td>\n",
       "      <td>0</td>\n",
       "    </tr>\n",
       "  </tbody>\n",
       "</table>\n",
       "</div>"
      ],
      "text/plain": [
       "   collection  column  correspond  describes  document  frequency  in  is  it  \\\n",
       "0           0       0           0          0         1          0   0   1   0   \n",
       "1           0       0           0          1         1          1   1   0   1   \n",
       "2           1       0           1          0         2          0   2   0   0   \n",
       "3           0       1           1          0         0          0   0   0   0   \n",
       "4           0       0           0          0         1          0   0   1   0   \n",
       "\n",
       "   mathematical  matrix  occur  of  row  term  that  the  this  to  \n",
       "0             1       2      0   0    0     1     0    0     0   0  \n",
       "1             0       0      1   1    0     1     1    1     0   0  \n",
       "2             0       1      0   0    1     1     0    1     0   1  \n",
       "3             0       0      0   0    0     1     0    1     0   1  \n",
       "4             0       2      0   0    0     1     0    0     1   0  "
      ]
     },
     "execution_count": 3,
     "metadata": {},
     "output_type": "execute_result"
    }
   ],
   "source": [
    "mytexts = [\"A document term matrix is a mathematical matrix.\", \n",
    "           \"It describes the frequency of term that occur in document.\",\n",
    "           \"In a document term matrix, row correspond to document in the collection.\",\n",
    "           \"The column correspond to term.\",\n",
    "           \"This matrix is a document term matrix.\"]\n",
    "\n",
    "#You answer here:\n",
    "from sklearn.feature_extraction.text import CountVectorizer\n",
    "import pandas as pd\n",
    "vectorizer = CountVectorizer()     #Initialize the vectorizer with default setting.\n",
    "DTM = vectorizer.fit_transform(mytexts)     #Convert the corpus into DTM. \n",
    "\n",
    "#Check your answer\n",
    "pd.DataFrame(DTM.toarray(), columns = vectorizer.get_feature_names())"
   ]
  },
  {
   "cell_type": "markdown",
   "id": "fdd9f49b",
   "metadata": {},
   "source": [
    "2. (1 points) What is the document frequency of \"document\" according to the DTM you created in question 1?"
   ]
  },
  {
   "cell_type": "markdown",
   "id": "bb12e5ed",
   "metadata": {},
   "source": [
    "Your answer here: 4/5 - 80%"
   ]
  },
  {
   "cell_type": "markdown",
   "id": "bc357939",
   "metadata": {},
   "source": [
    "3. (1 points) What is the document frequency of \"frequency\" according to the DTM you created in question 1?"
   ]
  },
  {
   "cell_type": "markdown",
   "id": "d73797fa",
   "metadata": {},
   "source": [
    "Your answer here:  1/5 - 20%"
   ]
  },
  {
   "cell_type": "markdown",
   "id": "f8f0ad83",
   "metadata": {},
   "source": [
    "4. (1 points) Without any calculation, can you tell, between \"document\" and \"frequency\", which one must have a higher TFIDF score in the second document？(To clarify, the \"second document\" means the one with row index \"1\" because indexes begin with \"0\".)"
   ]
  },
  {
   "cell_type": "markdown",
   "id": "31eadcc1",
   "metadata": {},
   "source": [
    "Your answer here:  \"Frequency\" will have the higher TFIDF score in the second document. \"Frequency\" has a higher IDF score then document because it only appears once in the 5 documents, and \"document\" occurs four times in the five documents. This gives more weight to frequency leading to a higher TFIDF score in the second document for \"Frequency\". "
   ]
  }
 ],
 "metadata": {
  "kernelspec": {
   "display_name": "Python 3 (ipykernel)",
   "language": "python",
   "name": "python3"
  },
  "language_info": {
   "codemirror_mode": {
    "name": "ipython",
    "version": 3
   },
   "file_extension": ".py",
   "mimetype": "text/x-python",
   "name": "python",
   "nbconvert_exporter": "python",
   "pygments_lexer": "ipython3",
   "version": "3.9.1"
  }
 },
 "nbformat": 4,
 "nbformat_minor": 5
}
