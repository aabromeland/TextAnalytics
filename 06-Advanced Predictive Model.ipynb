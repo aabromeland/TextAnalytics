{
 "cells": [
  {
   "cell_type": "markdown",
   "id": "a078b11c",
   "metadata": {},
   "source": [
    "# Advanced Predictive Model | BAIS:6100\n",
    "\n",
    "**Instructor: Qihang Lin**"
   ]
  },
  {
   "cell_type": "markdown",
   "id": "0b508cde",
   "metadata": {},
   "source": [
    "## Sparse Linear Model -- A Quick Review"
   ]
  },
  {
   "cell_type": "markdown",
   "id": "2283033c",
   "metadata": {},
   "source": [
    "A spare linear model with a given $C$ can be trained and tested as follows."
   ]
  },
  {
   "cell_type": "code",
   "execution_count": 1,
   "id": "9f343fd8",
   "metadata": {},
   "outputs": [],
   "source": [
    "#Load the data for this example\n",
    "import pandas as pd\n",
    "import re\n",
    "df = pd.read_csv(\"classdata/Lies_and_Truths.csv\")\n",
    "df = df[df.Domain==\"Electronics\"].copy()\n",
    "df.reset_index(drop=True, inplace=True)\n",
    "df = df[[\"Sentiment Polarity\",\"Review\"]]   #Keep only the columns we need."
   ]
  },
  {
   "cell_type": "code",
   "execution_count": 2,
   "id": "861c05bf",
   "metadata": {},
   "outputs": [],
   "source": [
    "#Split the data\n",
    "from sklearn.model_selection import train_test_split\n",
    "df_train, df_test = train_test_split(df, test_size=0.33, random_state=2021)\n",
    "df_train.reset_index(drop=True,inplace=True)\n",
    "df_test.reset_index(drop=True,inplace=True)"
   ]
  },
  {
   "cell_type": "code",
   "execution_count": 3,
   "id": "a889da4e",
   "metadata": {},
   "outputs": [],
   "source": [
    "#Feature Engineering\n",
    "from sklearn.feature_extraction.text import CountVectorizer, TfidfVectorizer\n",
    "import nltk \n",
    "\n",
    "stemmer = nltk.stem.SnowballStemmer(\"english\")\n",
    "class StemmedTfidfVectorizer(TfidfVectorizer):\n",
    "    def build_analyzer(self):\n",
    "        analyzer = super(StemmedTfidfVectorizer, self).build_analyzer()\n",
    "        return lambda doc: ([stemmer.stem(w) for w in analyzer(doc)])\n",
    "\n",
    "nltk_stopwords = nltk.corpus.stopwords.words(\"english\") \n",
    "\n",
    "vectorizer=StemmedTfidfVectorizer(stop_words=nltk_stopwords, norm=None)\n",
    "\n",
    "#Create the training and testing DTMs and the labels\n",
    "train_x = vectorizer.fit_transform(df_train[\"Review\"])\n",
    "train_y = df_train[\"Sentiment Polarity\"]\n",
    "test_x = vectorizer.transform(df_test[\"Review\"])\n",
    "test_y = df_test[\"Sentiment Polarity\"]"
   ]
  },
  {
   "cell_type": "code",
   "execution_count": 16,
   "id": "1d9e6729",
   "metadata": {},
   "outputs": [
    {
     "data": {
      "text/html": [
       "<style>#sk-container-id-5 {color: black;background-color: white;}#sk-container-id-5 pre{padding: 0;}#sk-container-id-5 div.sk-toggleable {background-color: white;}#sk-container-id-5 label.sk-toggleable__label {cursor: pointer;display: block;width: 100%;margin-bottom: 0;padding: 0.3em;box-sizing: border-box;text-align: center;}#sk-container-id-5 label.sk-toggleable__label-arrow:before {content: \"▸\";float: left;margin-right: 0.25em;color: #696969;}#sk-container-id-5 label.sk-toggleable__label-arrow:hover:before {color: black;}#sk-container-id-5 div.sk-estimator:hover label.sk-toggleable__label-arrow:before {color: black;}#sk-container-id-5 div.sk-toggleable__content {max-height: 0;max-width: 0;overflow: hidden;text-align: left;background-color: #f0f8ff;}#sk-container-id-5 div.sk-toggleable__content pre {margin: 0.2em;color: black;border-radius: 0.25em;background-color: #f0f8ff;}#sk-container-id-5 input.sk-toggleable__control:checked~div.sk-toggleable__content {max-height: 200px;max-width: 100%;overflow: auto;}#sk-container-id-5 input.sk-toggleable__control:checked~label.sk-toggleable__label-arrow:before {content: \"▾\";}#sk-container-id-5 div.sk-estimator input.sk-toggleable__control:checked~label.sk-toggleable__label {background-color: #d4ebff;}#sk-container-id-5 div.sk-label input.sk-toggleable__control:checked~label.sk-toggleable__label {background-color: #d4ebff;}#sk-container-id-5 input.sk-hidden--visually {border: 0;clip: rect(1px 1px 1px 1px);clip: rect(1px, 1px, 1px, 1px);height: 1px;margin: -1px;overflow: hidden;padding: 0;position: absolute;width: 1px;}#sk-container-id-5 div.sk-estimator {font-family: monospace;background-color: #f0f8ff;border: 1px dotted black;border-radius: 0.25em;box-sizing: border-box;margin-bottom: 0.5em;}#sk-container-id-5 div.sk-estimator:hover {background-color: #d4ebff;}#sk-container-id-5 div.sk-parallel-item::after {content: \"\";width: 100%;border-bottom: 1px solid gray;flex-grow: 1;}#sk-container-id-5 div.sk-label:hover label.sk-toggleable__label {background-color: #d4ebff;}#sk-container-id-5 div.sk-serial::before {content: \"\";position: absolute;border-left: 1px solid gray;box-sizing: border-box;top: 0;bottom: 0;left: 50%;z-index: 0;}#sk-container-id-5 div.sk-serial {display: flex;flex-direction: column;align-items: center;background-color: white;padding-right: 0.2em;padding-left: 0.2em;position: relative;}#sk-container-id-5 div.sk-item {position: relative;z-index: 1;}#sk-container-id-5 div.sk-parallel {display: flex;align-items: stretch;justify-content: center;background-color: white;position: relative;}#sk-container-id-5 div.sk-item::before, #sk-container-id-5 div.sk-parallel-item::before {content: \"\";position: absolute;border-left: 1px solid gray;box-sizing: border-box;top: 0;bottom: 0;left: 50%;z-index: -1;}#sk-container-id-5 div.sk-parallel-item {display: flex;flex-direction: column;z-index: 1;position: relative;background-color: white;}#sk-container-id-5 div.sk-parallel-item:first-child::after {align-self: flex-end;width: 50%;}#sk-container-id-5 div.sk-parallel-item:last-child::after {align-self: flex-start;width: 50%;}#sk-container-id-5 div.sk-parallel-item:only-child::after {width: 0;}#sk-container-id-5 div.sk-dashed-wrapped {border: 1px dashed gray;margin: 0 0.4em 0.5em 0.4em;box-sizing: border-box;padding-bottom: 0.4em;background-color: white;}#sk-container-id-5 div.sk-label label {font-family: monospace;font-weight: bold;display: inline-block;line-height: 1.2em;}#sk-container-id-5 div.sk-label-container {text-align: center;}#sk-container-id-5 div.sk-container {/* jupyter's `normalize.less` sets `[hidden] { display: none; }` but bootstrap.min.css set `[hidden] { display: none !important; }` so we also need the `!important` here to be able to override the default hidden behavior on the sphinx rendered scikit-learn.org. See: https://github.com/scikit-learn/scikit-learn/issues/21755 */display: inline-block !important;position: relative;}#sk-container-id-5 div.sk-text-repr-fallback {display: none;}</style><div id=\"sk-container-id-5\" class=\"sk-top-container\"><div class=\"sk-text-repr-fallback\"><pre>LogisticRegression(C=1, max_iter=1000, penalty=&#x27;l1&#x27;, random_state=2021,\n",
       "                   solver=&#x27;liblinear&#x27;, tol=0.001)</pre><b>In a Jupyter environment, please rerun this cell to show the HTML representation or trust the notebook. <br />On GitHub, the HTML representation is unable to render, please try loading this page with nbviewer.org.</b></div><div class=\"sk-container\" hidden><div class=\"sk-item\"><div class=\"sk-estimator sk-toggleable\"><input class=\"sk-toggleable__control sk-hidden--visually\" id=\"sk-estimator-id-5\" type=\"checkbox\" checked><label for=\"sk-estimator-id-5\" class=\"sk-toggleable__label sk-toggleable__label-arrow\">LogisticRegression</label><div class=\"sk-toggleable__content\"><pre>LogisticRegression(C=1, max_iter=1000, penalty=&#x27;l1&#x27;, random_state=2021,\n",
       "                   solver=&#x27;liblinear&#x27;, tol=0.001)</pre></div></div></div></div></div>"
      ],
      "text/plain": [
       "LogisticRegression(C=1, max_iter=1000, penalty='l1', random_state=2021,\n",
       "                   solver='liblinear', tol=0.001)"
      ]
     },
     "execution_count": 16,
     "metadata": {},
     "output_type": "execute_result"
    }
   ],
   "source": [
    "#Model training\n",
    "from sklearn.linear_model import LogisticRegression\n",
    "sparselr = LogisticRegression(penalty='l1', \n",
    "                              solver='liblinear',\n",
    "                              random_state=2021,\n",
    "                              tol=0.001,\n",
    "                              max_iter=1000, \n",
    "                              C=1)\n",
    "sparselr.fit(train_x,train_y)"
   ]
  },
  {
   "cell_type": "code",
   "execution_count": 17,
   "id": "a0c57ae7",
   "metadata": {},
   "outputs": [
    {
     "data": {
      "text/plain": [
       "252"
      ]
     },
     "execution_count": 17,
     "metadata": {},
     "output_type": "execute_result"
    }
   ],
   "source": [
    "#How many non-zero betas in total (Sparsity)\n",
    "sum(sparselr.coef_[0]!=0)"
   ]
  },
  {
   "cell_type": "code",
   "execution_count": 18,
   "id": "8fcdc5c7",
   "metadata": {},
   "outputs": [
    {
     "name": "stdout",
     "output_type": "stream",
     "text": [
      "Train Accuracy:\n",
      "0.998109640831758\n",
      "Test Accuracy:\n",
      "0.8352490421455939\n",
      "Train AUC:\n",
      "0.9999928473334859\n",
      "Test AUC:\n",
      "0.9159688642528601\n"
     ]
    }
   ],
   "source": [
    "#Performance evaluation\n",
    "from sklearn.metrics import accuracy_score, roc_auc_score\n",
    "print(\"Train Accuracy:\")\n",
    "print(accuracy_score(train_y,sparselr.predict(train_x)))\n",
    "print(\"Test Accuracy:\")\n",
    "print(accuracy_score(test_y,sparselr.predict(test_x)))\n",
    "print(\"Train AUC:\")\n",
    "print(roc_auc_score(train_y,sparselr.predict_proba(train_x)[:, 1]))\n",
    "print(\"Test AUC:\")\n",
    "print(roc_auc_score(test_y,sparselr.predict_proba(test_x)[:, 1]))"
   ]
  },
  {
   "cell_type": "markdown",
   "id": "894a4cff",
   "metadata": {},
   "source": [
    "Change $C$ to 100000 and to $0.0001$ and run the codes above. How does the sparsity level change? How does the performance change?"
   ]
  },
  {
   "cell_type": "markdown",
   "id": "38b288e6",
   "metadata": {},
   "source": [
    "## What Affect a Model's Performance"
   ]
  },
  {
   "cell_type": "markdown",
   "id": "05b64c0f",
   "metadata": {},
   "source": [
    "The performance of a predictive model depends on \n",
    "\n",
    "* The hyper-parameter, for example, $C$. \n",
    "* How the DTM is constructed (feature engineering). \n",
    "* solver, tol and max_iter. \n",
    "\n",
    "To improve the performance, we need to carefully tune the hyper-parameters and try different DTMs."
   ]
  },
  {
   "cell_type": "markdown",
   "id": "23d05b7d",
   "metadata": {},
   "source": [
    "## Cross Validation"
   ]
  },
  {
   "cell_type": "markdown",
   "id": "7fd78215",
   "metadata": {},
   "source": [
    "In practice, the regularization parameter $C$ can be tuned using **$K$-fold cross validation** (typically $K=5$). This technique can be used to select any hyper-parameter in any model. \n",
    "\n",
    "<img src=http://ethen8181.github.io/machine-learning/model_selection/img/kfolds.png width=\"500\">"
   ]
  },
  {
   "cell_type": "markdown",
   "id": "2337104c",
   "metadata": {},
   "source": [
    "1. Generate a list of candidate values for $C$\n",
    "\n",
    "\n",
    "2. For each candidate, do the following:\n",
    "\n",
    "    - Split the training dataset into $K$ groups\n",
    "    - For each unique group:\n",
    "\n",
    "        1. Take the group as a validation set\n",
    "        2. Take the remaining groups as a training set\n",
    "        3. Fit a model on the training set and evaluate it on the validation set\n",
    "        4. Retain the performance score and discard the model\n",
    "\n",
    "    - Summarize the model's performance using the average of $K$ performance scores.\n",
    "\n",
    "\n",
    "3. Repeat this procedure for each candidate value of $C$ and select the value with the best performance."
   ]
  },
  {
   "cell_type": "markdown",
   "id": "bc7ae175",
   "metadata": {},
   "source": [
    "## Grid Search"
   ]
  },
  {
   "cell_type": "markdown",
   "id": "d88a3357",
   "metadata": {},
   "source": [
    "Searching for the optimal $C$ precisely is very hard. In reality, depending on the runtime, we can only try around 5~30 different candidates, called **a grid of parameters**. \n",
    "\n",
    "Unless we have a good estimation of the range of $C$, the common practice is to create a grid covering numbers in different scales, for example, 1, 10, 100, 1000. This can be done by generating the candidates that increase proportionally instead of additively."
   ]
  },
  {
   "cell_type": "code",
   "execution_count": 19,
   "id": "de17d443",
   "metadata": {},
   "outputs": [
    {
     "data": {
      "text/plain": [
       "array([7.13795364e-03, 1.30837313e-02, 2.39822272e-02, 4.39589598e-02,\n",
       "       8.05759254e-02, 1.47694117e-01, 2.70720468e-01, 4.96225395e-01,\n",
       "       9.09571578e-01, 1.66722716e+00, 3.05599522e+00, 5.60158029e+00,\n",
       "       1.02675886e+01, 1.88202919e+01, 3.44972320e+01, 6.32327608e+01,\n",
       "       1.15904431e+02, 2.12450586e+02, 3.89417826e+02, 7.13795364e+02])"
      ]
     },
     "execution_count": 19,
     "metadata": {},
     "output_type": "execute_result"
    }
   ],
   "source": [
    "#Generate the grid of parameters that increase proportionally.\n",
    "import numpy as np\n",
    "from sklearn.svm import l1_min_c\n",
    "param_grid = l1_min_c(train_x, train_y, loss='log') * np.logspace(start=0, stop=5, num=20) \n",
    "param_grid"
   ]
  },
  {
   "cell_type": "markdown",
   "id": "75263579",
   "metadata": {},
   "source": [
    "*   **l1_min_c** finds the smallest $C$ that makes the model \"empty\", i.e., all $\\beta$'s become zero. Any $C$ smaller than **l1_min_c** will not be interesting.\n",
    "\n",
    "*  **np.logspace(start=0, stop=5, num=20)**  generates 20 numbers that increase proportionally from $10^{0}=1$ to $10^{5}$. They are multiplied to **l1_min_c** to proportionally increase $C$ from **l1_min_c** to **l1_min_c$\\times 10^{5}$**."
   ]
  },
  {
   "cell_type": "markdown",
   "id": "fd9d38bd",
   "metadata": {},
   "source": [
    "## Implementation"
   ]
  },
  {
   "cell_type": "code",
   "execution_count": 20,
   "id": "c39cdba2",
   "metadata": {},
   "outputs": [
    {
     "data": {
      "text/html": [
       "<style>#sk-container-id-6 {color: black;background-color: white;}#sk-container-id-6 pre{padding: 0;}#sk-container-id-6 div.sk-toggleable {background-color: white;}#sk-container-id-6 label.sk-toggleable__label {cursor: pointer;display: block;width: 100%;margin-bottom: 0;padding: 0.3em;box-sizing: border-box;text-align: center;}#sk-container-id-6 label.sk-toggleable__label-arrow:before {content: \"▸\";float: left;margin-right: 0.25em;color: #696969;}#sk-container-id-6 label.sk-toggleable__label-arrow:hover:before {color: black;}#sk-container-id-6 div.sk-estimator:hover label.sk-toggleable__label-arrow:before {color: black;}#sk-container-id-6 div.sk-toggleable__content {max-height: 0;max-width: 0;overflow: hidden;text-align: left;background-color: #f0f8ff;}#sk-container-id-6 div.sk-toggleable__content pre {margin: 0.2em;color: black;border-radius: 0.25em;background-color: #f0f8ff;}#sk-container-id-6 input.sk-toggleable__control:checked~div.sk-toggleable__content {max-height: 200px;max-width: 100%;overflow: auto;}#sk-container-id-6 input.sk-toggleable__control:checked~label.sk-toggleable__label-arrow:before {content: \"▾\";}#sk-container-id-6 div.sk-estimator input.sk-toggleable__control:checked~label.sk-toggleable__label {background-color: #d4ebff;}#sk-container-id-6 div.sk-label input.sk-toggleable__control:checked~label.sk-toggleable__label {background-color: #d4ebff;}#sk-container-id-6 input.sk-hidden--visually {border: 0;clip: rect(1px 1px 1px 1px);clip: rect(1px, 1px, 1px, 1px);height: 1px;margin: -1px;overflow: hidden;padding: 0;position: absolute;width: 1px;}#sk-container-id-6 div.sk-estimator {font-family: monospace;background-color: #f0f8ff;border: 1px dotted black;border-radius: 0.25em;box-sizing: border-box;margin-bottom: 0.5em;}#sk-container-id-6 div.sk-estimator:hover {background-color: #d4ebff;}#sk-container-id-6 div.sk-parallel-item::after {content: \"\";width: 100%;border-bottom: 1px solid gray;flex-grow: 1;}#sk-container-id-6 div.sk-label:hover label.sk-toggleable__label {background-color: #d4ebff;}#sk-container-id-6 div.sk-serial::before {content: \"\";position: absolute;border-left: 1px solid gray;box-sizing: border-box;top: 0;bottom: 0;left: 50%;z-index: 0;}#sk-container-id-6 div.sk-serial {display: flex;flex-direction: column;align-items: center;background-color: white;padding-right: 0.2em;padding-left: 0.2em;position: relative;}#sk-container-id-6 div.sk-item {position: relative;z-index: 1;}#sk-container-id-6 div.sk-parallel {display: flex;align-items: stretch;justify-content: center;background-color: white;position: relative;}#sk-container-id-6 div.sk-item::before, #sk-container-id-6 div.sk-parallel-item::before {content: \"\";position: absolute;border-left: 1px solid gray;box-sizing: border-box;top: 0;bottom: 0;left: 50%;z-index: -1;}#sk-container-id-6 div.sk-parallel-item {display: flex;flex-direction: column;z-index: 1;position: relative;background-color: white;}#sk-container-id-6 div.sk-parallel-item:first-child::after {align-self: flex-end;width: 50%;}#sk-container-id-6 div.sk-parallel-item:last-child::after {align-self: flex-start;width: 50%;}#sk-container-id-6 div.sk-parallel-item:only-child::after {width: 0;}#sk-container-id-6 div.sk-dashed-wrapped {border: 1px dashed gray;margin: 0 0.4em 0.5em 0.4em;box-sizing: border-box;padding-bottom: 0.4em;background-color: white;}#sk-container-id-6 div.sk-label label {font-family: monospace;font-weight: bold;display: inline-block;line-height: 1.2em;}#sk-container-id-6 div.sk-label-container {text-align: center;}#sk-container-id-6 div.sk-container {/* jupyter's `normalize.less` sets `[hidden] { display: none; }` but bootstrap.min.css set `[hidden] { display: none !important; }` so we also need the `!important` here to be able to override the default hidden behavior on the sphinx rendered scikit-learn.org. See: https://github.com/scikit-learn/scikit-learn/issues/21755 */display: inline-block !important;position: relative;}#sk-container-id-6 div.sk-text-repr-fallback {display: none;}</style><div id=\"sk-container-id-6\" class=\"sk-top-container\"><div class=\"sk-text-repr-fallback\"><pre>LogisticRegressionCV(Cs=array([7.13795364e-03, 1.30837313e-02, 2.39822272e-02, 4.39589598e-02,\n",
       "       8.05759254e-02, 1.47694117e-01, 2.70720468e-01, 4.96225395e-01,\n",
       "       9.09571578e-01, 1.66722716e+00, 3.05599522e+00, 5.60158029e+00,\n",
       "       1.02675886e+01, 1.88202919e+01, 3.44972320e+01, 6.32327608e+01,\n",
       "       1.15904431e+02, 2.12450586e+02, 3.89417826e+02, 7.13795364e+02]),\n",
       "                     cv=5, max_iter=1000, penalty=&#x27;l1&#x27;, random_state=2021,\n",
       "                     scoring=&#x27;accuracy&#x27;, solver=&#x27;liblinear&#x27;, tol=0.001)</pre><b>In a Jupyter environment, please rerun this cell to show the HTML representation or trust the notebook. <br />On GitHub, the HTML representation is unable to render, please try loading this page with nbviewer.org.</b></div><div class=\"sk-container\" hidden><div class=\"sk-item\"><div class=\"sk-estimator sk-toggleable\"><input class=\"sk-toggleable__control sk-hidden--visually\" id=\"sk-estimator-id-6\" type=\"checkbox\" checked><label for=\"sk-estimator-id-6\" class=\"sk-toggleable__label sk-toggleable__label-arrow\">LogisticRegressionCV</label><div class=\"sk-toggleable__content\"><pre>LogisticRegressionCV(Cs=array([7.13795364e-03, 1.30837313e-02, 2.39822272e-02, 4.39589598e-02,\n",
       "       8.05759254e-02, 1.47694117e-01, 2.70720468e-01, 4.96225395e-01,\n",
       "       9.09571578e-01, 1.66722716e+00, 3.05599522e+00, 5.60158029e+00,\n",
       "       1.02675886e+01, 1.88202919e+01, 3.44972320e+01, 6.32327608e+01,\n",
       "       1.15904431e+02, 2.12450586e+02, 3.89417826e+02, 7.13795364e+02]),\n",
       "                     cv=5, max_iter=1000, penalty=&#x27;l1&#x27;, random_state=2021,\n",
       "                     scoring=&#x27;accuracy&#x27;, solver=&#x27;liblinear&#x27;, tol=0.001)</pre></div></div></div></div></div>"
      ],
      "text/plain": [
       "LogisticRegressionCV(Cs=array([7.13795364e-03, 1.30837313e-02, 2.39822272e-02, 4.39589598e-02,\n",
       "       8.05759254e-02, 1.47694117e-01, 2.70720468e-01, 4.96225395e-01,\n",
       "       9.09571578e-01, 1.66722716e+00, 3.05599522e+00, 5.60158029e+00,\n",
       "       1.02675886e+01, 1.88202919e+01, 3.44972320e+01, 6.32327608e+01,\n",
       "       1.15904431e+02, 2.12450586e+02, 3.89417826e+02, 7.13795364e+02]),\n",
       "                     cv=5, max_iter=1000, penalty='l1', random_state=2021,\n",
       "                     scoring='accuracy', solver='liblinear', tol=0.001)"
      ]
     },
     "execution_count": 20,
     "metadata": {},
     "output_type": "execute_result"
    }
   ],
   "source": [
    "from sklearn.linear_model import LogisticRegressionCV\n",
    "sparselr = LogisticRegressionCV(penalty='l1', \n",
    "                                solver='liblinear', \n",
    "                                Cs=param_grid,   #Use the grid generated above\n",
    "                                cv=5,            #Number of folds, that is, K\n",
    "                                scoring='accuracy', #The performance metric to select the best C.\n",
    "                                random_state=2021,  #To make sure the result is reproducible\n",
    "                                tol=0.001,\n",
    "                                max_iter=1000)\n",
    "sparselr.fit(train_x, train_y)"
   ]
  },
  {
   "cell_type": "markdown",
   "id": "b30df929",
   "metadata": {},
   "source": [
    "To use AUC as the performance metric, set **scoring='roc_auc'**\n",
    "\n",
    "More performance metrics: https://scikit-learn.org/stable/modules/model_evaluation.html\n",
    "\n",
    "More options: https://scikit-learn.org/stable/modules/generated/sklearn.linear_model.LogisticRegressionCV.html"
   ]
  },
  {
   "cell_type": "markdown",
   "id": "050353f7",
   "metadata": {},
   "source": [
    "Searching in a large grid needs a long runtime. To speed up, we may have to reduce **stop** or **num** in **np.logspace** or reduce **cv**. "
   ]
  },
  {
   "cell_type": "code",
   "execution_count": 21,
   "id": "00d3e02d",
   "metadata": {},
   "outputs": [
    {
     "data": {
      "text/plain": [
       "array([7.13795364e-03, 1.30837313e-02, 2.39822272e-02, 4.39589598e-02,\n",
       "       8.05759254e-02, 1.47694117e-01, 2.70720468e-01, 4.96225395e-01,\n",
       "       9.09571578e-01, 1.66722716e+00, 3.05599522e+00, 5.60158029e+00,\n",
       "       1.02675886e+01, 1.88202919e+01, 3.44972320e+01, 6.32327608e+01,\n",
       "       1.15904431e+02, 2.12450586e+02, 3.89417826e+02, 7.13795364e+02])"
      ]
     },
     "execution_count": 21,
     "metadata": {},
     "output_type": "execute_result"
    }
   ],
   "source": [
    "#All candicates\n",
    "sparselr.Cs_"
   ]
  },
  {
   "cell_type": "code",
   "execution_count": 22,
   "id": "3fc15dc7",
   "metadata": {},
   "outputs": [
    {
     "data": {
      "text/plain": [
       "array([34.497232])"
      ]
     },
     "execution_count": 22,
     "metadata": {},
     "output_type": "execute_result"
    }
   ],
   "source": [
    "#This is the best value of C among the candidates.\n",
    "sparselr.C_"
   ]
  },
  {
   "cell_type": "code",
   "execution_count": 23,
   "id": "7fb07db2",
   "metadata": {},
   "outputs": [
    {
     "data": {
      "text/html": [
       "<div>\n",
       "<style scoped>\n",
       "    .dataframe tbody tr th:only-of-type {\n",
       "        vertical-align: middle;\n",
       "    }\n",
       "\n",
       "    .dataframe tbody tr th {\n",
       "        vertical-align: top;\n",
       "    }\n",
       "\n",
       "    .dataframe thead th {\n",
       "        text-align: right;\n",
       "    }\n",
       "</style>\n",
       "<table border=\"1\" class=\"dataframe\">\n",
       "  <thead>\n",
       "    <tr style=\"text-align: right;\">\n",
       "      <th></th>\n",
       "      <th>0</th>\n",
       "      <th>1</th>\n",
       "      <th>2</th>\n",
       "      <th>3</th>\n",
       "      <th>4</th>\n",
       "      <th>5</th>\n",
       "      <th>6</th>\n",
       "      <th>7</th>\n",
       "      <th>8</th>\n",
       "      <th>9</th>\n",
       "      <th>10</th>\n",
       "      <th>11</th>\n",
       "      <th>12</th>\n",
       "      <th>13</th>\n",
       "      <th>14</th>\n",
       "      <th>15</th>\n",
       "      <th>16</th>\n",
       "      <th>17</th>\n",
       "      <th>18</th>\n",
       "      <th>19</th>\n",
       "    </tr>\n",
       "  </thead>\n",
       "  <tbody>\n",
       "    <tr>\n",
       "      <th>0</th>\n",
       "      <td>0.518868</td>\n",
       "      <td>0.650943</td>\n",
       "      <td>0.783019</td>\n",
       "      <td>0.820755</td>\n",
       "      <td>0.801887</td>\n",
       "      <td>0.792453</td>\n",
       "      <td>0.783019</td>\n",
       "      <td>0.792453</td>\n",
       "      <td>0.792453</td>\n",
       "      <td>0.792453</td>\n",
       "      <td>0.764151</td>\n",
       "      <td>0.792453</td>\n",
       "      <td>0.830189</td>\n",
       "      <td>0.830189</td>\n",
       "      <td>0.839623</td>\n",
       "      <td>0.764151</td>\n",
       "      <td>0.764151</td>\n",
       "      <td>0.716981</td>\n",
       "      <td>0.745283</td>\n",
       "      <td>0.754717</td>\n",
       "    </tr>\n",
       "    <tr>\n",
       "      <th>1</th>\n",
       "      <td>0.518868</td>\n",
       "      <td>0.698113</td>\n",
       "      <td>0.783019</td>\n",
       "      <td>0.773585</td>\n",
       "      <td>0.754717</td>\n",
       "      <td>0.754717</td>\n",
       "      <td>0.830189</td>\n",
       "      <td>0.849057</td>\n",
       "      <td>0.839623</td>\n",
       "      <td>0.839623</td>\n",
       "      <td>0.849057</td>\n",
       "      <td>0.877358</td>\n",
       "      <td>0.877358</td>\n",
       "      <td>0.858491</td>\n",
       "      <td>0.896226</td>\n",
       "      <td>0.877358</td>\n",
       "      <td>0.877358</td>\n",
       "      <td>0.792453</td>\n",
       "      <td>0.764151</td>\n",
       "      <td>0.764151</td>\n",
       "    </tr>\n",
       "    <tr>\n",
       "      <th>2</th>\n",
       "      <td>0.509434</td>\n",
       "      <td>0.650943</td>\n",
       "      <td>0.792453</td>\n",
       "      <td>0.830189</td>\n",
       "      <td>0.830189</td>\n",
       "      <td>0.839623</td>\n",
       "      <td>0.849057</td>\n",
       "      <td>0.839623</td>\n",
       "      <td>0.839623</td>\n",
       "      <td>0.849057</td>\n",
       "      <td>0.839623</td>\n",
       "      <td>0.820755</td>\n",
       "      <td>0.792453</td>\n",
       "      <td>0.811321</td>\n",
       "      <td>0.801887</td>\n",
       "      <td>0.764151</td>\n",
       "      <td>0.792453</td>\n",
       "      <td>0.754717</td>\n",
       "      <td>0.735849</td>\n",
       "      <td>0.688679</td>\n",
       "    </tr>\n",
       "    <tr>\n",
       "      <th>3</th>\n",
       "      <td>0.509434</td>\n",
       "      <td>0.641509</td>\n",
       "      <td>0.801887</td>\n",
       "      <td>0.820755</td>\n",
       "      <td>0.811321</td>\n",
       "      <td>0.830189</td>\n",
       "      <td>0.820755</td>\n",
       "      <td>0.839623</td>\n",
       "      <td>0.830189</td>\n",
       "      <td>0.849057</td>\n",
       "      <td>0.839623</td>\n",
       "      <td>0.830189</td>\n",
       "      <td>0.820755</td>\n",
       "      <td>0.830189</td>\n",
       "      <td>0.811321</td>\n",
       "      <td>0.849057</td>\n",
       "      <td>0.839623</td>\n",
       "      <td>0.839623</td>\n",
       "      <td>0.792453</td>\n",
       "      <td>0.830189</td>\n",
       "    </tr>\n",
       "    <tr>\n",
       "      <th>4</th>\n",
       "      <td>0.514286</td>\n",
       "      <td>0.628571</td>\n",
       "      <td>0.800000</td>\n",
       "      <td>0.809524</td>\n",
       "      <td>0.828571</td>\n",
       "      <td>0.828571</td>\n",
       "      <td>0.828571</td>\n",
       "      <td>0.838095</td>\n",
       "      <td>0.828571</td>\n",
       "      <td>0.847619</td>\n",
       "      <td>0.828571</td>\n",
       "      <td>0.857143</td>\n",
       "      <td>0.819048</td>\n",
       "      <td>0.828571</td>\n",
       "      <td>0.847619</td>\n",
       "      <td>0.809524</td>\n",
       "      <td>0.761905</td>\n",
       "      <td>0.733333</td>\n",
       "      <td>0.780952</td>\n",
       "      <td>0.761905</td>\n",
       "    </tr>\n",
       "  </tbody>\n",
       "</table>\n",
       "</div>"
      ],
      "text/plain": [
       "         0         1         2         3         4         5         6   \\\n",
       "0  0.518868  0.650943  0.783019  0.820755  0.801887  0.792453  0.783019   \n",
       "1  0.518868  0.698113  0.783019  0.773585  0.754717  0.754717  0.830189   \n",
       "2  0.509434  0.650943  0.792453  0.830189  0.830189  0.839623  0.849057   \n",
       "3  0.509434  0.641509  0.801887  0.820755  0.811321  0.830189  0.820755   \n",
       "4  0.514286  0.628571  0.800000  0.809524  0.828571  0.828571  0.828571   \n",
       "\n",
       "         7         8         9         10        11        12        13  \\\n",
       "0  0.792453  0.792453  0.792453  0.764151  0.792453  0.830189  0.830189   \n",
       "1  0.849057  0.839623  0.839623  0.849057  0.877358  0.877358  0.858491   \n",
       "2  0.839623  0.839623  0.849057  0.839623  0.820755  0.792453  0.811321   \n",
       "3  0.839623  0.830189  0.849057  0.839623  0.830189  0.820755  0.830189   \n",
       "4  0.838095  0.828571  0.847619  0.828571  0.857143  0.819048  0.828571   \n",
       "\n",
       "         14        15        16        17        18        19  \n",
       "0  0.839623  0.764151  0.764151  0.716981  0.745283  0.754717  \n",
       "1  0.896226  0.877358  0.877358  0.792453  0.764151  0.764151  \n",
       "2  0.801887  0.764151  0.792453  0.754717  0.735849  0.688679  \n",
       "3  0.811321  0.849057  0.839623  0.839623  0.792453  0.830189  \n",
       "4  0.847619  0.809524  0.761905  0.733333  0.780952  0.761905  "
      ]
     },
     "execution_count": 23,
     "metadata": {},
     "output_type": "execute_result"
    }
   ],
   "source": [
    "#The performance score for each C in K folds.\n",
    "pd.DataFrame(sparselr.scores_[\"pos\"])"
   ]
  },
  {
   "cell_type": "code",
   "execution_count": 24,
   "id": "95aa58bf",
   "metadata": {
    "scrolled": true
   },
   "outputs": [
    {
     "data": {
      "image/png": "[encoded data removed]",
      "text/plain": [
       "<Figure size 432x288 with 1 Axes>"
      ]
     },
     "metadata": {
      "needs_background": "light"
     },
     "output_type": "display_data"
    }
   ],
   "source": [
    "import matplotlib.pyplot as plt\n",
    "%matplotlib inline\n",
    "plt.plot(np.log10(sparselr.Cs_), sparselr.scores_[\"pos\"].mean(axis=0))\n",
    "plt.xlabel('log(C)')\n",
    "plt.ylabel('Accuracy')\n",
    "plt.title('Logistic Regression Path')\n",
    "plt.axis('tight')\n",
    "plt.show()"
   ]
  },
  {
   "cell_type": "markdown",
   "id": "a8a63b62",
   "metadata": {},
   "source": [
    "After running **sparselr.fit**, **sparselr** has already been **retrained** the best $C$ from the grid.\n",
    "\n",
    "Let's evaluate the performance using the best $C$."
   ]
  },
  {
   "cell_type": "code",
   "execution_count": 25,
   "id": "52b4881a",
   "metadata": {},
   "outputs": [
    {
     "name": "stdout",
     "output_type": "stream",
     "text": [
      "Train Accuracy:\n",
      "0.998109640831758\n",
      "Test Accuracy:\n",
      "0.8352490421455939\n",
      "Train AUC:\n",
      "0.9999928473334859\n",
      "Test AUC:\n",
      "0.9239297086920628\n"
     ]
    }
   ],
   "source": [
    "print(\"Train Accuracy:\")\n",
    "print(accuracy_score(train_y,sparselr.predict(train_x)))\n",
    "print(\"Test Accuracy:\")\n",
    "print(accuracy_score(test_y,sparselr.predict(test_x)))\n",
    "print(\"Train AUC:\")\n",
    "print(roc_auc_score(train_y,sparselr.predict_proba(train_x)[:, 1]))\n",
    "print(\"Test AUC:\")\n",
    "print(roc_auc_score(test_y,sparselr.predict_proba(test_x)[:, 1]))"
   ]
  },
  {
   "cell_type": "markdown",
   "id": "76017c0e",
   "metadata": {},
   "source": [
    "##  Tuning a DTM"
   ]
  },
  {
   "cell_type": "markdown",
   "id": "5cb69257",
   "metadata": {},
   "source": [
    "In addition to the regularization parameter $C$, the choices we made in the stages of dataset preparation and feature engineering can also affect the DTM, and thus, the performance of a predictive model.\n",
    "    \n",
    "   - Stemming or not\n",
    "   - Remove stop words or not\n",
    "   - Unigram or N-gram\n",
    "   - TF, TFIDF, or Binary\n",
    "   - Unnormalized or normalized\n",
    "   - All unique terms or just top-$K$ terms"
   ]
  },
  {
   "cell_type": "markdown",
   "id": "1307fa3d",
   "metadata": {},
   "source": [
    "Next, we build a SLR based on a DTM in TF and compare with the previous model in their AUC and Accuracy values on the testing set."
   ]
  },
  {
   "cell_type": "code",
   "execution_count": 26,
   "id": "6b520c64",
   "metadata": {},
   "outputs": [],
   "source": [
    "stemmer = nltk.stem.SnowballStemmer(\"english\")\n",
    "nltk_stopwords = nltk.corpus.stopwords.words(\"english\") \n",
    "\n",
    "class StemmedCountVectorizer(CountVectorizer):\n",
    "    def build_analyzer(self):\n",
    "        analyzer = super(StemmedCountVectorizer, self).build_analyzer()\n",
    "        return lambda doc: ([stemmer.stem(w) for w in analyzer(doc)])"
   ]
  },
  {
   "cell_type": "code",
   "execution_count": 27,
   "id": "3866eb02",
   "metadata": {},
   "outputs": [],
   "source": [
    "vectorizer=StemmedCountVectorizer(stop_words=nltk_stopwords)\n",
    "train_x = vectorizer.fit_transform(df_train[\"Review\"])\n",
    "train_y = df_train[\"Sentiment Polarity\"]\n",
    "test_x = vectorizer.transform(df_test[\"Review\"])\n",
    "test_y = df_test[\"Sentiment Polarity\"]"
   ]
  },
  {
   "cell_type": "markdown",
   "id": "7cbb100b",
   "metadata": {},
   "source": [
    "Note that, when we change DTM, **l1_min_c** must be recalculated. So must **param_grid**."
   ]
  },
  {
   "cell_type": "code",
   "execution_count": 28,
   "id": "bf643063",
   "metadata": {},
   "outputs": [
    {
     "name": "stdout",
     "output_type": "stream",
     "text": [
      "Train Accuracy:\n",
      "0.998109640831758\n",
      "Test Accuracy:\n",
      "0.8390804597701149\n",
      "Train AUC:\n",
      "0.9999928473334859\n",
      "Test AUC:\n",
      "0.9255808467979715\n"
     ]
    }
   ],
   "source": [
    "param_grid = l1_min_c(train_x, train_y, loss='log') * np.logspace(start=0, stop=5, num=20) \n",
    "sparselr = LogisticRegressionCV(penalty='l1', \n",
    "                                solver='liblinear', \n",
    "                                Cs=param_grid,   \n",
    "                                cv=5,            \n",
    "                                scoring='accuracy', \n",
    "                                random_state=2021,  \n",
    "                                tol=0.001,\n",
    "                                max_iter=1000)\n",
    "sparselr.fit(train_x, train_y)\n",
    "print(\"Train Accuracy:\")\n",
    "print(accuracy_score(train_y,sparselr.predict(train_x)))\n",
    "print(\"Test Accuracy:\")\n",
    "print(accuracy_score(test_y,sparselr.predict(test_x)))\n",
    "print(\"Train AUC:\")\n",
    "print(roc_auc_score(train_y,sparselr.predict_proba(train_x)[:, 1]))\n",
    "print(\"Test AUC:\")\n",
    "print(roc_auc_score(test_y,sparselr.predict_proba(test_x)[:, 1]))"
   ]
  },
  {
   "cell_type": "markdown",
   "id": "bff7af85",
   "metadata": {},
   "source": [
    "It seems TFIDF words better than TF in this example. "
   ]
  },
  {
   "cell_type": "markdown",
   "id": "785cf763",
   "metadata": {},
   "source": [
    "**More comparisons**\n",
    "\n",
    "\n",
    "\n",
    "| Score | Stemming | N-Gram | Accuracy | AUC |\n",
    "| --- | --- | --- | --- | --- |\n",
    "| Unnormalized Tfidf | Yes | Unigram | 0.84 | 0.92 |\n",
    "| Normalized Tfidf | Yes | Unigram | 0.83 | 0.92 |\n",
    "| TF | Yes | Unigram | 0.84 | 0.93 |\n",
    "| TF | No | Bigram | 0.58 | 0.58 |\n",
    "| Binary | Yes | Unigram | 0.86 | 0.93 |\n",
    "| Binary | No | Bigram | 0.64 | 0.72 |"
   ]
  },
  {
   "cell_type": "markdown",
   "id": "189b3730",
   "metadata": {},
   "source": [
    "## Decision Tree: A Rule-Based Predictive Model\n",
    "\n",
    "* Using \"decision rules\" to predict the outcome an event.\n",
    "* For example:\n",
    "    - \"A senior student with a high income and an excellent credit-rating will buy a computer from our store.\"\n",
    "    - \"A debtor with age <=25 and debt-to-income ratio>80% will default.\"\n",
    "    - \"An IT help desk ticket containing the term”account\" is about an issue of login.\"\n",
    "\n",
    "* The collection of rules can be represented by a tree diagram\n",
    "    * Example: Predict if someone will cheat on their income tax return based on their marital status, tax income, and whether they are due a tax refund. See the tree below:"
   ]
  },
  {
   "cell_type": "markdown",
   "id": "5763c624",
   "metadata": {},
   "source": [
    "<img src=\"https://raw.githubusercontent.com/alexeygrigorev/wiki-figures/master/ufrt/kddm/decision-tree-ex2.png\" width=\"400\">"
   ]
  },
  {
   "cell_type": "markdown",
   "id": "69a3c08a",
   "metadata": {},
   "source": [
    "The **depth** of a tree is the length of the longest path from the **root node** to a **leaf node**.\n",
    "   - The depth of the tree above is three.\n",
    "   - A deision tree with too many leaves and a large depth is very likely to be overfitted. "
   ]
  },
  {
   "cell_type": "markdown",
   "id": "550c903d",
   "metadata": {},
   "source": [
    "## A Gentle Introduction to XGBoost"
   ]
  },
  {
   "cell_type": "markdown",
   "id": "540222b3",
   "metadata": {},
   "source": [
    "XGBoost is short for \"eXtreme Gradient Boosting\", which is an **ensemble model**. \n",
    "- An ensemble model combines different machine learning models (e.g., decision trees) into one and performs better than individual models. \n",
    "- It is created by the following procedure:\n",
    "    - Learn the first tree from data to minmize the training error. This model usually has a large error.\n",
    "    - Learn the second tree from a random subset to correct the error made by the first tree. \n",
    "    - Learn the third tree from another random subset to correct the error made by the first and second trees.\n",
    "    - The algorithm repeats this procedure until it builds a decent quality mode.\n",
    "    \n",
    "- Eventually, XGBosst makes the prediction by taking the weighted average of the predictions made by all trees.\n",
    "\n",
    "<img src=\"\n",
    "https://www.researchgate.net/profile/Mahsa-Shoaran/publication/325632132/figure/fig2/AS:639244859093006@1529419259793/Schematic-diagram-of-a-boosted-ensemble-of-decision-trees.png\" width=\"500\">\n",
    "\n",
    "- The \"eXtreme\" refers to speed enhancements such as parallel computing and cache awareness that makes XGBoost approximately 10 times faster than traditional Gradient Boosting. "
   ]
  },
  {
   "cell_type": "markdown",
   "id": "dbc27d21",
   "metadata": {},
   "source": [
    "XGBoost's popularity surged because:\n",
    "   - It consistently outperformed comparable machine learning algorithms when making predictions from tabular data (structured data). \n",
    "   - First-prize winner in many Kaggle competitions. \n",
    "   - Hard to get overfitted.\n",
    "   - Very fast.\n",
    "   - Easy to implement in scikit-learn."
   ]
  },
  {
   "cell_type": "markdown",
   "id": "6801eb66",
   "metadata": {},
   "source": [
    "A book on XGBoost: \n",
    "https://www.amazon.com/Hands-Gradient-Boosting-XGBoost-scikit-learn-ebook/dp/B08GSSGTYF"
   ]
  },
  {
   "cell_type": "markdown",
   "id": "90cd07d3",
   "metadata": {},
   "source": [
    "## Model Training"
   ]
  },
  {
   "cell_type": "markdown",
   "id": "f59381d2",
   "metadata": {},
   "source": [
    "A library for xgboost that provides sklearn API:"
   ]
  },
  {
   "cell_type": "code",
   "execution_count": 30,
   "id": "e926ea86",
   "metadata": {},
   "outputs": [],
   "source": [
    "#!pip3 install xgboost\n",
    "from xgboost import XGBClassifier"
   ]
  },
  {
   "cell_type": "code",
   "execution_count": 31,
   "id": "25c952de",
   "metadata": {},
   "outputs": [],
   "source": [
    "xgb=XGBClassifier(n_estimators=200,    #How many trees in total\n",
    "                  max_depth=5,         #The depth of each tree\n",
    "                  nthread=4,           #Multi-thread speed up\n",
    "                  use_label_encoder=False,  #To avoid an unimportant warning message \n",
    "                  verbosity = 0,       #Hidden other messages during training\n",
    "                  random_state=2021)   #Fix the results of random sampling during training"
   ]
  },
  {
   "cell_type": "markdown",
   "id": "2352285a",
   "metadata": {},
   "source": [
    "More options can be found:\n",
    "https://xgboost.readthedocs.io/en/latest/python/python_api.html#module-xgboost.sklearn"
   ]
  },
  {
   "cell_type": "markdown",
   "id": "0c2801a7",
   "metadata": {},
   "source": [
    "**XGBClassifier** require numeric class labels (e.g., 0=neg and 1=pos) so we need to encode the labels first. By default, the alphabetically last label will be encoded into 1 and the other label will become 0. "
   ]
  },
  {
   "cell_type": "code",
   "execution_count": 32,
   "id": "7e261eee",
   "metadata": {},
   "outputs": [],
   "source": [
    "from sklearn import preprocessing\n",
    "le = preprocessing.LabelEncoder()\n",
    "train_y=le.fit_transform(train_y)\n",
    "test_y=le.transform(test_y)"
   ]
  },
  {
   "cell_type": "code",
   "execution_count": 33,
   "id": "5b395db0",
   "metadata": {},
   "outputs": [
    {
     "data": {
      "text/html": [
       "<style>#sk-container-id-7 {color: black;background-color: white;}#sk-container-id-7 pre{padding: 0;}#sk-container-id-7 div.sk-toggleable {background-color: white;}#sk-container-id-7 label.sk-toggleable__label {cursor: pointer;display: block;width: 100%;margin-bottom: 0;padding: 0.3em;box-sizing: border-box;text-align: center;}#sk-container-id-7 label.sk-toggleable__label-arrow:before {content: \"▸\";float: left;margin-right: 0.25em;color: #696969;}#sk-container-id-7 label.sk-toggleable__label-arrow:hover:before {color: black;}#sk-container-id-7 div.sk-estimator:hover label.sk-toggleable__label-arrow:before {color: black;}#sk-container-id-7 div.sk-toggleable__content {max-height: 0;max-width: 0;overflow: hidden;text-align: left;background-color: #f0f8ff;}#sk-container-id-7 div.sk-toggleable__content pre {margin: 0.2em;color: black;border-radius: 0.25em;background-color: #f0f8ff;}#sk-container-id-7 input.sk-toggleable__control:checked~div.sk-toggleable__content {max-height: 200px;max-width: 100%;overflow: auto;}#sk-container-id-7 input.sk-toggleable__control:checked~label.sk-toggleable__label-arrow:before {content: \"▾\";}#sk-container-id-7 div.sk-estimator input.sk-toggleable__control:checked~label.sk-toggleable__label {background-color: #d4ebff;}#sk-container-id-7 div.sk-label input.sk-toggleable__control:checked~label.sk-toggleable__label {background-color: #d4ebff;}#sk-container-id-7 input.sk-hidden--visually {border: 0;clip: rect(1px 1px 1px 1px);clip: rect(1px, 1px, 1px, 1px);height: 1px;margin: -1px;overflow: hidden;padding: 0;position: absolute;width: 1px;}#sk-container-id-7 div.sk-estimator {font-family: monospace;background-color: #f0f8ff;border: 1px dotted black;border-radius: 0.25em;box-sizing: border-box;margin-bottom: 0.5em;}#sk-container-id-7 div.sk-estimator:hover {background-color: #d4ebff;}#sk-container-id-7 div.sk-parallel-item::after {content: \"\";width: 100%;border-bottom: 1px solid gray;flex-grow: 1;}#sk-container-id-7 div.sk-label:hover label.sk-toggleable__label {background-color: #d4ebff;}#sk-container-id-7 div.sk-serial::before {content: \"\";position: absolute;border-left: 1px solid gray;box-sizing: border-box;top: 0;bottom: 0;left: 50%;z-index: 0;}#sk-container-id-7 div.sk-serial {display: flex;flex-direction: column;align-items: center;background-color: white;padding-right: 0.2em;padding-left: 0.2em;position: relative;}#sk-container-id-7 div.sk-item {position: relative;z-index: 1;}#sk-container-id-7 div.sk-parallel {display: flex;align-items: stretch;justify-content: center;background-color: white;position: relative;}#sk-container-id-7 div.sk-item::before, #sk-container-id-7 div.sk-parallel-item::before {content: \"\";position: absolute;border-left: 1px solid gray;box-sizing: border-box;top: 0;bottom: 0;left: 50%;z-index: -1;}#sk-container-id-7 div.sk-parallel-item {display: flex;flex-direction: column;z-index: 1;position: relative;background-color: white;}#sk-container-id-7 div.sk-parallel-item:first-child::after {align-self: flex-end;width: 50%;}#sk-container-id-7 div.sk-parallel-item:last-child::after {align-self: flex-start;width: 50%;}#sk-container-id-7 div.sk-parallel-item:only-child::after {width: 0;}#sk-container-id-7 div.sk-dashed-wrapped {border: 1px dashed gray;margin: 0 0.4em 0.5em 0.4em;box-sizing: border-box;padding-bottom: 0.4em;background-color: white;}#sk-container-id-7 div.sk-label label {font-family: monospace;font-weight: bold;display: inline-block;line-height: 1.2em;}#sk-container-id-7 div.sk-label-container {text-align: center;}#sk-container-id-7 div.sk-container {/* jupyter's `normalize.less` sets `[hidden] { display: none; }` but bootstrap.min.css set `[hidden] { display: none !important; }` so we also need the `!important` here to be able to override the default hidden behavior on the sphinx rendered scikit-learn.org. See: https://github.com/scikit-learn/scikit-learn/issues/21755 */display: inline-block !important;position: relative;}#sk-container-id-7 div.sk-text-repr-fallback {display: none;}</style><div id=\"sk-container-id-7\" class=\"sk-top-container\"><div class=\"sk-text-repr-fallback\"><pre>XGBClassifier(base_score=0.5, booster=&#x27;gbtree&#x27;, callbacks=None,\n",
       "              colsample_bylevel=1, colsample_bynode=1, colsample_bytree=1,\n",
       "              early_stopping_rounds=None, enable_categorical=False,\n",
       "              eval_metric=None, gamma=0, gpu_id=-1, grow_policy=&#x27;depthwise&#x27;,\n",
       "              importance_type=None, interaction_constraints=&#x27;&#x27;,\n",
       "              learning_rate=0.300000012, max_bin=256, max_cat_to_onehot=4,\n",
       "              max_delta_step=0, max_depth=5, max_leaves=0, min_child_weight=1,\n",
       "              missing=nan, monotone_constraints=&#x27;()&#x27;, n_estimators=200,\n",
       "              n_jobs=4, nthread=4, num_parallel_tree=1, predictor=&#x27;auto&#x27;,\n",
       "              random_state=2021, reg_alpha=0, ...)</pre><b>In a Jupyter environment, please rerun this cell to show the HTML representation or trust the notebook. <br />On GitHub, the HTML representation is unable to render, please try loading this page with nbviewer.org.</b></div><div class=\"sk-container\" hidden><div class=\"sk-item\"><div class=\"sk-estimator sk-toggleable\"><input class=\"sk-toggleable__control sk-hidden--visually\" id=\"sk-estimator-id-7\" type=\"checkbox\" checked><label for=\"sk-estimator-id-7\" class=\"sk-toggleable__label sk-toggleable__label-arrow\">XGBClassifier</label><div class=\"sk-toggleable__content\"><pre>XGBClassifier(base_score=0.5, booster=&#x27;gbtree&#x27;, callbacks=None,\n",
       "              colsample_bylevel=1, colsample_bynode=1, colsample_bytree=1,\n",
       "              early_stopping_rounds=None, enable_categorical=False,\n",
       "              eval_metric=None, gamma=0, gpu_id=-1, grow_policy=&#x27;depthwise&#x27;,\n",
       "              importance_type=None, interaction_constraints=&#x27;&#x27;,\n",
       "              learning_rate=0.300000012, max_bin=256, max_cat_to_onehot=4,\n",
       "              max_delta_step=0, max_depth=5, max_leaves=0, min_child_weight=1,\n",
       "              missing=nan, monotone_constraints=&#x27;()&#x27;, n_estimators=200,\n",
       "              n_jobs=4, nthread=4, num_parallel_tree=1, predictor=&#x27;auto&#x27;,\n",
       "              random_state=2021, reg_alpha=0, ...)</pre></div></div></div></div></div>"
      ],
      "text/plain": [
       "XGBClassifier(base_score=0.5, booster='gbtree', callbacks=None,\n",
       "              colsample_bylevel=1, colsample_bynode=1, colsample_bytree=1,\n",
       "              early_stopping_rounds=None, enable_categorical=False,\n",
       "              eval_metric=None, gamma=0, gpu_id=-1, grow_policy='depthwise',\n",
       "              importance_type=None, interaction_constraints='',\n",
       "              learning_rate=0.300000012, max_bin=256, max_cat_to_onehot=4,\n",
       "              max_delta_step=0, max_depth=5, max_leaves=0, min_child_weight=1,\n",
       "              missing=nan, monotone_constraints='()', n_estimators=200,\n",
       "              n_jobs=4, nthread=4, num_parallel_tree=1, predictor='auto',\n",
       "              random_state=2021, reg_alpha=0, ...)"
      ]
     },
     "execution_count": 33,
     "metadata": {},
     "output_type": "execute_result"
    }
   ],
   "source": [
    "xgb.fit(train_x, train_y)"
   ]
  },
  {
   "cell_type": "markdown",
   "id": "3e4504f5",
   "metadata": {},
   "source": [
    "## Descriptive Analytics (XGBoost)"
   ]
  },
  {
   "cell_type": "markdown",
   "id": "650b9dc8",
   "metadata": {},
   "source": [
    "Gradient boosting calculates an importance score for each term that indicates how useful that term was in the construction of the decision trees within the model. \n",
    "\n",
    "The more useful a term is in making a prediction, the higher its importance is."
   ]
  },
  {
   "cell_type": "code",
   "execution_count": 34,
   "id": "7e2e134c",
   "metadata": {},
   "outputs": [
    {
     "data": {
      "text/plain": [
       "array([0., 0., 0., ..., 0., 0., 0.], dtype=float32)"
      ]
     },
     "execution_count": 34,
     "metadata": {},
     "output_type": "execute_result"
    }
   ],
   "source": [
    "#Importance score\n",
    "xgb.feature_importances_"
   ]
  },
  {
   "cell_type": "code",
   "execution_count": 35,
   "id": "5ced1647",
   "metadata": {},
   "outputs": [
    {
     "name": "stderr",
     "output_type": "stream",
     "text": [
      "/home/abromeland/.local/lib/python3.9/site-packages/sklearn/utils/deprecation.py:87: FutureWarning: Function get_feature_names is deprecated; get_feature_names is deprecated in 1.0 and will be removed in 1.2. Please use get_feature_names_out instead.\n",
      "  warnings.warn(msg, category=FutureWarning)\n"
     ]
    },
    {
     "data": {
      "text/html": [
       "<div>\n",
       "<style scoped>\n",
       "    .dataframe tbody tr th:only-of-type {\n",
       "        vertical-align: middle;\n",
       "    }\n",
       "\n",
       "    .dataframe tbody tr th {\n",
       "        vertical-align: top;\n",
       "    }\n",
       "\n",
       "    .dataframe thead th {\n",
       "        text-align: right;\n",
       "    }\n",
       "</style>\n",
       "<table border=\"1\" class=\"dataframe\">\n",
       "  <thead>\n",
       "    <tr style=\"text-align: right;\">\n",
       "      <th></th>\n",
       "      <th>Term</th>\n",
       "      <th>Importance</th>\n",
       "    </tr>\n",
       "  </thead>\n",
       "  <tbody>\n",
       "    <tr>\n",
       "      <th>0</th>\n",
       "      <td>sleek</td>\n",
       "      <td>0.039415</td>\n",
       "    </tr>\n",
       "    <tr>\n",
       "      <th>1</th>\n",
       "      <td>fantast</td>\n",
       "      <td>0.037282</td>\n",
       "    </tr>\n",
       "    <tr>\n",
       "      <th>2</th>\n",
       "      <td>love</td>\n",
       "      <td>0.033920</td>\n",
       "    </tr>\n",
       "    <tr>\n",
       "      <th>3</th>\n",
       "      <td>perfect</td>\n",
       "      <td>0.029883</td>\n",
       "    </tr>\n",
       "    <tr>\n",
       "      <th>4</th>\n",
       "      <td>amaz</td>\n",
       "      <td>0.025804</td>\n",
       "    </tr>\n",
       "    <tr>\n",
       "      <th>5</th>\n",
       "      <td>start</td>\n",
       "      <td>0.023955</td>\n",
       "    </tr>\n",
       "    <tr>\n",
       "      <th>6</th>\n",
       "      <td>disappoint</td>\n",
       "      <td>0.021148</td>\n",
       "    </tr>\n",
       "    <tr>\n",
       "      <th>7</th>\n",
       "      <td>built</td>\n",
       "      <td>0.020613</td>\n",
       "    </tr>\n",
       "    <tr>\n",
       "      <th>8</th>\n",
       "      <td>allow</td>\n",
       "      <td>0.018195</td>\n",
       "    </tr>\n",
       "    <tr>\n",
       "      <th>9</th>\n",
       "      <td>wast</td>\n",
       "      <td>0.017326</td>\n",
       "    </tr>\n",
       "  </tbody>\n",
       "</table>\n",
       "</div>"
      ],
      "text/plain": [
       "         Term  Importance\n",
       "0       sleek    0.039415\n",
       "1     fantast    0.037282\n",
       "2        love    0.033920\n",
       "3     perfect    0.029883\n",
       "4        amaz    0.025804\n",
       "5       start    0.023955\n",
       "6  disappoint    0.021148\n",
       "7       built    0.020613\n",
       "8       allow    0.018195\n",
       "9        wast    0.017326"
      ]
     },
     "execution_count": 35,
     "metadata": {},
     "output_type": "execute_result"
    }
   ],
   "source": [
    "dfbeta = pd.DataFrame({'Term': vectorizer.get_feature_names(),\n",
    "                       'Importance': xgb.feature_importances_\n",
    "                     })\n",
    "dfbeta.sort_values(by=\"Importance\",inplace=True,ascending=False)\n",
    "dfbeta.reset_index(inplace=True,drop=True)\n",
    "dfbeta.head(10)"
   ]
  },
  {
   "cell_type": "markdown",
   "id": "1c0a421c",
   "metadata": {},
   "source": [
    "Compared to $\\beta$'s in sparse logistic regression, importance score does not distinguish terms with positive and negative impact. "
   ]
  },
  {
   "cell_type": "markdown",
   "id": "f171a180",
   "metadata": {},
   "source": [
    "## Predictive Analytics  (XGBoost)"
   ]
  },
  {
   "cell_type": "markdown",
   "id": "a6b53153",
   "metadata": {},
   "source": [
    "Predictions by XGBoost are implemented in a way similar to SLR."
   ]
  },
  {
   "cell_type": "code",
   "execution_count": 36,
   "id": "7dc55147",
   "metadata": {},
   "outputs": [
    {
     "data": {
      "text/plain": [
       "array([0, 0, 1, 0, 0, 0, 0, 0, 1, 0])"
      ]
     },
     "execution_count": 36,
     "metadata": {},
     "output_type": "execute_result"
    }
   ],
   "source": [
    "#Apply the model to the reviews testing set and predict the classes\n",
    "xgb.predict(test_x)[0:10]"
   ]
  },
  {
   "cell_type": "code",
   "execution_count": 37,
   "id": "5f972e80",
   "metadata": {},
   "outputs": [
    {
     "data": {
      "text/plain": [
       "array([[9.9743140e-01, 2.5685935e-03],\n",
       "       [9.8153418e-01, 1.8465804e-02],\n",
       "       [1.6362548e-01, 8.3637452e-01],\n",
       "       [9.8455006e-01, 1.5449947e-02],\n",
       "       [8.1260675e-01, 1.8739323e-01],\n",
       "       [7.3560524e-01, 2.6439476e-01],\n",
       "       [9.7903705e-01, 2.0962974e-02],\n",
       "       [7.1437037e-01, 2.8562966e-01],\n",
       "       [8.0102682e-04, 9.9919897e-01],\n",
       "       [6.4550185e-01, 3.5449812e-01]], dtype=float32)"
      ]
     },
     "execution_count": 37,
     "metadata": {},
     "output_type": "execute_result"
    }
   ],
   "source": [
    "#Predict the probability in each class (in alphabetical order of the classes)\n",
    "xgb.predict_proba(test_x)[0:10]"
   ]
  },
  {
   "cell_type": "code",
   "execution_count": 38,
   "id": "21f1f99b",
   "metadata": {
    "scrolled": true
   },
   "outputs": [
    {
     "name": "stdout",
     "output_type": "stream",
     "text": [
      "Train Accuracy:\n",
      "0.996219281663516\n",
      "Test Accuracy:\n",
      "0.8314176245210728\n",
      "Train AUC:\n",
      "0.9999713893339437\n",
      "Test AUC:\n",
      "0.8897275622125251\n"
     ]
    }
   ],
   "source": [
    "print(\"Train Accuracy:\")\n",
    "print(accuracy_score(train_y,xgb.predict(train_x)))\n",
    "print(\"Test Accuracy:\")\n",
    "print(accuracy_score(test_y,xgb.predict(test_x)))\n",
    "print(\"Train AUC:\")\n",
    "print(roc_auc_score(train_y,xgb.predict_proba(train_x)[:, 1]))\n",
    "print(\"Test AUC:\")\n",
    "print(roc_auc_score(test_y,xgb.predict_proba(test_x)[:, 1]))"
   ]
  },
  {
   "cell_type": "markdown",
   "id": "acc20590",
   "metadata": {},
   "source": [
    "## Cross Validation (XGBoost)"
   ]
  },
  {
   "cell_type": "markdown",
   "id": "b40073b5",
   "metadata": {},
   "source": [
    "The performance of XGBoost depends on many tuning parameters:\n",
    "   - max_depth: typically between 2 and 20\n",
    "   - n_estimators: typically between 100 and 500\n",
    "   - Others"
   ]
  },
  {
   "cell_type": "markdown",
   "id": "b7562af1",
   "metadata": {},
   "source": [
    "In sklearn, parameters in XGBoost can be selected by $K$-fold cross validation using **GridSearchCV**."
   ]
  },
  {
   "cell_type": "code",
   "execution_count": 39,
   "id": "74e494de",
   "metadata": {},
   "outputs": [
    {
     "data": {
      "text/html": [
       "<style>#sk-container-id-8 {color: black;background-color: white;}#sk-container-id-8 pre{padding: 0;}#sk-container-id-8 div.sk-toggleable {background-color: white;}#sk-container-id-8 label.sk-toggleable__label {cursor: pointer;display: block;width: 100%;margin-bottom: 0;padding: 0.3em;box-sizing: border-box;text-align: center;}#sk-container-id-8 label.sk-toggleable__label-arrow:before {content: \"▸\";float: left;margin-right: 0.25em;color: #696969;}#sk-container-id-8 label.sk-toggleable__label-arrow:hover:before {color: black;}#sk-container-id-8 div.sk-estimator:hover label.sk-toggleable__label-arrow:before {color: black;}#sk-container-id-8 div.sk-toggleable__content {max-height: 0;max-width: 0;overflow: hidden;text-align: left;background-color: #f0f8ff;}#sk-container-id-8 div.sk-toggleable__content pre {margin: 0.2em;color: black;border-radius: 0.25em;background-color: #f0f8ff;}#sk-container-id-8 input.sk-toggleable__control:checked~div.sk-toggleable__content {max-height: 200px;max-width: 100%;overflow: auto;}#sk-container-id-8 input.sk-toggleable__control:checked~label.sk-toggleable__label-arrow:before {content: \"▾\";}#sk-container-id-8 div.sk-estimator input.sk-toggleable__control:checked~label.sk-toggleable__label {background-color: #d4ebff;}#sk-container-id-8 div.sk-label input.sk-toggleable__control:checked~label.sk-toggleable__label {background-color: #d4ebff;}#sk-container-id-8 input.sk-hidden--visually {border: 0;clip: rect(1px 1px 1px 1px);clip: rect(1px, 1px, 1px, 1px);height: 1px;margin: -1px;overflow: hidden;padding: 0;position: absolute;width: 1px;}#sk-container-id-8 div.sk-estimator {font-family: monospace;background-color: #f0f8ff;border: 1px dotted black;border-radius: 0.25em;box-sizing: border-box;margin-bottom: 0.5em;}#sk-container-id-8 div.sk-estimator:hover {background-color: #d4ebff;}#sk-container-id-8 div.sk-parallel-item::after {content: \"\";width: 100%;border-bottom: 1px solid gray;flex-grow: 1;}#sk-container-id-8 div.sk-label:hover label.sk-toggleable__label {background-color: #d4ebff;}#sk-container-id-8 div.sk-serial::before {content: \"\";position: absolute;border-left: 1px solid gray;box-sizing: border-box;top: 0;bottom: 0;left: 50%;z-index: 0;}#sk-container-id-8 div.sk-serial {display: flex;flex-direction: column;align-items: center;background-color: white;padding-right: 0.2em;padding-left: 0.2em;position: relative;}#sk-container-id-8 div.sk-item {position: relative;z-index: 1;}#sk-container-id-8 div.sk-parallel {display: flex;align-items: stretch;justify-content: center;background-color: white;position: relative;}#sk-container-id-8 div.sk-item::before, #sk-container-id-8 div.sk-parallel-item::before {content: \"\";position: absolute;border-left: 1px solid gray;box-sizing: border-box;top: 0;bottom: 0;left: 50%;z-index: -1;}#sk-container-id-8 div.sk-parallel-item {display: flex;flex-direction: column;z-index: 1;position: relative;background-color: white;}#sk-container-id-8 div.sk-parallel-item:first-child::after {align-self: flex-end;width: 50%;}#sk-container-id-8 div.sk-parallel-item:last-child::after {align-self: flex-start;width: 50%;}#sk-container-id-8 div.sk-parallel-item:only-child::after {width: 0;}#sk-container-id-8 div.sk-dashed-wrapped {border: 1px dashed gray;margin: 0 0.4em 0.5em 0.4em;box-sizing: border-box;padding-bottom: 0.4em;background-color: white;}#sk-container-id-8 div.sk-label label {font-family: monospace;font-weight: bold;display: inline-block;line-height: 1.2em;}#sk-container-id-8 div.sk-label-container {text-align: center;}#sk-container-id-8 div.sk-container {/* jupyter's `normalize.less` sets `[hidden] { display: none; }` but bootstrap.min.css set `[hidden] { display: none !important; }` so we also need the `!important` here to be able to override the default hidden behavior on the sphinx rendered scikit-learn.org. See: https://github.com/scikit-learn/scikit-learn/issues/21755 */display: inline-block !important;position: relative;}#sk-container-id-8 div.sk-text-repr-fallback {display: none;}</style><div id=\"sk-container-id-8\" class=\"sk-top-container\"><div class=\"sk-text-repr-fallback\"><pre>GridSearchCV(cv=5,\n",
       "             estimator=XGBClassifier(base_score=None, booster=None,\n",
       "                                     callbacks=None, colsample_bylevel=None,\n",
       "                                     colsample_bynode=None,\n",
       "                                     colsample_bytree=None,\n",
       "                                     early_stopping_rounds=None,\n",
       "                                     enable_categorical=False, eval_metric=None,\n",
       "                                     gamma=None, gpu_id=None, grow_policy=None,\n",
       "                                     importance_type=None,\n",
       "                                     interaction_constraints=None,\n",
       "                                     learning_rate=None, max_bin=None,\n",
       "                                     max_cat_to_onehot=None,\n",
       "                                     max_delta_step=None, max_depth=None,\n",
       "                                     max_leaves=None, min_child_weight=None,\n",
       "                                     missing=nan, monotone_constraints=None,\n",
       "                                     n_estimators=100, n_jobs=None, nthread=4,\n",
       "                                     num_parallel_tree=None, predictor=None,\n",
       "                                     random_state=2021, reg_alpha=None, ...),\n",
       "             param_grid={&#x27;max_depth&#x27;: [2, 5], &#x27;n_estimators&#x27;: [10, 100]},\n",
       "             scoring=&#x27;accuracy&#x27;)</pre><b>In a Jupyter environment, please rerun this cell to show the HTML representation or trust the notebook. <br />On GitHub, the HTML representation is unable to render, please try loading this page with nbviewer.org.</b></div><div class=\"sk-container\" hidden><div class=\"sk-item sk-dashed-wrapped\"><div class=\"sk-label-container\"><div class=\"sk-label sk-toggleable\"><input class=\"sk-toggleable__control sk-hidden--visually\" id=\"sk-estimator-id-8\" type=\"checkbox\" ><label for=\"sk-estimator-id-8\" class=\"sk-toggleable__label sk-toggleable__label-arrow\">GridSearchCV</label><div class=\"sk-toggleable__content\"><pre>GridSearchCV(cv=5,\n",
       "             estimator=XGBClassifier(base_score=None, booster=None,\n",
       "                                     callbacks=None, colsample_bylevel=None,\n",
       "                                     colsample_bynode=None,\n",
       "                                     colsample_bytree=None,\n",
       "                                     early_stopping_rounds=None,\n",
       "                                     enable_categorical=False, eval_metric=None,\n",
       "                                     gamma=None, gpu_id=None, grow_policy=None,\n",
       "                                     importance_type=None,\n",
       "                                     interaction_constraints=None,\n",
       "                                     learning_rate=None, max_bin=None,\n",
       "                                     max_cat_to_onehot=None,\n",
       "                                     max_delta_step=None, max_depth=None,\n",
       "                                     max_leaves=None, min_child_weight=None,\n",
       "                                     missing=nan, monotone_constraints=None,\n",
       "                                     n_estimators=100, n_jobs=None, nthread=4,\n",
       "                                     num_parallel_tree=None, predictor=None,\n",
       "                                     random_state=2021, reg_alpha=None, ...),\n",
       "             param_grid={&#x27;max_depth&#x27;: [2, 5], &#x27;n_estimators&#x27;: [10, 100]},\n",
       "             scoring=&#x27;accuracy&#x27;)</pre></div></div></div><div class=\"sk-parallel\"><div class=\"sk-parallel-item\"><div class=\"sk-item\"><div class=\"sk-label-container\"><div class=\"sk-label sk-toggleable\"><input class=\"sk-toggleable__control sk-hidden--visually\" id=\"sk-estimator-id-9\" type=\"checkbox\" ><label for=\"sk-estimator-id-9\" class=\"sk-toggleable__label sk-toggleable__label-arrow\">estimator: XGBClassifier</label><div class=\"sk-toggleable__content\"><pre>XGBClassifier(base_score=None, booster=None, callbacks=None,\n",
       "              colsample_bylevel=None, colsample_bynode=None,\n",
       "              colsample_bytree=None, early_stopping_rounds=None,\n",
       "              enable_categorical=False, eval_metric=None, gamma=None,\n",
       "              gpu_id=None, grow_policy=None, importance_type=None,\n",
       "              interaction_constraints=None, learning_rate=None, max_bin=None,\n",
       "              max_cat_to_onehot=None, max_delta_step=None, max_depth=None,\n",
       "              max_leaves=None, min_child_weight=None, missing=nan,\n",
       "              monotone_constraints=None, n_estimators=100, n_jobs=None,\n",
       "              nthread=4, num_parallel_tree=None, predictor=None,\n",
       "              random_state=2021, reg_alpha=None, ...)</pre></div></div></div><div class=\"sk-serial\"><div class=\"sk-item\"><div class=\"sk-estimator sk-toggleable\"><input class=\"sk-toggleable__control sk-hidden--visually\" id=\"sk-estimator-id-10\" type=\"checkbox\" ><label for=\"sk-estimator-id-10\" class=\"sk-toggleable__label sk-toggleable__label-arrow\">XGBClassifier</label><div class=\"sk-toggleable__content\"><pre>XGBClassifier(base_score=None, booster=None, callbacks=None,\n",
       "              colsample_bylevel=None, colsample_bynode=None,\n",
       "              colsample_bytree=None, early_stopping_rounds=None,\n",
       "              enable_categorical=False, eval_metric=None, gamma=None,\n",
       "              gpu_id=None, grow_policy=None, importance_type=None,\n",
       "              interaction_constraints=None, learning_rate=None, max_bin=None,\n",
       "              max_cat_to_onehot=None, max_delta_step=None, max_depth=None,\n",
       "              max_leaves=None, min_child_weight=None, missing=nan,\n",
       "              monotone_constraints=None, n_estimators=100, n_jobs=None,\n",
       "              nthread=4, num_parallel_tree=None, predictor=None,\n",
       "              random_state=2021, reg_alpha=None, ...)</pre></div></div></div></div></div></div></div></div></div></div>"
      ],
      "text/plain": [
       "GridSearchCV(cv=5,\n",
       "             estimator=XGBClassifier(base_score=None, booster=None,\n",
       "                                     callbacks=None, colsample_bylevel=None,\n",
       "                                     colsample_bynode=None,\n",
       "                                     colsample_bytree=None,\n",
       "                                     early_stopping_rounds=None,\n",
       "                                     enable_categorical=False, eval_metric=None,\n",
       "                                     gamma=None, gpu_id=None, grow_policy=None,\n",
       "                                     importance_type=None,\n",
       "                                     interaction_constraints=None,\n",
       "                                     learning_rate=None, max_bin=None,\n",
       "                                     max_cat_to_onehot=None,\n",
       "                                     max_delta_step=None, max_depth=None,\n",
       "                                     max_leaves=None, min_child_weight=None,\n",
       "                                     missing=nan, monotone_constraints=None,\n",
       "                                     n_estimators=100, n_jobs=None, nthread=4,\n",
       "                                     num_parallel_tree=None, predictor=None,\n",
       "                                     random_state=2021, reg_alpha=None, ...),\n",
       "             param_grid={'max_depth': [2, 5], 'n_estimators': [10, 100]},\n",
       "             scoring='accuracy')"
      ]
     },
     "execution_count": 39,
     "metadata": {},
     "output_type": "execute_result"
    }
   ],
   "source": [
    "from sklearn.model_selection import GridSearchCV   \n",
    "param_list = {  \n",
    " 'max_depth':[2, 5],       #Candidate for max_depth\n",
    " 'n_estimators':[10, 100]  #Candidate for n_estimators\n",
    "}\n",
    "xgb=XGBClassifier(nthread=4,\n",
    "                  use_label_encoder=False,\n",
    "                  verbosity = 0,\n",
    "                  random_state=2021\n",
    "                 )\n",
    "xgb = GridSearchCV(estimator = xgb, \n",
    "                   param_grid = param_list,\n",
    "                   scoring = 'accuracy',  #The performance metric to select the best parameters.\n",
    "                   cv=5                   #Number of folds, i.e., K\n",
    "                  )  \n",
    "xgb.fit(train_x, train_y)"
   ]
  },
  {
   "cell_type": "code",
   "execution_count": 40,
   "id": "9336a336",
   "metadata": {},
   "outputs": [
    {
     "data": {
      "text/html": [
       "<div>\n",
       "<style scoped>\n",
       "    .dataframe tbody tr th:only-of-type {\n",
       "        vertical-align: middle;\n",
       "    }\n",
       "\n",
       "    .dataframe tbody tr th {\n",
       "        vertical-align: top;\n",
       "    }\n",
       "\n",
       "    .dataframe thead th {\n",
       "        text-align: right;\n",
       "    }\n",
       "</style>\n",
       "<table border=\"1\" class=\"dataframe\">\n",
       "  <thead>\n",
       "    <tr style=\"text-align: right;\">\n",
       "      <th></th>\n",
       "      <th>param_max_depth</th>\n",
       "      <th>param_n_estimators</th>\n",
       "      <th>mean_test_score</th>\n",
       "    </tr>\n",
       "  </thead>\n",
       "  <tbody>\n",
       "    <tr>\n",
       "      <th>0</th>\n",
       "      <td>2</td>\n",
       "      <td>10</td>\n",
       "      <td>0.761815</td>\n",
       "    </tr>\n",
       "    <tr>\n",
       "      <th>1</th>\n",
       "      <td>2</td>\n",
       "      <td>100</td>\n",
       "      <td>0.831788</td>\n",
       "    </tr>\n",
       "    <tr>\n",
       "      <th>2</th>\n",
       "      <td>5</td>\n",
       "      <td>10</td>\n",
       "      <td>0.812902</td>\n",
       "    </tr>\n",
       "    <tr>\n",
       "      <th>3</th>\n",
       "      <td>5</td>\n",
       "      <td>100</td>\n",
       "      <td>0.795885</td>\n",
       "    </tr>\n",
       "  </tbody>\n",
       "</table>\n",
       "</div>"
      ],
      "text/plain": [
       "  param_max_depth param_n_estimators  mean_test_score\n",
       "0               2                 10         0.761815\n",
       "1               2                100         0.831788\n",
       "2               5                 10         0.812902\n",
       "3               5                100         0.795885"
      ]
     },
     "execution_count": 40,
     "metadata": {},
     "output_type": "execute_result"
    }
   ],
   "source": [
    "#The averaged performance for each combination of parameters.\n",
    "pd.DataFrame(xgb.cv_results_)[[\"param_max_depth\",\"param_n_estimators\",\"mean_test_score\"]]"
   ]
  },
  {
   "cell_type": "code",
   "execution_count": 41,
   "id": "0251f546",
   "metadata": {},
   "outputs": [
    {
     "data": {
      "text/plain": [
       "{'max_depth': 2, 'n_estimators': 100}"
      ]
     },
     "execution_count": 41,
     "metadata": {},
     "output_type": "execute_result"
    }
   ],
   "source": [
    "#This is the best combination of parameters.\n",
    "xgb.best_params_"
   ]
  },
  {
   "cell_type": "markdown",
   "id": "dbe152fc",
   "metadata": {},
   "source": [
    "Evaluate the performance using the best parameters."
   ]
  },
  {
   "cell_type": "code",
   "execution_count": 45,
   "id": "197d4785",
   "metadata": {},
   "outputs": [
    {
     "name": "stdout",
     "output_type": "stream",
     "text": [
      "Train Accuracy:\n",
      "0.9697542533081286\n",
      "Test Accuracy:\n",
      "0.8352490421455939\n",
      "Train AUC:\n",
      "0.9962734607461662\n",
      "Test AUC:\n",
      "0.9108975114989976\n"
     ]
    }
   ],
   "source": [
    "print(\"Train Accuracy:\")\n",
    "print(accuracy_score(train_y,xgb.predict(train_x)))\n",
    "print(\"Test Accuracy:\")\n",
    "print(accuracy_score(test_y,xgb.predict(test_x)))\n",
    "print(\"Train AUC:\")\n",
    "print(roc_auc_score(train_y,xgb.predict_proba(train_x)[:, 1]))\n",
    "print(\"Test AUC:\")\n",
    "print(roc_auc_score(test_y,xgb.predict_proba(test_x)[:, 1]))"
   ]
  },
  {
   "cell_type": "markdown",
   "id": "0e24ea60",
   "metadata": {},
   "source": [
    "Similarly, we can further improve the performance of XGBoost by using different DTMs. Since the procedure is identical to that of SLR, we omit the details. "
   ]
  },
  {
   "cell_type": "markdown",
   "id": "90ec545f",
   "metadata": {},
   "source": [
    "XBG library does not do re-train. Hence, after knowing the best parameters from cross validation, we need to use them to build a final XGB model (re-train by ourselves). See below:"
   ]
  },
  {
   "cell_type": "code",
   "execution_count": 43,
   "id": "7ab3f156",
   "metadata": {
    "scrolled": true
   },
   "outputs": [
    {
     "data": {
      "text/html": [
       "<style>#sk-container-id-9 {color: black;background-color: white;}#sk-container-id-9 pre{padding: 0;}#sk-container-id-9 div.sk-toggleable {background-color: white;}#sk-container-id-9 label.sk-toggleable__label {cursor: pointer;display: block;width: 100%;margin-bottom: 0;padding: 0.3em;box-sizing: border-box;text-align: center;}#sk-container-id-9 label.sk-toggleable__label-arrow:before {content: \"▸\";float: left;margin-right: 0.25em;color: #696969;}#sk-container-id-9 label.sk-toggleable__label-arrow:hover:before {color: black;}#sk-container-id-9 div.sk-estimator:hover label.sk-toggleable__label-arrow:before {color: black;}#sk-container-id-9 div.sk-toggleable__content {max-height: 0;max-width: 0;overflow: hidden;text-align: left;background-color: #f0f8ff;}#sk-container-id-9 div.sk-toggleable__content pre {margin: 0.2em;color: black;border-radius: 0.25em;background-color: #f0f8ff;}#sk-container-id-9 input.sk-toggleable__control:checked~div.sk-toggleable__content {max-height: 200px;max-width: 100%;overflow: auto;}#sk-container-id-9 input.sk-toggleable__control:checked~label.sk-toggleable__label-arrow:before {content: \"▾\";}#sk-container-id-9 div.sk-estimator input.sk-toggleable__control:checked~label.sk-toggleable__label {background-color: #d4ebff;}#sk-container-id-9 div.sk-label input.sk-toggleable__control:checked~label.sk-toggleable__label {background-color: #d4ebff;}#sk-container-id-9 input.sk-hidden--visually {border: 0;clip: rect(1px 1px 1px 1px);clip: rect(1px, 1px, 1px, 1px);height: 1px;margin: -1px;overflow: hidden;padding: 0;position: absolute;width: 1px;}#sk-container-id-9 div.sk-estimator {font-family: monospace;background-color: #f0f8ff;border: 1px dotted black;border-radius: 0.25em;box-sizing: border-box;margin-bottom: 0.5em;}#sk-container-id-9 div.sk-estimator:hover {background-color: #d4ebff;}#sk-container-id-9 div.sk-parallel-item::after {content: \"\";width: 100%;border-bottom: 1px solid gray;flex-grow: 1;}#sk-container-id-9 div.sk-label:hover label.sk-toggleable__label {background-color: #d4ebff;}#sk-container-id-9 div.sk-serial::before {content: \"\";position: absolute;border-left: 1px solid gray;box-sizing: border-box;top: 0;bottom: 0;left: 50%;z-index: 0;}#sk-container-id-9 div.sk-serial {display: flex;flex-direction: column;align-items: center;background-color: white;padding-right: 0.2em;padding-left: 0.2em;position: relative;}#sk-container-id-9 div.sk-item {position: relative;z-index: 1;}#sk-container-id-9 div.sk-parallel {display: flex;align-items: stretch;justify-content: center;background-color: white;position: relative;}#sk-container-id-9 div.sk-item::before, #sk-container-id-9 div.sk-parallel-item::before {content: \"\";position: absolute;border-left: 1px solid gray;box-sizing: border-box;top: 0;bottom: 0;left: 50%;z-index: -1;}#sk-container-id-9 div.sk-parallel-item {display: flex;flex-direction: column;z-index: 1;position: relative;background-color: white;}#sk-container-id-9 div.sk-parallel-item:first-child::after {align-self: flex-end;width: 50%;}#sk-container-id-9 div.sk-parallel-item:last-child::after {align-self: flex-start;width: 50%;}#sk-container-id-9 div.sk-parallel-item:only-child::after {width: 0;}#sk-container-id-9 div.sk-dashed-wrapped {border: 1px dashed gray;margin: 0 0.4em 0.5em 0.4em;box-sizing: border-box;padding-bottom: 0.4em;background-color: white;}#sk-container-id-9 div.sk-label label {font-family: monospace;font-weight: bold;display: inline-block;line-height: 1.2em;}#sk-container-id-9 div.sk-label-container {text-align: center;}#sk-container-id-9 div.sk-container {/* jupyter's `normalize.less` sets `[hidden] { display: none; }` but bootstrap.min.css set `[hidden] { display: none !important; }` so we also need the `!important` here to be able to override the default hidden behavior on the sphinx rendered scikit-learn.org. See: https://github.com/scikit-learn/scikit-learn/issues/21755 */display: inline-block !important;position: relative;}#sk-container-id-9 div.sk-text-repr-fallback {display: none;}</style><div id=\"sk-container-id-9\" class=\"sk-top-container\"><div class=\"sk-text-repr-fallback\"><pre>XGBClassifier(base_score=0.5, booster=&#x27;gbtree&#x27;, callbacks=None,\n",
       "              colsample_bylevel=1, colsample_bynode=1, colsample_bytree=1,\n",
       "              early_stopping_rounds=None, enable_categorical=False,\n",
       "              eval_metric=None, gamma=0, gpu_id=-1, grow_policy=&#x27;depthwise&#x27;,\n",
       "              importance_type=None, interaction_constraints=&#x27;&#x27;,\n",
       "              learning_rate=0.300000012, max_bin=256, max_cat_to_onehot=4,\n",
       "              max_delta_step=0, max_depth=2, max_leaves=0, min_child_weight=1,\n",
       "              missing=nan, monotone_constraints=&#x27;()&#x27;, n_estimators=100,\n",
       "              n_jobs=4, nthread=4, num_parallel_tree=1, predictor=&#x27;auto&#x27;,\n",
       "              random_state=2021, reg_alpha=0, ...)</pre><b>In a Jupyter environment, please rerun this cell to show the HTML representation or trust the notebook. <br />On GitHub, the HTML representation is unable to render, please try loading this page with nbviewer.org.</b></div><div class=\"sk-container\" hidden><div class=\"sk-item\"><div class=\"sk-estimator sk-toggleable\"><input class=\"sk-toggleable__control sk-hidden--visually\" id=\"sk-estimator-id-11\" type=\"checkbox\" checked><label for=\"sk-estimator-id-11\" class=\"sk-toggleable__label sk-toggleable__label-arrow\">XGBClassifier</label><div class=\"sk-toggleable__content\"><pre>XGBClassifier(base_score=0.5, booster=&#x27;gbtree&#x27;, callbacks=None,\n",
       "              colsample_bylevel=1, colsample_bynode=1, colsample_bytree=1,\n",
       "              early_stopping_rounds=None, enable_categorical=False,\n",
       "              eval_metric=None, gamma=0, gpu_id=-1, grow_policy=&#x27;depthwise&#x27;,\n",
       "              importance_type=None, interaction_constraints=&#x27;&#x27;,\n",
       "              learning_rate=0.300000012, max_bin=256, max_cat_to_onehot=4,\n",
       "              max_delta_step=0, max_depth=2, max_leaves=0, min_child_weight=1,\n",
       "              missing=nan, monotone_constraints=&#x27;()&#x27;, n_estimators=100,\n",
       "              n_jobs=4, nthread=4, num_parallel_tree=1, predictor=&#x27;auto&#x27;,\n",
       "              random_state=2021, reg_alpha=0, ...)</pre></div></div></div></div></div>"
      ],
      "text/plain": [
       "XGBClassifier(base_score=0.5, booster='gbtree', callbacks=None,\n",
       "              colsample_bylevel=1, colsample_bynode=1, colsample_bytree=1,\n",
       "              early_stopping_rounds=None, enable_categorical=False,\n",
       "              eval_metric=None, gamma=0, gpu_id=-1, grow_policy='depthwise',\n",
       "              importance_type=None, interaction_constraints='',\n",
       "              learning_rate=0.300000012, max_bin=256, max_cat_to_onehot=4,\n",
       "              max_delta_step=0, max_depth=2, max_leaves=0, min_child_weight=1,\n",
       "              missing=nan, monotone_constraints='()', n_estimators=100,\n",
       "              n_jobs=4, nthread=4, num_parallel_tree=1, predictor='auto',\n",
       "              random_state=2021, reg_alpha=0, ...)"
      ]
     },
     "execution_count": 43,
     "metadata": {},
     "output_type": "execute_result"
    }
   ],
   "source": [
    "xgb=XGBClassifier(max_depth=2,\n",
    "                  n_estimators=100,\n",
    "                  nthread=4,\n",
    "                  use_label_encoder=False,\n",
    "                  verbosity = 0,\n",
    "                  random_state=2021\n",
    "                 )\n",
    "xgb.fit(train_x, train_y)"
   ]
  },
  {
   "cell_type": "code",
   "execution_count": 44,
   "id": "ae88b35b",
   "metadata": {},
   "outputs": [
    {
     "name": "stderr",
     "output_type": "stream",
     "text": [
      "/home/abromeland/.local/lib/python3.9/site-packages/sklearn/utils/deprecation.py:87: FutureWarning: Function get_feature_names is deprecated; get_feature_names is deprecated in 1.0 and will be removed in 1.2. Please use get_feature_names_out instead.\n",
      "  warnings.warn(msg, category=FutureWarning)\n"
     ]
    },
    {
     "data": {
      "text/html": [
       "<div>\n",
       "<style scoped>\n",
       "    .dataframe tbody tr th:only-of-type {\n",
       "        vertical-align: middle;\n",
       "    }\n",
       "\n",
       "    .dataframe tbody tr th {\n",
       "        vertical-align: top;\n",
       "    }\n",
       "\n",
       "    .dataframe thead th {\n",
       "        text-align: right;\n",
       "    }\n",
       "</style>\n",
       "<table border=\"1\" class=\"dataframe\">\n",
       "  <thead>\n",
       "    <tr style=\"text-align: right;\">\n",
       "      <th></th>\n",
       "      <th>Term</th>\n",
       "      <th>Importance</th>\n",
       "    </tr>\n",
       "  </thead>\n",
       "  <tbody>\n",
       "    <tr>\n",
       "      <th>0</th>\n",
       "      <td>love</td>\n",
       "      <td>0.057615</td>\n",
       "    </tr>\n",
       "    <tr>\n",
       "      <th>1</th>\n",
       "      <td>best</td>\n",
       "      <td>0.038459</td>\n",
       "    </tr>\n",
       "    <tr>\n",
       "      <th>2</th>\n",
       "      <td>easi</td>\n",
       "      <td>0.038394</td>\n",
       "    </tr>\n",
       "    <tr>\n",
       "      <th>3</th>\n",
       "      <td>perfect</td>\n",
       "      <td>0.038254</td>\n",
       "    </tr>\n",
       "    <tr>\n",
       "      <th>4</th>\n",
       "      <td>amaz</td>\n",
       "      <td>0.028104</td>\n",
       "    </tr>\n",
       "    <tr>\n",
       "      <th>5</th>\n",
       "      <td>great</td>\n",
       "      <td>0.026452</td>\n",
       "    </tr>\n",
       "    <tr>\n",
       "      <th>6</th>\n",
       "      <td>high</td>\n",
       "      <td>0.020725</td>\n",
       "    </tr>\n",
       "    <tr>\n",
       "      <th>7</th>\n",
       "      <td>end</td>\n",
       "      <td>0.019928</td>\n",
       "    </tr>\n",
       "    <tr>\n",
       "      <th>8</th>\n",
       "      <td>sleek</td>\n",
       "      <td>0.019905</td>\n",
       "    </tr>\n",
       "    <tr>\n",
       "      <th>9</th>\n",
       "      <td>disappoint</td>\n",
       "      <td>0.018073</td>\n",
       "    </tr>\n",
       "  </tbody>\n",
       "</table>\n",
       "</div>"
      ],
      "text/plain": [
       "         Term  Importance\n",
       "0        love    0.057615\n",
       "1        best    0.038459\n",
       "2        easi    0.038394\n",
       "3     perfect    0.038254\n",
       "4        amaz    0.028104\n",
       "5       great    0.026452\n",
       "6        high    0.020725\n",
       "7         end    0.019928\n",
       "8       sleek    0.019905\n",
       "9  disappoint    0.018073"
      ]
     },
     "execution_count": 44,
     "metadata": {},
     "output_type": "execute_result"
    }
   ],
   "source": [
    "dfbeta = pd.DataFrame({'Term': vectorizer.get_feature_names(),\n",
    "                       'Importance': xgb.feature_importances_\n",
    "                     })\n",
    "dfbeta.sort_values(by=\"Importance\",inplace=True,ascending=False)\n",
    "dfbeta.reset_index(inplace=True,drop=True)\n",
    "dfbeta.head(10)"
   ]
  }
 ],
 "metadata": {
  "kernelspec": {
   "display_name": "Python 3 (ipykernel)",
   "language": "python",
   "name": "python3"
  },
  "language_info": {
   "codemirror_mode": {
    "name": "ipython",
    "version": 3
   },
   "file_extension": ".py",
   "mimetype": "text/x-python",
   "name": "python",
   "nbconvert_exporter": "python",
   "pygments_lexer": "ipython3",
   "version": "3.9.1"
  }
 },
 "nbformat": 4,
 "nbformat_minor": 5
}
