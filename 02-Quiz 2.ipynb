{
 "cells": [
  {
   "cell_type": "markdown",
   "id": "fcbe4c8a",
   "metadata": {},
   "source": [
    "# Quiz 2\n",
    "\n",
    "**5 points**"
   ]
  },
  {
   "cell_type": "markdown",
   "id": "05adcd01",
   "metadata": {},
   "source": [
    "1. (2 points) Tokenize string **mystr** created below using nltk. Save the result as a list of strings called **tokens**. Pay attention to how \"/\", \"()\", and \"-\" are handled."
   ]
  },
  {
   "cell_type": "code",
   "execution_count": 1,
   "id": "7e787a62",
   "metadata": {},
   "outputs": [
    {
     "name": "stdout",
     "output_type": "stream",
     "text": [
      "['Renewable', 'energy', 'often', 'provides', 'energy', 'in', 'four', 'important', 'areas', ':', 'electricity', 'generation', ',', 'air', 'and', 'water', 'heating/cooling', ',', 'transportation', ',', 'and', 'rural', '(', 'off-grid', ')', 'energy', 'services', '.']\n"
     ]
    }
   ],
   "source": [
    "import nltk\n",
    "mystr = \"\"\"Renewable energy often provides energy in four important areas: \n",
    "         electricity generation, air and water heating/cooling, \n",
    "         transportation, and rural (off-grid) energy services.\"\"\"\n",
    "#Your answer here\n",
    "tokens = nltk.word_tokenize(mystr)\n",
    "#Check your answer\n",
    "print(tokens)"
   ]
  },
  {
   "cell_type": "markdown",
   "id": "f38e510e",
   "metadata": {},
   "source": [
    "2. (2 points) Use **re.sub** and regular expression to replace all digits in string **mystr** created below by whitespace. Overwrite \"mystr\" with the output."
   ]
  },
  {
   "cell_type": "code",
   "execution_count": 2,
   "id": "9c71b4c2",
   "metadata": {},
   "outputs": [
    {
     "name": "stdout",
     "output_type": "stream",
     "text": [
      "Partly cloudy. High   F. Winds SSE at   to    mph.\n"
     ]
    }
   ],
   "source": [
    "import re\n",
    "mystr = \"Partly cloudy. High 89F. Winds SSE at 5 to 10 mph.\"\n",
    "#Your answer here\n",
    "mystr = re.sub('\\d',' ',mystr)\n",
    "#Check your answer\n",
    "print(mystr)"
   ]
  },
  {
   "cell_type": "markdown",
   "id": "30e411af",
   "metadata": {},
   "source": [
    "3. (1 point) Which of the following regular expressions represents dollar amount?\n",
    "\n",
    "    A. '\\\\\\\\$\\\\d+[\\\\d,\\\\.]*'\n",
    "    \n",
    "    B. '\\\\d{3,3}-\\\\d{3,3}-\\\\d{4,4}'\n",
    "    \n",
    "    C. '\\\\S+@\\\\S+\\\\.\\\\S+'\n",
    "    \n",
    "    D. '$\\\\d+[\\\\d,\\\\.]*'"
   ]
  },
  {
   "cell_type": "markdown",
   "id": "a040807b",
   "metadata": {},
   "source": [
    "You answer here: A"
   ]
  }
 ],
 "metadata": {
  "kernelspec": {
   "display_name": "Python 3 (ipykernel)",
   "language": "python",
   "name": "python3"
  },
  "language_info": {
   "codemirror_mode": {
    "name": "ipython",
    "version": 3
   },
   "file_extension": ".py",
   "mimetype": "text/x-python",
   "name": "python",
   "nbconvert_exporter": "python",
   "pygments_lexer": "ipython3",
   "version": "3.9.1"
  }
 },
 "nbformat": 4,
 "nbformat_minor": 5
}
