{
 "cells": [
  {
   "cell_type": "markdown",
   "id": "d1f2f062",
   "metadata": {},
   "source": [
    "# Topic Model | BAIS:6100\n",
    "\n",
    "**Instructor: Qihang Lin**"
   ]
  },
  {
   "cell_type": "markdown",
   "id": "acbec563",
   "metadata": {},
   "source": [
    "Topic modelling is an unsupervised statistical modelling for discovering unseen/abstract topics that are present in the collection of documents.\n",
    "\n",
    "For example, a consumer review in Amazon may consist of the following topics:\n",
    "    \n",
    "   - Price\n",
    "   - Shipping\n",
    "   - Quality\n",
    "   - Customer service\n",
    "   - Others\n",
    "   \n",
    "Topic modeling can tell the proportion each topic takes in a review, for example, 55% of the review is about price, 20% shipping, 15% quality,  5% customer service, and 5% others. "
   ]
  },
  {
   "cell_type": "markdown",
   "id": "afb1b28a",
   "metadata": {},
   "source": [
    "## Outputs of Topic Modeling"
   ]
  },
  {
   "cell_type": "markdown",
   "id": "fa5a4806",
   "metadata": {},
   "source": [
    "Putting together the proportions each topic takes in all documents, we obtain a **Document-Topic Matrix**\n",
    "\n",
    "| Document | Topic 1 | Topic 2 | Topic 3 | Topic 4 | Topic 5 |\n",
    "| --- | --- | --- | --- | --- | --- |\n",
    "| Doc1 | 0.55 | 0.20 | 0.15 | 0.05 | 0.05 |\n",
    "| Doc2 | 0 | 0.10 | 0.80 | 0.10 | 0 |\n",
    "| Doc3 | 0.60 | 0.10 | 0.10 | 0.10 | 0 |\n",
    "| ... | ... | ... | ... | ... | ... |"
   ]
  },
  {
   "cell_type": "markdown",
   "id": "3f3c8f04",
   "metadata": {},
   "source": [
    "A topic model also estimates the likelihood of seeing each word in each topic, which constitutes a **Term-Topic Matrix**:\n",
    "\n",
    "| Term | Topic 1 | Topic 2 | Topic 3 | Topic 4 | Topic 5 |\n",
    "| --- | --- | --- | --- | --- | --- |\n",
    "| cost | 0.15 | 0.03 | 0.01 | 0.01 | 0.07 |\n",
    "| call | 0.05 | 0.11 | 0.04 | 0.05 | 0.20 |\n",
    "| deliver | 0.01 | 0.04 | 0.12 | 0.02 | 0.01|\n",
    "| delay | 0.02 | 0.06 | 0.02 | 0.30 | 0.08 |\n",
    "| ... | ... | ... | ... | ... | ... |"
   ]
  },
  {
   "cell_type": "markdown",
   "id": "95eda7a0",
   "metadata": {},
   "source": [
    "## Statistical Topic"
   ]
  },
  {
   "cell_type": "markdown",
   "id": "b9d6d3e9",
   "metadata": {},
   "source": [
    "A \"topic\" in topic modeling is slightly different from the \"topic\" we literally understand: \n",
    "   - Topic modeling does not directly output a name for each topic. \n",
    "   - In topic modeling, a topic is not identified based on the meaning of text\n",
    "   - A topic in topic modeling is a \"statistical topic\", which is essentially **a group of words** that frequently co-occur in the documents. For example:\n",
    "   \n",
    "| Topic | Words |\n",
    "| --- | --- | \n",
    "| Topic1 | expensive, pay, high, cost... |\n",
    "| Topic2 | delay, deliver, slow, wait... |\n",
    "| Topic3 | fragile, broken, loose, firm... |\n",
    "| Topic4 | call, rude, responsible, reply... |\n",
    "| Topic5 | buy, recommend, product... |\n",
    "\n",
    "A topic model implicitly tells us which words are most associated to each topic through the term-topic matrix. \n",
    "\n",
    "We only need to sort the words by their likelihood in each topic, namely, sorting each column of a term-topic matrix. Then we can identify a name for each topic based on the most likely words. For example, we can call Topic 1 \"price\", Topic 2 \"shipping\" and so on.   "
   ]
  },
  {
   "cell_type": "markdown",
   "id": "e33a4243",
   "metadata": {},
   "source": [
    "Cleaning the text can improve results of topic modelling.\n",
    "   - Co-occurrence frequency increases after stemming.\n",
    "   - Stop words do not help identify the name of a topic."
   ]
  },
  {
   "cell_type": "markdown",
   "id": "b8ac100f",
   "metadata": {},
   "source": [
    "## Applications"
   ]
  },
  {
   "cell_type": "markdown",
   "id": "b9f947b1",
   "metadata": {},
   "source": [
    "The applications of topic modeling:\n",
    "\n",
    "   1. Document vectorization\n",
    "\n",
    "   2. Information retrieval. For example, find all news about topic \"green energy\" from data.       \n",
    "       \n",
    "   3. Document recommendation. For example, recommend to a user all articles about topic \"text mining\" \n",
    "       \n",
    "   4. Document clustering\n",
    "   \n",
    "   5. Word embedding (same as word vectorization)\n",
    "   \n",
    "   6. Word clustering"
   ]
  },
  {
   "cell_type": "markdown",
   "id": "1a4d9557",
   "metadata": {},
   "source": [
    "## Latent Dirichlet Allocation"
   ]
  },
  {
   "cell_type": "markdown",
   "id": "02b36170",
   "metadata": {},
   "source": [
    "A Dirichlet distribution can be viewed as a distribution of probability distributions. \n",
    "\n",
    "Each row (column) of a document-topic (term-topic) matrix can be viewed as a probability distribution. \n",
    "\n",
    "Latent Dirichlet allocation (LDA) model assumes:\n",
    "\n",
    "   1. **The rows of a document-topic matrix follows a Dirichlet distribution.** \n",
    "   2. **The columns of a term-topic matrix also follows a Dirichlet distribution.**\n",
    "\n",
    "Just like normal distribution, Dirichlet distribution is also a family of distributions with different centers and dispersions.\n",
    "\n",
    "Suppose there are three topics. In the following picture, each corner of a triangle corresponds to a topic and each dot represents a document with some distribution over topics (a row in the document-topic matrix). \n",
    "\n",
    "<img src=\"https://i.stack.imgur.com/7ZiDs.png\">\n",
    "\n",
    "\n",
    "\n",
    "For details on a Diricichlet distribution, see https://en.wikipedia.org/wiki/Dirichlet_distribution\n",
    "\n"
   ]
  },
  {
   "cell_type": "markdown",
   "id": "6e6265ee",
   "metadata": {},
   "source": [
    "The LDA model uses an iterative algorithm based on Bayesian statistics to jointly estimate from data:\n",
    "\n",
    "   - Document-topic matrix\n",
    "   - Term-topic matrix"
   ]
  },
  {
   "cell_type": "markdown",
   "id": "d95e937a",
   "metadata": {},
   "source": [
    "How well a LDA model fits the data is measured by **perplexity**. A LDA model with lower perplexity is considered to be good. \n",
    "\n",
    "The iterative algorithm in LDA stops when the max number of iterations is reached."
   ]
  },
  {
   "cell_type": "markdown",
   "id": "362e1dfa",
   "metadata": {},
   "source": [
    "The following GIF image shows how LDA updates the Diricichlet distribution of documents's topics. \n",
    "\n",
    "<img src=\"https://miro.medium.com/max/1050/1*_NdnljMqi8L2_lAYwH3JDQ.gif\" width=\"400\">"
   ]
  },
  {
   "cell_type": "markdown",
   "id": "bcf9ecde",
   "metadata": {},
   "source": [
    "## Fit a LDA Model"
   ]
  },
  {
   "cell_type": "code",
   "execution_count": 1,
   "id": "ec1de8a5",
   "metadata": {},
   "outputs": [],
   "source": [
    "from sklearn.feature_extraction.text import CountVectorizer\n",
    "from sklearn.decomposition import LatentDirichletAllocation  #LDA module from sklearn. \n",
    "import nltk                                  \n",
    "mytexts=[\"\"\"It starts cool today before warm-up begins over weekend. \n",
    "            It starts cool today before warm-up begins over weekend.\"\"\",\n",
    "         \n",
    "           \"It starts cool today before warm-up begins over weekend.\",\n",
    "      \n",
    "         \"\"\"It starts cool today before warm-up begins over weekend. \n",
    "            As Halloween approaches, cool costumes come out in stores.\"\"\",\n",
    "         \n",
    "           \"As Halloween approaches, cool costumes come out in stores.\",\n",
    "      \n",
    "         \"\"\"As Halloween approaches, cool costumes come out in stores. \n",
    "            As Halloween approaches, cool costumes come out in stores.\"\"\"        \n",
    "      ]   "
   ]
  },
  {
   "cell_type": "code",
   "execution_count": 2,
   "id": "33843053",
   "metadata": {},
   "outputs": [],
   "source": [
    "#Prepare the DTM in term frequencies.\n",
    "stemmer = nltk.stem.SnowballStemmer(\"english\", ignore_stopwords=True)\n",
    "class StemmedCountVectorizer(CountVectorizer):\n",
    "    def build_analyzer(self):\n",
    "        analyzer = super(StemmedCountVectorizer, self).build_analyzer()\n",
    "        return lambda doc: ([stemmer.stem(w) for w in analyzer(doc)])\n",
    "vectorizer = StemmedCountVectorizer(stop_words='english')\n",
    "DTM =vectorizer.fit_transform(mytexts)"
   ]
  },
  {
   "cell_type": "code",
   "execution_count": 3,
   "id": "3fa7d232",
   "metadata": {},
   "outputs": [],
   "source": [
    "#Initialize a LDA vectorizer\n",
    "lda = LatentDirichletAllocation(n_components=2, #The number of topics \n",
    "                                n_jobs=-1,   #Use all processors\n",
    "                                max_iter=10,   #Reduce it to speed up but compromise on the quality \n",
    "                                random_state=2021 #Random seed for reproducing the results.\n",
    "                               )"
   ]
  },
  {
   "cell_type": "code",
   "execution_count": 5,
   "id": "e964435e",
   "metadata": {},
   "outputs": [
    {
     "data": {
      "text/html": [
       "<style>#sk-container-id-2 {color: black;background-color: white;}#sk-container-id-2 pre{padding: 0;}#sk-container-id-2 div.sk-toggleable {background-color: white;}#sk-container-id-2 label.sk-toggleable__label {cursor: pointer;display: block;width: 100%;margin-bottom: 0;padding: 0.3em;box-sizing: border-box;text-align: center;}#sk-container-id-2 label.sk-toggleable__label-arrow:before {content: \"▸\";float: left;margin-right: 0.25em;color: #696969;}#sk-container-id-2 label.sk-toggleable__label-arrow:hover:before {color: black;}#sk-container-id-2 div.sk-estimator:hover label.sk-toggleable__label-arrow:before {color: black;}#sk-container-id-2 div.sk-toggleable__content {max-height: 0;max-width: 0;overflow: hidden;text-align: left;background-color: #f0f8ff;}#sk-container-id-2 div.sk-toggleable__content pre {margin: 0.2em;color: black;border-radius: 0.25em;background-color: #f0f8ff;}#sk-container-id-2 input.sk-toggleable__control:checked~div.sk-toggleable__content {max-height: 200px;max-width: 100%;overflow: auto;}#sk-container-id-2 input.sk-toggleable__control:checked~label.sk-toggleable__label-arrow:before {content: \"▾\";}#sk-container-id-2 div.sk-estimator input.sk-toggleable__control:checked~label.sk-toggleable__label {background-color: #d4ebff;}#sk-container-id-2 div.sk-label input.sk-toggleable__control:checked~label.sk-toggleable__label {background-color: #d4ebff;}#sk-container-id-2 input.sk-hidden--visually {border: 0;clip: rect(1px 1px 1px 1px);clip: rect(1px, 1px, 1px, 1px);height: 1px;margin: -1px;overflow: hidden;padding: 0;position: absolute;width: 1px;}#sk-container-id-2 div.sk-estimator {font-family: monospace;background-color: #f0f8ff;border: 1px dotted black;border-radius: 0.25em;box-sizing: border-box;margin-bottom: 0.5em;}#sk-container-id-2 div.sk-estimator:hover {background-color: #d4ebff;}#sk-container-id-2 div.sk-parallel-item::after {content: \"\";width: 100%;border-bottom: 1px solid gray;flex-grow: 1;}#sk-container-id-2 div.sk-label:hover label.sk-toggleable__label {background-color: #d4ebff;}#sk-container-id-2 div.sk-serial::before {content: \"\";position: absolute;border-left: 1px solid gray;box-sizing: border-box;top: 0;bottom: 0;left: 50%;z-index: 0;}#sk-container-id-2 div.sk-serial {display: flex;flex-direction: column;align-items: center;background-color: white;padding-right: 0.2em;padding-left: 0.2em;position: relative;}#sk-container-id-2 div.sk-item {position: relative;z-index: 1;}#sk-container-id-2 div.sk-parallel {display: flex;align-items: stretch;justify-content: center;background-color: white;position: relative;}#sk-container-id-2 div.sk-item::before, #sk-container-id-2 div.sk-parallel-item::before {content: \"\";position: absolute;border-left: 1px solid gray;box-sizing: border-box;top: 0;bottom: 0;left: 50%;z-index: -1;}#sk-container-id-2 div.sk-parallel-item {display: flex;flex-direction: column;z-index: 1;position: relative;background-color: white;}#sk-container-id-2 div.sk-parallel-item:first-child::after {align-self: flex-end;width: 50%;}#sk-container-id-2 div.sk-parallel-item:last-child::after {align-self: flex-start;width: 50%;}#sk-container-id-2 div.sk-parallel-item:only-child::after {width: 0;}#sk-container-id-2 div.sk-dashed-wrapped {border: 1px dashed gray;margin: 0 0.4em 0.5em 0.4em;box-sizing: border-box;padding-bottom: 0.4em;background-color: white;}#sk-container-id-2 div.sk-label label {font-family: monospace;font-weight: bold;display: inline-block;line-height: 1.2em;}#sk-container-id-2 div.sk-label-container {text-align: center;}#sk-container-id-2 div.sk-container {/* jupyter's `normalize.less` sets `[hidden] { display: none; }` but bootstrap.min.css set `[hidden] { display: none !important; }` so we also need the `!important` here to be able to override the default hidden behavior on the sphinx rendered scikit-learn.org. See: https://github.com/scikit-learn/scikit-learn/issues/21755 */display: inline-block !important;position: relative;}#sk-container-id-2 div.sk-text-repr-fallback {display: none;}</style><div id=\"sk-container-id-2\" class=\"sk-top-container\"><div class=\"sk-text-repr-fallback\"><pre>LatentDirichletAllocation(n_components=2, n_jobs=-1, random_state=2021)</pre><b>In a Jupyter environment, please rerun this cell to show the HTML representation or trust the notebook. <br />On GitHub, the HTML representation is unable to render, please try loading this page with nbviewer.org.</b></div><div class=\"sk-container\" hidden><div class=\"sk-item\"><div class=\"sk-estimator sk-toggleable\"><input class=\"sk-toggleable__control sk-hidden--visually\" id=\"sk-estimator-id-2\" type=\"checkbox\" checked><label for=\"sk-estimator-id-2\" class=\"sk-toggleable__label sk-toggleable__label-arrow\">LatentDirichletAllocation</label><div class=\"sk-toggleable__content\"><pre>LatentDirichletAllocation(n_components=2, n_jobs=-1, random_state=2021)</pre></div></div></div></div></div>"
      ],
      "text/plain": [
       "LatentDirichletAllocation(n_components=2, n_jobs=-1, random_state=2021)"
      ]
     },
     "execution_count": 5,
     "metadata": {},
     "output_type": "execute_result"
    }
   ],
   "source": [
    "#Fit a LDA model from DTM\n",
    "lda.fit(DTM)"
   ]
  },
  {
   "cell_type": "code",
   "execution_count": 6,
   "id": "1b222cb6",
   "metadata": {},
   "outputs": [
    {
     "data": {
      "text/plain": [
       "13.021010318707779"
      ]
     },
     "execution_count": 6,
     "metadata": {},
     "output_type": "execute_result"
    }
   ],
   "source": [
    "#This is the perplexity of the returned LDA model. We will use it to choose the number of topics.\n",
    "lda.perplexity(DTM)"
   ]
  },
  {
   "cell_type": "markdown",
   "id": "c6ba4339",
   "metadata": {},
   "source": [
    "## Term-Topic Matrix"
   ]
  },
  {
   "cell_type": "markdown",
   "id": "e8830aa5",
   "metadata": {},
   "source": [
    "The probability of see each word in each topic is given **lda.components_**, but it is not normalized yet."
   ]
  },
  {
   "cell_type": "code",
   "execution_count": 7,
   "id": "f4492a80",
   "metadata": {},
   "outputs": [
    {
     "data": {
      "text/plain": [
       "(5, 11)"
      ]
     },
     "execution_count": 7,
     "metadata": {},
     "output_type": "execute_result"
    }
   ],
   "source": [
    "DTM.shape"
   ]
  },
  {
   "cell_type": "code",
   "execution_count": 8,
   "id": "f75fc36b",
   "metadata": {},
   "outputs": [
    {
     "data": {
      "text/plain": [
       "array([[4.45613613, 0.54385307, 4.45613629, 4.49990423, 4.45613619,\n",
       "        4.45613621, 0.54385306, 4.45613638, 0.54385299, 0.54385302,\n",
       "        0.543853  ],\n",
       "       [0.54386387, 4.45614693, 0.54386371, 4.50009577, 0.54386381,\n",
       "        0.54386379, 4.45614694, 0.54386362, 4.45614701, 4.45614698,\n",
       "        4.456147  ]])"
      ]
     },
     "execution_count": 8,
     "metadata": {},
     "output_type": "execute_result"
    }
   ],
   "source": [
    "#Each row of components_ is a topic and each column is a term. \n",
    "lda.components_"
   ]
  },
  {
   "cell_type": "markdown",
   "id": "2ed6a81c",
   "metadata": {},
   "source": [
    "We can use L1-norm normalization to convert **components_** to probabilities and obtain the term-topic matrix."
   ]
  },
  {
   "cell_type": "code",
   "execution_count": 9,
   "id": "c75cf689",
   "metadata": {},
   "outputs": [
    {
     "name": "stderr",
     "output_type": "stream",
     "text": [
      "/home/abromeland/.local/lib/python3.9/site-packages/sklearn/utils/deprecation.py:87: FutureWarning: Function get_feature_names is deprecated; get_feature_names is deprecated in 1.0 and will be removed in 1.2. Please use get_feature_names_out instead.\n",
      "  warnings.warn(msg, category=FutureWarning)\n"
     ]
    },
    {
     "data": {
      "text/html": [
       "<div>\n",
       "<style scoped>\n",
       "    .dataframe tbody tr th:only-of-type {\n",
       "        vertical-align: middle;\n",
       "    }\n",
       "\n",
       "    .dataframe tbody tr th {\n",
       "        vertical-align: top;\n",
       "    }\n",
       "\n",
       "    .dataframe thead th {\n",
       "        text-align: right;\n",
       "    }\n",
       "</style>\n",
       "<table border=\"1\" class=\"dataframe\">\n",
       "  <thead>\n",
       "    <tr style=\"text-align: right;\">\n",
       "      <th></th>\n",
       "      <th>0</th>\n",
       "      <th>1</th>\n",
       "    </tr>\n",
       "  </thead>\n",
       "  <tbody>\n",
       "    <tr>\n",
       "      <th>approach</th>\n",
       "      <td>0.151056</td>\n",
       "      <td>0.018436</td>\n",
       "    </tr>\n",
       "    <tr>\n",
       "      <th>begin</th>\n",
       "      <td>0.018436</td>\n",
       "      <td>0.151055</td>\n",
       "    </tr>\n",
       "    <tr>\n",
       "      <th>come</th>\n",
       "      <td>0.151056</td>\n",
       "      <td>0.018436</td>\n",
       "    </tr>\n",
       "    <tr>\n",
       "      <th>cool</th>\n",
       "      <td>0.152540</td>\n",
       "      <td>0.152545</td>\n",
       "    </tr>\n",
       "    <tr>\n",
       "      <th>costum</th>\n",
       "      <td>0.151056</td>\n",
       "      <td>0.018436</td>\n",
       "    </tr>\n",
       "    <tr>\n",
       "      <th>halloween</th>\n",
       "      <td>0.151056</td>\n",
       "      <td>0.018436</td>\n",
       "    </tr>\n",
       "    <tr>\n",
       "      <th>start</th>\n",
       "      <td>0.018436</td>\n",
       "      <td>0.151055</td>\n",
       "    </tr>\n",
       "    <tr>\n",
       "      <th>store</th>\n",
       "      <td>0.151056</td>\n",
       "      <td>0.018436</td>\n",
       "    </tr>\n",
       "    <tr>\n",
       "      <th>today</th>\n",
       "      <td>0.018436</td>\n",
       "      <td>0.151055</td>\n",
       "    </tr>\n",
       "    <tr>\n",
       "      <th>warm</th>\n",
       "      <td>0.018436</td>\n",
       "      <td>0.151055</td>\n",
       "    </tr>\n",
       "    <tr>\n",
       "      <th>weekend</th>\n",
       "      <td>0.018436</td>\n",
       "      <td>0.151055</td>\n",
       "    </tr>\n",
       "  </tbody>\n",
       "</table>\n",
       "</div>"
      ],
      "text/plain": [
       "                  0         1\n",
       "approach   0.151056  0.018436\n",
       "begin      0.018436  0.151055\n",
       "come       0.151056  0.018436\n",
       "cool       0.152540  0.152545\n",
       "costum     0.151056  0.018436\n",
       "halloween  0.151056  0.018436\n",
       "start      0.018436  0.151055\n",
       "store      0.151056  0.018436\n",
       "today      0.018436  0.151055\n",
       "warm       0.018436  0.151055\n",
       "weekend    0.018436  0.151055"
      ]
     },
     "execution_count": 9,
     "metadata": {},
     "output_type": "execute_result"
    }
   ],
   "source": [
    "import pandas as pd\n",
    "import numpy as np\n",
    "from sklearn import preprocessing\n",
    "\n",
    "temparray = preprocessing.normalize(lda.components_,norm=\"l1\")\n",
    "TTopicM = pd.DataFrame(np.transpose(temparray), index = vectorizer.get_feature_names())\n",
    "TTopicM "
   ]
  },
  {
   "cell_type": "code",
   "execution_count": 10,
   "id": "aa5595d1",
   "metadata": {},
   "outputs": [
    {
     "data": {
      "text/plain": [
       "cool         0.152540\n",
       "store        0.151056\n",
       "come         0.151056\n",
       "halloween    0.151056\n",
       "costum       0.151056\n",
       "approach     0.151056\n",
       "begin        0.018436\n",
       "start        0.018436\n",
       "warm         0.018436\n",
       "weekend      0.018436\n",
       "Name: 0, dtype: float64"
      ]
     },
     "execution_count": 10,
     "metadata": {},
     "output_type": "execute_result"
    }
   ],
   "source": [
    "#The topic ten words in topic 0\n",
    "TTopicM.sort_values(by=0,ascending=False).iloc[:10,0]"
   ]
  },
  {
   "cell_type": "code",
   "execution_count": 11,
   "id": "8d443bbf",
   "metadata": {},
   "outputs": [
    {
     "data": {
      "text/plain": [
       "cool         0.152545\n",
       "today        0.151055\n",
       "weekend      0.151055\n",
       "warm         0.151055\n",
       "start        0.151055\n",
       "begin        0.151055\n",
       "approach     0.018436\n",
       "costum       0.018436\n",
       "halloween    0.018436\n",
       "come         0.018436\n",
       "Name: 1, dtype: float64"
      ]
     },
     "execution_count": 11,
     "metadata": {},
     "output_type": "execute_result"
    }
   ],
   "source": [
    "#The topic ten words in topic 1\n",
    "TTopicM.sort_values(by=1,ascending=False).iloc[:10,1]"
   ]
  },
  {
   "cell_type": "markdown",
   "id": "a0701f9b",
   "metadata": {},
   "source": [
    "From the top words, we can call topic 0 \"halloween\" and topic 1 \"weather\"."
   ]
  },
  {
   "cell_type": "markdown",
   "id": "990d4900",
   "metadata": {},
   "source": [
    "## Document-Topic Matrix\n",
    "\n",
    "Each row returned by .transform is a document and each column is a topic. \n",
    "lda.transform(DTM)"
   ]
  },
  {
   "cell_type": "code",
   "execution_count": 12,
   "id": "cf95ddcf",
   "metadata": {},
   "outputs": [
    {
     "data": {
      "text/plain": [
       "array([[0.04100302, 0.95899698],\n",
       "       [0.07608608, 0.92391392],\n",
       "       [0.49999758, 0.50000242],\n",
       "       [0.92391356, 0.07608644],\n",
       "       [0.95899678, 0.04100322]])"
      ]
     },
     "execution_count": 12,
     "metadata": {},
     "output_type": "execute_result"
    }
   ],
   "source": [
    "lda.transform(DTM)"
   ]
  },
  {
   "cell_type": "code",
   "execution_count": 13,
   "id": "6805a3c5",
   "metadata": {},
   "outputs": [
    {
     "data": {
      "text/html": [
       "<div>\n",
       "<style scoped>\n",
       "    .dataframe tbody tr th:only-of-type {\n",
       "        vertical-align: middle;\n",
       "    }\n",
       "\n",
       "    .dataframe tbody tr th {\n",
       "        vertical-align: top;\n",
       "    }\n",
       "\n",
       "    .dataframe thead th {\n",
       "        text-align: right;\n",
       "    }\n",
       "</style>\n",
       "<table border=\"1\" class=\"dataframe\">\n",
       "  <thead>\n",
       "    <tr style=\"text-align: right;\">\n",
       "      <th></th>\n",
       "      <th>halloween</th>\n",
       "      <th>weather</th>\n",
       "    </tr>\n",
       "  </thead>\n",
       "  <tbody>\n",
       "    <tr>\n",
       "      <th>0</th>\n",
       "      <td>0.041003</td>\n",
       "      <td>0.958997</td>\n",
       "    </tr>\n",
       "    <tr>\n",
       "      <th>1</th>\n",
       "      <td>0.076086</td>\n",
       "      <td>0.923914</td>\n",
       "    </tr>\n",
       "    <tr>\n",
       "      <th>2</th>\n",
       "      <td>0.499998</td>\n",
       "      <td>0.500002</td>\n",
       "    </tr>\n",
       "    <tr>\n",
       "      <th>3</th>\n",
       "      <td>0.923914</td>\n",
       "      <td>0.076086</td>\n",
       "    </tr>\n",
       "    <tr>\n",
       "      <th>4</th>\n",
       "      <td>0.958997</td>\n",
       "      <td>0.041003</td>\n",
       "    </tr>\n",
       "  </tbody>\n",
       "</table>\n",
       "</div>"
      ],
      "text/plain": [
       "   halloween   weather\n",
       "0   0.041003  0.958997\n",
       "1   0.076086  0.923914\n",
       "2   0.499998  0.500002\n",
       "3   0.923914  0.076086\n",
       "4   0.958997  0.041003"
      ]
     },
     "execution_count": 13,
     "metadata": {},
     "output_type": "execute_result"
    }
   ],
   "source": [
    "DTopicM = pd.DataFrame(lda.transform(DTM), columns =[\"halloween\",\"weather\"])\n",
    "DTopicM.head()"
   ]
  },
  {
   "cell_type": "markdown",
   "id": "df0afd66",
   "metadata": {},
   "source": [
    "## Choose Number of Topics "
   ]
  },
  {
   "cell_type": "markdown",
   "id": "61bdf69a",
   "metadata": {},
   "source": [
    "There is no hard science yielding the best approach for choosing the number of topics. \n",
    "\n",
    "A heuristic approach is to use perplexity as a searching criterion. The best number of the topics occurs when the perplexity curve has the \"biggest turn\". This is also known as the Elbow method."
   ]
  },
  {
   "cell_type": "code",
   "execution_count": 14,
   "id": "1cbd3eaa",
   "metadata": {},
   "outputs": [
    {
     "name": "stdout",
     "output_type": "stream",
     "text": [
      "1\n",
      "2\n",
      "3\n",
      "4\n",
      "5\n"
     ]
    },
    {
     "data": {
      "text/plain": [
       "Text(0, 0.5, 'Perplexity')"
      ]
     },
     "execution_count": 14,
     "metadata": {},
     "output_type": "execute_result"
    },
    {
     "data": {
      "image/png": "[encoded data removed]",
      "text/plain": [
       "<Figure size 432x288 with 1 Axes>"
      ]
     },
     "metadata": {
      "needs_background": "light"
     },
     "output_type": "display_data"
    }
   ],
   "source": [
    "import matplotlib.pyplot as plt\n",
    "%matplotlib inline\n",
    "\n",
    "num_topics=[1,2,3,4,5]\n",
    "lda = LatentDirichletAllocation(n_jobs=-1,   \n",
    "                                max_iter=10,  \n",
    "                                random_state=2021 \n",
    "                               )\n",
    "perplexity=[]\n",
    "for i in num_topics:\n",
    "    print(i)\n",
    "    lda.set_params(n_components=i)\n",
    "    lda.fit(DTM)\n",
    "    perplexity.append(lda.perplexity(DTM))\n",
    "\n",
    "plt.plot(num_topics, perplexity)\n",
    "plt.xlabel('Num. of Topics')\n",
    "plt.ylabel('Perplexity')"
   ]
  },
  {
   "cell_type": "markdown",
   "id": "b430874d",
   "metadata": {},
   "source": [
    "According to the perplexity curve and the Elbow method, two is the best number of topics, which is consistent with the content of **mytext** above"
   ]
  },
  {
   "cell_type": "markdown",
   "id": "325b3e03",
   "metadata": {},
   "source": [
    "## Application: Topic Search"
   ]
  },
  {
   "cell_type": "markdown",
   "id": "ee6ee832",
   "metadata": {},
   "source": [
    "Suppose we want to search for the customer complaints in \"**CreditCardComplaints.csv**\" that are about \"monthly payment\", \"mothly bill\", and  \"late payment\" in general. Instead of using a specific keyword to search over the complaints, we prefer to search for the related topic. "
   ]
  },
  {
   "cell_type": "code",
   "execution_count": 15,
   "id": "db92bfd1",
   "metadata": {},
   "outputs": [
    {
     "data": {
      "text/html": [
       "<div>\n",
       "<style scoped>\n",
       "    .dataframe tbody tr th:only-of-type {\n",
       "        vertical-align: middle;\n",
       "    }\n",
       "\n",
       "    .dataframe tbody tr th {\n",
       "        vertical-align: top;\n",
       "    }\n",
       "\n",
       "    .dataframe thead th {\n",
       "        text-align: right;\n",
       "    }\n",
       "</style>\n",
       "<table border=\"1\" class=\"dataframe\">\n",
       "  <thead>\n",
       "    <tr style=\"text-align: right;\">\n",
       "      <th></th>\n",
       "      <th>Company</th>\n",
       "      <th>Consumer.complaint.narrative</th>\n",
       "    </tr>\n",
       "  </thead>\n",
       "  <tbody>\n",
       "    <tr>\n",
       "      <th>0</th>\n",
       "      <td>Wells Fargo &amp; Company</td>\n",
       "      <td>I had been problem with well Fargo Bank I 'm h...</td>\n",
       "    </tr>\n",
       "    <tr>\n",
       "      <th>1</th>\n",
       "      <td>Wells Fargo &amp; Company</td>\n",
       "      <td>Complaint Against : Wells Fargo Financial Nati...</td>\n",
       "    </tr>\n",
       "    <tr>\n",
       "      <th>2</th>\n",
       "      <td>Wells Fargo &amp; Company</td>\n",
       "      <td>I wanted to know what interest rate might be t...</td>\n",
       "    </tr>\n",
       "    <tr>\n",
       "      <th>3</th>\n",
       "      <td>Wells Fargo &amp; Company</td>\n",
       "      <td>Approximately two years ago I opened up a secu...</td>\n",
       "    </tr>\n",
       "    <tr>\n",
       "      <th>4</th>\n",
       "      <td>Wells Fargo &amp; Company</td>\n",
       "      <td>Wells Fargo informed me that they made a \" bus...</td>\n",
       "    </tr>\n",
       "    <tr>\n",
       "      <th>...</th>\n",
       "      <td>...</td>\n",
       "      <td>...</td>\n",
       "    </tr>\n",
       "    <tr>\n",
       "      <th>2142</th>\n",
       "      <td>Capital One</td>\n",
       "      <td>I was out of work for about 6 months. after co...</td>\n",
       "    </tr>\n",
       "    <tr>\n",
       "      <th>2143</th>\n",
       "      <td>Capital One</td>\n",
       "      <td>Six times since XXXX XXXX, 2016, I have receiv...</td>\n",
       "    </tr>\n",
       "    <tr>\n",
       "      <th>2144</th>\n",
       "      <td>Capital One</td>\n",
       "      <td>My XXXX credit cards issued by capital one was...</td>\n",
       "    </tr>\n",
       "    <tr>\n",
       "      <th>2145</th>\n",
       "      <td>Capital One</td>\n",
       "      <td>I was shocked when I reviewed my credit report...</td>\n",
       "    </tr>\n",
       "    <tr>\n",
       "      <th>2146</th>\n",
       "      <td>Capital One</td>\n",
       "      <td>This letter is being sent to as notices sent t...</td>\n",
       "    </tr>\n",
       "  </tbody>\n",
       "</table>\n",
       "<p>2147 rows × 2 columns</p>\n",
       "</div>"
      ],
      "text/plain": [
       "                    Company                       Consumer.complaint.narrative\n",
       "0     Wells Fargo & Company  I had been problem with well Fargo Bank I 'm h...\n",
       "1     Wells Fargo & Company  Complaint Against : Wells Fargo Financial Nati...\n",
       "2     Wells Fargo & Company  I wanted to know what interest rate might be t...\n",
       "3     Wells Fargo & Company  Approximately two years ago I opened up a secu...\n",
       "4     Wells Fargo & Company  Wells Fargo informed me that they made a \" bus...\n",
       "...                     ...                                                ...\n",
       "2142            Capital One  I was out of work for about 6 months. after co...\n",
       "2143            Capital One  Six times since XXXX XXXX, 2016, I have receiv...\n",
       "2144            Capital One  My XXXX credit cards issued by capital one was...\n",
       "2145            Capital One  I was shocked when I reviewed my credit report...\n",
       "2146            Capital One  This letter is being sent to as notices sent t...\n",
       "\n",
       "[2147 rows x 2 columns]"
      ]
     },
     "execution_count": 15,
     "metadata": {},
     "output_type": "execute_result"
    }
   ],
   "source": [
    "import pandas as pd\n",
    "import re\n",
    "df = pd.read_csv(\"classdata/CreditCardComplaints.csv\")\n",
    "df"
   ]
  },
  {
   "cell_type": "code",
   "execution_count": 16,
   "id": "44324c45",
   "metadata": {},
   "outputs": [
    {
     "data": {
      "text/plain": [
       "'Complaint Against : Wells Fargo Financial National BankI was charged a {$25.00} late fee on a {$500.00} remaining balance for paying {$120.00} well ahead of the due date but not covering the full \" minimum \\'\\' payment of approximately {$190.00}. When I explained the details of the situation, they did not acknowledge the best effort I made to be current and refused to waive the fees since in their determination it was not a Wells Fargo Error. The fee is unfair, and their choice to not waive the fee was a horrible busines practice and abusive in nature as it rested on \" There is no beneift to us having to waive the fee \\'\\' Bankground Details : In XX/XX/XXXX I purchased a hot tup and took advantage of a dealer finance option that used a Wells Fargo Outdoor Solution credit card to provide XXXX months interest free financing. The total amount financed was approximately {$5500.00}. On XXXX I paid XXXX, on XX/XX/XXXX I paid {$2500.00} and knew there was a {$500.00} remaining balance. Given I had XXXX months interest free financing, I just diveded by XXXX and set my bill pay to send {$120.00} each month. On XXXX my XXXX {$120.00} payment was made. When I got a collection notice it showed the payment received but a late charge of {$25.00}. I immediately paid all the remaining principle of {$370.00} on XXXX and currently have a {$25.00} balance made exclusively of the fee. When I contacted Wells Fargo at XXXX they transferred me. The rep I spoke to spoke to his supervisor XXXX times about my situation and XXXX times said he could not waive the fee even after I explained the situation. When I asked to file a complaint, the rep was n\\'t aware of anyway to file a complaint. He offered for me to speak with his supervisor. I spoke with supervisor \" XXXX \\'\\' who said she would file a payment dispute. She continued to say they would not waive the fee as Wells Fargo did n\\'t make an error. She kept saying they send out statements and that I just need to read them. My main point of frustation and complaint is that I was paying at an accelerated rate and made a best faith attempt to not only be current but pay more than required. What I failed to realize, is even though the account has credit card access they based the minumum payment on 3.5 % of the ORIGINAL balance. My accelerated payments did n\\'t do anything to change the minimum on what I thought was a credit card account. Because I planned out my payment strategy up front, I did n\\'t look at the billing as they came and did n\\'t realize their unusual therefore to a small extent deceptive minimum payment process. When I asked how frequently they get these issues, they would not answer, which makes me think it is fairly common. I sincerely believe there is an ongoing business practice to extract fees from otherwise interest free accounts without regard to customer concern or reasonable waiver policies. They went as far to partially blame current regulatory environment for not allowing discretionary waivers. My hope with this complaint is to get the {$25.00} fee waived if possible, but more importantly to ensure Wells Fargo Financial National Bank is required to have a better complaint program than they seem to. They only took the billing dispute when I made them and did not know about any complaint program. Then to make matters worse the billing dispute can take XXXX days - my balance would have been paid off for over XXXX days by that point. They do n\\'t need 60 days. \\r\\n'"
      ]
     },
     "execution_count": 16,
     "metadata": {},
     "output_type": "execute_result"
    }
   ],
   "source": [
    "df[\"Consumer.complaint.narrative\"][1]"
   ]
  },
  {
   "cell_type": "code",
   "execution_count": 17,
   "id": "0bc3fc43",
   "metadata": {},
   "outputs": [
    {
     "data": {
      "text/plain": [
       "(2147, 1000)"
      ]
     },
     "execution_count": 17,
     "metadata": {},
     "output_type": "execute_result"
    }
   ],
   "source": [
    "#Load and clean data\n",
    "import pandas as pd\n",
    "import re\n",
    "df = pd.read_csv(\"classdata/CreditCardComplaints.csv\")\n",
    "df['Consumer.complaint.narrative']=[re.sub(\"\\{\\$\\d+[\\d,\\.]*\\}\", \"moneytoken\", s) for s in df['Consumer.complaint.narrative']]\n",
    "df['Consumer.complaint.narrative']=[re.sub(\"X+\", \" \", s) for s in df['Consumer.complaint.narrative']]\n",
    "\n",
    "#Create DTM\n",
    "import nltk  \n",
    "nltk_stopwords = nltk.corpus.stopwords.words(\"english\") \n",
    "nltk_stopwords=nltk_stopwords+[\"wells\",\"fargo\",\"capital\",\"one\"]\n",
    "vectorizer = StemmedCountVectorizer(stop_words=nltk_stopwords, \n",
    "                                    max_features=1000    #Limiting the number of terms speeds up LDA\n",
    "                                   )\n",
    "DTM =vectorizer.fit_transform(df['Consumer.complaint.narrative']) \n",
    "DTM.shape"
   ]
  },
  {
   "cell_type": "markdown",
   "id": "e20c705e",
   "metadata": {},
   "source": [
    "Use the Elbow method mentioned above to decide the number of topics."
   ]
  },
  {
   "cell_type": "code",
   "execution_count": 18,
   "id": "d1145626",
   "metadata": {},
   "outputs": [
    {
     "name": "stdout",
     "output_type": "stream",
     "text": [
      "3\n",
      "4\n",
      "5\n",
      "6\n"
     ]
    },
    {
     "data": {
      "text/plain": [
       "Text(0, 0.5, 'Perplexity')"
      ]
     },
     "execution_count": 18,
     "metadata": {},
     "output_type": "execute_result"
    },
    {
     "data": {
      "image/png": "[encoded data removed]",
      "text/plain": [
       "<Figure size 432x288 with 1 Axes>"
      ]
     },
     "metadata": {
      "needs_background": "light"
     },
     "output_type": "display_data"
    }
   ],
   "source": [
    "lda = LatentDirichletAllocation(n_jobs=-1,   \n",
    "                                max_iter=20,   \n",
    "                                random_state=2021 \n",
    "                               )\n",
    "\n",
    "num_topics=[3,4,5,6]\n",
    "perplexity=[]\n",
    "for i in num_topics:\n",
    "    print(i)\n",
    "    lda.set_params(n_components=i)\n",
    "    lda.fit(DTM)\n",
    "    perplexity.append(lda.perplexity(DTM))\n",
    "\n",
    "\n",
    "plt.plot(num_topics, perplexity)\n",
    "plt.xlabel('Num. of Topics')\n",
    "plt.ylabel('Perplexity')"
   ]
  },
  {
   "cell_type": "markdown",
   "id": "4fe168ea",
   "metadata": {},
   "source": [
    "Fit a LDA model with 5 topics."
   ]
  },
  {
   "cell_type": "code",
   "execution_count": 19,
   "id": "63ae0f1b",
   "metadata": {},
   "outputs": [
    {
     "data": {
      "text/html": [
       "<style>#sk-container-id-3 {color: black;background-color: white;}#sk-container-id-3 pre{padding: 0;}#sk-container-id-3 div.sk-toggleable {background-color: white;}#sk-container-id-3 label.sk-toggleable__label {cursor: pointer;display: block;width: 100%;margin-bottom: 0;padding: 0.3em;box-sizing: border-box;text-align: center;}#sk-container-id-3 label.sk-toggleable__label-arrow:before {content: \"▸\";float: left;margin-right: 0.25em;color: #696969;}#sk-container-id-3 label.sk-toggleable__label-arrow:hover:before {color: black;}#sk-container-id-3 div.sk-estimator:hover label.sk-toggleable__label-arrow:before {color: black;}#sk-container-id-3 div.sk-toggleable__content {max-height: 0;max-width: 0;overflow: hidden;text-align: left;background-color: #f0f8ff;}#sk-container-id-3 div.sk-toggleable__content pre {margin: 0.2em;color: black;border-radius: 0.25em;background-color: #f0f8ff;}#sk-container-id-3 input.sk-toggleable__control:checked~div.sk-toggleable__content {max-height: 200px;max-width: 100%;overflow: auto;}#sk-container-id-3 input.sk-toggleable__control:checked~label.sk-toggleable__label-arrow:before {content: \"▾\";}#sk-container-id-3 div.sk-estimator input.sk-toggleable__control:checked~label.sk-toggleable__label {background-color: #d4ebff;}#sk-container-id-3 div.sk-label input.sk-toggleable__control:checked~label.sk-toggleable__label {background-color: #d4ebff;}#sk-container-id-3 input.sk-hidden--visually {border: 0;clip: rect(1px 1px 1px 1px);clip: rect(1px, 1px, 1px, 1px);height: 1px;margin: -1px;overflow: hidden;padding: 0;position: absolute;width: 1px;}#sk-container-id-3 div.sk-estimator {font-family: monospace;background-color: #f0f8ff;border: 1px dotted black;border-radius: 0.25em;box-sizing: border-box;margin-bottom: 0.5em;}#sk-container-id-3 div.sk-estimator:hover {background-color: #d4ebff;}#sk-container-id-3 div.sk-parallel-item::after {content: \"\";width: 100%;border-bottom: 1px solid gray;flex-grow: 1;}#sk-container-id-3 div.sk-label:hover label.sk-toggleable__label {background-color: #d4ebff;}#sk-container-id-3 div.sk-serial::before {content: \"\";position: absolute;border-left: 1px solid gray;box-sizing: border-box;top: 0;bottom: 0;left: 50%;z-index: 0;}#sk-container-id-3 div.sk-serial {display: flex;flex-direction: column;align-items: center;background-color: white;padding-right: 0.2em;padding-left: 0.2em;position: relative;}#sk-container-id-3 div.sk-item {position: relative;z-index: 1;}#sk-container-id-3 div.sk-parallel {display: flex;align-items: stretch;justify-content: center;background-color: white;position: relative;}#sk-container-id-3 div.sk-item::before, #sk-container-id-3 div.sk-parallel-item::before {content: \"\";position: absolute;border-left: 1px solid gray;box-sizing: border-box;top: 0;bottom: 0;left: 50%;z-index: -1;}#sk-container-id-3 div.sk-parallel-item {display: flex;flex-direction: column;z-index: 1;position: relative;background-color: white;}#sk-container-id-3 div.sk-parallel-item:first-child::after {align-self: flex-end;width: 50%;}#sk-container-id-3 div.sk-parallel-item:last-child::after {align-self: flex-start;width: 50%;}#sk-container-id-3 div.sk-parallel-item:only-child::after {width: 0;}#sk-container-id-3 div.sk-dashed-wrapped {border: 1px dashed gray;margin: 0 0.4em 0.5em 0.4em;box-sizing: border-box;padding-bottom: 0.4em;background-color: white;}#sk-container-id-3 div.sk-label label {font-family: monospace;font-weight: bold;display: inline-block;line-height: 1.2em;}#sk-container-id-3 div.sk-label-container {text-align: center;}#sk-container-id-3 div.sk-container {/* jupyter's `normalize.less` sets `[hidden] { display: none; }` but bootstrap.min.css set `[hidden] { display: none !important; }` so we also need the `!important` here to be able to override the default hidden behavior on the sphinx rendered scikit-learn.org. See: https://github.com/scikit-learn/scikit-learn/issues/21755 */display: inline-block !important;position: relative;}#sk-container-id-3 div.sk-text-repr-fallback {display: none;}</style><div id=\"sk-container-id-3\" class=\"sk-top-container\"><div class=\"sk-text-repr-fallback\"><pre>LatentDirichletAllocation(max_iter=20, n_components=5, n_jobs=-1,\n",
       "                          random_state=2021)</pre><b>In a Jupyter environment, please rerun this cell to show the HTML representation or trust the notebook. <br />On GitHub, the HTML representation is unable to render, please try loading this page with nbviewer.org.</b></div><div class=\"sk-container\" hidden><div class=\"sk-item\"><div class=\"sk-estimator sk-toggleable\"><input class=\"sk-toggleable__control sk-hidden--visually\" id=\"sk-estimator-id-3\" type=\"checkbox\" checked><label for=\"sk-estimator-id-3\" class=\"sk-toggleable__label sk-toggleable__label-arrow\">LatentDirichletAllocation</label><div class=\"sk-toggleable__content\"><pre>LatentDirichletAllocation(max_iter=20, n_components=5, n_jobs=-1,\n",
       "                          random_state=2021)</pre></div></div></div></div></div>"
      ],
      "text/plain": [
       "LatentDirichletAllocation(max_iter=20, n_components=5, n_jobs=-1,\n",
       "                          random_state=2021)"
      ]
     },
     "execution_count": 19,
     "metadata": {},
     "output_type": "execute_result"
    }
   ],
   "source": [
    "lda = LatentDirichletAllocation(n_components=5,\n",
    "                                n_jobs=-1,   \n",
    "                                max_iter=20,   \n",
    "                                random_state=2021 \n",
    "                               )\n",
    "lda.fit(DTM)"
   ]
  },
  {
   "cell_type": "code",
   "execution_count": 20,
   "id": "dac3c449",
   "metadata": {},
   "outputs": [
    {
     "name": "stderr",
     "output_type": "stream",
     "text": [
      "/home/abromeland/.local/lib/python3.9/site-packages/sklearn/utils/deprecation.py:87: FutureWarning: Function get_feature_names is deprecated; get_feature_names is deprecated in 1.0 and will be removed in 1.2. Please use get_feature_names_out instead.\n",
      "  warnings.warn(msg, category=FutureWarning)\n"
     ]
    },
    {
     "data": {
      "text/html": [
       "<div>\n",
       "<style scoped>\n",
       "    .dataframe tbody tr th:only-of-type {\n",
       "        vertical-align: middle;\n",
       "    }\n",
       "\n",
       "    .dataframe tbody tr th {\n",
       "        vertical-align: top;\n",
       "    }\n",
       "\n",
       "    .dataframe thead th {\n",
       "        text-align: right;\n",
       "    }\n",
       "</style>\n",
       "<table border=\"1\" class=\"dataframe\">\n",
       "  <thead>\n",
       "    <tr style=\"text-align: right;\">\n",
       "      <th></th>\n",
       "      <th>0</th>\n",
       "      <th>1</th>\n",
       "      <th>2</th>\n",
       "      <th>3</th>\n",
       "      <th>4</th>\n",
       "    </tr>\n",
       "  </thead>\n",
       "  <tbody>\n",
       "    <tr>\n",
       "      <th>0</th>\n",
       "      <td>card</td>\n",
       "      <td>credit</td>\n",
       "      <td>payment</td>\n",
       "      <td>credit</td>\n",
       "      <td>card</td>\n",
       "    </tr>\n",
       "    <tr>\n",
       "      <th>1</th>\n",
       "      <td>interest</td>\n",
       "      <td>account</td>\n",
       "      <td>late</td>\n",
       "      <td>account</td>\n",
       "      <td>call</td>\n",
       "    </tr>\n",
       "    <tr>\n",
       "      <th>2</th>\n",
       "      <td>credit</td>\n",
       "      <td>report</td>\n",
       "      <td>due</td>\n",
       "      <td>inform</td>\n",
       "      <td>told</td>\n",
       "    </tr>\n",
       "    <tr>\n",
       "      <th>3</th>\n",
       "      <td>moneytoken</td>\n",
       "      <td>card</td>\n",
       "      <td>fee</td>\n",
       "      <td>card</td>\n",
       "      <td>would</td>\n",
       "    </tr>\n",
       "    <tr>\n",
       "      <th>4</th>\n",
       "      <td>balanc</td>\n",
       "      <td>close</td>\n",
       "      <td>month</td>\n",
       "      <td>letter</td>\n",
       "      <td>account</td>\n",
       "    </tr>\n",
       "    <tr>\n",
       "      <th>5</th>\n",
       "      <td>rate</td>\n",
       "      <td>balanc</td>\n",
       "      <td>bill</td>\n",
       "      <td>provid</td>\n",
       "      <td>time</td>\n",
       "    </tr>\n",
       "    <tr>\n",
       "      <th>6</th>\n",
       "      <td>month</td>\n",
       "      <td>remov</td>\n",
       "      <td>statement</td>\n",
       "      <td>charg</td>\n",
       "      <td>credit</td>\n",
       "    </tr>\n",
       "    <tr>\n",
       "      <th>7</th>\n",
       "      <td>would</td>\n",
       "      <td>moneytoken</td>\n",
       "      <td>made</td>\n",
       "      <td>receiv</td>\n",
       "      <td>back</td>\n",
       "    </tr>\n",
       "    <tr>\n",
       "      <th>8</th>\n",
       "      <td>offer</td>\n",
       "      <td>paid</td>\n",
       "      <td>pay</td>\n",
       "      <td>request</td>\n",
       "      <td>moneytoken</td>\n",
       "    </tr>\n",
       "    <tr>\n",
       "      <th>9</th>\n",
       "      <td>fee</td>\n",
       "      <td>payment</td>\n",
       "      <td>moneytoken</td>\n",
       "      <td>disput</td>\n",
       "      <td>said</td>\n",
       "    </tr>\n",
       "  </tbody>\n",
       "</table>\n",
       "</div>"
      ],
      "text/plain": [
       "            0           1           2        3           4\n",
       "0        card      credit     payment   credit        card\n",
       "1    interest     account        late  account        call\n",
       "2      credit      report         due   inform        told\n",
       "3  moneytoken        card         fee     card       would\n",
       "4      balanc       close       month   letter     account\n",
       "5        rate      balanc        bill   provid        time\n",
       "6       month       remov   statement    charg      credit\n",
       "7       would  moneytoken        made   receiv        back\n",
       "8       offer        paid         pay  request  moneytoken\n",
       "9         fee     payment  moneytoken   disput        said"
      ]
     },
     "execution_count": 20,
     "metadata": {},
     "output_type": "execute_result"
    }
   ],
   "source": [
    "#Create the top words for each topic and put them together in the same data frame.\n",
    "temparray = preprocessing.normalize(lda.components_,norm=\"l1\")\n",
    "TTopicM = pd.DataFrame(np.transpose(temparray), index = vectorizer.get_feature_names())\n",
    "TermOfTopic =pd.DataFrame([])\n",
    "for i in range(5):\n",
    "    TermOfTopic[i]=(list(TTopicM.sort_values(by=i,ascending=False).iloc[:10,i].index))\n",
    "TermOfTopic"
   ]
  },
  {
   "cell_type": "markdown",
   "id": "18b6058c",
   "metadata": {},
   "source": [
    "Which topic is most related to \"monthly payment\", \"mothly bill\", and \"late payment\"?\n",
    "\n",
    "   - Topic 2"
   ]
  },
  {
   "cell_type": "markdown",
   "id": "744317a3",
   "metadata": {},
   "source": [
    "The document-topic matrix tells us the distribution of topics, in particular, the percentage of each customer complaint about Topic 2. "
   ]
  },
  {
   "cell_type": "code",
   "execution_count": 21,
   "id": "9baaa80a",
   "metadata": {},
   "outputs": [
    {
     "data": {
      "text/html": [
       "<div>\n",
       "<style scoped>\n",
       "    .dataframe tbody tr th:only-of-type {\n",
       "        vertical-align: middle;\n",
       "    }\n",
       "\n",
       "    .dataframe tbody tr th {\n",
       "        vertical-align: top;\n",
       "    }\n",
       "\n",
       "    .dataframe thead th {\n",
       "        text-align: right;\n",
       "    }\n",
       "</style>\n",
       "<table border=\"1\" class=\"dataframe\">\n",
       "  <thead>\n",
       "    <tr style=\"text-align: right;\">\n",
       "      <th></th>\n",
       "      <th>Company</th>\n",
       "      <th>Consumer.complaint.narrative</th>\n",
       "    </tr>\n",
       "  </thead>\n",
       "  <tbody>\n",
       "    <tr>\n",
       "      <th>0</th>\n",
       "      <td>Wells Fargo &amp; Company</td>\n",
       "      <td>I had been problem with well Fargo Bank I 'm h...</td>\n",
       "    </tr>\n",
       "    <tr>\n",
       "      <th>1</th>\n",
       "      <td>Wells Fargo &amp; Company</td>\n",
       "      <td>Complaint Against : Wells Fargo Financial Nati...</td>\n",
       "    </tr>\n",
       "    <tr>\n",
       "      <th>2</th>\n",
       "      <td>Wells Fargo &amp; Company</td>\n",
       "      <td>I wanted to know what interest rate might be t...</td>\n",
       "    </tr>\n",
       "    <tr>\n",
       "      <th>3</th>\n",
       "      <td>Wells Fargo &amp; Company</td>\n",
       "      <td>Approximately two years ago I opened up a secu...</td>\n",
       "    </tr>\n",
       "    <tr>\n",
       "      <th>4</th>\n",
       "      <td>Wells Fargo &amp; Company</td>\n",
       "      <td>Wells Fargo informed me that they made a \" bus...</td>\n",
       "    </tr>\n",
       "  </tbody>\n",
       "</table>\n",
       "</div>"
      ],
      "text/plain": [
       "                 Company                       Consumer.complaint.narrative\n",
       "0  Wells Fargo & Company  I had been problem with well Fargo Bank I 'm h...\n",
       "1  Wells Fargo & Company  Complaint Against : Wells Fargo Financial Nati...\n",
       "2  Wells Fargo & Company  I wanted to know what interest rate might be t...\n",
       "3  Wells Fargo & Company  Approximately two years ago I opened up a secu...\n",
       "4  Wells Fargo & Company  Wells Fargo informed me that they made a \" bus..."
      ]
     },
     "execution_count": 21,
     "metadata": {},
     "output_type": "execute_result"
    }
   ],
   "source": [
    "df.head()"
   ]
  },
  {
   "cell_type": "code",
   "execution_count": 22,
   "id": "34b6cd0b",
   "metadata": {
    "scrolled": true
   },
   "outputs": [
    {
     "data": {
      "text/html": [
       "<div>\n",
       "<style scoped>\n",
       "    .dataframe tbody tr th:only-of-type {\n",
       "        vertical-align: middle;\n",
       "    }\n",
       "\n",
       "    .dataframe tbody tr th {\n",
       "        vertical-align: top;\n",
       "    }\n",
       "\n",
       "    .dataframe thead th {\n",
       "        text-align: right;\n",
       "    }\n",
       "</style>\n",
       "<table border=\"1\" class=\"dataframe\">\n",
       "  <thead>\n",
       "    <tr style=\"text-align: right;\">\n",
       "      <th></th>\n",
       "      <th>0</th>\n",
       "      <th>1</th>\n",
       "      <th>2</th>\n",
       "      <th>3</th>\n",
       "      <th>4</th>\n",
       "    </tr>\n",
       "  </thead>\n",
       "  <tbody>\n",
       "    <tr>\n",
       "      <th>0</th>\n",
       "      <td>0.006209</td>\n",
       "      <td>0.095508</td>\n",
       "      <td>0.132560</td>\n",
       "      <td>0.006256</td>\n",
       "      <td>0.759468</td>\n",
       "    </tr>\n",
       "    <tr>\n",
       "      <th>1</th>\n",
       "      <td>0.527251</td>\n",
       "      <td>0.000788</td>\n",
       "      <td>0.351029</td>\n",
       "      <td>0.120141</td>\n",
       "      <td>0.000790</td>\n",
       "    </tr>\n",
       "    <tr>\n",
       "      <th>2</th>\n",
       "      <td>0.206318</td>\n",
       "      <td>0.003046</td>\n",
       "      <td>0.003034</td>\n",
       "      <td>0.301068</td>\n",
       "      <td>0.486534</td>\n",
       "    </tr>\n",
       "    <tr>\n",
       "      <th>3</th>\n",
       "      <td>0.001451</td>\n",
       "      <td>0.275751</td>\n",
       "      <td>0.085107</td>\n",
       "      <td>0.053299</td>\n",
       "      <td>0.584391</td>\n",
       "    </tr>\n",
       "    <tr>\n",
       "      <th>4</th>\n",
       "      <td>0.586218</td>\n",
       "      <td>0.000759</td>\n",
       "      <td>0.052011</td>\n",
       "      <td>0.360264</td>\n",
       "      <td>0.000749</td>\n",
       "    </tr>\n",
       "  </tbody>\n",
       "</table>\n",
       "</div>"
      ],
      "text/plain": [
       "          0         1         2         3         4\n",
       "0  0.006209  0.095508  0.132560  0.006256  0.759468\n",
       "1  0.527251  0.000788  0.351029  0.120141  0.000790\n",
       "2  0.206318  0.003046  0.003034  0.301068  0.486534\n",
       "3  0.001451  0.275751  0.085107  0.053299  0.584391\n",
       "4  0.586218  0.000759  0.052011  0.360264  0.000749"
      ]
     },
     "execution_count": 22,
     "metadata": {},
     "output_type": "execute_result"
    }
   ],
   "source": [
    "DTopicM = pd.DataFrame(lda.transform(DTM))\n",
    "DTopicM.head()"
   ]
  },
  {
   "cell_type": "code",
   "execution_count": 23,
   "id": "b1e14490",
   "metadata": {},
   "outputs": [
    {
     "data": {
      "text/html": [
       "<div>\n",
       "<style scoped>\n",
       "    .dataframe tbody tr th:only-of-type {\n",
       "        vertical-align: middle;\n",
       "    }\n",
       "\n",
       "    .dataframe tbody tr th {\n",
       "        vertical-align: top;\n",
       "    }\n",
       "\n",
       "    .dataframe thead th {\n",
       "        text-align: right;\n",
       "    }\n",
       "</style>\n",
       "<table border=\"1\" class=\"dataframe\">\n",
       "  <thead>\n",
       "    <tr style=\"text-align: right;\">\n",
       "      <th></th>\n",
       "      <th>Company</th>\n",
       "      <th>Consumer.complaint.narrative</th>\n",
       "      <th>0</th>\n",
       "      <th>1</th>\n",
       "      <th>2</th>\n",
       "      <th>3</th>\n",
       "      <th>4</th>\n",
       "    </tr>\n",
       "  </thead>\n",
       "  <tbody>\n",
       "    <tr>\n",
       "      <th>0</th>\n",
       "      <td>Wells Fargo &amp; Company</td>\n",
       "      <td>I had been problem with well Fargo Bank I 'm h...</td>\n",
       "      <td>0.006209</td>\n",
       "      <td>0.095508</td>\n",
       "      <td>0.132560</td>\n",
       "      <td>0.006256</td>\n",
       "      <td>0.759468</td>\n",
       "    </tr>\n",
       "    <tr>\n",
       "      <th>1</th>\n",
       "      <td>Wells Fargo &amp; Company</td>\n",
       "      <td>Complaint Against : Wells Fargo Financial Nati...</td>\n",
       "      <td>0.527251</td>\n",
       "      <td>0.000788</td>\n",
       "      <td>0.351029</td>\n",
       "      <td>0.120141</td>\n",
       "      <td>0.000790</td>\n",
       "    </tr>\n",
       "    <tr>\n",
       "      <th>2</th>\n",
       "      <td>Wells Fargo &amp; Company</td>\n",
       "      <td>I wanted to know what interest rate might be t...</td>\n",
       "      <td>0.206318</td>\n",
       "      <td>0.003046</td>\n",
       "      <td>0.003034</td>\n",
       "      <td>0.301068</td>\n",
       "      <td>0.486534</td>\n",
       "    </tr>\n",
       "    <tr>\n",
       "      <th>3</th>\n",
       "      <td>Wells Fargo &amp; Company</td>\n",
       "      <td>Approximately two years ago I opened up a secu...</td>\n",
       "      <td>0.001451</td>\n",
       "      <td>0.275751</td>\n",
       "      <td>0.085107</td>\n",
       "      <td>0.053299</td>\n",
       "      <td>0.584391</td>\n",
       "    </tr>\n",
       "    <tr>\n",
       "      <th>4</th>\n",
       "      <td>Wells Fargo &amp; Company</td>\n",
       "      <td>Wells Fargo informed me that they made a \" bus...</td>\n",
       "      <td>0.586218</td>\n",
       "      <td>0.000759</td>\n",
       "      <td>0.052011</td>\n",
       "      <td>0.360264</td>\n",
       "      <td>0.000749</td>\n",
       "    </tr>\n",
       "  </tbody>\n",
       "</table>\n",
       "</div>"
      ],
      "text/plain": [
       "                 Company                       Consumer.complaint.narrative  \\\n",
       "0  Wells Fargo & Company  I had been problem with well Fargo Bank I 'm h...   \n",
       "1  Wells Fargo & Company  Complaint Against : Wells Fargo Financial Nati...   \n",
       "2  Wells Fargo & Company  I wanted to know what interest rate might be t...   \n",
       "3  Wells Fargo & Company  Approximately two years ago I opened up a secu...   \n",
       "4  Wells Fargo & Company  Wells Fargo informed me that they made a \" bus...   \n",
       "\n",
       "          0         1         2         3         4  \n",
       "0  0.006209  0.095508  0.132560  0.006256  0.759468  \n",
       "1  0.527251  0.000788  0.351029  0.120141  0.000790  \n",
       "2  0.206318  0.003046  0.003034  0.301068  0.486534  \n",
       "3  0.001451  0.275751  0.085107  0.053299  0.584391  \n",
       "4  0.586218  0.000759  0.052011  0.360264  0.000749  "
      ]
     },
     "execution_count": 23,
     "metadata": {},
     "output_type": "execute_result"
    }
   ],
   "source": [
    "#Concatenate df and DTopicM horizontally.\n",
    "dfnew = pd.concat([df, DTopicM], axis=1)\n",
    "dfnew.head()"
   ]
  },
  {
   "cell_type": "code",
   "execution_count": 24,
   "id": "8dfc80fd",
   "metadata": {},
   "outputs": [
    {
     "data": {
      "text/html": [
       "<div>\n",
       "<style scoped>\n",
       "    .dataframe tbody tr th:only-of-type {\n",
       "        vertical-align: middle;\n",
       "    }\n",
       "\n",
       "    .dataframe tbody tr th {\n",
       "        vertical-align: top;\n",
       "    }\n",
       "\n",
       "    .dataframe thead th {\n",
       "        text-align: right;\n",
       "    }\n",
       "</style>\n",
       "<table border=\"1\" class=\"dataframe\">\n",
       "  <thead>\n",
       "    <tr style=\"text-align: right;\">\n",
       "      <th></th>\n",
       "      <th>Company</th>\n",
       "      <th>Consumer.complaint.narrative</th>\n",
       "      <th>0</th>\n",
       "      <th>1</th>\n",
       "      <th>2</th>\n",
       "      <th>3</th>\n",
       "      <th>4</th>\n",
       "    </tr>\n",
       "  </thead>\n",
       "  <tbody>\n",
       "    <tr>\n",
       "      <th>0</th>\n",
       "      <td>Wells Fargo &amp; Company</td>\n",
       "      <td>I have my credit card payment on a weekly pay ...</td>\n",
       "      <td>0.002408</td>\n",
       "      <td>0.002370</td>\n",
       "      <td>0.990362</td>\n",
       "      <td>0.002472</td>\n",
       "      <td>0.002387</td>\n",
       "    </tr>\n",
       "    <tr>\n",
       "      <th>1</th>\n",
       "      <td>Wells Fargo &amp; Company</td>\n",
       "      <td>On more than a half dozen occasions, Wells Far...</td>\n",
       "      <td>0.002420</td>\n",
       "      <td>0.002425</td>\n",
       "      <td>0.990267</td>\n",
       "      <td>0.002468</td>\n",
       "      <td>0.002419</td>\n",
       "    </tr>\n",
       "    <tr>\n",
       "      <th>2</th>\n",
       "      <td>Capital One</td>\n",
       "      <td>On   occasions in the past 12 months, I / we h...</td>\n",
       "      <td>0.003552</td>\n",
       "      <td>0.003436</td>\n",
       "      <td>0.986065</td>\n",
       "      <td>0.003480</td>\n",
       "      <td>0.003466</td>\n",
       "    </tr>\n",
       "    <tr>\n",
       "      <th>3</th>\n",
       "      <td>Capital One</td>\n",
       "      <td>I have a Neiman Marcus credit card. There have...</td>\n",
       "      <td>0.003612</td>\n",
       "      <td>0.003648</td>\n",
       "      <td>0.985456</td>\n",
       "      <td>0.003664</td>\n",
       "      <td>0.003620</td>\n",
       "    </tr>\n",
       "    <tr>\n",
       "      <th>4</th>\n",
       "      <td>Capital One</td>\n",
       "      <td>On    , 2015, I went on Capital One site to lo...</td>\n",
       "      <td>0.005675</td>\n",
       "      <td>0.005690</td>\n",
       "      <td>0.977188</td>\n",
       "      <td>0.005610</td>\n",
       "      <td>0.005836</td>\n",
       "    </tr>\n",
       "  </tbody>\n",
       "</table>\n",
       "</div>"
      ],
      "text/plain": [
       "                 Company                       Consumer.complaint.narrative  \\\n",
       "0  Wells Fargo & Company  I have my credit card payment on a weekly pay ...   \n",
       "1  Wells Fargo & Company  On more than a half dozen occasions, Wells Far...   \n",
       "2            Capital One  On   occasions in the past 12 months, I / we h...   \n",
       "3            Capital One  I have a Neiman Marcus credit card. There have...   \n",
       "4            Capital One  On    , 2015, I went on Capital One site to lo...   \n",
       "\n",
       "          0         1         2         3         4  \n",
       "0  0.002408  0.002370  0.990362  0.002472  0.002387  \n",
       "1  0.002420  0.002425  0.990267  0.002468  0.002419  \n",
       "2  0.003552  0.003436  0.986065  0.003480  0.003466  \n",
       "3  0.003612  0.003648  0.985456  0.003664  0.003620  \n",
       "4  0.005675  0.005690  0.977188  0.005610  0.005836  "
      ]
     },
     "execution_count": 24,
     "metadata": {},
     "output_type": "execute_result"
    }
   ],
   "source": [
    "#Sort the complaints based on their weight on Topic 2 \n",
    "dfnew.sort_values(by=2,ascending=False,inplace=True)\n",
    "dfnew.reset_index(inplace=True,drop=True)\n",
    "dfnew.head(5)"
   ]
  },
  {
   "cell_type": "code",
   "execution_count": 25,
   "id": "b50bf305",
   "metadata": {},
   "outputs": [
    {
     "data": {
      "text/plain": [
       "'I have my credit card payment on a weekly pay cycle of $  /week. During the course of a month ( 4 weeks or 28 days ) I make a cumulative monthly payment of moneytoken. My minimum monthly payment due on my credit card was moneytoken, due on    , 2015. \\r\\nI was charged a moneytoken late fee on my   billing due to the timing of the billing cycle and the corresponding payments. \\r\\nMy due date each month is on the  , but my cycle does not end until the  . During the month of   I had a payment applied on the  , which is between the   and  . \\r\\nThe application of the     payment was applied backwards, to my   payment requirement. The resulting billing period for     through my due date     only had 3 weeks ( 23 days ) to make my payment. My payments were made each week on  ,  ,  . \\r\\nThe     payment should have been my   payment, which would have been 4 weeks ( 30 days ). \\r\\nI did contact the company and talked to a supervisor. The supervisor did state and confirmed that I was being charged a late fee for paying my bill early and on a regular basis, but there was nothing she could do about the late fee. \\r\\n'"
      ]
     },
     "execution_count": 25,
     "metadata": {},
     "output_type": "execute_result"
    }
   ],
   "source": [
    "dfnew['Consumer.complaint.narrative'][0]"
   ]
  },
  {
   "cell_type": "code",
   "execution_count": 26,
   "id": "37536a07",
   "metadata": {},
   "outputs": [
    {
     "data": {
      "text/plain": [
       "'Wells Fargo is charging excessive late fees \\r\\n'"
      ]
     },
     "execution_count": 26,
     "metadata": {},
     "output_type": "execute_result"
    }
   ],
   "source": [
    "dfnew['Consumer.complaint.narrative'][33]"
   ]
  }
 ],
 "metadata": {
  "kernelspec": {
   "display_name": "Python 3 (ipykernel)",
   "language": "python",
   "name": "python3"
  },
  "language_info": {
   "codemirror_mode": {
    "name": "ipython",
    "version": 3
   },
   "file_extension": ".py",
   "mimetype": "text/x-python",
   "name": "python",
   "nbconvert_exporter": "python",
   "pygments_lexer": "ipython3",
   "version": "3.9.1"
  }
 },
 "nbformat": 4,
 "nbformat_minor": 5
}
