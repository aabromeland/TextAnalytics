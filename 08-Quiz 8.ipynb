{
 "cells": [
  {
   "cell_type": "markdown",
   "id": "147f1435",
   "metadata": {},
   "source": [
    "# Quiz 8\n",
    "**5 Points**"
   ]
  },
  {
   "cell_type": "markdown",
   "id": "8305c3e1",
   "metadata": {},
   "source": [
    "Is each of the following statement true or false? Type \"True\" or \"False\" in the provided text cells."
   ]
  },
  {
   "cell_type": "markdown",
   "id": "ed39d1ab",
   "metadata": {},
   "source": [
    "1. (1 point) In a text network, the edge with a larger weight is generally longer than the edge with a smaller weight. "
   ]
  },
  {
   "cell_type": "markdown",
   "id": "efb84f46",
   "metadata": {},
   "source": [
    "You answer: False\n",
    "\n",
    "Edge with a larger weight tend to be shorter in general"
   ]
  },
  {
   "cell_type": "markdown",
   "id": "3b2fc3ba",
   "metadata": {},
   "source": [
    "2. (1 point) In a two-model text network, the edges are weighted by their term frequencies in documents instead of their TFIDF scores. "
   ]
  },
  {
   "cell_type": "markdown",
   "id": "ede15d4c",
   "metadata": {},
   "source": [
    "Your answer: False\n",
    "\n",
    "Edge is weighted by TFIDF of the word in the document"
   ]
  },
  {
   "cell_type": "markdown",
   "id": "430c22f6",
   "metadata": {},
   "source": [
    "3. (1 point) In a two-model text network, a node of word has a high score of betweeness if the word is connected to many documents in the same cluster."
   ]
  },
  {
   "cell_type": "markdown",
   "id": "9853e5b2",
   "metadata": {},
   "source": [
    "Your answer: False \n",
    "\n",
    "Betweeness score is higher if the node connects different clusters or is the hub of the network. "
   ]
  },
  {
   "cell_type": "markdown",
   "id": "5cc6d68e",
   "metadata": {},
   "source": [
    "4. (2 points) The following code creates two data frames, **df1** and **df2**, both of which have a column called \"**a**\". Merge **df1** and **df2** into a new data frame called **df3** on column \"a\" so that **df3** contains three columns, \"a\", \"b\", and \"c\" and column \"a\" in **df3** contains the intersection of columns \"a\" of **df1** and **df2**."
   ]
  },
  {
   "cell_type": "code",
   "execution_count": 3,
   "id": "766a32a6",
   "metadata": {
    "scrolled": true
   },
   "outputs": [
    {
     "data": {
      "text/html": [
       "<div>\n",
       "<style scoped>\n",
       "    .dataframe tbody tr th:only-of-type {\n",
       "        vertical-align: middle;\n",
       "    }\n",
       "\n",
       "    .dataframe tbody tr th {\n",
       "        vertical-align: top;\n",
       "    }\n",
       "\n",
       "    .dataframe thead th {\n",
       "        text-align: right;\n",
       "    }\n",
       "</style>\n",
       "<table border=\"1\" class=\"dataframe\">\n",
       "  <thead>\n",
       "    <tr style=\"text-align: right;\">\n",
       "      <th></th>\n",
       "      <th>a</th>\n",
       "      <th>b</th>\n",
       "    </tr>\n",
       "  </thead>\n",
       "  <tbody>\n",
       "    <tr>\n",
       "      <th>0</th>\n",
       "      <td>foo</td>\n",
       "      <td>1</td>\n",
       "    </tr>\n",
       "    <tr>\n",
       "      <th>1</th>\n",
       "      <td>bar</td>\n",
       "      <td>2</td>\n",
       "    </tr>\n",
       "    <tr>\n",
       "      <th>2</th>\n",
       "      <td>inn</td>\n",
       "      <td>3</td>\n",
       "    </tr>\n",
       "  </tbody>\n",
       "</table>\n",
       "</div>"
      ],
      "text/plain": [
       "     a  b\n",
       "0  foo  1\n",
       "1  bar  2\n",
       "2  inn  3"
      ]
     },
     "metadata": {},
     "output_type": "display_data"
    },
    {
     "data": {
      "text/html": [
       "<div>\n",
       "<style scoped>\n",
       "    .dataframe tbody tr th:only-of-type {\n",
       "        vertical-align: middle;\n",
       "    }\n",
       "\n",
       "    .dataframe tbody tr th {\n",
       "        vertical-align: top;\n",
       "    }\n",
       "\n",
       "    .dataframe thead th {\n",
       "        text-align: right;\n",
       "    }\n",
       "</style>\n",
       "<table border=\"1\" class=\"dataframe\">\n",
       "  <thead>\n",
       "    <tr style=\"text-align: right;\">\n",
       "      <th></th>\n",
       "      <th>a</th>\n",
       "      <th>c</th>\n",
       "    </tr>\n",
       "  </thead>\n",
       "  <tbody>\n",
       "    <tr>\n",
       "      <th>0</th>\n",
       "      <td>foo</td>\n",
       "      <td>4</td>\n",
       "    </tr>\n",
       "    <tr>\n",
       "      <th>1</th>\n",
       "      <td>baz</td>\n",
       "      <td>5</td>\n",
       "    </tr>\n",
       "    <tr>\n",
       "      <th>2</th>\n",
       "      <td>inn</td>\n",
       "      <td>6</td>\n",
       "    </tr>\n",
       "  </tbody>\n",
       "</table>\n",
       "</div>"
      ],
      "text/plain": [
       "     a  c\n",
       "0  foo  4\n",
       "1  baz  5\n",
       "2  inn  6"
      ]
     },
     "metadata": {},
     "output_type": "display_data"
    }
   ],
   "source": [
    "import pandas as pd\n",
    "df1 = pd.DataFrame({'a': ['foo', 'bar', 'inn'], 'b': [1, 2, 3]})\n",
    "df2 = pd.DataFrame({'a': ['foo', 'baz', 'inn'], 'c': [4, 5, 6]})\n",
    "display(df1)\n",
    "display(df2)"
   ]
  },
  {
   "cell_type": "code",
   "execution_count": 4,
   "id": "c674b3b9",
   "metadata": {},
   "outputs": [
    {
     "data": {
      "text/html": [
       "<div>\n",
       "<style scoped>\n",
       "    .dataframe tbody tr th:only-of-type {\n",
       "        vertical-align: middle;\n",
       "    }\n",
       "\n",
       "    .dataframe tbody tr th {\n",
       "        vertical-align: top;\n",
       "    }\n",
       "\n",
       "    .dataframe thead th {\n",
       "        text-align: right;\n",
       "    }\n",
       "</style>\n",
       "<table border=\"1\" class=\"dataframe\">\n",
       "  <thead>\n",
       "    <tr style=\"text-align: right;\">\n",
       "      <th></th>\n",
       "      <th>a</th>\n",
       "      <th>b</th>\n",
       "      <th>c</th>\n",
       "    </tr>\n",
       "  </thead>\n",
       "  <tbody>\n",
       "    <tr>\n",
       "      <th>0</th>\n",
       "      <td>foo</td>\n",
       "      <td>1</td>\n",
       "      <td>4</td>\n",
       "    </tr>\n",
       "    <tr>\n",
       "      <th>1</th>\n",
       "      <td>inn</td>\n",
       "      <td>3</td>\n",
       "      <td>6</td>\n",
       "    </tr>\n",
       "  </tbody>\n",
       "</table>\n",
       "</div>"
      ],
      "text/plain": [
       "     a  b  c\n",
       "0  foo  1  4\n",
       "1  inn  3  6"
      ]
     },
     "execution_count": 4,
     "metadata": {},
     "output_type": "execute_result"
    }
   ],
   "source": [
    "#Your answer here:\n",
    "import pandas as pd\n",
    "df3 = pd.merge(df1, df2, on=\"a\")\n",
    "\n",
    "#Check your answer:\n",
    "df3"
   ]
  }
 ],
 "metadata": {
  "kernelspec": {
   "display_name": "Python 3 (ipykernel)",
   "language": "python",
   "name": "python3"
  },
  "language_info": {
   "codemirror_mode": {
    "name": "ipython",
    "version": 3
   },
   "file_extension": ".py",
   "mimetype": "text/x-python",
   "name": "python",
   "nbconvert_exporter": "python",
   "pygments_lexer": "ipython3",
   "version": "3.9.1"
  }
 },
 "nbformat": 4,
 "nbformat_minor": 5
}
