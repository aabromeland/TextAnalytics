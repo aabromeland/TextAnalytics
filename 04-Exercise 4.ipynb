{
 "cells": [
  {
   "cell_type": "markdown",
   "id": "8c7b321a",
   "metadata": {},
   "source": [
    "# Exercise 4"
   ]
  },
  {
   "cell_type": "markdown",
   "id": "66c70da2",
   "metadata": {},
   "source": [
    "The following code loads a dataset of reviews about hotels and electronic products. Column \"Review\" contains the review texts and column \"Domain\" indicates if a review is about a hotel or an electronic product. In this exercise, we will focus on reviews on hotels in this data. The following code creates a new data frame that only contains the rows from the raw data whose \"Domain\" equals \"Hotels\". "
   ]
  },
  {
   "cell_type": "code",
   "execution_count": 1,
   "id": "e27c6dbf",
   "metadata": {},
   "outputs": [
    {
     "data": {
      "text/html": [
       "<div>\n",
       "<style scoped>\n",
       "    .dataframe tbody tr th:only-of-type {\n",
       "        vertical-align: middle;\n",
       "    }\n",
       "\n",
       "    .dataframe tbody tr th {\n",
       "        vertical-align: top;\n",
       "    }\n",
       "\n",
       "    .dataframe thead th {\n",
       "        text-align: right;\n",
       "    }\n",
       "</style>\n",
       "<table border=\"1\" class=\"dataframe\">\n",
       "  <thead>\n",
       "    <tr style=\"text-align: right;\">\n",
       "      <th></th>\n",
       "      <th>Domain</th>\n",
       "      <th>Review</th>\n",
       "    </tr>\n",
       "  </thead>\n",
       "  <tbody>\n",
       "    <tr>\n",
       "      <th>0</th>\n",
       "      <td>Hotels</td>\n",
       "      <td>I've never taken the time to write a review of...</td>\n",
       "    </tr>\n",
       "    <tr>\n",
       "      <th>1</th>\n",
       "      <td>Hotels</td>\n",
       "      <td>I mistakenly thought that since my multiple st...</td>\n",
       "    </tr>\n",
       "    <tr>\n",
       "      <th>2</th>\n",
       "      <td>Hotels</td>\n",
       "      <td>We got stuck in Orlando Florida and the airlin...</td>\n",
       "    </tr>\n",
       "    <tr>\n",
       "      <th>3</th>\n",
       "      <td>Hotels</td>\n",
       "      <td>GORGEOUS HOTEL! I stayed here for my honeymoon...</td>\n",
       "    </tr>\n",
       "    <tr>\n",
       "      <th>4</th>\n",
       "      <td>Hotels</td>\n",
       "      <td>Every one has a dream to enjoy life with his/h...</td>\n",
       "    </tr>\n",
       "  </tbody>\n",
       "</table>\n",
       "</div>"
      ],
      "text/plain": [
       "   Domain                                             Review\n",
       "0  Hotels  I've never taken the time to write a review of...\n",
       "1  Hotels  I mistakenly thought that since my multiple st...\n",
       "2  Hotels  We got stuck in Orlando Florida and the airlin...\n",
       "3  Hotels  GORGEOUS HOTEL! I stayed here for my honeymoon...\n",
       "4  Hotels  Every one has a dream to enjoy life with his/h..."
      ]
     },
     "execution_count": 1,
     "metadata": {},
     "output_type": "execute_result"
    }
   ],
   "source": [
    "import pandas as pd\n",
    "df = pd.read_csv(\"classdata/Lies_and_Truths.csv\")\n",
    "df = df[df.Domain==\"Hotels\"].copy()\n",
    "df.reset_index(drop=True, inplace=True)\n",
    "df[[\"Domain\",\"Review\"]].head()"
   ]
  },
  {
   "cell_type": "markdown",
   "id": "ad0c5e78",
   "metadata": {},
   "source": [
    "1. Convert column \"Review\" to a DTM based on the following requirements:\n",
    "\n",
    "    - Use the default tokenizer from sklearn library. \n",
    "    - Remove stop words in the list of nltk. \n",
    "    - Don't stem tokens. \n",
    "    - Create DTM with TF scores.\n",
    "\n",
    "  Save your DTM as a variable called **DTM1**. Print the shape of DTM1."
   ]
  },
  {
   "cell_type": "code",
   "execution_count": 2,
   "id": "ce6441de",
   "metadata": {},
   "outputs": [
    {
     "data": {
      "text/plain": [
       "(790, 5413)"
      ]
     },
     "execution_count": 2,
     "metadata": {},
     "output_type": "execute_result"
    }
   ],
   "source": [
    "#Your answer here:\n",
    "\n",
    "from sklearn.feature_extraction.text import CountVectorizer\n",
    "import nltk                                  \n",
    "\n",
    "\n",
    "nltk_stopwords = nltk.corpus.stopwords.words(\"english\")\n",
    "vectorizer = CountVectorizer(stop_words=nltk_stopwords)\n",
    "DTM1 = vectorizer.fit_transform(df['Review'])\n",
    "\n",
    "#Check your answer:\n",
    "DTM1.shape"
   ]
  },
  {
   "cell_type": "markdown",
   "id": "557717e5",
   "metadata": {},
   "source": [
    "2. Convert column \"Review\" to a DTM based on the following requirements:\n",
    "\n",
    "    - Use the default tokenizer from sklearn library. \n",
    "    - Remove stop words in the list of nltk. \n",
    "    - Stem the tokens using the SnowBall stemmer from nltk. \n",
    "    - Create DTM with TF score.\n",
    "    \n",
    "   Save your DTM as a variable called **DTM2**. Print the shape of DTM2. Compare the shape with question 1. "
   ]
  },
  {
   "cell_type": "code",
   "execution_count": 3,
   "id": "235cdbe0",
   "metadata": {},
   "outputs": [
    {
     "data": {
      "text/plain": [
       "(790, 3938)"
      ]
     },
     "execution_count": 3,
     "metadata": {},
     "output_type": "execute_result"
    }
   ],
   "source": [
    "#Your answer here:\n",
    "\n",
    "stemmer = nltk.stem.SnowballStemmer(\"english\")  #You may use a different stemmer.\n",
    "class StemmedCountVectorizer(CountVectorizer):\n",
    "    def build_analyzer(self):\n",
    "        analyzer = super(StemmedCountVectorizer, self).build_analyzer()\n",
    "        return lambda doc: ([stemmer.stem(w) for w in analyzer(doc)])\n",
    "\n",
    "vectorizer = StemmedCountVectorizer(stop_words=nltk_stopwords)\n",
    "DTM2 =vectorizer.fit_transform(df['Review'])\n",
    "\n",
    "#Check your answer:\n",
    "DTM2.shape"
   ]
  },
  {
   "cell_type": "markdown",
   "id": "a388dd30",
   "metadata": {},
   "source": [
    "3.  Use the column sums of DTM2 from question 3 to calculuate the total frequency of each unique term. Save your output as a two-column data frame called **dffreq**, in which the terms are given in column \"Term\" and their total frequencies are given in column \"Frequency\". Sort **dffreq** by the total frequencies in a descending order and reset the row index."
   ]
  },
  {
   "cell_type": "code",
   "execution_count": 4,
   "id": "ea34fc2d",
   "metadata": {},
   "outputs": [
    {
     "name": "stderr",
     "output_type": "stream",
     "text": [
      "/home/abromeland/.local/lib/python3.9/site-packages/sklearn/utils/deprecation.py:87: FutureWarning: Function get_feature_names is deprecated; get_feature_names is deprecated in 1.0 and will be removed in 1.2. Please use get_feature_names_out instead.\n",
      "  warnings.warn(msg, category=FutureWarning)\n"
     ]
    },
    {
     "data": {
      "text/html": [
       "<div>\n",
       "<style scoped>\n",
       "    .dataframe tbody tr th:only-of-type {\n",
       "        vertical-align: middle;\n",
       "    }\n",
       "\n",
       "    .dataframe tbody tr th {\n",
       "        vertical-align: top;\n",
       "    }\n",
       "\n",
       "    .dataframe thead th {\n",
       "        text-align: right;\n",
       "    }\n",
       "</style>\n",
       "<table border=\"1\" class=\"dataframe\">\n",
       "  <thead>\n",
       "    <tr style=\"text-align: right;\">\n",
       "      <th></th>\n",
       "      <th>Term</th>\n",
       "      <th>Frequency</th>\n",
       "    </tr>\n",
       "  </thead>\n",
       "  <tbody>\n",
       "    <tr>\n",
       "      <th>0</th>\n",
       "      <td>hotel</td>\n",
       "      <td>1356</td>\n",
       "    </tr>\n",
       "    <tr>\n",
       "      <th>1</th>\n",
       "      <td>room</td>\n",
       "      <td>1224</td>\n",
       "    </tr>\n",
       "    <tr>\n",
       "      <th>2</th>\n",
       "      <td>stay</td>\n",
       "      <td>824</td>\n",
       "    </tr>\n",
       "    <tr>\n",
       "      <th>3</th>\n",
       "      <td>br</td>\n",
       "      <td>461</td>\n",
       "    </tr>\n",
       "    <tr>\n",
       "      <th>4</th>\n",
       "      <td>staff</td>\n",
       "      <td>377</td>\n",
       "    </tr>\n",
       "    <tr>\n",
       "      <th>5</th>\n",
       "      <td>would</td>\n",
       "      <td>297</td>\n",
       "    </tr>\n",
       "    <tr>\n",
       "      <th>6</th>\n",
       "      <td>place</td>\n",
       "      <td>286</td>\n",
       "    </tr>\n",
       "    <tr>\n",
       "      <th>7</th>\n",
       "      <td>one</td>\n",
       "      <td>285</td>\n",
       "    </tr>\n",
       "    <tr>\n",
       "      <th>8</th>\n",
       "      <td>night</td>\n",
       "      <td>273</td>\n",
       "    </tr>\n",
       "    <tr>\n",
       "      <th>9</th>\n",
       "      <td>clean</td>\n",
       "      <td>268</td>\n",
       "    </tr>\n",
       "  </tbody>\n",
       "</table>\n",
       "</div>"
      ],
      "text/plain": [
       "    Term  Frequency\n",
       "0  hotel       1356\n",
       "1   room       1224\n",
       "2   stay        824\n",
       "3     br        461\n",
       "4  staff        377\n",
       "5  would        297\n",
       "6  place        286\n",
       "7    one        285\n",
       "8  night        273\n",
       "9  clean        268"
      ]
     },
     "execution_count": 4,
     "metadata": {},
     "output_type": "execute_result"
    }
   ],
   "source": [
    "#Your answer here:\n",
    "\n",
    "dffreq = pd.DataFrame({'Term': vectorizer.get_feature_names(),\n",
    "                   'Frequency': DTM2.sum(axis=0).tolist()[0]\n",
    "                  })\n",
    "\n",
    "dffreq.sort_values(by=\"Frequency\",inplace=True,ascending=False)\n",
    "dffreq.reset_index(inplace=True,drop=True)\n",
    "\n",
    "#Check your answer:\n",
    "dffreq.head(10)"
   ]
  },
  {
   "cell_type": "markdown",
   "id": "32e2c641",
   "metadata": {},
   "source": [
    "4. Convert column \"Review\" to a DTM based on the following requirements:\n",
    "\n",
    "    - Use the default tokenizer from sklearn library. \n",
    "    - Remove stop words in the list of nltk. \n",
    "    - Stem the tokens using the SnowBall stemmer from nltk. \n",
    "    - Create DTM with TFIDF score without row normalization.\n",
    "    \n",
    "   Save your DTM as a variable called **DTM3**. Print the shape of DTM3."
   ]
  },
  {
   "cell_type": "code",
   "execution_count": 5,
   "id": "17d7bbea",
   "metadata": {},
   "outputs": [
    {
     "data": {
      "text/plain": [
       "(790, 3938)"
      ]
     },
     "execution_count": 5,
     "metadata": {},
     "output_type": "execute_result"
    }
   ],
   "source": [
    "#Your answer here:\n",
    "from sklearn.feature_extraction.text import TfidfVectorizer\n",
    "stemmer = nltk.stem.SnowballStemmer(\"english\")\n",
    "class StemmedTfidfVectorizer(TfidfVectorizer):\n",
    "    def build_analyzer(self):\n",
    "        analyzer = super(StemmedTfidfVectorizer, self).build_analyzer()\n",
    "        return lambda doc: ([stemmer.stem(w) for w in analyzer(doc)])\n",
    "\n",
    "vectorizer=StemmedTfidfVectorizer(stop_words=nltk_stopwords, norm=None)\n",
    "DTM3 = vectorizer.fit_transform(df['Review'])\n",
    "\n",
    "#Check your answer:\n",
    "DTM3.shape"
   ]
  },
  {
   "cell_type": "markdown",
   "id": "a1401952",
   "metadata": {},
   "source": [
    "5. Convert column \"Review\" to a DTM based on the following requirements:\n",
    "\n",
    "    - Use the default tokenizer from sklearn library. \n",
    "    - Remove stop words in the list of nltk. \n",
    "    - Stem the tokens using the SnowBall stemmer from nltk. \n",
    "    - Create DTM with TF score \n",
    "    - Use only bigrams in vocabulary. (*Hint: Set ngram_range*)\n",
    "    - Use only the top 2000 bigrams.  (*Hint: Set max_features*)\n",
    "    \n",
    "   Save your DTM as a variable called **DTM4**. Print the shape of DTM4."
   ]
  },
  {
   "cell_type": "code",
   "execution_count": 8,
   "id": "c07bef09",
   "metadata": {},
   "outputs": [
    {
     "data": {
      "text/plain": [
       "(790, 2000)"
      ]
     },
     "execution_count": 8,
     "metadata": {},
     "output_type": "execute_result"
    }
   ],
   "source": [
    "#Your answer here:\n",
    "\n",
    "vectorizer=StemmedCountVectorizer(stop_words=nltk_stopwords,\n",
    "                                  ngram_range=(2,2),\n",
    "                                  max_features = 2000)\n",
    "DTM4= vectorizer.fit_transform(df['Review'])\n",
    "\n",
    "#Check your answer:\n",
    "DTM4.shape"
   ]
  }
 ],
 "metadata": {
  "kernelspec": {
   "display_name": "Python 3 (ipykernel)",
   "language": "python",
   "name": "python3"
  },
  "language_info": {
   "codemirror_mode": {
    "name": "ipython",
    "version": 3
   },
   "file_extension": ".py",
   "mimetype": "text/x-python",
   "name": "python",
   "nbconvert_exporter": "python",
   "pygments_lexer": "ipython3",
   "version": "3.9.1"
  }
 },
 "nbformat": 4,
 "nbformat_minor": 5
}
