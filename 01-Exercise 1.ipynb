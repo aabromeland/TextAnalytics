{
 "cells": [
  {
   "cell_type": "markdown",
   "metadata": {},
   "source": [
    "# Exercise 1"
   ]
  },
  {
   "cell_type": "markdown",
   "metadata": {},
   "source": [
    "1. Create a string called mystr that consists of the following three lines when printed. Line 2 is empty. Slashes and quotes should be displayed when printed.\n",
    "    * Line 1: Text Analytics\\n \n",
    "    * Line 2:  \n",
    "    * Line 3: \"\\\\\\\\\""
   ]
  },
  {
   "cell_type": "code",
   "execution_count": 1,
   "metadata": {},
   "outputs": [
    {
     "name": "stdout",
     "output_type": "stream",
     "text": [
      "Text Analytics\\n\n",
      "\n",
      "\"\\\\\"\n"
     ]
    }
   ],
   "source": [
    "#Your answer here\n",
    "mystr = \"Text Analytics\\\\n\\n\\n\\\"\\\\\\\\\\\"\"\n",
    "#Check you answer\n",
    "print(mystr)"
   ]
  },
  {
   "cell_type": "markdown",
   "metadata": {},
   "source": [
    "2. The following codes read a file and create a string variable called \"review\". Complete the following steps to modify review. \n",
    "    * Replace each \"\\r\\n\" in review by a whitespace. Save it back to review. \n",
    "    * Remove all double quotes in review. Save it back to review. "
   ]
  },
  {
   "cell_type": "code",
   "execution_count": 2,
   "metadata": {
    "scrolled": true
   },
   "outputs": [
    {
     "data": {
      "text/plain": [
       "'This is where grown ups come to drink.\\r\\n\\r\\nTucked away above Short\\'s, Clinton St. is a wonderful find here in Iowa City. The ambiance is great, with a retro warehouse feel and beautiful views out onto the Pentacrest. Their real attraction is the drinks list: many interesting cocktails, my personal favorite being the Grandpa\\'s Coffin (bourbon, scotch, locally made apple brandy, and bitters). They also have a \"Murderer\\'s Row\" of high-end whiskey should that strike your fancy. I\\'d say this place competes with Devotay for best cocktails in Iowa City. They also have a well-chosen, if small, beer list, and I have had good times with their wines.\\r\\n\\r\\nThe food has been very good. Last night, I had their smoked salmon nicoise salad, which had excellent flavor, and my wife had a tasty vegetarian quiche. They used to carry a really flavorful veggie burger, but appear to have dropped that from the menu within the past couple of months. On another visit, the salmon entrée was also good, though less memorable than the nicoise salad.\\r\\n\\r\\nWhat\\'s neat about this place is that it\\'s consciously striving to be a new cultural hub downtown. During a visit for Mission Creek I saw that they hosted jazz and poetry readings. They also have darts and pool tables off in side rooms, in a perfect environment for that kind of thing. I see lots of young professionals and UI faculty here, to give an indication of clientele. I will be returning, frequently.'"
      ]
     },
     "execution_count": 2,
     "metadata": {},
     "output_type": "execute_result"
    }
   ],
   "source": [
    "import pandas as pd\n",
    "df = pd.read_csv('classdata/clinton-street-social-club.csv', encoding=\"latin-1\")  \n",
    "review = df[\"reviews\"][77]\n",
    "review"
   ]
  },
  {
   "cell_type": "code",
   "execution_count": 3,
   "metadata": {},
   "outputs": [
    {
     "data": {
      "text/plain": [
       "\"This is where grown ups come to drink.  Tucked away above Short's, Clinton St. is a wonderful find here in Iowa City. The ambiance is great, with a retro warehouse feel and beautiful views out onto the Pentacrest. Their real attraction is the drinks list: many interesting cocktails, my personal favorite being the Grandpa's Coffin (bourbon, scotch, locally made apple brandy, and bitters). They also have a Murderer's Row of high-end whiskey should that strike your fancy. I'd say this place competes with Devotay for best cocktails in Iowa City. They also have a well-chosen, if small, beer list, and I have had good times with their wines.  The food has been very good. Last night, I had their smoked salmon nicoise salad, which had excellent flavor, and my wife had a tasty vegetarian quiche. They used to carry a really flavorful veggie burger, but appear to have dropped that from the menu within the past couple of months. On another visit, the salmon entrée was also good, though less memorable than the nicoise salad.  What's neat about this place is that it's consciously striving to be a new cultural hub downtown. During a visit for Mission Creek I saw that they hosted jazz and poetry readings. They also have darts and pool tables off in side rooms, in a perfect environment for that kind of thing. I see lots of young professionals and UI faculty here, to give an indication of clientele. I will be returning, frequently.\""
      ]
     },
     "execution_count": 3,
     "metadata": {},
     "output_type": "execute_result"
    }
   ],
   "source": [
    "#Your answer here\n",
    "review = review.replace(\"\\r\\n\",' ')\n",
    "review = review.replace('\"','')\n",
    "#Check you answer\n",
    "review"
   ]
  },
  {
   "cell_type": "markdown",
   "metadata": {},
   "source": [
    "3. Make the same changes to all reviews in df[\"reviews\"] and save them back to df[\"reviews\"]."
   ]
  },
  {
   "cell_type": "code",
   "execution_count": 4,
   "metadata": {},
   "outputs": [
    {
     "data": {
      "text/plain": [
       "0      With its jazzy vibes and chill atmosphere, Cli...\n",
       "1      This was an exceptional surprise in Iowa city!...\n",
       "2      There is no other place in town like CSSC. If ...\n",
       "3      Tucked away through a narrow staircase like a ...\n",
       "4      Love. Love. Love. If you're older than the col...\n",
       "                             ...                        \n",
       "127    The food was not good and service was not frie...\n",
       "128    Wow have times changed in downtown Iowa City. ...\n",
       "129    Great building. Loved the big windows overlook...\n",
       "130    Love the food, love the service. If you are in...\n",
       "131    Dinner and cocktails on a Friday night. Place ...\n",
       "Name: reviews, Length: 132, dtype: object"
      ]
     },
     "execution_count": 4,
     "metadata": {},
     "output_type": "execute_result"
    }
   ],
   "source": [
    "#Your answer here\n",
    "df[\"reviews\"] = df[\"reviews\"].str.replace(\"\\r\\n\",' ')\n",
    "df[\"reviews\"] = df[\"reviews\"].str.replace('\"','')\n",
    "#Check you answer\n",
    "df[\"reviews\"]"
   ]
  },
  {
   "cell_type": "code",
   "execution_count": 5,
   "metadata": {},
   "outputs": [
    {
     "data": {
      "text/plain": [
       "\"This is where grown ups come to drink.  Tucked away above Short's, Clinton St. is a wonderful find here in Iowa City. The ambiance is great, with a retro warehouse feel and beautiful views out onto the Pentacrest. Their real attraction is the drinks list: many interesting cocktails, my personal favorite being the Grandpa's Coffin (bourbon, scotch, locally made apple brandy, and bitters). They also have a Murderer's Row of high-end whiskey should that strike your fancy. I'd say this place competes with Devotay for best cocktails in Iowa City. They also have a well-chosen, if small, beer list, and I have had good times with their wines.  The food has been very good. Last night, I had their smoked salmon nicoise salad, which had excellent flavor, and my wife had a tasty vegetarian quiche. They used to carry a really flavorful veggie burger, but appear to have dropped that from the menu within the past couple of months. On another visit, the salmon entrée was also good, though less memorable than the nicoise salad.  What's neat about this place is that it's consciously striving to be a new cultural hub downtown. During a visit for Mission Creek I saw that they hosted jazz and poetry readings. They also have darts and pool tables off in side rooms, in a perfect environment for that kind of thing. I see lots of young professionals and UI faculty here, to give an indication of clientele. I will be returning, frequently.\""
      ]
     },
     "execution_count": 5,
     "metadata": {},
     "output_type": "execute_result"
    }
   ],
   "source": [
    "df[\"reviews\"][77]"
   ]
  },
  {
   "cell_type": "markdown",
   "metadata": {},
   "source": [
    "4. Select the rows of df where the reviews contain at least 2000 characters and save them as a new dataframe called **dflong**. Reset the row index of dflong."
   ]
  },
  {
   "cell_type": "code",
   "execution_count": 6,
   "metadata": {},
   "outputs": [
    {
     "data": {
      "text/plain": [
       "[3469, 3181, 2342, 2698, 3531]"
      ]
     },
     "execution_count": 6,
     "metadata": {},
     "output_type": "execute_result"
    }
   ],
   "source": [
    "#Your answer here\n",
    "rowselected = [len(s)>2000 for s in df[\"reviews\"]]\n",
    "dflong = df[rowselected].copy()\n",
    "dflong.reset_index(inplace=True,drop=True)\n",
    "     \n",
    "#Check your answer\n",
    "[len(s) for s in dflong[\"reviews\"]]"
   ]
  }
 ],
 "metadata": {
  "kernelspec": {
   "display_name": "Python 3 (ipykernel)",
   "language": "python",
   "name": "python3"
  },
  "language_info": {
   "codemirror_mode": {
    "name": "ipython",
    "version": 3
   },
   "file_extension": ".py",
   "mimetype": "text/x-python",
   "name": "python",
   "nbconvert_exporter": "python",
   "pygments_lexer": "ipython3",
   "version": "3.9.1"
  }
 },
 "nbformat": 4,
 "nbformat_minor": 4
}
