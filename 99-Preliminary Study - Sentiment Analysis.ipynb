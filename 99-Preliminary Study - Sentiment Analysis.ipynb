{
 "cells": [
  {
   "cell_type": "markdown",
   "id": "7e19ad5d",
   "metadata": {},
   "source": [
    "# Preliminary Study\n",
    "\n",
    "## Sentiment Analysis\n",
    "\n",
    "###### Aaron Bromeland\n",
    "\n",
    "### Needed Imports"
   ]
  },
  {
   "cell_type": "code",
   "execution_count": 3,
   "id": "647266c1",
   "metadata": {},
   "outputs": [],
   "source": [
    "import pandas as pd\n",
    "from afinn import Afinn\n",
    "from textblob import TextBlob\n",
    "from vaderSentiment.vaderSentiment import SentimentIntensityAnalyzer\n",
    "#!pip3 install pysentiment2\n",
    "import pysentiment2 as ps"
   ]
  },
  {
   "cell_type": "markdown",
   "id": "855ff868",
   "metadata": {},
   "source": [
    "### Load Data Sets\n",
    "\n",
    "- Initial loading of data was turned in with the project proposal. Saved the data that was found to a csv so that I could load it quicker at a later time."
   ]
  },
  {
   "cell_type": "code",
   "execution_count": 10,
   "id": "a1ecff4b",
   "metadata": {},
   "outputs": [
    {
     "name": "stdout",
     "output_type": "stream",
     "text": [
      "Size of Stock price Dataframe: (2686, 8)\n",
      "Size of SEC document Dataframe: (1000, 16)\n",
      "Example of Stock Price Dataframe:\n"
     ]
    },
    {
     "data": {
      "text/html": [
       "<div>\n",
       "<style scoped>\n",
       "    .dataframe tbody tr th:only-of-type {\n",
       "        vertical-align: middle;\n",
       "    }\n",
       "\n",
       "    .dataframe tbody tr th {\n",
       "        vertical-align: top;\n",
       "    }\n",
       "\n",
       "    .dataframe thead th {\n",
       "        text-align: right;\n",
       "    }\n",
       "</style>\n",
       "<table border=\"1\" class=\"dataframe\">\n",
       "  <thead>\n",
       "    <tr style=\"text-align: right;\">\n",
       "      <th></th>\n",
       "      <th>Unnamed: 0</th>\n",
       "      <th>Date</th>\n",
       "      <th>Open</th>\n",
       "      <th>High</th>\n",
       "      <th>Low</th>\n",
       "      <th>Close</th>\n",
       "      <th>Adj Close</th>\n",
       "      <th>Volume</th>\n",
       "    </tr>\n",
       "  </thead>\n",
       "  <tbody>\n",
       "    <tr>\n",
       "      <th>0</th>\n",
       "      <td>0</td>\n",
       "      <td>2011-10-03</td>\n",
       "      <td>63.900002</td>\n",
       "      <td>64.730003</td>\n",
       "      <td>61.630001</td>\n",
       "      <td>61.720001</td>\n",
       "      <td>49.448978</td>\n",
       "      <td>7637000</td>\n",
       "    </tr>\n",
       "    <tr>\n",
       "      <th>1</th>\n",
       "      <td>1</td>\n",
       "      <td>2011-10-04</td>\n",
       "      <td>60.730000</td>\n",
       "      <td>63.619999</td>\n",
       "      <td>59.919998</td>\n",
       "      <td>63.480000</td>\n",
       "      <td>50.859062</td>\n",
       "      <td>8600000</td>\n",
       "    </tr>\n",
       "    <tr>\n",
       "      <th>2</th>\n",
       "      <td>2</td>\n",
       "      <td>2011-10-05</td>\n",
       "      <td>63.740002</td>\n",
       "      <td>66.459999</td>\n",
       "      <td>63.099998</td>\n",
       "      <td>66.160004</td>\n",
       "      <td>53.006229</td>\n",
       "      <td>5073200</td>\n",
       "    </tr>\n",
       "    <tr>\n",
       "      <th>3</th>\n",
       "      <td>3</td>\n",
       "      <td>2011-10-06</td>\n",
       "      <td>65.779999</td>\n",
       "      <td>67.220001</td>\n",
       "      <td>64.580002</td>\n",
       "      <td>66.570000</td>\n",
       "      <td>53.334709</td>\n",
       "      <td>5691600</td>\n",
       "    </tr>\n",
       "    <tr>\n",
       "      <th>4</th>\n",
       "      <td>4</td>\n",
       "      <td>2011-10-07</td>\n",
       "      <td>67.080002</td>\n",
       "      <td>67.220001</td>\n",
       "      <td>65.000000</td>\n",
       "      <td>65.699997</td>\n",
       "      <td>52.637684</td>\n",
       "      <td>5400200</td>\n",
       "    </tr>\n",
       "  </tbody>\n",
       "</table>\n",
       "</div>"
      ],
      "text/plain": [
       "   Unnamed: 0        Date       Open       High        Low      Close  \\\n",
       "0           0  2011-10-03  63.900002  64.730003  61.630001  61.720001   \n",
       "1           1  2011-10-04  60.730000  63.619999  59.919998  63.480000   \n",
       "2           2  2011-10-05  63.740002  66.459999  63.099998  66.160004   \n",
       "3           3  2011-10-06  65.779999  67.220001  64.580002  66.570000   \n",
       "4           4  2011-10-07  67.080002  67.220001  65.000000  65.699997   \n",
       "\n",
       "   Adj Close   Volume  \n",
       "0  49.448978  7637000  \n",
       "1  50.859062  8600000  \n",
       "2  53.006229  5073200  \n",
       "3  53.334709  5691600  \n",
       "4  52.637684  5400200  "
      ]
     },
     "execution_count": 10,
     "metadata": {},
     "output_type": "execute_result"
    }
   ],
   "source": [
    "deprdf = pd.read_csv(\"DE_PRICE.csv\")\n",
    "dedf = pd.read_csv(\"Deere.csv\")\n",
    "\n",
    "print(f'Size of Stock price Dataframe: {deprdf.shape}')\n",
    "print(f'Size of SEC document Dataframe: {dedf.shape}')\n",
    "\n",
    "print('Example of Stock Price Dataframe:')\n",
    "deprdf.head()"
   ]
  },
  {
   "cell_type": "code",
   "execution_count": 12,
   "id": "b46aed59",
   "metadata": {},
   "outputs": [
    {
     "name": "stdout",
     "output_type": "stream",
     "text": [
      "Example of SEC document Dataframe\n"
     ]
    },
    {
     "data": {
      "text/html": [
       "<div>\n",
       "<style scoped>\n",
       "    .dataframe tbody tr th:only-of-type {\n",
       "        vertical-align: middle;\n",
       "    }\n",
       "\n",
       "    .dataframe tbody tr th {\n",
       "        vertical-align: top;\n",
       "    }\n",
       "\n",
       "    .dataframe thead th {\n",
       "        text-align: right;\n",
       "    }\n",
       "</style>\n",
       "<table border=\"1\" class=\"dataframe\">\n",
       "  <thead>\n",
       "    <tr style=\"text-align: right;\">\n",
       "      <th></th>\n",
       "      <th>Unnamed: 0</th>\n",
       "      <th>accessionNumber</th>\n",
       "      <th>filingDate</th>\n",
       "      <th>reportDate</th>\n",
       "      <th>acceptanceDateTime</th>\n",
       "      <th>act</th>\n",
       "      <th>form</th>\n",
       "      <th>fileNumber</th>\n",
       "      <th>filmNumber</th>\n",
       "      <th>items</th>\n",
       "      <th>size</th>\n",
       "      <th>isXBRL</th>\n",
       "      <th>isInlineXBRL</th>\n",
       "      <th>primaryDocument</th>\n",
       "      <th>primaryDocDescription</th>\n",
       "      <th>text</th>\n",
       "    </tr>\n",
       "  </thead>\n",
       "  <tbody>\n",
       "    <tr>\n",
       "      <th>0</th>\n",
       "      <td>0</td>\n",
       "      <td>0000315189-22-000016</td>\n",
       "      <td>2022-05-31</td>\n",
       "      <td>2022-05-26</td>\n",
       "      <td>2022-05-31T17:23:01.000Z</td>\n",
       "      <td>NaN</td>\n",
       "      <td>4/A</td>\n",
       "      <td>NaN</td>\n",
       "      <td>NaN</td>\n",
       "      <td>NaN</td>\n",
       "      <td>5012</td>\n",
       "      <td>0</td>\n",
       "      <td>0</td>\n",
       "      <td>xslF345X03/primary_doc.xml</td>\n",
       "      <td>PRIMARY DOCUMENT</td>\n",
       "      <td>\\n\\n\\n\\nSEC FORM \\n            4/A\\n\\n\\nSEC Fo...</td>\n",
       "    </tr>\n",
       "    <tr>\n",
       "      <th>1</th>\n",
       "      <td>1</td>\n",
       "      <td>0001558370-22-009519</td>\n",
       "      <td>2022-05-31</td>\n",
       "      <td>2022-05-31</td>\n",
       "      <td>2022-05-31T08:35:14.000Z</td>\n",
       "      <td>34.0</td>\n",
       "      <td>8-K</td>\n",
       "      <td>001-04121</td>\n",
       "      <td>22980681.0</td>\n",
       "      <td>5.02,7.01,9.01</td>\n",
       "      <td>225690</td>\n",
       "      <td>1</td>\n",
       "      <td>1</td>\n",
       "      <td>de-20220531x8k.htm</td>\n",
       "      <td>8-K</td>\n",
       "      <td>\\n\\n\\n\\n\\n\\n0000315189falseDEERE &amp; CO000031518...</td>\n",
       "    </tr>\n",
       "    <tr>\n",
       "      <th>2</th>\n",
       "      <td>2</td>\n",
       "      <td>0000315189-22-000015</td>\n",
       "      <td>2022-05-31</td>\n",
       "      <td>2022-05-26</td>\n",
       "      <td>2022-05-31T16:59:24.000Z</td>\n",
       "      <td>NaN</td>\n",
       "      <td>4</td>\n",
       "      <td>NaN</td>\n",
       "      <td>NaN</td>\n",
       "      <td>NaN</td>\n",
       "      <td>33968</td>\n",
       "      <td>0</td>\n",
       "      <td>0</td>\n",
       "      <td>xslF345X03/primary_doc.xml</td>\n",
       "      <td>PRIMARY DOCUMENT</td>\n",
       "      <td>\\n\\n\\n\\nSEC FORM \\n            4\\n\\n\\nSEC Form...</td>\n",
       "    </tr>\n",
       "    <tr>\n",
       "      <th>3</th>\n",
       "      <td>3</td>\n",
       "      <td>0000315189-22-000014</td>\n",
       "      <td>2022-05-31</td>\n",
       "      <td>2022-05-26</td>\n",
       "      <td>2022-05-31T14:43:18.000Z</td>\n",
       "      <td>NaN</td>\n",
       "      <td>4</td>\n",
       "      <td>NaN</td>\n",
       "      <td>NaN</td>\n",
       "      <td>NaN</td>\n",
       "      <td>59067</td>\n",
       "      <td>0</td>\n",
       "      <td>0</td>\n",
       "      <td>xslF345X03/primary_doc.xml</td>\n",
       "      <td>PRIMARY DOCUMENT</td>\n",
       "      <td>\\n\\n\\n\\nSEC FORM \\n            4\\n\\n\\nSEC Form...</td>\n",
       "    </tr>\n",
       "    <tr>\n",
       "      <th>4</th>\n",
       "      <td>4</td>\n",
       "      <td>0001104659-22-065984</td>\n",
       "      <td>2022-05-27</td>\n",
       "      <td>NaN</td>\n",
       "      <td>2022-05-27T16:48:50.000Z</td>\n",
       "      <td>34.0</td>\n",
       "      <td>IRANNOTICE</td>\n",
       "      <td>001-04121</td>\n",
       "      <td>22978525.0</td>\n",
       "      <td>NaN</td>\n",
       "      <td>11971</td>\n",
       "      <td>0</td>\n",
       "      <td>0</td>\n",
       "      <td>tm2217194d1_irannotice.htm</td>\n",
       "      <td>IRANNOTICE</td>\n",
       "      <td>\\nIRANNOTICE\\n1\\ntm2217194d1_irannotice.htm\\nI...</td>\n",
       "    </tr>\n",
       "  </tbody>\n",
       "</table>\n",
       "</div>"
      ],
      "text/plain": [
       "   Unnamed: 0       accessionNumber  filingDate  reportDate  \\\n",
       "0           0  0000315189-22-000016  2022-05-31  2022-05-26   \n",
       "1           1  0001558370-22-009519  2022-05-31  2022-05-31   \n",
       "2           2  0000315189-22-000015  2022-05-31  2022-05-26   \n",
       "3           3  0000315189-22-000014  2022-05-31  2022-05-26   \n",
       "4           4  0001104659-22-065984  2022-05-27         NaN   \n",
       "\n",
       "         acceptanceDateTime   act        form fileNumber  filmNumber  \\\n",
       "0  2022-05-31T17:23:01.000Z   NaN         4/A        NaN         NaN   \n",
       "1  2022-05-31T08:35:14.000Z  34.0         8-K  001-04121  22980681.0   \n",
       "2  2022-05-31T16:59:24.000Z   NaN           4        NaN         NaN   \n",
       "3  2022-05-31T14:43:18.000Z   NaN           4        NaN         NaN   \n",
       "4  2022-05-27T16:48:50.000Z  34.0  IRANNOTICE  001-04121  22978525.0   \n",
       "\n",
       "            items    size  isXBRL  isInlineXBRL             primaryDocument  \\\n",
       "0             NaN    5012       0             0  xslF345X03/primary_doc.xml   \n",
       "1  5.02,7.01,9.01  225690       1             1          de-20220531x8k.htm   \n",
       "2             NaN   33968       0             0  xslF345X03/primary_doc.xml   \n",
       "3             NaN   59067       0             0  xslF345X03/primary_doc.xml   \n",
       "4             NaN   11971       0             0  tm2217194d1_irannotice.htm   \n",
       "\n",
       "  primaryDocDescription                                               text  \n",
       "0      PRIMARY DOCUMENT  \\n\\n\\n\\nSEC FORM \\n            4/A\\n\\n\\nSEC Fo...  \n",
       "1                   8-K  \\n\\n\\n\\n\\n\\n0000315189falseDEERE & CO000031518...  \n",
       "2      PRIMARY DOCUMENT  \\n\\n\\n\\nSEC FORM \\n            4\\n\\n\\nSEC Form...  \n",
       "3      PRIMARY DOCUMENT  \\n\\n\\n\\nSEC FORM \\n            4\\n\\n\\nSEC Form...  \n",
       "4            IRANNOTICE  \\nIRANNOTICE\\n1\\ntm2217194d1_irannotice.htm\\nI...  "
      ]
     },
     "execution_count": 12,
     "metadata": {},
     "output_type": "execute_result"
    }
   ],
   "source": [
    "print('Example of SEC document Dataframe')\n",
    "dedf.head()"
   ]
  },
  {
   "cell_type": "markdown",
   "id": "fe6dc838",
   "metadata": {},
   "source": [
    "### Sentiment Analysis\n",
    "\n",
    " - Rand AFINN, TextBlob, VADER, and LM sentiment analzers on the documents that Deere filed with the SEC."
   ]
  },
  {
   "cell_type": "code",
   "execution_count": 23,
   "id": "c94925cf",
   "metadata": {},
   "outputs": [
    {
     "data": {
      "text/html": [
       "<div>\n",
       "<style scoped>\n",
       "    .dataframe tbody tr th:only-of-type {\n",
       "        vertical-align: middle;\n",
       "    }\n",
       "\n",
       "    .dataframe tbody tr th {\n",
       "        vertical-align: top;\n",
       "    }\n",
       "\n",
       "    .dataframe thead th {\n",
       "        text-align: right;\n",
       "    }\n",
       "</style>\n",
       "<table border=\"1\" class=\"dataframe\">\n",
       "  <thead>\n",
       "    <tr style=\"text-align: right;\">\n",
       "      <th></th>\n",
       "      <th>text</th>\n",
       "      <th>AFINN</th>\n",
       "      <th>TextBlob</th>\n",
       "      <th>VADER</th>\n",
       "      <th>LMTitle</th>\n",
       "    </tr>\n",
       "  </thead>\n",
       "  <tbody>\n",
       "    <tr>\n",
       "      <th>0</th>\n",
       "      <td>\\n\\n\\n\\nSEC FORM \\n            4/A\\n\\n\\nSEC Fo...</td>\n",
       "      <td>1.0</td>\n",
       "      <td>0.048718</td>\n",
       "      <td>0.9970</td>\n",
       "      <td>-0.142857</td>\n",
       "    </tr>\n",
       "    <tr>\n",
       "      <th>1</th>\n",
       "      <td>\\n\\n\\n\\n\\n\\n0000315189falseDEERE &amp; CO000031518...</td>\n",
       "      <td>31.0</td>\n",
       "      <td>0.010390</td>\n",
       "      <td>0.9965</td>\n",
       "      <td>0.714286</td>\n",
       "    </tr>\n",
       "    <tr>\n",
       "      <th>2</th>\n",
       "      <td>\\n\\n\\n\\nSEC FORM \\n            4\\n\\n\\nSEC Form...</td>\n",
       "      <td>17.0</td>\n",
       "      <td>-0.070573</td>\n",
       "      <td>0.9987</td>\n",
       "      <td>0.043478</td>\n",
       "    </tr>\n",
       "    <tr>\n",
       "      <th>3</th>\n",
       "      <td>\\n\\n\\n\\nSEC FORM \\n            4\\n\\n\\nSEC Form...</td>\n",
       "      <td>27.0</td>\n",
       "      <td>-0.103780</td>\n",
       "      <td>0.9991</td>\n",
       "      <td>0.083333</td>\n",
       "    </tr>\n",
       "    <tr>\n",
       "      <th>4</th>\n",
       "      <td>\\nIRANNOTICE\\n1\\ntm2217194d1_irannotice.htm\\nI...</td>\n",
       "      <td>-2.0</td>\n",
       "      <td>0.078571</td>\n",
       "      <td>0.4767</td>\n",
       "      <td>-1.000000</td>\n",
       "    </tr>\n",
       "    <tr>\n",
       "      <th>...</th>\n",
       "      <td>...</td>\n",
       "      <td>...</td>\n",
       "      <td>...</td>\n",
       "      <td>...</td>\n",
       "      <td>...</td>\n",
       "    </tr>\n",
       "    <tr>\n",
       "      <th>995</th>\n",
       "      <td>\\n13F-HR\\n1\\nsep1113f.txt\\nDEERE &amp; COMPANY 13F...</td>\n",
       "      <td>57.0</td>\n",
       "      <td>0.120599</td>\n",
       "      <td>0.9997</td>\n",
       "      <td>0.300000</td>\n",
       "    </tr>\n",
       "    <tr>\n",
       "      <th>996</th>\n",
       "      <td>\\n\\n\\n\\nSEC FORM \\n            4\\n\\n\\nSEC Form...</td>\n",
       "      <td>-5.0</td>\n",
       "      <td>0.041667</td>\n",
       "      <td>0.9965</td>\n",
       "      <td>-0.090909</td>\n",
       "    </tr>\n",
       "    <tr>\n",
       "      <th>997</th>\n",
       "      <td>\\n\\n\\n\\nSEC FORM \\n            4\\n\\n\\nSEC Form...</td>\n",
       "      <td>-6.0</td>\n",
       "      <td>0.041667</td>\n",
       "      <td>0.9966</td>\n",
       "      <td>-0.090909</td>\n",
       "    </tr>\n",
       "    <tr>\n",
       "      <th>998</th>\n",
       "      <td>\\n\\n\\n\\nSEC FORM \\n            4\\n\\n\\nSEC Form...</td>\n",
       "      <td>-4.0</td>\n",
       "      <td>0.041667</td>\n",
       "      <td>0.9969</td>\n",
       "      <td>-0.090909</td>\n",
       "    </tr>\n",
       "    <tr>\n",
       "      <th>999</th>\n",
       "      <td>\\n8-K\\n1\\na11-27268_18k.htm\\n8-K\\n\\n\\n\\n\\n\\n\\n...</td>\n",
       "      <td>15.0</td>\n",
       "      <td>0.144231</td>\n",
       "      <td>0.9841</td>\n",
       "      <td>0.833333</td>\n",
       "    </tr>\n",
       "  </tbody>\n",
       "</table>\n",
       "<p>1000 rows × 5 columns</p>\n",
       "</div>"
      ],
      "text/plain": [
       "                                                  text  AFINN  TextBlob  \\\n",
       "0    \\n\\n\\n\\nSEC FORM \\n            4/A\\n\\n\\nSEC Fo...    1.0  0.048718   \n",
       "1    \\n\\n\\n\\n\\n\\n0000315189falseDEERE & CO000031518...   31.0  0.010390   \n",
       "2    \\n\\n\\n\\nSEC FORM \\n            4\\n\\n\\nSEC Form...   17.0 -0.070573   \n",
       "3    \\n\\n\\n\\nSEC FORM \\n            4\\n\\n\\nSEC Form...   27.0 -0.103780   \n",
       "4    \\nIRANNOTICE\\n1\\ntm2217194d1_irannotice.htm\\nI...   -2.0  0.078571   \n",
       "..                                                 ...    ...       ...   \n",
       "995  \\n13F-HR\\n1\\nsep1113f.txt\\nDEERE & COMPANY 13F...   57.0  0.120599   \n",
       "996  \\n\\n\\n\\nSEC FORM \\n            4\\n\\n\\nSEC Form...   -5.0  0.041667   \n",
       "997  \\n\\n\\n\\nSEC FORM \\n            4\\n\\n\\nSEC Form...   -6.0  0.041667   \n",
       "998  \\n\\n\\n\\nSEC FORM \\n            4\\n\\n\\nSEC Form...   -4.0  0.041667   \n",
       "999  \\n8-K\\n1\\na11-27268_18k.htm\\n8-K\\n\\n\\n\\n\\n\\n\\n...   15.0  0.144231   \n",
       "\n",
       "      VADER   LMTitle  \n",
       "0    0.9970 -0.142857  \n",
       "1    0.9965  0.714286  \n",
       "2    0.9987  0.043478  \n",
       "3    0.9991  0.083333  \n",
       "4    0.4767 -1.000000  \n",
       "..      ...       ...  \n",
       "995  0.9997  0.300000  \n",
       "996  0.9965 -0.090909  \n",
       "997  0.9966 -0.090909  \n",
       "998  0.9969 -0.090909  \n",
       "999  0.9841  0.833333  \n",
       "\n",
       "[1000 rows x 5 columns]"
      ]
     },
     "execution_count": 23,
     "metadata": {},
     "output_type": "execute_result"
    }
   ],
   "source": [
    "# WILL TAKE A LONG TIME TO RUN. SAVED CSV to load and save time.\n",
    "\n",
    "df = pd.DataFrame(dedf['text'],columns=['text'])\n",
    "afinn = Afinn(emoticons=True) \n",
    "df[\"AFINN\"]=[afinn.score(s) for s in df.text]\n",
    "df[\"TextBlob\"]=[TextBlob(s).sentiment.polarity for s in df.text]\n",
    "analyzer=SentimentIntensityAnalyzer()\n",
    "df[\"VADER\"]=[analyzer.polarity_scores(s)['compound'] for s in df.text]\n",
    "\n",
    "lm = ps.LM()\n",
    "df['LMTitle'] = 0\n",
    "for i in range(len(df['text'])):\n",
    "    tokens = lm.tokenize(df['text'][i])\n",
    "    score = lm.get_score(tokens)\n",
    "    df.loc[i,\"LMTitle\"]=score[\"Polarity\"]\n",
    "\n",
    "df"
   ]
  },
  {
   "cell_type": "code",
   "execution_count": 24,
   "id": "7c03218b",
   "metadata": {},
   "outputs": [],
   "source": [
    "# Saving Dataset\n",
    "df.to_csv('DE_Sentiment_Scores.csv')"
   ]
  },
  {
   "cell_type": "markdown",
   "id": "bf16d93e",
   "metadata": {},
   "source": [
    "### Sentiment Visualization versus Stock Price"
   ]
  },
  {
   "cell_type": "code",
   "execution_count": 27,
   "id": "5ae79143",
   "metadata": {},
   "outputs": [],
   "source": [
    "dfFinal = pd.merge(df, dedf[['filingDate','reportDate']], left_index=True, right_index=True)"
   ]
  },
  {
   "cell_type": "code",
   "execution_count": 30,
   "id": "264ee2bf",
   "metadata": {},
   "outputs": [
    {
     "name": "stdout",
     "output_type": "stream",
     "text": [
      "object\n"
     ]
    },
    {
     "data": {
      "text/plain": [
       "dtype('<M8[ns]')"
      ]
     },
     "execution_count": 30,
     "metadata": {},
     "output_type": "execute_result"
    }
   ],
   "source": [
    "print(dfFinal['filingDate'].dtype)\n",
    "dfFinal[\"filingDate\"]=pd.to_datetime(dfFinal[\"filingDate\"],format=\"%Y-%m-%d %H:%M:%S\")\n",
    "dfFinal['filingDate'].dtype"
   ]
  },
  {
   "cell_type": "code",
   "execution_count": 38,
   "id": "32b2aebb",
   "metadata": {},
   "outputs": [],
   "source": [
    "from sklearn.preprocessing import MinMaxScaler\n",
    "import numpy as np\n",
    "dfFinal['AFINN_SCALE'] = MinMaxScaler().fit_transform(np.array(dfFinal['AFINN']).reshape(-1,1))"
   ]
  },
  {
   "cell_type": "code",
   "execution_count": 42,
   "id": "156fad51",
   "metadata": {},
   "outputs": [
    {
     "data": {
      "image/png": "[encoded data removed]",
      "text/plain": [
       "<Figure size 1080x432 with 1 Axes>"
      ]
     },
     "metadata": {
      "needs_background": "light"
     },
     "output_type": "display_data"
    }
   ],
   "source": [
    "import matplotlib.pyplot as plt                      # a library for visualization\n",
    "# inline display of plots\n",
    "%matplotlib inline\n",
    "plt.figure(figsize=(15, 6))\n",
    "\n",
    "plt.plot(dfFinal.filingDate, dfFinal.AFINN_SCALE.rolling(window=50).mean(), \"-r\", label=\"AFINN Scaled\")\n",
    "plt.plot(dfFinal.filingDate, dfFinal.TextBlob.rolling(window=50).mean(), \"-b\", label=\"TextBlob\")\n",
    "plt.plot(dfFinal.filingDate, dfFinal.VADER.rolling(window=50).mean(), \"-g\", label=\"VADER\")\n",
    "plt.plot(dfFinal.filingDate, dfFinal.LMTitle.rolling(window=50).mean(), \"-k\", label=\"LM\")\n",
    "\n",
    "\n",
    "plt.legend(loc=\"upper left\")\n",
    "plt.title(\"Comparison on Sentiment Score\")\n",
    "plt.xlabel(\"Date\")\n",
    "plt.ylabel(\"Sentiment Score (Moving Average with Window Size 50)\")\n",
    "plt.grid(axis='both')\n",
    "plt.show()"
   ]
  },
  {
   "cell_type": "code",
   "execution_count": 35,
   "id": "63fe513a",
   "metadata": {},
   "outputs": [
    {
     "name": "stdout",
     "output_type": "stream",
     "text": [
      "object\n"
     ]
    },
    {
     "data": {
      "text/plain": [
       "dtype('<M8[ns]')"
      ]
     },
     "execution_count": 35,
     "metadata": {},
     "output_type": "execute_result"
    }
   ],
   "source": [
    "print(deprdf['Date'].dtype)\n",
    "deprdf['Date']=pd.to_datetime(deprdf['Date'],format=\"%Y-%m-%d %H:%M:%S\")\n",
    "deprdf['Date'].dtype"
   ]
  },
  {
   "cell_type": "code",
   "execution_count": 44,
   "id": "92f5eb5d",
   "metadata": {},
   "outputs": [
    {
     "data": {
      "image/png": "[encoded data removed]",
      "text/plain": [
       "<Figure size 432x288 with 1 Axes>"
      ]
     },
     "metadata": {
      "needs_background": "light"
     },
     "output_type": "display_data"
    }
   ],
   "source": [
    "plt.plot(deprdf['Date'], deprdf['Adj Close'].rolling(window=50).mean(), \"-g\", label=\"Adj Close\")\n",
    "\n",
    "\n",
    "plt.legend(loc=\"upper left\")\n",
    "plt.title(\"Ticker Price - Adjusted Close\")\n",
    "plt.xlabel(\"Date\")\n",
    "plt.ylabel(\"Stock Price (Moving Average with Window Size 100)\")\n",
    "plt.grid(axis='both')\n",
    "plt.show()"
   ]
  }
 ],
 "metadata": {
  "kernelspec": {
   "display_name": "Python 3 (ipykernel)",
   "language": "python",
   "name": "python3"
  },
  "language_info": {
   "codemirror_mode": {
    "name": "ipython",
    "version": 3
   },
   "file_extension": ".py",
   "mimetype": "text/x-python",
   "name": "python",
   "nbconvert_exporter": "python",
   "pygments_lexer": "ipython3",
   "version": "3.9.1"
  }
 },
 "nbformat": 4,
 "nbformat_minor": 5
}
