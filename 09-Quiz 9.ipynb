{
 "cells": [
  {
   "cell_type": "markdown",
   "id": "76036754",
   "metadata": {},
   "source": [
    "# Quiz 9\n",
    "**5 Points**"
   ]
  },
  {
   "cell_type": "markdown",
   "id": "871c6bfe",
   "metadata": {},
   "source": [
    "1. (2 points) Read the following XML data. Which of the following XPath is NOT the path to \"Wood\" (the second student's last name).\n",
    "\n",
    "    A. //student[2]/lastName\n",
    "\n",
    "    B. /studentsList/student/lastName[2]\n",
    "\n",
    "    C. /studentsList/student[2]/lastName\n",
    "\n",
    "    D. //student[@ind=\"2\"]/lastName"
   ]
  },
  {
   "cell_type": "markdown",
   "id": "654819d5",
   "metadata": {},
   "source": [
    "**Your answer here:** B"
   ]
  },
  {
   "cell_type": "markdown",
   "id": "f904ccb7",
   "metadata": {},
   "source": [
    "![title](https://blog.hubspot.com/hs-fs/hubfs/xml%20file%20example%20storing%20names%20and%20test%20scores%20of%20students-1.png?width=975&name=xml%20file%20example%20storing%20names%20and%20test%20scores%20of%20students-1.png)"
   ]
  },
  {
   "cell_type": "markdown",
   "id": "5947546f",
   "metadata": {},
   "source": [
    "2. (1 points) What is the XPath (absolute or relative) to the text of the first review in https://www.yelp.com/biz/toyota-of-iowa-city-iowa-city-5"
   ]
  },
  {
   "cell_type": "markdown",
   "id": "009990d5",
   "metadata": {},
   "source": [
    "**Your answer here:** \n",
    "\n",
    "/html/body/yelp-react-root/div[1]/div[3]/div/div/div[2]/div/div[1]/main/div[3]/section[2]/div[2]/div/ul/li[1]/div/div[3]/p/span/text()"
   ]
  },
  {
   "cell_type": "markdown",
   "id": "37866a61",
   "metadata": {},
   "source": [
    "3. (1 points) What is the XPath (absolute or relative) to the photo of the first reviewer in https://www.yelp.com/biz/toyota-of-iowa-city-iowa-city-5"
   ]
  },
  {
   "cell_type": "markdown",
   "id": "37aac281",
   "metadata": {},
   "source": [
    "**Your answer here:** \n",
    "\n",
    "/html/body/yelp-react-root/div[1]/div[3]/div/div/div[2]/div/div[1]/main/div[3]/section[2]/div[2]/div/ul/li[1]/div/div[1]/div/div[1]/div/div/div[1]/div/a/img"
   ]
  },
  {
   "cell_type": "markdown",
   "id": "44ed2b5b",
   "metadata": {},
   "source": [
    "4. (1 points) Which attribute of the element/path you found in question 3 is the URL link of the photo of the first reviewer?\n",
    "\n",
    "    A. img\n",
    "    \n",
    "    B. src\n",
    "    \n",
    "    C. class\n",
    "    \n",
    "    D. url"
   ]
  },
  {
   "cell_type": "markdown",
   "id": "63be468b",
   "metadata": {},
   "source": [
    "**Your answer here:** B"
   ]
  }
 ],
 "metadata": {
  "kernelspec": {
   "display_name": "Python 3 (ipykernel)",
   "language": "python",
   "name": "python3"
  },
  "language_info": {
   "codemirror_mode": {
    "name": "ipython",
    "version": 3
   },
   "file_extension": ".py",
   "mimetype": "text/x-python",
   "name": "python",
   "nbconvert_exporter": "python",
   "pygments_lexer": "ipython3",
   "version": "3.9.1"
  }
 },
 "nbformat": 4,
 "nbformat_minor": 5
}
